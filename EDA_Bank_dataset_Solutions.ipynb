{
 "cells": [
  {
   "cell_type": "code",
   "execution_count": 1,
   "metadata": {},
   "outputs": [],
   "source": [
    "import pandas as pd\n",
    "import numpy as np\n",
    "import seaborn as sns\n",
    "import matplotlib.pyplot as plt"
   ]
  },
  {
   "cell_type": "markdown",
   "metadata": {},
   "source": [
    "#### Q1) Read the dataset banks.csv"
   ]
  },
  {
   "cell_type": "code",
   "execution_count": 2,
   "metadata": {},
   "outputs": [
    {
     "data": {
      "text/html": [
       "<div>\n",
       "<style scoped>\n",
       "    .dataframe tbody tr th:only-of-type {\n",
       "        vertical-align: middle;\n",
       "    }\n",
       "\n",
       "    .dataframe tbody tr th {\n",
       "        vertical-align: top;\n",
       "    }\n",
       "\n",
       "    .dataframe thead th {\n",
       "        text-align: right;\n",
       "    }\n",
       "</style>\n",
       "<table border=\"1\" class=\"dataframe\">\n",
       "  <thead>\n",
       "    <tr style=\"text-align: right;\">\n",
       "      <th></th>\n",
       "      <th>Financial Institution Number</th>\n",
       "      <th>Institution Name</th>\n",
       "      <th>Institution Type</th>\n",
       "      <th>Charter Type</th>\n",
       "      <th>Headquarters</th>\n",
       "      <th>Failure Date</th>\n",
       "      <th>Insurance Fund</th>\n",
       "      <th>Certificate Number</th>\n",
       "      <th>Transaction Type</th>\n",
       "      <th>Total Deposits</th>\n",
       "      <th>Total Assets</th>\n",
       "      <th>Estimated Loss</th>\n",
       "    </tr>\n",
       "  </thead>\n",
       "  <tbody>\n",
       "    <tr>\n",
       "      <th>0</th>\n",
       "      <td>NaN</td>\n",
       "      <td>BANK OF AMERICA TRUST CO.</td>\n",
       "      <td>COMMERCIAL BANK</td>\n",
       "      <td>STATE</td>\n",
       "      <td>PITTSBURGH, PA</td>\n",
       "      <td>4/19/1934</td>\n",
       "      <td>FDIC</td>\n",
       "      <td>NaN</td>\n",
       "      <td>PAYOUT</td>\n",
       "      <td>1064</td>\n",
       "      <td>1435.0</td>\n",
       "      <td>NaN</td>\n",
       "    </tr>\n",
       "    <tr>\n",
       "      <th>1</th>\n",
       "      <td>NaN</td>\n",
       "      <td>FON DU LAC STATE BANK</td>\n",
       "      <td>COMMERCIAL BANK</td>\n",
       "      <td>STATE</td>\n",
       "      <td>EAST PEORIA, IL</td>\n",
       "      <td>5/28/1934</td>\n",
       "      <td>FDIC</td>\n",
       "      <td>NaN</td>\n",
       "      <td>PAYOUT</td>\n",
       "      <td>238</td>\n",
       "      <td>374.0</td>\n",
       "      <td>NaN</td>\n",
       "    </tr>\n",
       "    <tr>\n",
       "      <th>2</th>\n",
       "      <td>NaN</td>\n",
       "      <td>FIRST NATIONAL BANK OF LIMA</td>\n",
       "      <td>COMMERCIAL BANK</td>\n",
       "      <td>FEDERAL</td>\n",
       "      <td>LIMA, MT</td>\n",
       "      <td>7/18/1934</td>\n",
       "      <td>FDIC</td>\n",
       "      <td>NaN</td>\n",
       "      <td>PAYOUT</td>\n",
       "      <td>42</td>\n",
       "      <td>91.0</td>\n",
       "      <td>NaN</td>\n",
       "    </tr>\n",
       "  </tbody>\n",
       "</table>\n",
       "</div>"
      ],
      "text/plain": [
       "   Financial Institution Number             Institution Name Institution Type  \\\n",
       "0                           NaN    BANK OF AMERICA TRUST CO.  COMMERCIAL BANK   \n",
       "1                           NaN        FON DU LAC STATE BANK  COMMERCIAL BANK   \n",
       "2                           NaN  FIRST NATIONAL BANK OF LIMA  COMMERCIAL BANK   \n",
       "\n",
       "  Charter Type     Headquarters Failure Date Insurance Fund  \\\n",
       "0        STATE   PITTSBURGH, PA    4/19/1934           FDIC   \n",
       "1        STATE  EAST PEORIA, IL    5/28/1934           FDIC   \n",
       "2      FEDERAL         LIMA, MT    7/18/1934           FDIC   \n",
       "\n",
       "   Certificate Number Transaction Type  Total Deposits  Total Assets  \\\n",
       "0                 NaN           PAYOUT            1064        1435.0   \n",
       "1                 NaN           PAYOUT             238         374.0   \n",
       "2                 NaN           PAYOUT              42          91.0   \n",
       "\n",
       "   Estimated Loss  \n",
       "0             NaN  \n",
       "1             NaN  \n",
       "2             NaN  "
      ]
     },
     "execution_count": 2,
     "metadata": {},
     "output_type": "execute_result"
    }
   ],
   "source": [
    "df = pd.read_csv('banks.csv')\n",
    "df.head(3)"
   ]
  },
  {
   "cell_type": "code",
   "execution_count": 3,
   "metadata": {},
   "outputs": [
    {
     "data": {
      "text/plain": [
       "Index(['Financial Institution Number', 'Institution Name', 'Institution Type',\n",
       "       'Charter Type', 'Headquarters', 'Failure Date', 'Insurance Fund',\n",
       "       'Certificate Number', 'Transaction Type', 'Total Deposits',\n",
       "       'Total Assets', 'Estimated Loss'],\n",
       "      dtype='object')"
      ]
     },
     "execution_count": 3,
     "metadata": {},
     "output_type": "execute_result"
    }
   ],
   "source": [
    "df.columns"
   ]
  },
  {
   "cell_type": "code",
   "execution_count": 4,
   "metadata": {},
   "outputs": [
    {
     "data": {
      "text/plain": [
       "(3484, 12)"
      ]
     },
     "execution_count": 4,
     "metadata": {},
     "output_type": "execute_result"
    }
   ],
   "source": [
    "df.shape"
   ]
  },
  {
   "cell_type": "code",
   "execution_count": 5,
   "metadata": {},
   "outputs": [
    {
     "data": {
      "text/plain": [
       "Financial Institution Number    601\n",
       "Institution Name                  0\n",
       "Institution Type                  0\n",
       "Charter Type                      0\n",
       "Headquarters                      0\n",
       "Failure Date                      0\n",
       "Insurance Fund                    0\n",
       "Certificate Number              485\n",
       "Transaction Type                  0\n",
       "Total Deposits                    0\n",
       "Total Assets                    151\n",
       "Estimated Loss                  975\n",
       "dtype: int64"
      ]
     },
     "execution_count": 5,
     "metadata": {},
     "output_type": "execute_result"
    }
   ],
   "source": [
    "df.isnull().sum()"
   ]
  },
  {
   "cell_type": "code",
   "execution_count": 6,
   "metadata": {},
   "outputs": [
    {
     "data": {
      "text/plain": [
       "Financial Institution Number    float64\n",
       "Institution Name                 object\n",
       "Institution Type                 object\n",
       "Charter Type                     object\n",
       "Headquarters                     object\n",
       "Failure Date                     object\n",
       "Insurance Fund                   object\n",
       "Certificate Number              float64\n",
       "Transaction Type                 object\n",
       "Total Deposits                    int64\n",
       "Total Assets                    float64\n",
       "Estimated Loss                  float64\n",
       "dtype: object"
      ]
     },
     "execution_count": 6,
     "metadata": {},
     "output_type": "execute_result"
    }
   ],
   "source": [
    "df.dtypes"
   ]
  },
  {
   "cell_type": "markdown",
   "metadata": {},
   "source": [
    "#### Q2) Remove null values(if any). Replace column values with thier appropriate values. Drop columns if necessary"
   ]
  },
  {
   "cell_type": "code",
   "execution_count": 7,
   "metadata": {},
   "outputs": [
    {
     "data": {
      "text/html": [
       "<div>\n",
       "<style scoped>\n",
       "    .dataframe tbody tr th:only-of-type {\n",
       "        vertical-align: middle;\n",
       "    }\n",
       "\n",
       "    .dataframe tbody tr th {\n",
       "        vertical-align: top;\n",
       "    }\n",
       "\n",
       "    .dataframe thead th {\n",
       "        text-align: right;\n",
       "    }\n",
       "</style>\n",
       "<table border=\"1\" class=\"dataframe\">\n",
       "  <thead>\n",
       "    <tr style=\"text-align: right;\">\n",
       "      <th></th>\n",
       "      <th>Institution Name</th>\n",
       "      <th>Institution Type</th>\n",
       "      <th>Charter Type</th>\n",
       "      <th>Headquarters</th>\n",
       "      <th>Failure Date</th>\n",
       "      <th>Insurance Fund</th>\n",
       "      <th>Transaction Type</th>\n",
       "      <th>Total Deposits</th>\n",
       "      <th>Total Assets</th>\n",
       "      <th>Estimated Loss</th>\n",
       "    </tr>\n",
       "  </thead>\n",
       "  <tbody>\n",
       "    <tr>\n",
       "      <th>0</th>\n",
       "      <td>BANK OF AMERICA TRUST CO.</td>\n",
       "      <td>COMMERCIAL BANK</td>\n",
       "      <td>STATE</td>\n",
       "      <td>PITTSBURGH, PA</td>\n",
       "      <td>4/19/1934</td>\n",
       "      <td>FDIC</td>\n",
       "      <td>PAYOUT</td>\n",
       "      <td>1064</td>\n",
       "      <td>1435.0</td>\n",
       "      <td>NaN</td>\n",
       "    </tr>\n",
       "    <tr>\n",
       "      <th>1</th>\n",
       "      <td>FON DU LAC STATE BANK</td>\n",
       "      <td>COMMERCIAL BANK</td>\n",
       "      <td>STATE</td>\n",
       "      <td>EAST PEORIA, IL</td>\n",
       "      <td>5/28/1934</td>\n",
       "      <td>FDIC</td>\n",
       "      <td>PAYOUT</td>\n",
       "      <td>238</td>\n",
       "      <td>374.0</td>\n",
       "      <td>NaN</td>\n",
       "    </tr>\n",
       "    <tr>\n",
       "      <th>2</th>\n",
       "      <td>FIRST NATIONAL BANK OF LIMA</td>\n",
       "      <td>COMMERCIAL BANK</td>\n",
       "      <td>FEDERAL</td>\n",
       "      <td>LIMA, MT</td>\n",
       "      <td>7/18/1934</td>\n",
       "      <td>FDIC</td>\n",
       "      <td>PAYOUT</td>\n",
       "      <td>42</td>\n",
       "      <td>91.0</td>\n",
       "      <td>NaN</td>\n",
       "    </tr>\n",
       "    <tr>\n",
       "      <th>3</th>\n",
       "      <td>FLORENCE DEPOSIT BANK</td>\n",
       "      <td>COMMERCIAL BANK</td>\n",
       "      <td>STATE</td>\n",
       "      <td>FLORENCE, IN</td>\n",
       "      <td>7/18/1934</td>\n",
       "      <td>FDIC</td>\n",
       "      <td>PAYOUT</td>\n",
       "      <td>69</td>\n",
       "      <td>105.0</td>\n",
       "      <td>NaN</td>\n",
       "    </tr>\n",
       "    <tr>\n",
       "      <th>4</th>\n",
       "      <td>BANK OF LEWISPORT</td>\n",
       "      <td>COMMERCIAL BANK</td>\n",
       "      <td>STATE</td>\n",
       "      <td>LEWISPORT, KY</td>\n",
       "      <td>8/6/1934</td>\n",
       "      <td>FDIC</td>\n",
       "      <td>PAYOUT</td>\n",
       "      <td>68</td>\n",
       "      <td>81.0</td>\n",
       "      <td>NaN</td>\n",
       "    </tr>\n",
       "  </tbody>\n",
       "</table>\n",
       "</div>"
      ],
      "text/plain": [
       "              Institution Name Institution Type Charter Type     Headquarters  \\\n",
       "0    BANK OF AMERICA TRUST CO.  COMMERCIAL BANK        STATE   PITTSBURGH, PA   \n",
       "1        FON DU LAC STATE BANK  COMMERCIAL BANK        STATE  EAST PEORIA, IL   \n",
       "2  FIRST NATIONAL BANK OF LIMA  COMMERCIAL BANK      FEDERAL         LIMA, MT   \n",
       "3        FLORENCE DEPOSIT BANK  COMMERCIAL BANK        STATE     FLORENCE, IN   \n",
       "4            BANK OF LEWISPORT  COMMERCIAL BANK        STATE    LEWISPORT, KY   \n",
       "\n",
       "  Failure Date Insurance Fund Transaction Type  Total Deposits  Total Assets  \\\n",
       "0    4/19/1934           FDIC           PAYOUT            1064        1435.0   \n",
       "1    5/28/1934           FDIC           PAYOUT             238         374.0   \n",
       "2    7/18/1934           FDIC           PAYOUT              42          91.0   \n",
       "3    7/18/1934           FDIC           PAYOUT              69         105.0   \n",
       "4     8/6/1934           FDIC           PAYOUT              68          81.0   \n",
       "\n",
       "   Estimated Loss  \n",
       "0             NaN  \n",
       "1             NaN  \n",
       "2             NaN  \n",
       "3             NaN  \n",
       "4             NaN  "
      ]
     },
     "execution_count": 7,
     "metadata": {},
     "output_type": "execute_result"
    }
   ],
   "source": [
    "df.drop('Financial Institution Number',axis=1,inplace=True)\n",
    "df.drop('Certificate Number',axis=1,inplace=True)\n",
    "df.head()"
   ]
  },
  {
   "cell_type": "code",
   "execution_count": 8,
   "metadata": {},
   "outputs": [
    {
     "data": {
      "text/plain": [
       "Institution Name      0\n",
       "Institution Type      0\n",
       "Charter Type          0\n",
       "Headquarters          0\n",
       "Failure Date          0\n",
       "Insurance Fund        0\n",
       "Transaction Type      0\n",
       "Total Deposits        0\n",
       "Total Assets        151\n",
       "Estimated Loss      975\n",
       "dtype: int64"
      ]
     },
     "execution_count": 8,
     "metadata": {},
     "output_type": "execute_result"
    }
   ],
   "source": [
    "df.isnull().sum()"
   ]
  },
  {
   "cell_type": "code",
   "execution_count": 9,
   "metadata": {},
   "outputs": [
    {
     "data": {
      "text/plain": [
       "Institution Name      0\n",
       "Institution Type      0\n",
       "Charter Type          0\n",
       "Headquarters          0\n",
       "Failure Date          0\n",
       "Insurance Fund        0\n",
       "Transaction Type      0\n",
       "Total Deposits        0\n",
       "Total Assets          0\n",
       "Estimated Loss      975\n",
       "dtype: int64"
      ]
     },
     "execution_count": 9,
     "metadata": {},
     "output_type": "execute_result"
    }
   ],
   "source": [
    "ta_mean = df['Total Assets'].mean()\n",
    "df['Total Assets'].fillna(ta_mean,inplace=True)\n",
    "df.isnull().sum()"
   ]
  },
  {
   "cell_type": "code",
   "execution_count": 10,
   "metadata": {},
   "outputs": [
    {
     "data": {
      "text/plain": [
       "Institution Name    0\n",
       "Institution Type    0\n",
       "Charter Type        0\n",
       "Headquarters        0\n",
       "Failure Date        0\n",
       "Insurance Fund      0\n",
       "Transaction Type    0\n",
       "Total Deposits      0\n",
       "Total Assets        0\n",
       "Estimated Loss      0\n",
       "dtype: int64"
      ]
     },
     "execution_count": 10,
     "metadata": {},
     "output_type": "execute_result"
    }
   ],
   "source": [
    "df['Estimated Loss'].fillna(0,inplace=True)\n",
    "df.isnull().sum()"
   ]
  },
  {
   "cell_type": "code",
   "execution_count": 11,
   "metadata": {},
   "outputs": [],
   "source": [
    "# df['Failure Year']"
   ]
  },
  {
   "cell_type": "markdown",
   "metadata": {},
   "source": [
    "## EDA"
   ]
  },
  {
   "cell_type": "markdown",
   "metadata": {},
   "source": [
    "#### Q3) Depict institution type on a bar chart and a countplot"
   ]
  },
  {
   "cell_type": "code",
   "execution_count": 12,
   "metadata": {},
   "outputs": [
    {
     "data": {
      "text/plain": [
       "COMMERCIAL BANK        2465\n",
       "SAVINGS ASSOCIATION     691\n",
       "SAVINGS BANK            328\n",
       "Name: Institution Type, dtype: int64"
      ]
     },
     "execution_count": 12,
     "metadata": {},
     "output_type": "execute_result"
    }
   ],
   "source": [
    "d1 = df['Institution Type'].value_counts()\n",
    "d1"
   ]
  },
  {
   "cell_type": "code",
   "execution_count": 13,
   "metadata": {},
   "outputs": [
    {
     "data": {
      "image/png": "[encoded data removed]",
      "text/plain": [
       "<Figure size 432x288 with 1 Axes>"
      ]
     },
     "metadata": {
      "needs_background": "light"
     },
     "output_type": "display_data"
    }
   ],
   "source": [
    "plt.bar(d1.index,d1,label='Inst. type',color='orange')\n",
    "plt.legend()\n",
    "plt.xlabel('Institution type')\n",
    "plt.ylabel('Count')\n",
    "plt.xticks(rotation=50)\n",
    "plt.show()"
   ]
  },
  {
   "cell_type": "code",
   "execution_count": 14,
   "metadata": {},
   "outputs": [
    {
     "data": {
      "image/png": "[encoded data removed]",
      "text/plain": [
       "<Figure size 432x288 with 1 Axes>"
      ]
     },
     "metadata": {
      "needs_background": "light"
     },
     "output_type": "display_data"
    }
   ],
   "source": [
    "sns.countplot(df['Institution Type'])\n",
    "plt.show()"
   ]
  },
  {
   "cell_type": "markdown",
   "metadata": {},
   "source": [
    "#### Q4) Depict 'Charter Type' on a bar chart and a countplot"
   ]
  },
  {
   "cell_type": "code",
   "execution_count": 15,
   "metadata": {},
   "outputs": [
    {
     "data": {
      "text/plain": [
       "STATE            2033\n",
       "FEDERAL           760\n",
       "FEDERAL/STATE     691\n",
       "Name: Charter Type, dtype: int64"
      ]
     },
     "execution_count": 15,
     "metadata": {},
     "output_type": "execute_result"
    }
   ],
   "source": [
    "d2 = df['Charter Type'].value_counts()\n",
    "d2"
   ]
  },
  {
   "cell_type": "code",
   "execution_count": 16,
   "metadata": {},
   "outputs": [
    {
     "data": {
      "image/png": "[encoded data removed]",
      "text/plain": [
       "<Figure size 432x288 with 1 Axes>"
      ]
     },
     "metadata": {
      "needs_background": "light"
     },
     "output_type": "display_data"
    }
   ],
   "source": [
    "plt.bar(d2.index,d2,label='Charter type',color='lightgreen')\n",
    "plt.legend()\n",
    "plt.xlabel('Charter type')\n",
    "plt.ylabel('Count')\n",
    "plt.xticks(rotation=50)\n",
    "plt.show()"
   ]
  },
  {
   "cell_type": "code",
   "execution_count": 17,
   "metadata": {},
   "outputs": [
    {
     "data": {
      "image/png": "[encoded data removed]",
      "text/plain": [
       "<Figure size 432x288 with 1 Axes>"
      ]
     },
     "metadata": {
      "needs_background": "light"
     },
     "output_type": "display_data"
    }
   ],
   "source": [
    "sns.countplot(df['Charter Type'])\n",
    "plt.show()"
   ]
  },
  {
   "cell_type": "markdown",
   "metadata": {},
   "source": [
    "#### Q5) Depict 'Transaction Type' on a line chart superimposed with bar chart and a countplot separately"
   ]
  },
  {
   "cell_type": "code",
   "execution_count": 18,
   "metadata": {},
   "outputs": [
    {
     "data": {
      "text/plain": [
       "ACQUISITION      2462\n",
       "PAYOUT            581\n",
       "TRANSFER          402\n",
       "MANAGEMENT         37\n",
       "PRIVATIZATION       2\n",
       "Name: Transaction Type, dtype: int64"
      ]
     },
     "execution_count": 18,
     "metadata": {},
     "output_type": "execute_result"
    }
   ],
   "source": [
    "d3 = df['Transaction Type'].value_counts()\n",
    "d3"
   ]
  },
  {
   "cell_type": "code",
   "execution_count": 19,
   "metadata": {},
   "outputs": [
    {
     "name": "stderr",
     "output_type": "stream",
     "text": [
      "E:\\Users\\lenovo\\Anaconda3\\lib\\site-packages\\matplotlib\\cbook\\__init__.py:1377: FutureWarning: Support for multi-dimensional indexing (e.g. `obj[:, None]`) is deprecated and will be removed in a future version.  Convert to a numpy array before indexing instead.\n",
      "  x[:, None]\n",
      "E:\\Users\\lenovo\\Anaconda3\\lib\\site-packages\\matplotlib\\axes\\_base.py:237: FutureWarning: Support for multi-dimensional indexing (e.g. `obj[:, None]`) is deprecated and will be removed in a future version.  Convert to a numpy array before indexing instead.\n",
      "  x = x[:, np.newaxis]\n",
      "E:\\Users\\lenovo\\Anaconda3\\lib\\site-packages\\matplotlib\\axes\\_base.py:239: FutureWarning: Support for multi-dimensional indexing (e.g. `obj[:, None]`) is deprecated and will be removed in a future version.  Convert to a numpy array before indexing instead.\n",
      "  y = y[:, np.newaxis]\n"
     ]
    },
    {
     "data": {
      "image/png": "[encoded data removed]",
      "text/plain": [
       "<Figure size 432x288 with 1 Axes>"
      ]
     },
     "metadata": {
      "needs_background": "light"
     },
     "output_type": "display_data"
    }
   ],
   "source": [
    "plt.plot(d3.index,d3,label='Transaction Type',color='blue',marker=\"*\")\n",
    "plt.bar(d3.index,d3,label='Transaction Type',color='lightgreen')\n",
    "plt.legend()\n",
    "plt.xlabel('Transaction type')\n",
    "plt.ylabel('Count')\n",
    "plt.xticks(rotation=50)\n",
    "plt.show()"
   ]
  },
  {
   "cell_type": "code",
   "execution_count": 20,
   "metadata": {},
   "outputs": [
    {
     "data": {
      "image/png": "[encoded data removed]",
      "text/plain": [
       "<Figure size 432x288 with 1 Axes>"
      ]
     },
     "metadata": {
      "needs_background": "light"
     },
     "output_type": "display_data"
    }
   ],
   "source": [
    "sns.countplot(df['Transaction Type'])\n",
    "plt.xticks(rotation=50)\n",
    "plt.show()"
   ]
  },
  {
   "cell_type": "markdown",
   "metadata": {},
   "source": [
    "#### Q6) Depict count of 'Insurance Fund' on a pie chart "
   ]
  },
  {
   "cell_type": "code",
   "execution_count": 21,
   "metadata": {},
   "outputs": [
    {
     "data": {
      "text/plain": [
       "FDIC     1502\n",
       "RTC       746\n",
       "BIF       576\n",
       "DIF       521\n",
       "FSLIC     133\n",
       "SAIF        6\n",
       "Name: Insurance Fund, dtype: int64"
      ]
     },
     "execution_count": 21,
     "metadata": {},
     "output_type": "execute_result"
    }
   ],
   "source": [
    "d4 = df['Insurance Fund'].value_counts()\n",
    "d4"
   ]
  },
  {
   "cell_type": "code",
   "execution_count": 22,
   "metadata": {},
   "outputs": [
    {
     "data": {
      "image/png": "[encoded data removed]",
      "text/plain": [
       "<Figure size 432x288 with 1 Axes>"
      ]
     },
     "metadata": {},
     "output_type": "display_data"
    }
   ],
   "source": [
    "plt.pie(x=d4,labels=d4.index,autopct=\"%.2f%%\")\n",
    "plt.legend(loc=2)\n",
    "plt.title('Percentage distribution of Insurance Fund')\n",
    "# plt.xticks(rotation=50)\n",
    "plt.show()"
   ]
  },
  {
   "cell_type": "code",
   "execution_count": 23,
   "metadata": {},
   "outputs": [
    {
     "data": {
      "image/png": "[encoded data removed]",
      "text/plain": [
       "<Figure size 432x288 with 1 Axes>"
      ]
     },
     "metadata": {
      "needs_background": "light"
     },
     "output_type": "display_data"
    }
   ],
   "source": [
    "sns.countplot(df['Insurance Fund'])\n",
    "# plt.xticks(rotation=50)\n",
    "plt.show()"
   ]
  },
  {
   "cell_type": "code",
   "execution_count": 24,
   "metadata": {},
   "outputs": [
    {
     "data": {
      "text/html": [
       "<div>\n",
       "<style scoped>\n",
       "    .dataframe tbody tr th:only-of-type {\n",
       "        vertical-align: middle;\n",
       "    }\n",
       "\n",
       "    .dataframe tbody tr th {\n",
       "        vertical-align: top;\n",
       "    }\n",
       "\n",
       "    .dataframe thead th {\n",
       "        text-align: right;\n",
       "    }\n",
       "</style>\n",
       "<table border=\"1\" class=\"dataframe\">\n",
       "  <thead>\n",
       "    <tr style=\"text-align: right;\">\n",
       "      <th></th>\n",
       "      <th>Institution Name</th>\n",
       "      <th>Institution Type</th>\n",
       "      <th>Charter Type</th>\n",
       "      <th>Headquarters</th>\n",
       "      <th>Failure Date</th>\n",
       "      <th>Insurance Fund</th>\n",
       "      <th>Transaction Type</th>\n",
       "      <th>Total Deposits</th>\n",
       "      <th>Total Assets</th>\n",
       "      <th>Estimated Loss</th>\n",
       "    </tr>\n",
       "  </thead>\n",
       "  <tbody>\n",
       "    <tr>\n",
       "      <th>0</th>\n",
       "      <td>BANK OF AMERICA TRUST CO.</td>\n",
       "      <td>COMMERCIAL BANK</td>\n",
       "      <td>STATE</td>\n",
       "      <td>PITTSBURGH, PA</td>\n",
       "      <td>4/19/1934</td>\n",
       "      <td>FDIC</td>\n",
       "      <td>PAYOUT</td>\n",
       "      <td>1064</td>\n",
       "      <td>1435.0</td>\n",
       "      <td>0.0</td>\n",
       "    </tr>\n",
       "    <tr>\n",
       "      <th>1</th>\n",
       "      <td>FON DU LAC STATE BANK</td>\n",
       "      <td>COMMERCIAL BANK</td>\n",
       "      <td>STATE</td>\n",
       "      <td>EAST PEORIA, IL</td>\n",
       "      <td>5/28/1934</td>\n",
       "      <td>FDIC</td>\n",
       "      <td>PAYOUT</td>\n",
       "      <td>238</td>\n",
       "      <td>374.0</td>\n",
       "      <td>0.0</td>\n",
       "    </tr>\n",
       "    <tr>\n",
       "      <th>2</th>\n",
       "      <td>FIRST NATIONAL BANK OF LIMA</td>\n",
       "      <td>COMMERCIAL BANK</td>\n",
       "      <td>FEDERAL</td>\n",
       "      <td>LIMA, MT</td>\n",
       "      <td>7/18/1934</td>\n",
       "      <td>FDIC</td>\n",
       "      <td>PAYOUT</td>\n",
       "      <td>42</td>\n",
       "      <td>91.0</td>\n",
       "      <td>0.0</td>\n",
       "    </tr>\n",
       "  </tbody>\n",
       "</table>\n",
       "</div>"
      ],
      "text/plain": [
       "              Institution Name Institution Type Charter Type     Headquarters  \\\n",
       "0    BANK OF AMERICA TRUST CO.  COMMERCIAL BANK        STATE   PITTSBURGH, PA   \n",
       "1        FON DU LAC STATE BANK  COMMERCIAL BANK        STATE  EAST PEORIA, IL   \n",
       "2  FIRST NATIONAL BANK OF LIMA  COMMERCIAL BANK      FEDERAL         LIMA, MT   \n",
       "\n",
       "  Failure Date Insurance Fund Transaction Type  Total Deposits  Total Assets  \\\n",
       "0    4/19/1934           FDIC           PAYOUT            1064        1435.0   \n",
       "1    5/28/1934           FDIC           PAYOUT             238         374.0   \n",
       "2    7/18/1934           FDIC           PAYOUT              42          91.0   \n",
       "\n",
       "   Estimated Loss  \n",
       "0             0.0  \n",
       "1             0.0  \n",
       "2             0.0  "
      ]
     },
     "execution_count": 24,
     "metadata": {},
     "output_type": "execute_result"
    }
   ],
   "source": [
    "df.head(3)"
   ]
  },
  {
   "cell_type": "markdown",
   "metadata": {},
   "source": [
    "#### 7) Depict sum of Total Assets based on Charter Type on a bar chart"
   ]
  },
  {
   "cell_type": "code",
   "execution_count": 25,
   "metadata": {},
   "outputs": [
    {
     "data": {
      "text/plain": [
       "array([1.43500e+03, 3.74000e+02, 9.10000e+01, ..., 6.63360e+04,\n",
       "       1.26430e+05, 3.61197e+05])"
      ]
     },
     "execution_count": 25,
     "metadata": {},
     "output_type": "execute_result"
    }
   ],
   "source": [
    "df['Total Assets'].unique()"
   ]
  },
  {
   "cell_type": "code",
   "execution_count": 26,
   "metadata": {},
   "outputs": [
    {
     "data": {
      "text/plain": [
       "Charter Type\n",
       "FEDERAL          2.077612e+08\n",
       "FEDERAL/STATE    3.113549e+08\n",
       "STATE            8.904700e+08\n",
       "Name: Total Assets, dtype: float64"
      ]
     },
     "execution_count": 26,
     "metadata": {},
     "output_type": "execute_result"
    }
   ],
   "source": [
    "df1 = df.groupby('Charter Type')['Total Assets'].sum()\n",
    "df1\n",
    "# plt.hist(df['Total Assets'])\n",
    "# plt.show()"
   ]
  },
  {
   "cell_type": "code",
   "execution_count": 27,
   "metadata": {},
   "outputs": [
    {
     "data": {
      "image/png": "[encoded data removed]",
      "text/plain": [
       "<Figure size 432x288 with 1 Axes>"
      ]
     },
     "metadata": {
      "needs_background": "light"
     },
     "output_type": "display_data"
    }
   ],
   "source": [
    "plt.bar(df1.index,df1,color='green')\n",
    "plt.show()"
   ]
  },
  {
   "cell_type": "markdown",
   "metadata": {},
   "source": [
    "#### 8) Depict mean of Total Deposit based on Transaction Type on a bar chart superimposed on a line chart"
   ]
  },
  {
   "cell_type": "code",
   "execution_count": 28,
   "metadata": {},
   "outputs": [
    {
     "data": {
      "text/plain": [
       "Transaction Type\n",
       "ACQUISITION      3.741363e+05\n",
       "MANAGEMENT       3.949903e+05\n",
       "PAYOUT           7.766675e+04\n",
       "PRIVATIZATION    1.825393e+06\n",
       "TRANSFER         1.490218e+05\n",
       "Name: Total Deposits, dtype: float64"
      ]
     },
     "execution_count": 28,
     "metadata": {},
     "output_type": "execute_result"
    }
   ],
   "source": [
    "# sns.violinplot(x=df['Total Assets'], hue=df['Insurance Fund'])\n",
    "df2 = df.groupby('Transaction Type')['Total Deposits'].mean()\n",
    "df2\n",
    "# plt.hist(df['Total Assets'])\n",
    "# plt.show()"
   ]
  },
  {
   "cell_type": "code",
   "execution_count": 29,
   "metadata": {},
   "outputs": [
    {
     "name": "stderr",
     "output_type": "stream",
     "text": [
      "E:\\Users\\lenovo\\Anaconda3\\lib\\site-packages\\matplotlib\\cbook\\__init__.py:1377: FutureWarning: Support for multi-dimensional indexing (e.g. `obj[:, None]`) is deprecated and will be removed in a future version.  Convert to a numpy array before indexing instead.\n",
      "  x[:, None]\n",
      "E:\\Users\\lenovo\\Anaconda3\\lib\\site-packages\\matplotlib\\axes\\_base.py:237: FutureWarning: Support for multi-dimensional indexing (e.g. `obj[:, None]`) is deprecated and will be removed in a future version.  Convert to a numpy array before indexing instead.\n",
      "  x = x[:, np.newaxis]\n",
      "E:\\Users\\lenovo\\Anaconda3\\lib\\site-packages\\matplotlib\\axes\\_base.py:239: FutureWarning: Support for multi-dimensional indexing (e.g. `obj[:, None]`) is deprecated and will be removed in a future version.  Convert to a numpy array before indexing instead.\n",
      "  y = y[:, np.newaxis]\n"
     ]
    },
    {
     "data": {
      "image/png": "[encoded data removed]",
      "text/plain": [
       "<Figure size 432x288 with 1 Axes>"
      ]
     },
     "metadata": {
      "needs_background": "light"
     },
     "output_type": "display_data"
    }
   ],
   "source": [
    "plt.bar(df2.index,df2,color='lightgreen')\n",
    "plt.plot(df2.index,df2,color='maroon',marker='o')\n",
    "plt.xticks(rotation=90)\n",
    "plt.show()"
   ]
  },
  {
   "cell_type": "markdown",
   "metadata": {},
   "source": [
    "#### 9) Depict mean of Total Deposit and Total Assets based on Charter Type on a bar chart, stacked bar chart and a line chart"
   ]
  },
  {
   "cell_type": "code",
   "execution_count": 30,
   "metadata": {},
   "outputs": [
    {
     "name": "stderr",
     "output_type": "stream",
     "text": [
      "E:\\Users\\lenovo\\Anaconda3\\lib\\site-packages\\ipykernel_launcher.py:1: FutureWarning: Indexing with multiple keys (implicitly converted to a tuple of keys) will be deprecated, use a list instead.\n",
      "  \"\"\"Entry point for launching an IPython kernel.\n"
     ]
    },
    {
     "data": {
      "text/html": [
       "<div>\n",
       "<style scoped>\n",
       "    .dataframe tbody tr th:only-of-type {\n",
       "        vertical-align: middle;\n",
       "    }\n",
       "\n",
       "    .dataframe tbody tr th {\n",
       "        vertical-align: top;\n",
       "    }\n",
       "\n",
       "    .dataframe thead th {\n",
       "        text-align: right;\n",
       "    }\n",
       "</style>\n",
       "<table border=\"1\" class=\"dataframe\">\n",
       "  <thead>\n",
       "    <tr style=\"text-align: right;\">\n",
       "      <th></th>\n",
       "      <th>Total Deposits</th>\n",
       "      <th>Total Assets</th>\n",
       "    </tr>\n",
       "    <tr>\n",
       "      <th>Charter Type</th>\n",
       "      <th></th>\n",
       "      <th></th>\n",
       "    </tr>\n",
       "  </thead>\n",
       "  <tbody>\n",
       "    <tr>\n",
       "      <th>FEDERAL</th>\n",
       "      <td>203592.725000</td>\n",
       "      <td>273369.942671</td>\n",
       "    </tr>\n",
       "    <tr>\n",
       "      <th>FEDERAL/STATE</th>\n",
       "      <td>374481.780029</td>\n",
       "      <td>450585.943560</td>\n",
       "    </tr>\n",
       "    <tr>\n",
       "      <th>STATE</th>\n",
       "      <td>310340.787998</td>\n",
       "      <td>438007.850849</td>\n",
       "    </tr>\n",
       "  </tbody>\n",
       "</table>\n",
       "</div>"
      ],
      "text/plain": [
       "               Total Deposits   Total Assets\n",
       "Charter Type                                \n",
       "FEDERAL         203592.725000  273369.942671\n",
       "FEDERAL/STATE   374481.780029  450585.943560\n",
       "STATE           310340.787998  438007.850849"
      ]
     },
     "execution_count": 30,
     "metadata": {},
     "output_type": "execute_result"
    }
   ],
   "source": [
    "df3 = df.groupby('Charter Type')['Total Deposits','Total Assets'].mean()\n",
    "df3"
   ]
  },
  {
   "cell_type": "code",
   "execution_count": 31,
   "metadata": {},
   "outputs": [
    {
     "data": {
      "image/png": "[encoded data removed]",
      "text/plain": [
       "<Figure size 432x288 with 1 Axes>"
      ]
     },
     "metadata": {
      "needs_background": "light"
     },
     "output_type": "display_data"
    }
   ],
   "source": [
    "df3.plot(kind='bar')\n",
    "plt.show()"
   ]
  },
  {
   "cell_type": "code",
   "execution_count": 32,
   "metadata": {},
   "outputs": [
    {
     "data": {
      "image/png": "[encoded data removed]",
      "text/plain": [
       "<Figure size 432x288 with 1 Axes>"
      ]
     },
     "metadata": {
      "needs_background": "light"
     },
     "output_type": "display_data"
    }
   ],
   "source": [
    "df3.plot(kind='bar',stacked=True)\n",
    "plt.show()"
   ]
  },
  {
   "cell_type": "code",
   "execution_count": 33,
   "metadata": {},
   "outputs": [
    {
     "data": {
      "image/png": "[encoded data removed]",
      "text/plain": [
       "<Figure size 432x288 with 1 Axes>"
      ]
     },
     "metadata": {
      "needs_background": "light"
     },
     "output_type": "display_data"
    }
   ],
   "source": [
    "df3.plot(kind='line',marker='*')\n",
    "plt.xlabel('Charter Type')\n",
    "plt.show()"
   ]
  },
  {
   "cell_type": "markdown",
   "metadata": {},
   "source": [
    "#### 10) Derive the columns - Fail_year, Fail_month, Fail_Day based on Failure date field"
   ]
  },
  {
   "cell_type": "code",
   "execution_count": 34,
   "metadata": {},
   "outputs": [
    {
     "data": {
      "text/plain": [
       "Institution Name     object\n",
       "Institution Type     object\n",
       "Charter Type         object\n",
       "Headquarters         object\n",
       "Failure Date         object\n",
       "Insurance Fund       object\n",
       "Transaction Type     object\n",
       "Total Deposits        int64\n",
       "Total Assets        float64\n",
       "Estimated Loss      float64\n",
       "dtype: object"
      ]
     },
     "execution_count": 34,
     "metadata": {},
     "output_type": "execute_result"
    }
   ],
   "source": [
    "df.dtypes"
   ]
  },
  {
   "cell_type": "code",
   "execution_count": 35,
   "metadata": {},
   "outputs": [
    {
     "data": {
      "text/plain": [
       "Institution Name            object\n",
       "Institution Type            object\n",
       "Charter Type                object\n",
       "Headquarters                object\n",
       "Failure Date        datetime64[ns]\n",
       "Insurance Fund              object\n",
       "Transaction Type            object\n",
       "Total Deposits               int64\n",
       "Total Assets               float64\n",
       "Estimated Loss             float64\n",
       "dtype: object"
      ]
     },
     "execution_count": 35,
     "metadata": {},
     "output_type": "execute_result"
    }
   ],
   "source": [
    "df['Failure Date'] = pd.to_datetime(df['Failure Date'])\n",
    "df.dtypes"
   ]
  },
  {
   "cell_type": "code",
   "execution_count": 36,
   "metadata": {},
   "outputs": [
    {
     "data": {
      "text/html": [
       "<div>\n",
       "<style scoped>\n",
       "    .dataframe tbody tr th:only-of-type {\n",
       "        vertical-align: middle;\n",
       "    }\n",
       "\n",
       "    .dataframe tbody tr th {\n",
       "        vertical-align: top;\n",
       "    }\n",
       "\n",
       "    .dataframe thead th {\n",
       "        text-align: right;\n",
       "    }\n",
       "</style>\n",
       "<table border=\"1\" class=\"dataframe\">\n",
       "  <thead>\n",
       "    <tr style=\"text-align: right;\">\n",
       "      <th></th>\n",
       "      <th>Institution Name</th>\n",
       "      <th>Institution Type</th>\n",
       "      <th>Charter Type</th>\n",
       "      <th>Headquarters</th>\n",
       "      <th>Failure Date</th>\n",
       "      <th>Insurance Fund</th>\n",
       "      <th>Transaction Type</th>\n",
       "      <th>Total Deposits</th>\n",
       "      <th>Total Assets</th>\n",
       "      <th>Estimated Loss</th>\n",
       "      <th>Fail_Year</th>\n",
       "      <th>Fail_Month</th>\n",
       "      <th>Fail_Day</th>\n",
       "    </tr>\n",
       "  </thead>\n",
       "  <tbody>\n",
       "    <tr>\n",
       "      <th>0</th>\n",
       "      <td>BANK OF AMERICA TRUST CO.</td>\n",
       "      <td>COMMERCIAL BANK</td>\n",
       "      <td>STATE</td>\n",
       "      <td>PITTSBURGH, PA</td>\n",
       "      <td>1934-04-19</td>\n",
       "      <td>FDIC</td>\n",
       "      <td>PAYOUT</td>\n",
       "      <td>1064</td>\n",
       "      <td>1435.0</td>\n",
       "      <td>0.0</td>\n",
       "      <td>1934</td>\n",
       "      <td>4</td>\n",
       "      <td>19</td>\n",
       "    </tr>\n",
       "    <tr>\n",
       "      <th>1</th>\n",
       "      <td>FON DU LAC STATE BANK</td>\n",
       "      <td>COMMERCIAL BANK</td>\n",
       "      <td>STATE</td>\n",
       "      <td>EAST PEORIA, IL</td>\n",
       "      <td>1934-05-28</td>\n",
       "      <td>FDIC</td>\n",
       "      <td>PAYOUT</td>\n",
       "      <td>238</td>\n",
       "      <td>374.0</td>\n",
       "      <td>0.0</td>\n",
       "      <td>1934</td>\n",
       "      <td>5</td>\n",
       "      <td>28</td>\n",
       "    </tr>\n",
       "    <tr>\n",
       "      <th>2</th>\n",
       "      <td>FIRST NATIONAL BANK OF LIMA</td>\n",
       "      <td>COMMERCIAL BANK</td>\n",
       "      <td>FEDERAL</td>\n",
       "      <td>LIMA, MT</td>\n",
       "      <td>1934-07-18</td>\n",
       "      <td>FDIC</td>\n",
       "      <td>PAYOUT</td>\n",
       "      <td>42</td>\n",
       "      <td>91.0</td>\n",
       "      <td>0.0</td>\n",
       "      <td>1934</td>\n",
       "      <td>7</td>\n",
       "      <td>18</td>\n",
       "    </tr>\n",
       "  </tbody>\n",
       "</table>\n",
       "</div>"
      ],
      "text/plain": [
       "              Institution Name Institution Type Charter Type     Headquarters  \\\n",
       "0    BANK OF AMERICA TRUST CO.  COMMERCIAL BANK        STATE   PITTSBURGH, PA   \n",
       "1        FON DU LAC STATE BANK  COMMERCIAL BANK        STATE  EAST PEORIA, IL   \n",
       "2  FIRST NATIONAL BANK OF LIMA  COMMERCIAL BANK      FEDERAL         LIMA, MT   \n",
       "\n",
       "  Failure Date Insurance Fund Transaction Type  Total Deposits  Total Assets  \\\n",
       "0   1934-04-19           FDIC           PAYOUT            1064        1435.0   \n",
       "1   1934-05-28           FDIC           PAYOUT             238         374.0   \n",
       "2   1934-07-18           FDIC           PAYOUT              42          91.0   \n",
       "\n",
       "   Estimated Loss  Fail_Year  Fail_Month  Fail_Day  \n",
       "0             0.0       1934           4        19  \n",
       "1             0.0       1934           5        28  \n",
       "2             0.0       1934           7        18  "
      ]
     },
     "execution_count": 36,
     "metadata": {},
     "output_type": "execute_result"
    }
   ],
   "source": [
    "df['Fail_Year'] = df['Failure Date'].dt.year\n",
    "df['Fail_Month'] = df['Failure Date'].dt.month\n",
    "df['Fail_Day'] = df['Failure Date'].dt.day\n",
    "df.head(3)"
   ]
  },
  {
   "cell_type": "code",
   "execution_count": 37,
   "metadata": {},
   "outputs": [
    {
     "data": {
      "text/plain": [
       "array([1934, 1935, 1936, 1937, 1938, 1939, 1940, 1941, 1942, 1943, 1944,\n",
       "       1945, 1946, 1947, 1948, 1949, 1950, 1951, 1952, 1953, 1954, 1955,\n",
       "       1956, 1957, 1958, 1959, 1960, 1961, 1962, 1963, 1964, 1965, 1966,\n",
       "       1967, 1968, 1969, 1970, 1971, 1972, 1973, 1974, 1975, 1976, 1977,\n",
       "       1978, 1979, 1980, 1981, 1982, 1983, 1984, 1985, 1986, 1987, 1988,\n",
       "       1989, 1990, 1991, 1992, 1993, 1994, 1995, 1996, 1997, 1998, 1999,\n",
       "       2000, 2001, 2002, 2003, 2004, 2007, 2008, 2009, 2010, 2011, 2012,\n",
       "       2013, 2014, 2015, 2016, 2017], dtype=int64)"
      ]
     },
     "execution_count": 37,
     "metadata": {},
     "output_type": "execute_result"
    }
   ],
   "source": [
    "df['Fail_Year'].unique()"
   ]
  },
  {
   "cell_type": "code",
   "execution_count": 38,
   "metadata": {},
   "outputs": [
    {
     "data": {
      "text/plain": [
       "Institution Name    0\n",
       "Institution Type    0\n",
       "Charter Type        0\n",
       "Headquarters        0\n",
       "Failure Date        0\n",
       "Insurance Fund      0\n",
       "Transaction Type    0\n",
       "Total Deposits      0\n",
       "Total Assets        0\n",
       "Estimated Loss      0\n",
       "Fail_Year           0\n",
       "Fail_Month          0\n",
       "Fail_Day            0\n",
       "dtype: int64"
      ]
     },
     "execution_count": 38,
     "metadata": {},
     "output_type": "execute_result"
    }
   ],
   "source": [
    "df.isnull().sum()"
   ]
  },
  {
   "cell_type": "markdown",
   "metadata": {},
   "source": [
    "#### 11) Depict Fail_Month wise mean of Total Deposits and Total Assets on a bar chart, line chart  and a scatter chart"
   ]
  },
  {
   "cell_type": "code",
   "execution_count": 39,
   "metadata": {},
   "outputs": [
    {
     "name": "stderr",
     "output_type": "stream",
     "text": [
      "E:\\Users\\lenovo\\Anaconda3\\lib\\site-packages\\ipykernel_launcher.py:1: FutureWarning: Indexing with multiple keys (implicitly converted to a tuple of keys) will be deprecated, use a list instead.\n",
      "  \"\"\"Entry point for launching an IPython kernel.\n"
     ]
    },
    {
     "data": {
      "text/html": [
       "<div>\n",
       "<style scoped>\n",
       "    .dataframe tbody tr th:only-of-type {\n",
       "        vertical-align: middle;\n",
       "    }\n",
       "\n",
       "    .dataframe tbody tr th {\n",
       "        vertical-align: top;\n",
       "    }\n",
       "\n",
       "    .dataframe thead th {\n",
       "        text-align: right;\n",
       "    }\n",
       "</style>\n",
       "<table border=\"1\" class=\"dataframe\">\n",
       "  <thead>\n",
       "    <tr style=\"text-align: right;\">\n",
       "      <th></th>\n",
       "      <th>Total Deposits</th>\n",
       "      <th>Total Assets</th>\n",
       "    </tr>\n",
       "    <tr>\n",
       "      <th>Fail_Month</th>\n",
       "      <th></th>\n",
       "      <th></th>\n",
       "    </tr>\n",
       "  </thead>\n",
       "  <tbody>\n",
       "    <tr>\n",
       "      <th>1</th>\n",
       "      <td>3.557187e+05</td>\n",
       "      <td>4.328379e+05</td>\n",
       "    </tr>\n",
       "    <tr>\n",
       "      <th>2</th>\n",
       "      <td>3.135955e+05</td>\n",
       "      <td>4.153757e+05</td>\n",
       "    </tr>\n",
       "    <tr>\n",
       "      <th>3</th>\n",
       "      <td>2.010547e+05</td>\n",
       "      <td>2.502661e+05</td>\n",
       "    </tr>\n",
       "    <tr>\n",
       "      <th>4</th>\n",
       "      <td>2.088279e+05</td>\n",
       "      <td>2.719802e+05</td>\n",
       "    </tr>\n",
       "    <tr>\n",
       "      <th>5</th>\n",
       "      <td>2.000744e+05</td>\n",
       "      <td>2.601945e+05</td>\n",
       "    </tr>\n",
       "    <tr>\n",
       "      <th>6</th>\n",
       "      <td>1.492130e+05</td>\n",
       "      <td>1.970686e+05</td>\n",
       "    </tr>\n",
       "    <tr>\n",
       "      <th>7</th>\n",
       "      <td>2.784386e+05</td>\n",
       "      <td>3.829203e+05</td>\n",
       "    </tr>\n",
       "    <tr>\n",
       "      <th>8</th>\n",
       "      <td>2.919581e+05</td>\n",
       "      <td>3.520760e+05</td>\n",
       "    </tr>\n",
       "    <tr>\n",
       "      <th>9</th>\n",
       "      <td>1.087839e+06</td>\n",
       "      <td>1.673873e+06</td>\n",
       "    </tr>\n",
       "    <tr>\n",
       "      <th>10</th>\n",
       "      <td>2.377847e+05</td>\n",
       "      <td>2.931140e+05</td>\n",
       "    </tr>\n",
       "    <tr>\n",
       "      <th>11</th>\n",
       "      <td>2.528050e+05</td>\n",
       "      <td>3.341819e+05</td>\n",
       "    </tr>\n",
       "    <tr>\n",
       "      <th>12</th>\n",
       "      <td>2.633904e+05</td>\n",
       "      <td>3.755684e+05</td>\n",
       "    </tr>\n",
       "  </tbody>\n",
       "</table>\n",
       "</div>"
      ],
      "text/plain": [
       "            Total Deposits  Total Assets\n",
       "Fail_Month                              \n",
       "1             3.557187e+05  4.328379e+05\n",
       "2             3.135955e+05  4.153757e+05\n",
       "3             2.010547e+05  2.502661e+05\n",
       "4             2.088279e+05  2.719802e+05\n",
       "5             2.000744e+05  2.601945e+05\n",
       "6             1.492130e+05  1.970686e+05\n",
       "7             2.784386e+05  3.829203e+05\n",
       "8             2.919581e+05  3.520760e+05\n",
       "9             1.087839e+06  1.673873e+06\n",
       "10            2.377847e+05  2.931140e+05\n",
       "11            2.528050e+05  3.341819e+05\n",
       "12            2.633904e+05  3.755684e+05"
      ]
     },
     "execution_count": 39,
     "metadata": {},
     "output_type": "execute_result"
    }
   ],
   "source": [
    "df4 = df.groupby('Fail_Month')['Total Deposits','Total Assets'].mean()\n",
    "df4"
   ]
  },
  {
   "cell_type": "code",
   "execution_count": 40,
   "metadata": {},
   "outputs": [],
   "source": [
    "month = ['Jan', 'Feb','Mar','Apr',\"May\",'Jun','Jul','Aug','Spet','Oct','Nov','Dec']\n"
   ]
  },
  {
   "cell_type": "code",
   "execution_count": 41,
   "metadata": {},
   "outputs": [
    {
     "data": {
      "image/png": "[encoded data removed]",
      "text/plain": [
       "<Figure size 432x288 with 1 Axes>"
      ]
     },
     "metadata": {
      "needs_background": "light"
     },
     "output_type": "display_data"
    }
   ],
   "source": [
    "df4.plot(kind='bar')\n",
    "plt.xticks(rotation=45)\n",
    "plt.show()"
   ]
  },
  {
   "cell_type": "code",
   "execution_count": 43,
   "metadata": {},
   "outputs": [
    {
     "data": {
      "image/png": "[encoded data removed]",
      "text/plain": [
       "<Figure size 432x288 with 1 Axes>"
      ]
     },
     "metadata": {
      "needs_background": "light"
     },
     "output_type": "display_data"
    }
   ],
   "source": [
    "df4.plot(kind='line')\n",
    "plt.xticks(rotation=45)\n",
    "plt.show()"
   ]
  },
  {
   "cell_type": "code",
   "execution_count": 43,
   "metadata": {},
   "outputs": [],
   "source": [
    "# df4.plot(kind='area',marker='*')\n",
    "# plt.xticks(rotation=45)\n",
    "# plt.show()"
   ]
  },
  {
   "cell_type": "code",
   "execution_count": 44,
   "metadata": {},
   "outputs": [
    {
     "data": {
      "image/png": "[encoded data removed]",
      "text/plain": [
       "<Figure size 432x288 with 1 Axes>"
      ]
     },
     "metadata": {
      "needs_background": "light"
     },
     "output_type": "display_data"
    }
   ],
   "source": [
    "plt.scatter(df4['Total Assets'],df4['Total Deposits'])\n",
    "plt.xticks(rotation=45)\n",
    "plt.show()"
   ]
  },
  {
   "cell_type": "code",
   "execution_count": 45,
   "metadata": {},
   "outputs": [
    {
     "data": {
      "image/png": "[encoded data removed]",
      "text/plain": [
       "<Figure size 432x288 with 1 Axes>"
      ]
     },
     "metadata": {
      "needs_background": "light"
     },
     "output_type": "display_data"
    }
   ],
   "source": [
    "sns.scatterplot(data=df4, x= 'Total Assets',y='Total Deposits')\n",
    "plt.xticks(rotation=90)\n",
    "plt.show()"
   ]
  },
  {
   "cell_type": "markdown",
   "metadata": {},
   "source": [
    "#### 12) Depict Fail_Year wise sum of Estimated Loss on a horizontal bar chart"
   ]
  },
  {
   "cell_type": "code",
   "execution_count": 46,
   "metadata": {},
   "outputs": [
    {
     "data": {
      "text/plain": [
       "Fail_Year\n",
       "1934          0.0\n",
       "1935          0.0\n",
       "1936          0.0\n",
       "1937          0.0\n",
       "1938          0.0\n",
       "          ...    \n",
       "2013    1315083.0\n",
       "2014     407660.0\n",
       "2015     159259.0\n",
       "2016          0.0\n",
       "2017          0.0\n",
       "Name: Estimated Loss, Length: 82, dtype: float64"
      ]
     },
     "execution_count": 46,
     "metadata": {},
     "output_type": "execute_result"
    }
   ],
   "source": [
    "df5 = df.groupby('Fail_Year')['Estimated Loss'].sum()\n",
    "df5"
   ]
  },
  {
   "cell_type": "code",
   "execution_count": 47,
   "metadata": {},
   "outputs": [
    {
     "data": {
      "image/png": "[encoded data removed]",
      "text/plain": [
       "<Figure size 720x936 with 1 Axes>"
      ]
     },
     "metadata": {
      "needs_background": "light"
     },
     "output_type": "display_data"
    }
   ],
   "source": [
    "df5.plot(kind='barh',figsize=(10,13))\n",
    "plt.show()"
   ]
  },
  {
   "cell_type": "markdown",
   "metadata": {},
   "source": [
    "#### 13) Derive a column - Fail_Quarter based on Failure Date"
   ]
  },
  {
   "cell_type": "code",
   "execution_count": 48,
   "metadata": {},
   "outputs": [
    {
     "data": {
      "text/html": [
       "<div>\n",
       "<style scoped>\n",
       "    .dataframe tbody tr th:only-of-type {\n",
       "        vertical-align: middle;\n",
       "    }\n",
       "\n",
       "    .dataframe tbody tr th {\n",
       "        vertical-align: top;\n",
       "    }\n",
       "\n",
       "    .dataframe thead th {\n",
       "        text-align: right;\n",
       "    }\n",
       "</style>\n",
       "<table border=\"1\" class=\"dataframe\">\n",
       "  <thead>\n",
       "    <tr style=\"text-align: right;\">\n",
       "      <th></th>\n",
       "      <th>Institution Name</th>\n",
       "      <th>Institution Type</th>\n",
       "      <th>Charter Type</th>\n",
       "      <th>Headquarters</th>\n",
       "      <th>Failure Date</th>\n",
       "      <th>Insurance Fund</th>\n",
       "      <th>Transaction Type</th>\n",
       "      <th>Total Deposits</th>\n",
       "      <th>Total Assets</th>\n",
       "      <th>Estimated Loss</th>\n",
       "      <th>Fail_Year</th>\n",
       "      <th>Fail_Month</th>\n",
       "      <th>Fail_Day</th>\n",
       "      <th>Fail_Quarter</th>\n",
       "    </tr>\n",
       "  </thead>\n",
       "  <tbody>\n",
       "    <tr>\n",
       "      <th>0</th>\n",
       "      <td>BANK OF AMERICA TRUST CO.</td>\n",
       "      <td>COMMERCIAL BANK</td>\n",
       "      <td>STATE</td>\n",
       "      <td>PITTSBURGH, PA</td>\n",
       "      <td>1934-04-19</td>\n",
       "      <td>FDIC</td>\n",
       "      <td>PAYOUT</td>\n",
       "      <td>1064</td>\n",
       "      <td>1435.0</td>\n",
       "      <td>0.0</td>\n",
       "      <td>1934</td>\n",
       "      <td>4</td>\n",
       "      <td>19</td>\n",
       "      <td>2</td>\n",
       "    </tr>\n",
       "    <tr>\n",
       "      <th>1</th>\n",
       "      <td>FON DU LAC STATE BANK</td>\n",
       "      <td>COMMERCIAL BANK</td>\n",
       "      <td>STATE</td>\n",
       "      <td>EAST PEORIA, IL</td>\n",
       "      <td>1934-05-28</td>\n",
       "      <td>FDIC</td>\n",
       "      <td>PAYOUT</td>\n",
       "      <td>238</td>\n",
       "      <td>374.0</td>\n",
       "      <td>0.0</td>\n",
       "      <td>1934</td>\n",
       "      <td>5</td>\n",
       "      <td>28</td>\n",
       "      <td>2</td>\n",
       "    </tr>\n",
       "  </tbody>\n",
       "</table>\n",
       "</div>"
      ],
      "text/plain": [
       "            Institution Name Institution Type Charter Type     Headquarters  \\\n",
       "0  BANK OF AMERICA TRUST CO.  COMMERCIAL BANK        STATE   PITTSBURGH, PA   \n",
       "1      FON DU LAC STATE BANK  COMMERCIAL BANK        STATE  EAST PEORIA, IL   \n",
       "\n",
       "  Failure Date Insurance Fund Transaction Type  Total Deposits  Total Assets  \\\n",
       "0   1934-04-19           FDIC           PAYOUT            1064        1435.0   \n",
       "1   1934-05-28           FDIC           PAYOUT             238         374.0   \n",
       "\n",
       "   Estimated Loss  Fail_Year  Fail_Month  Fail_Day  Fail_Quarter  \n",
       "0             0.0       1934           4        19             2  \n",
       "1             0.0       1934           5        28             2  "
      ]
     },
     "execution_count": 48,
     "metadata": {},
     "output_type": "execute_result"
    }
   ],
   "source": [
    "df['Fail_Quarter'] = df['Failure Date'].dt.quarter\n",
    "df.head(2)"
   ]
  },
  {
   "cell_type": "markdown",
   "metadata": {},
   "source": [
    "#### 14) Find Fail_Quarter wise mean of Total Assets where Transaction type is 'PAYOUT'. Depict the result on a bar and a line chart superimposed"
   ]
  },
  {
   "cell_type": "code",
   "execution_count": 53,
   "metadata": {},
   "outputs": [
    {
     "data": {
      "text/plain": [
       "(581, 14)"
      ]
     },
     "execution_count": 53,
     "metadata": {},
     "output_type": "execute_result"
    }
   ],
   "source": [
    "df6 = df[df['Transaction Type']=='PAYOUT']\n",
    "df6.shape"
   ]
  },
  {
   "cell_type": "code",
   "execution_count": 55,
   "metadata": {},
   "outputs": [
    {
     "data": {
      "text/plain": [
       "Fail_Quarter\n",
       "1    20448239.0\n",
       "2    13468529.0\n",
       "3     6390738.0\n",
       "4     7373945.0\n",
       "Name: Total Assets, dtype: float64"
      ]
     },
     "execution_count": 55,
     "metadata": {},
     "output_type": "execute_result"
    }
   ],
   "source": [
    "df7 = df6.groupby('Fail_Quarter')['Total Assets'].sum()\n",
    "df7"
   ]
  },
  {
   "cell_type": "code",
   "execution_count": 56,
   "metadata": {},
   "outputs": [
    {
     "data": {
      "image/png": "[encoded data removed]",
      "text/plain": [
       "<Figure size 432x288 with 1 Axes>"
      ]
     },
     "metadata": {
      "needs_background": "light"
     },
     "output_type": "display_data"
    }
   ],
   "source": [
    "plt.bar(df7.index,df7,color='orange')\n",
    "plt.plot(df7.index,df7,color='green',marker='^')\n",
    "plt.show()"
   ]
  },
  {
   "cell_type": "markdown",
   "metadata": {},
   "source": [
    "#### 15) Find max of Total Assets and Total Deposits based on Fail Month where Charter Type is State and Institution Type is Commercial Bank. Depict the result on a bar chart, stacked bar chart and line chart separately"
   ]
  },
  {
   "cell_type": "code",
   "execution_count": 49,
   "metadata": {},
   "outputs": [
    {
     "data": {
      "text/plain": [
       "STATE            2033\n",
       "FEDERAL           760\n",
       "FEDERAL/STATE     691\n",
       "Name: Charter Type, dtype: int64"
      ]
     },
     "execution_count": 49,
     "metadata": {},
     "output_type": "execute_result"
    }
   ],
   "source": [
    "df['Charter Type'].value_counts()"
   ]
  },
  {
   "cell_type": "code",
   "execution_count": 57,
   "metadata": {},
   "outputs": [
    {
     "data": {
      "text/plain": [
       "COMMERCIAL BANK        2465\n",
       "SAVINGS ASSOCIATION     691\n",
       "SAVINGS BANK            328\n",
       "Name: Institution Type, dtype: int64"
      ]
     },
     "execution_count": 57,
     "metadata": {},
     "output_type": "execute_result"
    }
   ],
   "source": [
    "df['Institution Type'].value_counts()"
   ]
  },
  {
   "cell_type": "code",
   "execution_count": 58,
   "metadata": {},
   "outputs": [
    {
     "data": {
      "text/plain": [
       "(1705, 14)"
      ]
     },
     "execution_count": 58,
     "metadata": {},
     "output_type": "execute_result"
    }
   ],
   "source": [
    "df8 = df[(df['Charter Type']=='STATE') & (df['Institution Type']=='COMMERCIAL BANK')]\n",
    "df8.shape"
   ]
  },
  {
   "cell_type": "code",
   "execution_count": 59,
   "metadata": {},
   "outputs": [
    {
     "name": "stderr",
     "output_type": "stream",
     "text": [
      "E:\\Users\\lenovo\\Anaconda3\\lib\\site-packages\\ipykernel_launcher.py:1: FutureWarning: Indexing with multiple keys (implicitly converted to a tuple of keys) will be deprecated, use a list instead.\n",
      "  \"\"\"Entry point for launching an IPython kernel.\n"
     ]
    },
    {
     "data": {
      "text/html": [
       "<div>\n",
       "<style scoped>\n",
       "    .dataframe tbody tr th:only-of-type {\n",
       "        vertical-align: middle;\n",
       "    }\n",
       "\n",
       "    .dataframe tbody tr th {\n",
       "        vertical-align: top;\n",
       "    }\n",
       "\n",
       "    .dataframe thead th {\n",
       "        text-align: right;\n",
       "    }\n",
       "</style>\n",
       "<table border=\"1\" class=\"dataframe\">\n",
       "  <thead>\n",
       "    <tr style=\"text-align: right;\">\n",
       "      <th></th>\n",
       "      <th>Total Assets</th>\n",
       "      <th>Total Deposits</th>\n",
       "    </tr>\n",
       "    <tr>\n",
       "      <th>Fail_Month</th>\n",
       "      <th></th>\n",
       "      <th></th>\n",
       "    </tr>\n",
       "  </thead>\n",
       "  <tbody>\n",
       "    <tr>\n",
       "      <th>1</th>\n",
       "      <td>13428614.0</td>\n",
       "      <td>9406853</td>\n",
       "    </tr>\n",
       "    <tr>\n",
       "      <th>2</th>\n",
       "      <td>9581584.0</td>\n",
       "      <td>6615722</td>\n",
       "    </tr>\n",
       "    <tr>\n",
       "      <th>3</th>\n",
       "      <td>13382327.0</td>\n",
       "      <td>7575392</td>\n",
       "    </tr>\n",
       "    <tr>\n",
       "      <th>4</th>\n",
       "      <td>6038921.0</td>\n",
       "      <td>4265330</td>\n",
       "    </tr>\n",
       "    <tr>\n",
       "      <th>5</th>\n",
       "      <td>13111463.0</td>\n",
       "      <td>8775985</td>\n",
       "    </tr>\n",
       "    <tr>\n",
       "      <th>6</th>\n",
       "      <td>5654683.0</td>\n",
       "      <td>4130994</td>\n",
       "    </tr>\n",
       "    <tr>\n",
       "      <th>7</th>\n",
       "      <td>30698512.0</td>\n",
       "      <td>18941727</td>\n",
       "    </tr>\n",
       "    <tr>\n",
       "      <th>8</th>\n",
       "      <td>25455112.0</td>\n",
       "      <td>20072099</td>\n",
       "    </tr>\n",
       "    <tr>\n",
       "      <th>9</th>\n",
       "      <td>307021614.0</td>\n",
       "      <td>188260793</td>\n",
       "    </tr>\n",
       "    <tr>\n",
       "      <th>10</th>\n",
       "      <td>7781100.0</td>\n",
       "      <td>6145207</td>\n",
       "    </tr>\n",
       "    <tr>\n",
       "      <th>11</th>\n",
       "      <td>12779371.0</td>\n",
       "      <td>9653169</td>\n",
       "    </tr>\n",
       "    <tr>\n",
       "      <th>12</th>\n",
       "      <td>11438990.0</td>\n",
       "      <td>8558609</td>\n",
       "    </tr>\n",
       "  </tbody>\n",
       "</table>\n",
       "</div>"
      ],
      "text/plain": [
       "            Total Assets  Total Deposits\n",
       "Fail_Month                              \n",
       "1             13428614.0         9406853\n",
       "2              9581584.0         6615722\n",
       "3             13382327.0         7575392\n",
       "4              6038921.0         4265330\n",
       "5             13111463.0         8775985\n",
       "6              5654683.0         4130994\n",
       "7             30698512.0        18941727\n",
       "8             25455112.0        20072099\n",
       "9            307021614.0       188260793\n",
       "10             7781100.0         6145207\n",
       "11            12779371.0         9653169\n",
       "12            11438990.0         8558609"
      ]
     },
     "execution_count": 59,
     "metadata": {},
     "output_type": "execute_result"
    }
   ],
   "source": [
    "df9 = df.groupby('Fail_Month')['Total Assets','Total Deposits'].max()\n",
    "df9"
   ]
  },
  {
   "cell_type": "code",
   "execution_count": 60,
   "metadata": {},
   "outputs": [
    {
     "data": {
      "image/png": "[encoded data removed]",
      "text/plain": [
       "<Figure size 432x288 with 1 Axes>"
      ]
     },
     "metadata": {
      "needs_background": "light"
     },
     "output_type": "display_data"
    }
   ],
   "source": [
    "df9.plot(kind='bar')\n",
    "plt.show()"
   ]
  },
  {
   "cell_type": "code",
   "execution_count": 61,
   "metadata": {},
   "outputs": [
    {
     "data": {
      "image/png": "[encoded data removed]",
      "text/plain": [
       "<Figure size 432x288 with 1 Axes>"
      ]
     },
     "metadata": {
      "needs_background": "light"
     },
     "output_type": "display_data"
    }
   ],
   "source": [
    "df9.plot(kind='bar',stacked=True)\n",
    "plt.show()"
   ]
  },
  {
   "cell_type": "code",
   "execution_count": 62,
   "metadata": {},
   "outputs": [
    {
     "data": {
      "image/png": "[encoded data removed]",
      "text/plain": [
       "<Figure size 432x288 with 1 Axes>"
      ]
     },
     "metadata": {
      "needs_background": "light"
     },
     "output_type": "display_data"
    }
   ],
   "source": [
    "df9.plot(kind='line',marker='o')\n",
    "plt.show()"
   ]
  },
  {
   "cell_type": "markdown",
   "metadata": {},
   "source": [
    "#### 16) For the Q15, Figure out a way to depict Month Names instead of numbers on the x-axis depicting the same charts as above "
   ]
  },
  {
   "cell_type": "code",
   "execution_count": 63,
   "metadata": {},
   "outputs": [
    {
     "data": {
      "text/html": [
       "<div>\n",
       "<style scoped>\n",
       "    .dataframe tbody tr th:only-of-type {\n",
       "        vertical-align: middle;\n",
       "    }\n",
       "\n",
       "    .dataframe tbody tr th {\n",
       "        vertical-align: top;\n",
       "    }\n",
       "\n",
       "    .dataframe thead th {\n",
       "        text-align: right;\n",
       "    }\n",
       "</style>\n",
       "<table border=\"1\" class=\"dataframe\">\n",
       "  <thead>\n",
       "    <tr style=\"text-align: right;\">\n",
       "      <th></th>\n",
       "      <th>Total Assets</th>\n",
       "      <th>Total Deposits</th>\n",
       "      <th>Fail Month</th>\n",
       "    </tr>\n",
       "    <tr>\n",
       "      <th>Fail_Month</th>\n",
       "      <th></th>\n",
       "      <th></th>\n",
       "      <th></th>\n",
       "    </tr>\n",
       "  </thead>\n",
       "  <tbody>\n",
       "    <tr>\n",
       "      <th>1</th>\n",
       "      <td>13428614.0</td>\n",
       "      <td>9406853</td>\n",
       "      <td>1</td>\n",
       "    </tr>\n",
       "    <tr>\n",
       "      <th>2</th>\n",
       "      <td>9581584.0</td>\n",
       "      <td>6615722</td>\n",
       "      <td>2</td>\n",
       "    </tr>\n",
       "    <tr>\n",
       "      <th>3</th>\n",
       "      <td>13382327.0</td>\n",
       "      <td>7575392</td>\n",
       "      <td>3</td>\n",
       "    </tr>\n",
       "    <tr>\n",
       "      <th>4</th>\n",
       "      <td>6038921.0</td>\n",
       "      <td>4265330</td>\n",
       "      <td>4</td>\n",
       "    </tr>\n",
       "    <tr>\n",
       "      <th>5</th>\n",
       "      <td>13111463.0</td>\n",
       "      <td>8775985</td>\n",
       "      <td>5</td>\n",
       "    </tr>\n",
       "    <tr>\n",
       "      <th>6</th>\n",
       "      <td>5654683.0</td>\n",
       "      <td>4130994</td>\n",
       "      <td>6</td>\n",
       "    </tr>\n",
       "    <tr>\n",
       "      <th>7</th>\n",
       "      <td>30698512.0</td>\n",
       "      <td>18941727</td>\n",
       "      <td>7</td>\n",
       "    </tr>\n",
       "    <tr>\n",
       "      <th>8</th>\n",
       "      <td>25455112.0</td>\n",
       "      <td>20072099</td>\n",
       "      <td>8</td>\n",
       "    </tr>\n",
       "    <tr>\n",
       "      <th>9</th>\n",
       "      <td>307021614.0</td>\n",
       "      <td>188260793</td>\n",
       "      <td>9</td>\n",
       "    </tr>\n",
       "    <tr>\n",
       "      <th>10</th>\n",
       "      <td>7781100.0</td>\n",
       "      <td>6145207</td>\n",
       "      <td>10</td>\n",
       "    </tr>\n",
       "    <tr>\n",
       "      <th>11</th>\n",
       "      <td>12779371.0</td>\n",
       "      <td>9653169</td>\n",
       "      <td>11</td>\n",
       "    </tr>\n",
       "    <tr>\n",
       "      <th>12</th>\n",
       "      <td>11438990.0</td>\n",
       "      <td>8558609</td>\n",
       "      <td>12</td>\n",
       "    </tr>\n",
       "  </tbody>\n",
       "</table>\n",
       "</div>"
      ],
      "text/plain": [
       "            Total Assets  Total Deposits  Fail Month\n",
       "Fail_Month                                          \n",
       "1             13428614.0         9406853           1\n",
       "2              9581584.0         6615722           2\n",
       "3             13382327.0         7575392           3\n",
       "4              6038921.0         4265330           4\n",
       "5             13111463.0         8775985           5\n",
       "6              5654683.0         4130994           6\n",
       "7             30698512.0        18941727           7\n",
       "8             25455112.0        20072099           8\n",
       "9            307021614.0       188260793           9\n",
       "10             7781100.0         6145207          10\n",
       "11            12779371.0         9653169          11\n",
       "12            11438990.0         8558609          12"
      ]
     },
     "execution_count": 63,
     "metadata": {},
     "output_type": "execute_result"
    }
   ],
   "source": [
    "df9['Fail Month'] = df9.index\n",
    "df9"
   ]
  },
  {
   "cell_type": "code",
   "execution_count": 64,
   "metadata": {},
   "outputs": [
    {
     "data": {
      "text/html": [
       "<div>\n",
       "<style scoped>\n",
       "    .dataframe tbody tr th:only-of-type {\n",
       "        vertical-align: middle;\n",
       "    }\n",
       "\n",
       "    .dataframe tbody tr th {\n",
       "        vertical-align: top;\n",
       "    }\n",
       "\n",
       "    .dataframe thead th {\n",
       "        text-align: right;\n",
       "    }\n",
       "</style>\n",
       "<table border=\"1\" class=\"dataframe\">\n",
       "  <thead>\n",
       "    <tr style=\"text-align: right;\">\n",
       "      <th></th>\n",
       "      <th>Total Assets</th>\n",
       "      <th>Total Deposits</th>\n",
       "      <th>Fail Month</th>\n",
       "    </tr>\n",
       "    <tr>\n",
       "      <th>Fail_Month</th>\n",
       "      <th></th>\n",
       "      <th></th>\n",
       "      <th></th>\n",
       "    </tr>\n",
       "  </thead>\n",
       "  <tbody>\n",
       "    <tr>\n",
       "      <th>1</th>\n",
       "      <td>13428614.0</td>\n",
       "      <td>9406853</td>\n",
       "      <td>Jan</td>\n",
       "    </tr>\n",
       "    <tr>\n",
       "      <th>2</th>\n",
       "      <td>9581584.0</td>\n",
       "      <td>6615722</td>\n",
       "      <td>Feb</td>\n",
       "    </tr>\n",
       "    <tr>\n",
       "      <th>3</th>\n",
       "      <td>13382327.0</td>\n",
       "      <td>7575392</td>\n",
       "      <td>Mar</td>\n",
       "    </tr>\n",
       "    <tr>\n",
       "      <th>4</th>\n",
       "      <td>6038921.0</td>\n",
       "      <td>4265330</td>\n",
       "      <td>Apr</td>\n",
       "    </tr>\n",
       "    <tr>\n",
       "      <th>5</th>\n",
       "      <td>13111463.0</td>\n",
       "      <td>8775985</td>\n",
       "      <td>May</td>\n",
       "    </tr>\n",
       "    <tr>\n",
       "      <th>6</th>\n",
       "      <td>5654683.0</td>\n",
       "      <td>4130994</td>\n",
       "      <td>Jun</td>\n",
       "    </tr>\n",
       "    <tr>\n",
       "      <th>7</th>\n",
       "      <td>30698512.0</td>\n",
       "      <td>18941727</td>\n",
       "      <td>Jul</td>\n",
       "    </tr>\n",
       "    <tr>\n",
       "      <th>8</th>\n",
       "      <td>25455112.0</td>\n",
       "      <td>20072099</td>\n",
       "      <td>Aug</td>\n",
       "    </tr>\n",
       "    <tr>\n",
       "      <th>9</th>\n",
       "      <td>307021614.0</td>\n",
       "      <td>188260793</td>\n",
       "      <td>Sep</td>\n",
       "    </tr>\n",
       "    <tr>\n",
       "      <th>10</th>\n",
       "      <td>7781100.0</td>\n",
       "      <td>6145207</td>\n",
       "      <td>Oct</td>\n",
       "    </tr>\n",
       "    <tr>\n",
       "      <th>11</th>\n",
       "      <td>12779371.0</td>\n",
       "      <td>9653169</td>\n",
       "      <td>Nov</td>\n",
       "    </tr>\n",
       "    <tr>\n",
       "      <th>12</th>\n",
       "      <td>11438990.0</td>\n",
       "      <td>8558609</td>\n",
       "      <td>Dec</td>\n",
       "    </tr>\n",
       "  </tbody>\n",
       "</table>\n",
       "</div>"
      ],
      "text/plain": [
       "            Total Assets  Total Deposits Fail Month\n",
       "Fail_Month                                         \n",
       "1             13428614.0         9406853        Jan\n",
       "2              9581584.0         6615722        Feb\n",
       "3             13382327.0         7575392        Mar\n",
       "4              6038921.0         4265330        Apr\n",
       "5             13111463.0         8775985        May\n",
       "6              5654683.0         4130994        Jun\n",
       "7             30698512.0        18941727        Jul\n",
       "8             25455112.0        20072099        Aug\n",
       "9            307021614.0       188260793        Sep\n",
       "10             7781100.0         6145207        Oct\n",
       "11            12779371.0         9653169        Nov\n",
       "12            11438990.0         8558609        Dec"
      ]
     },
     "execution_count": 64,
     "metadata": {},
     "output_type": "execute_result"
    }
   ],
   "source": [
    "df9['Fail Month'] = df9['Fail Month'].replace({1:'Jan',2:'Feb',3:'Mar',4:'Apr',5:'May',6:'Jun',\n",
    "                       7:'Jul',8:'Aug',9:'Sep',10:'Oct',11:'Nov',12:'Dec'})\n",
    "df9"
   ]
  },
  {
   "cell_type": "code",
   "execution_count": 65,
   "metadata": {},
   "outputs": [
    {
     "data": {
      "text/html": [
       "<div>\n",
       "<style scoped>\n",
       "    .dataframe tbody tr th:only-of-type {\n",
       "        vertical-align: middle;\n",
       "    }\n",
       "\n",
       "    .dataframe tbody tr th {\n",
       "        vertical-align: top;\n",
       "    }\n",
       "\n",
       "    .dataframe thead th {\n",
       "        text-align: right;\n",
       "    }\n",
       "</style>\n",
       "<table border=\"1\" class=\"dataframe\">\n",
       "  <thead>\n",
       "    <tr style=\"text-align: right;\">\n",
       "      <th></th>\n",
       "      <th>Total Assets</th>\n",
       "      <th>Total Deposits</th>\n",
       "    </tr>\n",
       "    <tr>\n",
       "      <th>Fail Month</th>\n",
       "      <th></th>\n",
       "      <th></th>\n",
       "    </tr>\n",
       "  </thead>\n",
       "  <tbody>\n",
       "    <tr>\n",
       "      <th>Jan</th>\n",
       "      <td>13428614.0</td>\n",
       "      <td>9406853</td>\n",
       "    </tr>\n",
       "    <tr>\n",
       "      <th>Feb</th>\n",
       "      <td>9581584.0</td>\n",
       "      <td>6615722</td>\n",
       "    </tr>\n",
       "    <tr>\n",
       "      <th>Mar</th>\n",
       "      <td>13382327.0</td>\n",
       "      <td>7575392</td>\n",
       "    </tr>\n",
       "    <tr>\n",
       "      <th>Apr</th>\n",
       "      <td>6038921.0</td>\n",
       "      <td>4265330</td>\n",
       "    </tr>\n",
       "    <tr>\n",
       "      <th>May</th>\n",
       "      <td>13111463.0</td>\n",
       "      <td>8775985</td>\n",
       "    </tr>\n",
       "  </tbody>\n",
       "</table>\n",
       "</div>"
      ],
      "text/plain": [
       "            Total Assets  Total Deposits\n",
       "Fail Month                              \n",
       "Jan           13428614.0         9406853\n",
       "Feb            9581584.0         6615722\n",
       "Mar           13382327.0         7575392\n",
       "Apr            6038921.0         4265330\n",
       "May           13111463.0         8775985"
      ]
     },
     "execution_count": 65,
     "metadata": {},
     "output_type": "execute_result"
    }
   ],
   "source": [
    "df10 = df9.set_index('Fail Month')\n",
    "df10.head()"
   ]
  },
  {
   "cell_type": "code",
   "execution_count": 66,
   "metadata": {},
   "outputs": [
    {
     "data": {
      "image/png": "[encoded data removed]",
      "text/plain": [
       "<Figure size 432x288 with 1 Axes>"
      ]
     },
     "metadata": {
      "needs_background": "light"
     },
     "output_type": "display_data"
    }
   ],
   "source": [
    "df10.plot(kind='bar')\n",
    "plt.show()"
   ]
  },
  {
   "cell_type": "code",
   "execution_count": 67,
   "metadata": {},
   "outputs": [
    {
     "data": {
      "image/png": "[encoded data removed]",
      "text/plain": [
       "<Figure size 432x288 with 1 Axes>"
      ]
     },
     "metadata": {
      "needs_background": "light"
     },
     "output_type": "display_data"
    }
   ],
   "source": [
    "df10.plot(kind='bar',stacked=True)\n",
    "plt.show()"
   ]
  },
  {
   "cell_type": "code",
   "execution_count": 68,
   "metadata": {},
   "outputs": [
    {
     "data": {
      "image/png": "[encoded data removed]",
      "text/plain": [
       "<Figure size 432x288 with 1 Axes>"
      ]
     },
     "metadata": {
      "needs_background": "light"
     },
     "output_type": "display_data"
    }
   ],
   "source": [
    "df10.plot(kind='line',marker=\"o\")\n",
    "plt.show()"
   ]
  },
  {
   "cell_type": "code",
   "execution_count": 70,
   "metadata": {},
   "outputs": [],
   "source": [
    "# sns.barplot(data=df9,x='Total Assets',y='Total Deposits',hue='Fail Month')"
   ]
  },
  {
   "cell_type": "markdown",
   "metadata": {},
   "source": [
    "#### Q17) Find min of Total Assets and mean of Estimated Loss based on Quarter and Insurance Fund where Total Deposits is over 50000 and Institution Type is Savings Bank. Depict the result on a bar chart and stacked bar chart separately"
   ]
  },
  {
   "cell_type": "code",
   "execution_count": 95,
   "metadata": {},
   "outputs": [
    {
     "name": "stdout",
     "output_type": "stream",
     "text": [
      "['COMMERCIAL BANK' 'SAVINGS BANK' 'SAVINGS ASSOCIATION']\n"
     ]
    }
   ],
   "source": [
    "print(df['Institution Type'].unique())"
   ]
  },
  {
   "cell_type": "code",
   "execution_count": 98,
   "metadata": {},
   "outputs": [
    {
     "data": {
      "text/html": [
       "<div>\n",
       "<style scoped>\n",
       "    .dataframe tbody tr th:only-of-type {\n",
       "        vertical-align: middle;\n",
       "    }\n",
       "\n",
       "    .dataframe tbody tr th {\n",
       "        vertical-align: top;\n",
       "    }\n",
       "\n",
       "    .dataframe thead th {\n",
       "        text-align: right;\n",
       "    }\n",
       "</style>\n",
       "<table border=\"1\" class=\"dataframe\">\n",
       "  <thead>\n",
       "    <tr style=\"text-align: right;\">\n",
       "      <th></th>\n",
       "      <th>Institution Name</th>\n",
       "      <th>Institution Type</th>\n",
       "      <th>Charter Type</th>\n",
       "      <th>Headquarters</th>\n",
       "      <th>Failure Date</th>\n",
       "      <th>Insurance Fund</th>\n",
       "      <th>Transaction Type</th>\n",
       "      <th>Total Deposits</th>\n",
       "      <th>Total Assets</th>\n",
       "      <th>Estimated Loss</th>\n",
       "      <th>Fail_Year</th>\n",
       "      <th>Fail_Month</th>\n",
       "      <th>Fail_Day</th>\n",
       "      <th>Fail_Quarter</th>\n",
       "    </tr>\n",
       "  </thead>\n",
       "  <tbody>\n",
       "    <tr>\n",
       "      <th>2978</th>\n",
       "      <td>WASHINGTON MUTUAL BANK</td>\n",
       "      <td>SAVINGS BANK</td>\n",
       "      <td>STATE</td>\n",
       "      <td>HENDERSON, NV</td>\n",
       "      <td>2008-09-25</td>\n",
       "      <td>DIF</td>\n",
       "      <td>ACQUISITION</td>\n",
       "      <td>188260793</td>\n",
       "      <td>307021614.0</td>\n",
       "      <td>0.0</td>\n",
       "      <td>2008</td>\n",
       "      <td>9</td>\n",
       "      <td>25</td>\n",
       "      <td>3</td>\n",
       "    </tr>\n",
       "  </tbody>\n",
       "</table>\n",
       "</div>"
      ],
      "text/plain": [
       "            Institution Name Institution Type Charter Type   Headquarters  \\\n",
       "2978  WASHINGTON MUTUAL BANK     SAVINGS BANK        STATE  HENDERSON, NV   \n",
       "\n",
       "     Failure Date Insurance Fund Transaction Type  Total Deposits  \\\n",
       "2978   2008-09-25            DIF      ACQUISITION       188260793   \n",
       "\n",
       "      Total Assets  Estimated Loss  Fail_Year  Fail_Month  Fail_Day  \\\n",
       "2978   307021614.0             0.0       2008           9        25   \n",
       "\n",
       "      Fail_Quarter  \n",
       "2978             3  "
      ]
     },
     "execution_count": 98,
     "metadata": {},
     "output_type": "execute_result"
    }
   ],
   "source": [
    "df[df['Total Deposits']==df['Total Deposits'].max()]"
   ]
  },
  {
   "cell_type": "code",
   "execution_count": 99,
   "metadata": {},
   "outputs": [
    {
     "data": {
      "text/plain": [
       "(256, 14)"
      ]
     },
     "execution_count": 99,
     "metadata": {},
     "output_type": "execute_result"
    }
   ],
   "source": [
    "da1 = df[(df['Total Deposits']>50000) & (df['Institution Type']=='SAVINGS BANK')]\n",
    "da1.shape"
   ]
  },
  {
   "cell_type": "code",
   "execution_count": 101,
   "metadata": {},
   "outputs": [
    {
     "name": "stderr",
     "output_type": "stream",
     "text": [
      "E:\\Users\\lenovo\\Anaconda3\\lib\\site-packages\\ipykernel_launcher.py:1: FutureWarning: Indexing with multiple keys (implicitly converted to a tuple of keys) will be deprecated, use a list instead.\n",
      "  \"\"\"Entry point for launching an IPython kernel.\n"
     ]
    },
    {
     "data": {
      "text/html": [
       "<div>\n",
       "<style scoped>\n",
       "    .dataframe tbody tr th:only-of-type {\n",
       "        vertical-align: middle;\n",
       "    }\n",
       "\n",
       "    .dataframe tbody tr th {\n",
       "        vertical-align: top;\n",
       "    }\n",
       "\n",
       "    .dataframe thead th {\n",
       "        text-align: right;\n",
       "    }\n",
       "</style>\n",
       "<table border=\"1\" class=\"dataframe\">\n",
       "  <thead>\n",
       "    <tr style=\"text-align: right;\">\n",
       "      <th></th>\n",
       "      <th></th>\n",
       "      <th>Total Assets</th>\n",
       "      <th>Estimated Loss</th>\n",
       "    </tr>\n",
       "    <tr>\n",
       "      <th>Fail_Quarter</th>\n",
       "      <th>Insurance Fund</th>\n",
       "      <th></th>\n",
       "      <th></th>\n",
       "    </tr>\n",
       "  </thead>\n",
       "  <tbody>\n",
       "    <tr>\n",
       "      <th rowspan=\"5\" valign=\"top\">1</th>\n",
       "      <th>BIF</th>\n",
       "      <td>83699.0</td>\n",
       "      <td>181692.625000</td>\n",
       "    </tr>\n",
       "    <tr>\n",
       "      <th>DIF</th>\n",
       "      <td>88031.0</td>\n",
       "      <td>141051.142857</td>\n",
       "    </tr>\n",
       "    <tr>\n",
       "      <th>FDIC</th>\n",
       "      <td>880658.0</td>\n",
       "      <td>288210.000000</td>\n",
       "    </tr>\n",
       "    <tr>\n",
       "      <th>FSLIC</th>\n",
       "      <td>76623.0</td>\n",
       "      <td>8357.500000</td>\n",
       "    </tr>\n",
       "    <tr>\n",
       "      <th>RTC</th>\n",
       "      <td>61213.0</td>\n",
       "      <td>118194.580000</td>\n",
       "    </tr>\n",
       "    <tr>\n",
       "      <th rowspan=\"4\" valign=\"top\">2</th>\n",
       "      <th>BIF</th>\n",
       "      <td>223665.0</td>\n",
       "      <td>168884.666667</td>\n",
       "    </tr>\n",
       "    <tr>\n",
       "      <th>DIF</th>\n",
       "      <td>166456.0</td>\n",
       "      <td>739775.000000</td>\n",
       "    </tr>\n",
       "    <tr>\n",
       "      <th>FSLIC</th>\n",
       "      <td>89114.0</td>\n",
       "      <td>0.000000</td>\n",
       "    </tr>\n",
       "    <tr>\n",
       "      <th>RTC</th>\n",
       "      <td>43367.0</td>\n",
       "      <td>58924.488372</td>\n",
       "    </tr>\n",
       "    <tr>\n",
       "      <th rowspan=\"5\" valign=\"top\">3</th>\n",
       "      <th>BIF</th>\n",
       "      <td>65213.0</td>\n",
       "      <td>85796.454545</td>\n",
       "    </tr>\n",
       "    <tr>\n",
       "      <th>DIF</th>\n",
       "      <td>64344.0</td>\n",
       "      <td>703467.631579</td>\n",
       "    </tr>\n",
       "    <tr>\n",
       "      <th>FSLIC</th>\n",
       "      <td>206490.0</td>\n",
       "      <td>0.000000</td>\n",
       "    </tr>\n",
       "    <tr>\n",
       "      <th>RTC</th>\n",
       "      <td>61158.0</td>\n",
       "      <td>121766.423077</td>\n",
       "    </tr>\n",
       "    <tr>\n",
       "      <th>SAIF</th>\n",
       "      <td>68981.0</td>\n",
       "      <td>143934.000000</td>\n",
       "    </tr>\n",
       "    <tr>\n",
       "      <th rowspan=\"5\" valign=\"top\">4</th>\n",
       "      <th>BIF</th>\n",
       "      <td>103814.0</td>\n",
       "      <td>102896.111111</td>\n",
       "    </tr>\n",
       "    <tr>\n",
       "      <th>DIF</th>\n",
       "      <td>65498.0</td>\n",
       "      <td>412569.083333</td>\n",
       "    </tr>\n",
       "    <tr>\n",
       "      <th>FDIC</th>\n",
       "      <td>525481.0</td>\n",
       "      <td>63568.000000</td>\n",
       "    </tr>\n",
       "    <tr>\n",
       "      <th>FSLIC</th>\n",
       "      <td>63780.0</td>\n",
       "      <td>0.000000</td>\n",
       "    </tr>\n",
       "    <tr>\n",
       "      <th>RTC</th>\n",
       "      <td>50912.0</td>\n",
       "      <td>150097.172414</td>\n",
       "    </tr>\n",
       "  </tbody>\n",
       "</table>\n",
       "</div>"
      ],
      "text/plain": [
       "                             Total Assets  Estimated Loss\n",
       "Fail_Quarter Insurance Fund                              \n",
       "1            BIF                  83699.0   181692.625000\n",
       "             DIF                  88031.0   141051.142857\n",
       "             FDIC                880658.0   288210.000000\n",
       "             FSLIC                76623.0     8357.500000\n",
       "             RTC                  61213.0   118194.580000\n",
       "2            BIF                 223665.0   168884.666667\n",
       "             DIF                 166456.0   739775.000000\n",
       "             FSLIC                89114.0        0.000000\n",
       "             RTC                  43367.0    58924.488372\n",
       "3            BIF                  65213.0    85796.454545\n",
       "             DIF                  64344.0   703467.631579\n",
       "             FSLIC               206490.0        0.000000\n",
       "             RTC                  61158.0   121766.423077\n",
       "             SAIF                 68981.0   143934.000000\n",
       "4            BIF                 103814.0   102896.111111\n",
       "             DIF                  65498.0   412569.083333\n",
       "             FDIC                525481.0    63568.000000\n",
       "             FSLIC                63780.0        0.000000\n",
       "             RTC                  50912.0   150097.172414"
      ]
     },
     "execution_count": 101,
     "metadata": {},
     "output_type": "execute_result"
    }
   ],
   "source": [
    "da2 = da1.groupby(['Fail_Quarter','Insurance Fund'])['Total Assets',\n",
    "    'Estimated Loss'].agg({'Total Assets':min, 'Estimated Loss':np.mean})\n",
    "da2"
   ]
  },
  {
   "cell_type": "code",
   "execution_count": 107,
   "metadata": {},
   "outputs": [
    {
     "data": {
      "image/png": "[encoded data removed]",
      "text/plain": [
       "<Figure size 720x720 with 1 Axes>"
      ]
     },
     "metadata": {
      "needs_background": "light"
     },
     "output_type": "display_data"
    }
   ],
   "source": [
    "# plt.figure(figsize=(8,8))\n",
    "da2.plot(kind='bar',figsize=(10,10))\n",
    "plt.xticks(rotation=90)\n",
    "plt.show()"
   ]
  },
  {
   "cell_type": "code",
   "execution_count": 105,
   "metadata": {},
   "outputs": [
    {
     "data": {
      "text/plain": [
       "<Figure size 576x576 with 0 Axes>"
      ]
     },
     "metadata": {},
     "output_type": "display_data"
    },
    {
     "data": {
      "image/png": "[encoded data removed]",
      "text/plain": [
       "<Figure size 432x288 with 1 Axes>"
      ]
     },
     "metadata": {
      "needs_background": "light"
     },
     "output_type": "display_data"
    }
   ],
   "source": [
    "plt.figure(figsize=(8,8))\n",
    "da2.plot(kind='bar',stacked=True)\n",
    "plt.xticks(rotation=90)\n",
    "plt.show()"
   ]
  },
  {
   "cell_type": "markdown",
   "metadata": {},
   "source": [
    "#### Q18) Find min of Total Deposits and max of Estimated Loss based on Charter Type and Fail Year where Fail_Year> 2010 and Institution Name is not First State Bank .Depict the result on a stacked bar chart( unstacking is not required)\n"
   ]
  },
  {
   "cell_type": "code",
   "execution_count": 80,
   "metadata": {},
   "outputs": [
    {
     "data": {
      "text/html": [
       "<div>\n",
       "<style scoped>\n",
       "    .dataframe tbody tr th:only-of-type {\n",
       "        vertical-align: middle;\n",
       "    }\n",
       "\n",
       "    .dataframe tbody tr th {\n",
       "        vertical-align: top;\n",
       "    }\n",
       "\n",
       "    .dataframe thead th {\n",
       "        text-align: right;\n",
       "    }\n",
       "</style>\n",
       "<table border=\"1\" class=\"dataframe\">\n",
       "  <thead>\n",
       "    <tr style=\"text-align: right;\">\n",
       "      <th></th>\n",
       "      <th>Institution Name</th>\n",
       "      <th>Institution Type</th>\n",
       "      <th>Charter Type</th>\n",
       "      <th>Headquarters</th>\n",
       "      <th>Failure Date</th>\n",
       "      <th>Insurance Fund</th>\n",
       "      <th>Transaction Type</th>\n",
       "      <th>Total Deposits</th>\n",
       "      <th>Total Assets</th>\n",
       "      <th>Estimated Loss</th>\n",
       "      <th>Fail_Year</th>\n",
       "      <th>Fail_Month</th>\n",
       "      <th>Fail_Day</th>\n",
       "      <th>Fail_Quarter</th>\n",
       "    </tr>\n",
       "  </thead>\n",
       "  <tbody>\n",
       "    <tr>\n",
       "      <th>1397</th>\n",
       "      <td>FIRST REPUBLICBANK-HARLINGEN, N.A.</td>\n",
       "      <td>COMMERCIAL BANK</td>\n",
       "      <td>FEDERAL</td>\n",
       "      <td>HARLINGEN, TX</td>\n",
       "      <td>1988-07-29</td>\n",
       "      <td>FDIC</td>\n",
       "      <td>ACQUISITION</td>\n",
       "      <td>193137</td>\n",
       "      <td>213556.0</td>\n",
       "      <td>47337.0</td>\n",
       "      <td>1988</td>\n",
       "      <td>7</td>\n",
       "      <td>29</td>\n",
       "      <td>3</td>\n",
       "    </tr>\n",
       "  </tbody>\n",
       "</table>\n",
       "</div>"
      ],
      "text/plain": [
       "                        Institution Name Institution Type Charter Type  \\\n",
       "1397  FIRST REPUBLICBANK-HARLINGEN, N.A.  COMMERCIAL BANK      FEDERAL   \n",
       "\n",
       "       Headquarters Failure Date Insurance Fund Transaction Type  \\\n",
       "1397  HARLINGEN, TX   1988-07-29           FDIC      ACQUISITION   \n",
       "\n",
       "      Total Deposits  Total Assets  Estimated Loss  Fail_Year  Fail_Month  \\\n",
       "1397          193137      213556.0         47337.0       1988           7   \n",
       "\n",
       "      Fail_Day  Fail_Quarter  \n",
       "1397        29             3  "
      ]
     },
     "execution_count": 80,
     "metadata": {},
     "output_type": "execute_result"
    }
   ],
   "source": [
    "df.sample()"
   ]
  },
  {
   "cell_type": "code",
   "execution_count": 81,
   "metadata": {},
   "outputs": [
    {
     "data": {
      "text/plain": [
       "FIRST STATE BANK           37\n",
       "THE FIRST STATE BANK       18\n",
       "FARMERS STATE BANK         16\n",
       "CITIZENS STATE BANK        10\n",
       "FIRST FED. S & L ASSOC.     9\n",
       "                           ..\n",
       "ALASKA CONTINENTAL BANK     1\n",
       "SUPERIOR FSA                1\n",
       "EMPIRE SAVINGS BANK         1\n",
       "TONEY BROTHERS BANK         1\n",
       "FIRSTIER BANK               1\n",
       "Name: Institution Name, Length: 3185, dtype: int64"
      ]
     },
     "execution_count": 81,
     "metadata": {},
     "output_type": "execute_result"
    }
   ],
   "source": [
    "df['Institution Name'].value_counts()"
   ]
  },
  {
   "cell_type": "code",
   "execution_count": 110,
   "metadata": {},
   "outputs": [
    {
     "data": {
      "text/plain": [
       "(198, 14)"
      ]
     },
     "execution_count": 110,
     "metadata": {},
     "output_type": "execute_result"
    }
   ],
   "source": [
    "da3 = df[(df['Institution Name']!='FIRST STATE BANK') & (df['Fail_Year']>2010)]\n",
    "da3.shape"
   ]
  },
  {
   "cell_type": "code",
   "execution_count": 111,
   "metadata": {},
   "outputs": [
    {
     "name": "stderr",
     "output_type": "stream",
     "text": [
      "E:\\Users\\lenovo\\Anaconda3\\lib\\site-packages\\ipykernel_launcher.py:1: FutureWarning: Indexing with multiple keys (implicitly converted to a tuple of keys) will be deprecated, use a list instead.\n",
      "  \"\"\"Entry point for launching an IPython kernel.\n"
     ]
    },
    {
     "data": {
      "text/html": [
       "<div>\n",
       "<style scoped>\n",
       "    .dataframe tbody tr th:only-of-type {\n",
       "        vertical-align: middle;\n",
       "    }\n",
       "\n",
       "    .dataframe tbody tr th {\n",
       "        vertical-align: top;\n",
       "    }\n",
       "\n",
       "    .dataframe thead th {\n",
       "        text-align: right;\n",
       "    }\n",
       "</style>\n",
       "<table border=\"1\" class=\"dataframe\">\n",
       "  <thead>\n",
       "    <tr style=\"text-align: right;\">\n",
       "      <th></th>\n",
       "      <th></th>\n",
       "      <th>Total Deposits</th>\n",
       "      <th>Estimated Loss</th>\n",
       "    </tr>\n",
       "    <tr>\n",
       "      <th>Charter Type</th>\n",
       "      <th>Fail_Year</th>\n",
       "      <th></th>\n",
       "      <th></th>\n",
       "    </tr>\n",
       "  </thead>\n",
       "  <tbody>\n",
       "    <tr>\n",
       "      <th rowspan=\"5\" valign=\"top\">FEDERAL</th>\n",
       "      <th>2011</th>\n",
       "      <td>20980</td>\n",
       "      <td>113222.0</td>\n",
       "    </tr>\n",
       "    <tr>\n",
       "      <th>2012</th>\n",
       "      <td>45149</td>\n",
       "      <td>33403.0</td>\n",
       "    </tr>\n",
       "    <tr>\n",
       "      <th>2013</th>\n",
       "      <td>142640</td>\n",
       "      <td>684468.0</td>\n",
       "    </tr>\n",
       "    <tr>\n",
       "      <th>2014</th>\n",
       "      <td>51878</td>\n",
       "      <td>55588.0</td>\n",
       "    </tr>\n",
       "    <tr>\n",
       "      <th>2015</th>\n",
       "      <td>3705</td>\n",
       "      <td>5971.0</td>\n",
       "    </tr>\n",
       "    <tr>\n",
       "      <th rowspan=\"4\" valign=\"top\">FEDERAL/STATE</th>\n",
       "      <th>2011</th>\n",
       "      <td>123950</td>\n",
       "      <td>323395.0</td>\n",
       "    </tr>\n",
       "    <tr>\n",
       "      <th>2012</th>\n",
       "      <td>17548</td>\n",
       "      <td>88796.0</td>\n",
       "    </tr>\n",
       "    <tr>\n",
       "      <th>2013</th>\n",
       "      <td>87196</td>\n",
       "      <td>8692.0</td>\n",
       "    </tr>\n",
       "    <tr>\n",
       "      <th>2014</th>\n",
       "      <td>68722</td>\n",
       "      <td>19768.0</td>\n",
       "    </tr>\n",
       "    <tr>\n",
       "      <th rowspan=\"7\" valign=\"top\">STATE</th>\n",
       "      <th>2011</th>\n",
       "      <td>30542</td>\n",
       "      <td>279845.0</td>\n",
       "    </tr>\n",
       "    <tr>\n",
       "      <th>2012</th>\n",
       "      <td>21809</td>\n",
       "      <td>357575.0</td>\n",
       "    </tr>\n",
       "    <tr>\n",
       "      <th>2013</th>\n",
       "      <td>19579</td>\n",
       "      <td>136481.0</td>\n",
       "    </tr>\n",
       "    <tr>\n",
       "      <th>2014</th>\n",
       "      <td>18221</td>\n",
       "      <td>102957.0</td>\n",
       "    </tr>\n",
       "    <tr>\n",
       "      <th>2015</th>\n",
       "      <td>25480</td>\n",
       "      <td>101770.0</td>\n",
       "    </tr>\n",
       "    <tr>\n",
       "      <th>2016</th>\n",
       "      <td>20148</td>\n",
       "      <td>0.0</td>\n",
       "    </tr>\n",
       "    <tr>\n",
       "      <th>2017</th>\n",
       "      <td>123817</td>\n",
       "      <td>0.0</td>\n",
       "    </tr>\n",
       "  </tbody>\n",
       "</table>\n",
       "</div>"
      ],
      "text/plain": [
       "                         Total Deposits  Estimated Loss\n",
       "Charter Type  Fail_Year                                \n",
       "FEDERAL       2011                20980        113222.0\n",
       "              2012                45149         33403.0\n",
       "              2013               142640        684468.0\n",
       "              2014                51878         55588.0\n",
       "              2015                 3705          5971.0\n",
       "FEDERAL/STATE 2011               123950        323395.0\n",
       "              2012                17548         88796.0\n",
       "              2013                87196          8692.0\n",
       "              2014                68722         19768.0\n",
       "STATE         2011                30542        279845.0\n",
       "              2012                21809        357575.0\n",
       "              2013                19579        136481.0\n",
       "              2014                18221        102957.0\n",
       "              2015                25480        101770.0\n",
       "              2016                20148             0.0\n",
       "              2017               123817             0.0"
      ]
     },
     "execution_count": 111,
     "metadata": {},
     "output_type": "execute_result"
    }
   ],
   "source": [
    "da4 = da3.groupby(['Charter Type','Fail_Year'])['Total Deposits','Estimated Loss'].agg({'Total Deposits':min,'Estimated Loss':max})\n",
    "da4"
   ]
  },
  {
   "cell_type": "code",
   "execution_count": 84,
   "metadata": {},
   "outputs": [
    {
     "data": {
      "image/png": "[encoded data removed]",
      "text/plain": [
       "<Figure size 432x288 with 1 Axes>"
      ]
     },
     "metadata": {
      "needs_background": "light"
     },
     "output_type": "display_data"
    }
   ],
   "source": [
    "da4.plot(kind='bar',stacked=True)\n",
    "plt.xticks(rotation=90)\n",
    "plt.show()"
   ]
  },
  {
   "cell_type": "code",
   "execution_count": 85,
   "metadata": {},
   "outputs": [],
   "source": [
    "# da4.unstack(level=0).plot(kind='bar',stacked=True)\n",
    "# plt.xticks(rotation=90)\n",
    "# plt.show()"
   ]
  },
  {
   "cell_type": "markdown",
   "metadata": {},
   "source": [
    "#### 19) Between the dates 1st Jan 2010 and 31st Dec 2015, find the mean of Total Deposits and Total Assets based on Charter Type and InstitutionType.Depict the result on a stacked bar chart(unstacking is not required)"
   ]
  },
  {
   "cell_type": "code",
   "execution_count": 88,
   "metadata": {},
   "outputs": [
    {
     "data": {
      "text/plain": [
       "array(['1934-04-19T00:00:00.000000000', '1934-05-28T00:00:00.000000000',\n",
       "       '1934-07-18T00:00:00.000000000', ...,\n",
       "       '2016-09-23T00:00:00.000000000', '2017-01-13T00:00:00.000000000',\n",
       "       '2017-01-27T00:00:00.000000000'], dtype='datetime64[ns]')"
      ]
     },
     "execution_count": 88,
     "metadata": {},
     "output_type": "execute_result"
    }
   ],
   "source": [
    "df['Failure Date'].unique()"
   ]
  },
  {
   "cell_type": "code",
   "execution_count": 92,
   "metadata": {},
   "outputs": [
    {
     "data": {
      "text/plain": [
       "(346, 14)"
      ]
     },
     "execution_count": 92,
     "metadata": {},
     "output_type": "execute_result"
    }
   ],
   "source": [
    "da5 = df[df[\"Failure Date\"].between('2010-01-01','2015-12-31')]\n",
    "da5.shape"
   ]
  },
  {
   "cell_type": "code",
   "execution_count": 93,
   "metadata": {},
   "outputs": [
    {
     "name": "stderr",
     "output_type": "stream",
     "text": [
      "E:\\Users\\lenovo\\Anaconda3\\lib\\site-packages\\ipykernel_launcher.py:1: FutureWarning: Indexing with multiple keys (implicitly converted to a tuple of keys) will be deprecated, use a list instead.\n",
      "  \"\"\"Entry point for launching an IPython kernel.\n"
     ]
    },
    {
     "data": {
      "text/html": [
       "<div>\n",
       "<style scoped>\n",
       "    .dataframe tbody tr th:only-of-type {\n",
       "        vertical-align: middle;\n",
       "    }\n",
       "\n",
       "    .dataframe tbody tr th {\n",
       "        vertical-align: top;\n",
       "    }\n",
       "\n",
       "    .dataframe thead th {\n",
       "        text-align: right;\n",
       "    }\n",
       "</style>\n",
       "<table border=\"1\" class=\"dataframe\">\n",
       "  <thead>\n",
       "    <tr style=\"text-align: right;\">\n",
       "      <th></th>\n",
       "      <th></th>\n",
       "      <th>Total Assets</th>\n",
       "      <th>Total Deposits</th>\n",
       "    </tr>\n",
       "    <tr>\n",
       "      <th>Charter Type</th>\n",
       "      <th>Institution Type</th>\n",
       "      <th></th>\n",
       "      <th></th>\n",
       "    </tr>\n",
       "  </thead>\n",
       "  <tbody>\n",
       "    <tr>\n",
       "      <th>FEDERAL</th>\n",
       "      <th>COMMERCIAL BANK</th>\n",
       "      <td>466781.021277</td>\n",
       "      <td>420667.000000</td>\n",
       "    </tr>\n",
       "    <tr>\n",
       "      <th>FEDERAL/STATE</th>\n",
       "      <th>SAVINGS ASSOCIATION</th>\n",
       "      <td>479816.227273</td>\n",
       "      <td>404681.090909</td>\n",
       "    </tr>\n",
       "    <tr>\n",
       "      <th rowspan=\"2\" valign=\"top\">STATE</th>\n",
       "      <th>COMMERCIAL BANK</th>\n",
       "      <td>329685.208000</td>\n",
       "      <td>300305.060000</td>\n",
       "    </tr>\n",
       "    <tr>\n",
       "      <th>SAVINGS BANK</th>\n",
       "      <td>538621.555556</td>\n",
       "      <td>432025.740741</td>\n",
       "    </tr>\n",
       "  </tbody>\n",
       "</table>\n",
       "</div>"
      ],
      "text/plain": [
       "                                    Total Assets  Total Deposits\n",
       "Charter Type  Institution Type                                  \n",
       "FEDERAL       COMMERCIAL BANK      466781.021277   420667.000000\n",
       "FEDERAL/STATE SAVINGS ASSOCIATION  479816.227273   404681.090909\n",
       "STATE         COMMERCIAL BANK      329685.208000   300305.060000\n",
       "              SAVINGS BANK         538621.555556   432025.740741"
      ]
     },
     "execution_count": 93,
     "metadata": {},
     "output_type": "execute_result"
    }
   ],
   "source": [
    "da6 = da5.groupby(['Charter Type','Institution Type'])['Total Assets','Total Deposits'].mean()\n",
    "da6"
   ]
  },
  {
   "cell_type": "code",
   "execution_count": 117,
   "metadata": {},
   "outputs": [
    {
     "data": {
      "image/png": "[encoded data removed]",
      "text/plain": [
       "<Figure size 432x288 with 1 Axes>"
      ]
     },
     "metadata": {
      "needs_background": "light"
     },
     "output_type": "display_data"
    }
   ],
   "source": [
    "da6.plot(kind='bar',stacked='bar')\n",
    "plt.xticks(rotation=90)\n",
    "plt.show()"
   ]
  },
  {
   "cell_type": "markdown",
   "metadata": {},
   "source": [
    "#### 20) Depict Charter Type based on Fail Quarter on a countplot"
   ]
  },
  {
   "cell_type": "code",
   "execution_count": 118,
   "metadata": {},
   "outputs": [
    {
     "data": {
      "image/png": "[encoded data removed]",
      "text/plain": [
       "<Figure size 432x288 with 1 Axes>"
      ]
     },
     "metadata": {
      "needs_background": "light"
     },
     "output_type": "display_data"
    }
   ],
   "source": [
    "sns.countplot('Charter Type', data=df, hue='Fail_Quarter')\n",
    "plt.show()"
   ]
  },
  {
   "cell_type": "code",
   "execution_count": null,
   "metadata": {},
   "outputs": [],
   "source": []
  },
  {
   "cell_type": "markdown",
   "metadata": {},
   "source": [
    "#### 21) Depict Total Assets vs Total Deposits on a joint plot with scatter kind where Fail Year>=2012 and Institution Type is  Savings Association "
   ]
  },
  {
   "cell_type": "code",
   "execution_count": 112,
   "metadata": {},
   "outputs": [
    {
     "data": {
      "text/plain": [
       "(785, 14)"
      ]
     },
     "execution_count": 112,
     "metadata": {},
     "output_type": "execute_result"
    }
   ],
   "source": [
    "df_r2 = df[(df['Fail_Year']>=2012) | (df['Institution Type']=='SAVINGS ASSOCIATION')]\n",
    "df_r2.shape"
   ]
  },
  {
   "cell_type": "code",
   "execution_count": 116,
   "metadata": {},
   "outputs": [
    {
     "data": {
      "image/png": "[encoded data removed]",
      "text/plain": [
       "<Figure size 432x432 with 3 Axes>"
      ]
     },
     "metadata": {
      "needs_background": "light"
     },
     "output_type": "display_data"
    }
   ],
   "source": [
    "sns.jointplot('Total Assets','Total Deposits',data=df_r2)\n",
    "plt.show()"
   ]
  },
  {
   "cell_type": "code",
   "execution_count": null,
   "metadata": {},
   "outputs": [],
   "source": []
  },
  {
   "cell_type": "code",
   "execution_count": null,
   "metadata": {},
   "outputs": [],
   "source": []
  }
 ],
 "metadata": {
  "kernelspec": {
   "display_name": "Python 3",
   "language": "python",
   "name": "python3"
  },
  "language_info": {
   "codemirror_mode": {
    "name": "ipython",
    "version": 3
   },
   "file_extension": ".py",
   "mimetype": "text/x-python",
   "name": "python",
   "nbconvert_exporter": "python",
   "pygments_lexer": "ipython3",
   "version": "3.8.5"
  }
 },
 "nbformat": 4,
 "nbformat_minor": 2
}
