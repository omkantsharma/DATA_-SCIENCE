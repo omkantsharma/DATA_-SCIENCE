{
 "cells": [
  {
   "cell_type": "markdown",
   "id": "e8a14f0d",
   "metadata": {},
   "source": [
    "# Numpy\n",
    "   - strand for Numerical Python, its a core scientific computing Library, provide multidimensional array. It also has functions for working in domain of linear algebra, fourier transform, and matrices. NumPy was created in 2005 by Travis Oliphant. It is an open source project and you can use it freely.\n",
    "https://numpy.org/doc/stable/index.html"
   ]
  },
  {
   "cell_type": "code",
   "execution_count": 1,
   "id": "a63b52e0",
   "metadata": {},
   "outputs": [],
   "source": [
    "import numpy as np            # alias np here for numpy"
   ]
  },
  {
   "cell_type": "code",
   "execution_count": 2,
   "id": "48464b93",
   "metadata": {},
   "outputs": [
    {
     "data": {
      "text/plain": [
       "'1.20.3'"
      ]
     },
     "execution_count": 2,
     "metadata": {},
     "output_type": "execute_result"
    }
   ],
   "source": [
    "# cheching numpy Version\n",
    "np.__version__"
   ]
  },
  {
   "cell_type": "markdown",
   "id": "0408bed5",
   "metadata": {},
   "source": [
    "#### Main function to create array is - np.array()\n",
    "- numpy used to work with arrays. the array object in numpy is called ndarray.create a numpy ndarray object by using the array() "
   ]
  },
  {
   "cell_type": "markdown",
   "id": "c96d13cd",
   "metadata": {},
   "source": [
    "### - Dimensions in Arrays                                         ( very Importent )\n",
    " - A dimension in array is one level of array depth(nested array).\n",
    " - Nested array : are arrays that have arrays as their elemnts\n",
    " - only [] brackets are use to make 1,2,n dimentional array  with np.array([[]])-in paranthesis use brackets"
   ]
  },
  {
   "cell_type": "markdown",
   "id": "9592d15f",
   "metadata": {},
   "source": [
    "# 0 dimensional array  \n",
    "- not much used \n",
    "- 0-D arrays or Scalars, are the elements in an array, \n",
    "- each value in an array is a 0-D array"
   ]
  },
  {
   "cell_type": "markdown",
   "id": "7c36e381",
   "metadata": {},
   "source": [
    "- Single item in paranthesis without square[]brackets or\n",
    "- but with round()prantheses and curly{}braces can't make multidimensional array"
   ]
  },
  {
   "cell_type": "code",
   "execution_count": 3,
   "id": "c67347bb",
   "metadata": {},
   "outputs": [
    {
     "name": "stdout",
     "output_type": "stream",
     "text": [
      "42\n"
     ]
    },
    {
     "data": {
      "text/plain": [
       "(None, 0)"
      ]
     },
     "execution_count": 3,
     "metadata": {},
     "output_type": "execute_result"
    }
   ],
   "source": [
    "a=np.array(42)  # single item in paranthesis without square[]brackets\n",
    "print(a),a.ndim"
   ]
  },
  {
   "cell_type": "code",
   "execution_count": 4,
   "id": "7941ed4e",
   "metadata": {},
   "outputs": [
    {
     "data": {
      "text/plain": [
       "(array(42), array([42]), array(43), 0, 1, 0)"
      ]
     },
     "execution_count": 4,
     "metadata": {},
     "output_type": "execute_result"
    }
   ],
   "source": [
    "a=np.array(42)                     # 0d\n",
    "b=np.array([42])                   # 1d \n",
    "c=np.array(((43)))                 # 0d \n",
    "a,b,c,a.ndim,b.ndim,c.ndim"
   ]
  },
  {
   "cell_type": "markdown",
   "id": "b5d3aac1",
   "metadata": {},
   "source": [
    "# 1 dimensional array\n",
    "## 1d = [0d,0d,0d]         - ( in 1d has one, two and more set of elements\\0 d in square Bracket )\n",
    "#### np.arange()\n",
    "- methods\n",
    "- np.array(), np.zeros(), np.ones(), np.empty(), \n",
    "- np.arange(), np.linspace(), dtype()"
   ]
  },
  {
   "cell_type": "code",
   "execution_count": 5,
   "id": "ab6de974",
   "metadata": {},
   "outputs": [
    {
     "name": "stdout",
     "output_type": "stream",
     "text": [
      "heterogeous- ['11' 'om' 'True']\n",
      "homogenous- [11 22 33 44]\n"
     ]
    }
   ],
   "source": [
    "# heterogeneous\n",
    "hetero=np.array([11,'om',True])\n",
    "print('heterogeous-',hetero)\n",
    "# homogeneous\n",
    "homo=np.array([11,22,33,44])\n",
    "print('homogenous-',homo)"
   ]
  },
  {
   "cell_type": "markdown",
   "id": "ef3a20a9",
   "metadata": {},
   "source": [
    "### Create array with list, tuple, dictionary, set , string with different data types"
   ]
  },
  {
   "cell_type": "raw",
   "id": "c81fd2f6",
   "metadata": {},
   "source": []
  },
  {
   "cell_type": "markdown",
   "id": "fd3c490a",
   "metadata": {},
   "source": [
    "###### Method 1 - in np.array(variable)"
   ]
  },
  {
   "cell_type": "code",
   "execution_count": 6,
   "id": "4cc11f3c",
   "metadata": {},
   "outputs": [],
   "source": [
    "# create array with list, tuple, dictionary, set , string with different data types\n",
    "list_arr=[1,22,33,11,43,56,4]\n",
    "tuple_arr=(1,3,4455,8,65,4,24) \n",
    "set_arr= {22,33,44,55,66,2,9}\n",
    "dict_arr={1:100,2:200,3:'IBM'}\n",
    "str_arr='np','numpy', 'pandas', 'matplotlib', 'seaborn'"
   ]
  },
  {
   "cell_type": "code",
   "execution_count": 7,
   "id": "67e73a15",
   "metadata": {},
   "outputs": [
    {
     "name": "stdout",
     "output_type": "stream",
     "text": [
      "list_a [ 1 22 33 11 43 56  4]\n"
     ]
    },
    {
     "data": {
      "text/plain": [
       "array([ 1, 22, 33, 11, 43, 56,  4])"
      ]
     },
     "execution_count": 7,
     "metadata": {},
     "output_type": "execute_result"
    }
   ],
   "source": [
    "l_a=np.array(list_arr)\n",
    "print('list_a',l_a)\n",
    "l_a"
   ]
  },
  {
   "cell_type": "code",
   "execution_count": 8,
   "id": "462b62f8",
   "metadata": {},
   "outputs": [
    {
     "name": "stdout",
     "output_type": "stream",
     "text": [
      "tuple_a [   1    3 4455    8   65    4   24]\n"
     ]
    },
    {
     "data": {
      "text/plain": [
       "array([   1,    3, 4455,    8,   65,    4,   24])"
      ]
     },
     "execution_count": 8,
     "metadata": {},
     "output_type": "execute_result"
    }
   ],
   "source": [
    "t_a=np.array(tuple_arr)\n",
    "print('tuple_a',t_a)\n",
    "t_a"
   ]
  },
  {
   "cell_type": "code",
   "execution_count": 9,
   "id": "e171b95f",
   "metadata": {},
   "outputs": [
    {
     "name": "stdout",
     "output_type": "stream",
     "text": [
      "set_a {33, 66, 2, 22, 55, 9, 44}\n"
     ]
    },
    {
     "data": {
      "text/plain": [
       "array({33, 66, 2, 22, 55, 9, 44}, dtype=object)"
      ]
     },
     "execution_count": 9,
     "metadata": {},
     "output_type": "execute_result"
    }
   ],
   "source": [
    "s_t=np.array(set_arr)\n",
    "print('set_a',s_t)\n",
    "s_t"
   ]
  },
  {
   "cell_type": "code",
   "execution_count": 10,
   "id": "bdb1cbff",
   "metadata": {},
   "outputs": [
    {
     "name": "stdout",
     "output_type": "stream",
     "text": [
      "dict_a {1: 100, 2: 200, 3: 'IBM'}\n"
     ]
    },
    {
     "data": {
      "text/plain": [
       "array({1: 100, 2: 200, 3: 'IBM'}, dtype=object)"
      ]
     },
     "execution_count": 10,
     "metadata": {},
     "output_type": "execute_result"
    }
   ],
   "source": [
    "d_t=np.array(dict_arr)\n",
    "print('dict_a',d_t)\n",
    "d_t"
   ]
  },
  {
   "cell_type": "code",
   "execution_count": 11,
   "id": "61755f92",
   "metadata": {},
   "outputs": [
    {
     "name": "stdout",
     "output_type": "stream",
     "text": [
      "string_a ['np' 'numpy' 'pandas' 'matplotlib' 'seaborn']\n"
     ]
    },
    {
     "data": {
      "text/plain": [
       "array(['np', 'numpy', 'pandas', 'matplotlib', 'seaborn'], dtype='<U10')"
      ]
     },
     "execution_count": 11,
     "metadata": {},
     "output_type": "execute_result"
    }
   ],
   "source": [
    "s_t=np.array(str_arr)\n",
    "print('string_a',s_t)\n",
    "s_t"
   ]
  },
  {
   "cell_type": "markdown",
   "id": "182e2d91",
   "metadata": {},
   "source": [
    "###### Method 2 - np.array({([value1,value2,value3])})  -\n",
    "- direct create str,dict,list,set,tuple inside () of np.array"
   ]
  },
  {
   "cell_type": "code",
   "execution_count": 12,
   "id": "eb03089f",
   "metadata": {},
   "outputs": [
    {
     "data": {
      "text/plain": [
       "(array([ 1, 22, 33, 11, 43, 56,  4]),\n",
       " array([   1,    3, 4455,    8,   65,    4,   24]),\n",
       " array({33, 66, 2, 22, 55, 9, 44}, dtype=object),\n",
       " array({1: 100, 2: 200, 3: 'IBM'}, dtype=object),\n",
       " array(['np', 'numpy', 'pandas', 'matplotlib', 'seaborn'], dtype='<U10'))"
      ]
     },
     "execution_count": 12,
     "metadata": {},
     "output_type": "execute_result"
    }
   ],
   "source": [
    "# create array with list, tuple, dictionary, set , string with different data types\n",
    "list_arr=np.array([1,22,33,11,43,56,4])\n",
    "tuple_arr=np.array((1,3,4455,8,65,4,24))\n",
    "set_arr=np.array({22,33,44,55,66,2,9})\n",
    "dict_arr=np.array({1:100,2:200,3:'IBM'})\n",
    "str_arr=np.array(('np','numpy', 'pandas', 'matplotlib', 'seaborn'))  \n",
    "list_arr,tuple_arr,set_arr,dict_arr,str_arr"
   ]
  },
  {
   "cell_type": "markdown",
   "id": "c3124422",
   "metadata": {},
   "source": [
    "# Check array's dimension, type, datatype, size, shape\n",
    "- v.ndim, type(v),v.dtype,  v.size, v.shape "
   ]
  },
  {
   "cell_type": "code",
   "execution_count": 13,
   "id": "69c84732",
   "metadata": {},
   "outputs": [
    {
     "name": "stdout",
     "output_type": "stream",
     "text": [
      "list- [1, 22, 33, 11, 43, 56, 4] <class 'list'>\n",
      "--------------------------------------------\n",
      "array- [ 1 22 33 11 43 56  4] ,dimension- 1 ,type- <class 'numpy.ndarray'>\n",
      "dtype- int32 Size- 7 shape- (7,)\n"
     ]
    }
   ],
   "source": [
    "l=[1,22,33,11,43,56,4]\n",
    "print('list-',l, type(l))\n",
    "print('--------------------------------------------')\n",
    "arr_1d=np.array([1,22,33,11,43,56,4])\n",
    "print('array-',arr_1d,',dimension-',arr_1d.ndim,',type-',type(arr_1d))\n",
    "print('dtype-',arr_1d.dtype,'Size-',arr_1d.size,'shape-',arr_1d.shape)"
   ]
  },
  {
   "cell_type": "markdown",
   "id": "59c6a784",
   "metadata": {},
   "source": [
    "https://www.geeksforgeeks.org/data-type-object-dtype-numpy-python/"
   ]
  },
  {
   "cell_type": "markdown",
   "id": "e8d241bf",
   "metadata": {},
   "source": [
    "- defference bitween list and array \n",
    "- Memory Management - fast processing in mathematical calculations, less time comsumming, developed in c++ language"
   ]
  },
  {
   "cell_type": "code",
   "execution_count": 14,
   "id": "68cde9ac",
   "metadata": {},
   "outputs": [
    {
     "name": "stdout",
     "output_type": "stream",
     "text": [
      "type(list)- <class 'list'>\n",
      "type(array)- <class 'numpy.ndarray'>\n",
      "[1, 22, 33, 11, 43, 56, 4]\n",
      "[ 1 22 33 11 43 56  4]\n",
      "list size in  bytes- 196\n",
      "array size in bytes- 160\n",
      "8\n",
      "7\n",
      "7\n",
      "56\n"
     ]
    },
    {
     "data": {
      "text/plain": [
       "[1, 22, 33, 11, 43, 56, 4]"
      ]
     },
     "execution_count": 14,
     "metadata": {},
     "output_type": "execute_result"
    }
   ],
   "source": [
    "# import sys - get size of, \n",
    "l=[1,22,33,11,43,56,4]\n",
    "arr=np.array([1,22,33,11,43,56,4],dtype='int64')\n",
    "print('type(list)-',type(l))\n",
    "print('type(array)-',type(arr))\n",
    "print(l)\n",
    "print(arr)\n",
    "import sys\n",
    "print('list size in  bytes-',sys.getsizeof(1)*len(l))     \n",
    "print('array size in bytes-',sys.getsizeof(arr))     # bytes\n",
    "print(arr.itemsize)\n",
    "print(arr.size)\n",
    "print(len(arr))\n",
    "print(arr.itemsize*arr.size)    # bytes\n",
    "aaa=arr.tolist()\n",
    "aaa"
   ]
  },
  {
   "cell_type": "markdown",
   "id": "85ebba49",
   "metadata": {},
   "source": [
    "# 2 dimensional array \n",
    "## 2d = [1d,1d,1d]         - ( in 2d has one, two and more set of elements\\1 d in square Bracket )\n",
    "\n",
    "#### np.arange()\n"
   ]
  },
  {
   "cell_type": "code",
   "execution_count": 15,
   "id": "d90cb324",
   "metadata": {},
   "outputs": [
    {
     "name": "stdout",
     "output_type": "stream",
     "text": [
      "2\n"
     ]
    }
   ],
   "source": [
    "z=np.array([[]])\n",
    "print(z.ndim)"
   ]
  },
  {
   "cell_type": "code",
   "execution_count": 16,
   "id": "8c52d3c9",
   "metadata": {},
   "outputs": [
    {
     "data": {
      "text/plain": [
       "([[1, 2, 233, 44, 55], [33, 44, 55, 22, 11]],\n",
       " array([[  1,   2, 233,  44,  55],\n",
       "        [ 33,  44,  55,  22,  11]]))"
      ]
     },
     "execution_count": 16,
     "metadata": {},
     "output_type": "execute_result"
    }
   ],
   "source": [
    "l=[[1,2,233,44,55],[33,44,55,22,11]]\n",
    "arr_2d=np.array([[1,2,233,44,55],[33,44,55,22,11]])\n",
    "l,arr_2d"
   ]
  },
  {
   "cell_type": "markdown",
   "id": "483be335",
   "metadata": {},
   "source": [
    "### v.ndim, type(v),v.dtype,  v.size, v.shape - 2D"
   ]
  },
  {
   "cell_type": "code",
   "execution_count": 17,
   "id": "284a4c72",
   "metadata": {},
   "outputs": [
    {
     "name": "stdout",
     "output_type": "stream",
     "text": [
      "dimension- 2 ,type- <class 'numpy.ndarray'>\n",
      "dtype- int32 Size- 10 shape- (2, 5)\n"
     ]
    }
   ],
   "source": [
    "print('dimension-',arr_2d.ndim,',type-',type(arr_2d))\n",
    "print('dtype-',arr_2d.dtype,'Size-',arr_2d.size,'shape-',arr_2d.shape)"
   ]
  },
  {
   "cell_type": "markdown",
   "id": "5f689f5b",
   "metadata": {},
   "source": [
    "# 3 dimensional array \n",
    "## 3d = [2d,2d,2d]         - ( in 3d has one, two and more set of elements\\2 d in square Bracket )\n",
    "#### np.arange()"
   ]
  },
  {
   "cell_type": "code",
   "execution_count": 18,
   "id": "4c4c0e1c",
   "metadata": {},
   "outputs": [
    {
     "data": {
      "text/plain": [
       "array([[[ 1, 22,  3,  3],\n",
       "        [ 4,  5,  6,  7]],\n",
       "\n",
       "       [[ 1, 22,  3,  3],\n",
       "        [ 4,  5,  6,  7]],\n",
       "\n",
       "       [[ 1, 22,  3,  3],\n",
       "        [ 4,  5,  6,  7]],\n",
       "\n",
       "       [[ 1, 22,  3,  3],\n",
       "        [ 4,  5,  6,  7]],\n",
       "\n",
       "       [[ 1, 22,  3,  3],\n",
       "        [ 4,  5,  6,  7]],\n",
       "\n",
       "       [[ 1, 22,  3,  3],\n",
       "        [ 4,  5,  6,  7]]])"
      ]
     },
     "execution_count": 18,
     "metadata": {},
     "output_type": "execute_result"
    }
   ],
   "source": [
    "arr_3d=np.array([[[1,22,3,3],[4,5,6,7]],\n",
    "                 [[1,22,3,3],[4,5,6,7]],\n",
    "                 [[1,22,3,3],[4,5,6,7]],\n",
    "                 [[1,22,3,3],[4,5,6,7]],\n",
    "                 [[1,22,3,3],[4,5,6,7]],\n",
    "                 [[1,22,3,3],[4,5,6,7]]])\n",
    "arr_3d"
   ]
  },
  {
   "cell_type": "code",
   "execution_count": 19,
   "id": "cf4fc351",
   "metadata": {},
   "outputs": [
    {
     "name": "stdout",
     "output_type": "stream",
     "text": [
      "dimension- 3 ,type- <class 'numpy.ndarray'>\n",
      "dtype- int32 Size- 48 shape- (6, 2, 4)\n"
     ]
    }
   ],
   "source": [
    "print('dimension-',arr_3d.ndim,',type-',type(arr_3d))\n",
    "print('dtype-',arr_3d.dtype,'Size-',arr_3d.size,'shape-',arr_3d.shape)"
   ]
  },
  {
   "cell_type": "markdown",
   "id": "cb8bd93d",
   "metadata": {},
   "source": [
    "# 4 dimensional array \n",
    "## 4d = [3d,3d,3d]         - ( in 4d has two or more set of 3 d )\n",
    "#### np.arange()"
   ]
  },
  {
   "cell_type": "code",
   "execution_count": 20,
   "id": "35291a0d",
   "metadata": {},
   "outputs": [
    {
     "data": {
      "text/plain": [
       "array([[[[ 1, 22,  3,  3],\n",
       "         [ 4,  5,  6,  7]],\n",
       "\n",
       "        [[ 1, 22,  3,  3],\n",
       "         [ 4,  5,  6,  7]]],\n",
       "\n",
       "\n",
       "       [[[ 1, 22,  3,  3],\n",
       "         [ 4,  5,  6,  7]],\n",
       "\n",
       "        [[ 1, 22,  3,  3],\n",
       "         [ 4,  5,  6,  7]]],\n",
       "\n",
       "\n",
       "       [[[ 1, 22,  3,  3],\n",
       "         [ 4,  5,  6,  7]],\n",
       "\n",
       "        [[ 1, 22,  3,  3],\n",
       "         [ 4,  5,  6,  7]]],\n",
       "\n",
       "\n",
       "       [[[ 1, 22,  3,  3],\n",
       "         [ 4,  5,  6,  7]],\n",
       "\n",
       "        [[ 1, 22,  3,  3],\n",
       "         [ 4,  5,  6,  7]]]])"
      ]
     },
     "execution_count": 20,
     "metadata": {},
     "output_type": "execute_result"
    }
   ],
   "source": [
    "arr_4d=np.array([[[[1,22,3,3],[4,5,6,7]],[[1,22,3,3],[4,5,6,7]]],         \n",
    "                [[[1,22,3,3],[4,5,6,7]],[[1,22,3,3],[4,5,6,7]]],\n",
    "                [[[1,22,3,3],[4,5,6,7]],[[1,22,3,3],[4,5,6,7]]],\n",
    "                [[[1,22,3,3],[4,5,6,7]],[[1,22,3,3],[4,5,6,7]]]])\n",
    "arr_4d"
   ]
  },
  {
   "cell_type": "code",
   "execution_count": 21,
   "id": "7500aa47",
   "metadata": {},
   "outputs": [
    {
     "name": "stdout",
     "output_type": "stream",
     "text": [
      "dimension- 4 ,type- <class 'numpy.ndarray'>\n",
      "dtype- int32 Size- 64 shape- (4, 2, 2, 4)\n"
     ]
    }
   ],
   "source": [
    "print('dimension-',arr_4d.ndim,',type-',type(arr_4d))\n",
    "print('dtype-',arr_4d.dtype,'Size-',arr_4d.size,'shape-',arr_4d.shape)"
   ]
  },
  {
   "cell_type": "markdown",
   "id": "1abc3972",
   "metadata": {},
   "source": [
    "https://www.nature.com/articles/s41586-020-2649-2"
   ]
  },
  {
   "cell_type": "markdown",
   "id": "947ca611",
   "metadata": {},
   "source": [
    "# 5 dimensional array \n",
    "## 5d = [4d,4d,4d]         - ( in 5d has two or more set of 4 d )\n",
    "#### np.arange()"
   ]
  },
  {
   "cell_type": "code",
   "execution_count": 22,
   "id": "10338391",
   "metadata": {},
   "outputs": [
    {
     "data": {
      "text/plain": [
       "array([[[[[ 1, 22,  3,  3],\n",
       "          [ 4,  5,  6,  7]],\n",
       "\n",
       "         [[ 1, 22,  3,  3],\n",
       "          [ 4,  5,  6,  7]]]],\n",
       "\n",
       "\n",
       "\n",
       "       [[[[ 1, 22,  3,  3],\n",
       "          [ 4,  5,  6,  7]],\n",
       "\n",
       "         [[ 1, 22,  3,  3],\n",
       "          [ 4,  5,  6,  7]]]]])"
      ]
     },
     "execution_count": 22,
     "metadata": {},
     "output_type": "execute_result"
    }
   ],
   "source": [
    "arr_5d=np.array([[         \n",
    "                  [[[1,22,3,3],[4,5,6,7]],[[1,22,3,3],[4,5,6,7]]]],\n",
    "                 [     \n",
    "                  [[[1,22,3,3],[4,5,6,7]],[[1,22,3,3],[4,5,6,7]]]]])\n",
    "arr_5d"
   ]
  },
  {
   "cell_type": "code",
   "execution_count": 23,
   "id": "e14948bb",
   "metadata": {},
   "outputs": [
    {
     "name": "stdout",
     "output_type": "stream",
     "text": [
      "dimension- 5 ,type- <class 'numpy.ndarray'>\n",
      "dtype- int32 Size- 32 shape- (2, 1, 2, 2, 4)\n"
     ]
    }
   ],
   "source": [
    "print('dimension-',arr_5d.ndim,',type-',type(arr_5d))\n",
    "print('dtype-',arr_5d.dtype,'Size-',arr_5d.size,'shape-',arr_5d.shape)"
   ]
  },
  {
   "cell_type": "markdown",
   "id": "36a14342",
   "metadata": {},
   "source": [
    "# High dimensional array\n",
    "- an array can have any number of demensions.\n",
    "- when the array is created, you can define the no. of dimensions by using the ndmin argument.\n"
   ]
  },
  {
   "cell_type": "code",
   "execution_count": 24,
   "id": "e4560d0e",
   "metadata": {},
   "outputs": [
    {
     "name": "stdout",
     "output_type": "stream",
     "text": [
      "[[[[[[1 2 3]]]]]]\n",
      "number of Dimensions: 6\n"
     ]
    }
   ],
   "source": [
    "arr_6d=np.array([1,2,3],ndmin=6)\n",
    "print(arr_6d)\n",
    "print('number of Dimensions:',arr_6d.ndim)"
   ]
  },
  {
   "cell_type": "code",
   "execution_count": 25,
   "id": "ca81159d",
   "metadata": {},
   "outputs": [
    {
     "name": "stdout",
     "output_type": "stream",
     "text": [
      "dimension- 6 ,type- <class 'numpy.ndarray'>\n",
      "dtype- int32 Size- 3 shape- (1, 1, 1, 1, 1, 3)\n"
     ]
    }
   ],
   "source": [
    "print('dimension-',arr_6d.ndim,',type-',type(arr_6d))\n",
    "print('dtype-',arr_6d.dtype,'Size-',arr_6d.size,'shape-',arr_6d.shape)"
   ]
  },
  {
   "cell_type": "markdown",
   "id": "31409ead",
   "metadata": {},
   "source": [
    "# Other funtions  for creating arrays\n",
    "- np.array(), np.zeros(), np.ones(), np.empty(), \n",
    "- np.arange(), np.linspace(), np.random.randint(), np.full() dtype()"
   ]
  },
  {
   "cell_type": "code",
   "execution_count": 26,
   "id": "f516f515",
   "metadata": {},
   "outputs": [
    {
     "name": "stdout",
     "output_type": "stream",
     "text": [
      "acm1_1- [11 22  3 44 55]\n",
      "acm1_2- [11 22  3 44 55]\n"
     ]
    }
   ],
   "source": [
    "# np.array([value1,value2,value3])   \n",
    "acm1_1=np.array([11,22,3,44,55])\n",
    "print('acm1_1-',acm1_1)\n",
    "list_=[11,22,3,44,55]\n",
    "acm1_2=np.array(list_)\n",
    "print('acm1_2-',acm1_2)"
   ]
  },
  {
   "cell_type": "code",
   "execution_count": 27,
   "id": "21620682",
   "metadata": {},
   "outputs": [
    {
     "name": "stdout",
     "output_type": "stream",
     "text": [
      "acm2_1 [0 1 2 3 4 5]\n",
      "acm2_2 [1 4 7]\n"
     ]
    }
   ],
   "source": [
    "#acm= array create methods\n",
    "# np.arange(value) \n",
    "acm2_1=np.arange(6)        \n",
    "print('acm2_1',acm2_1)\n",
    "acm2_2=np.arange(1,10,3)    #  np.arange(value[start],value[end],value[step]) \n",
    "print('acm2_2',acm2_2)"
   ]
  },
  {
   "cell_type": "code",
   "execution_count": null,
   "id": "33f6a349",
   "metadata": {},
   "outputs": [],
   "source": []
  },
  {
   "cell_type": "code",
   "execution_count": 28,
   "id": "061db76a",
   "metadata": {},
   "outputs": [
    {
     "data": {
      "text/plain": [
       "array([1., 1., 1., 1., 1., 1.])"
      ]
     },
     "execution_count": 28,
     "metadata": {},
     "output_type": "execute_result"
    }
   ],
   "source": [
    "# np.ones()\n",
    "acm3=np.ones(6)\n",
    "acm3"
   ]
  },
  {
   "cell_type": "code",
   "execution_count": 29,
   "id": "99cd40a7",
   "metadata": {},
   "outputs": [
    {
     "data": {
      "text/plain": [
       "array([0., 0., 0., 0., 0., 0.])"
      ]
     },
     "execution_count": 29,
     "metadata": {},
     "output_type": "execute_result"
    }
   ],
   "source": [
    "# np.zeros() \n",
    "acm4=np.zeros(6)\n",
    "acm4"
   ]
  },
  {
   "cell_type": "raw",
   "id": "218f7fe0",
   "metadata": {},
   "source": [
    "difference between np.empty and np.zeros\n",
    "The empty() function is used to create a new array of given shape and type, without initializing entries. Shape of the empty array, e.g., (2, 3) or 2. Desired output data-type for the array, e.g, numpy. int8.\n",
    "\n",
    "The numpy.zeros() function returns a new array of given shape and type, with zeros. Syntax: numpy.zeros(shape, dtype = None, order = 'C')"
   ]
  },
  {
   "cell_type": "code",
   "execution_count": 30,
   "id": "a40020db",
   "metadata": {},
   "outputs": [
    {
     "data": {
      "text/plain": [
       "array([0.00000000e+000, 0.00000000e+000, 0.00000000e+000, 0.00000000e+000,\n",
       "       0.00000000e+000, 0.00000000e+000, 3.05414073e-305])"
      ]
     },
     "execution_count": 30,
     "metadata": {},
     "output_type": "execute_result"
    }
   ],
   "source": [
    "# np.empty()\n",
    "acm5=np.empty(7)\n",
    "acm5"
   ]
  },
  {
   "cell_type": "code",
   "execution_count": 31,
   "id": "3bdd8178",
   "metadata": {},
   "outputs": [
    {
     "data": {
      "text/plain": [
       "array([ 4.,  7., 10.])"
      ]
     },
     "execution_count": 31,
     "metadata": {},
     "output_type": "execute_result"
    }
   ],
   "source": [
    "# np.linspace()   \n",
    "acm6=np.linspace(4,10 ,num=3 )  # np.linspace(start,end,num= value_ammounts)\n",
    "acm6"
   ]
  },
  {
   "cell_type": "code",
   "execution_count": 32,
   "id": "b1565fc9",
   "metadata": {},
   "outputs": [
    {
     "data": {
      "text/plain": [
       "array([1, 3, 5, 7, 9])"
      ]
     },
     "execution_count": 32,
     "metadata": {},
     "output_type": "execute_result"
    }
   ],
   "source": [
    "#np.arrange()\n",
    "acm7=np.arange(1,10,2)    #  np.arange(value[start],value[end],value[step]) \n",
    "acm7"
   ]
  },
  {
   "cell_type": "code",
   "execution_count": 33,
   "id": "289da67c",
   "metadata": {},
   "outputs": [
    {
     "data": {
      "text/plain": [
       "array([68, 35, 45, 96, 86, 20, 18, 48, 46, 69, 23, 71, 56,  5,  1, 19, 35,\n",
       "       40, 19, 59, 60, 57, 60, 72, 18, 96, 96, 23, 29, 59, 50, 83, 13, 17,\n",
       "       91, 36, 99, 22,  2, 46, 11, 79, 45,  4, 99, 71, 25,  4, 90, 12, 73,\n",
       "       80, 53, 87, 67, 10, 72, 18, 67, 35, 94, 63, 26, 71, 49, 22, 67, 53,\n",
       "       18, 24, 73, 81, 72, 15, 62, 86, 94,  4, 86,  1, 50, 10, 24, 53, 85,\n",
       "       63, 63, 37, 78, 42, 85, 79,  1, 78, 76,  8, 52, 48, 57, 60])"
      ]
     },
     "execution_count": 33,
     "metadata": {},
     "output_type": "execute_result"
    }
   ],
   "source": [
    "# np.random.randint()\n",
    "import random    # here we importing random module\n",
    "acm8=np.random.randint(1,100,100)  # (value[start],value[end],value[amount])\n",
    "acm8"
   ]
  },
  {
   "cell_type": "code",
   "execution_count": 34,
   "id": "e848a68c",
   "metadata": {},
   "outputs": [
    {
     "data": {
      "text/plain": [
       "array([[[10, 10, 10],\n",
       "        [10, 10, 10]],\n",
       "\n",
       "       [[10, 10, 10],\n",
       "        [10, 10, 10]]])"
      ]
     },
     "execution_count": 34,
     "metadata": {},
     "output_type": "execute_result"
    }
   ],
   "source": [
    "# np.full()\n",
    "acm9=np.full((2,2,3),10) #np.full((set amt.,row,columns),ele no.) fix numpy array with fix number\n",
    "acm9"
   ]
  },
  {
   "cell_type": "markdown",
   "id": "de1b2144",
   "metadata": {},
   "source": [
    "- https://numpy.org/doc/stable/reference/random/generated/numpy.random.randint.html"
   ]
  },
  {
   "cell_type": "markdown",
   "id": "0d9eaa86",
   "metadata": {},
   "source": [
    "# 2 dimensional array/ 3 dimensional array / 4 dimensional array / n dimensional array\n",
    "\n",
    "- if you want to create 2d,3d,4d with the help of these below mentioned method (like np.zeros(), np.ones() so on..) without  reshape and resize function could not be posible             (very importent)\n",
    "- np.array(), np.zeros(), np.ones(), np.empty(), \n",
    "- np.arange(), np.linspace(), np.random.randint(), np.full() dtype()\n"
   ]
  },
  {
   "cell_type": "markdown",
   "id": "dcac2367",
   "metadata": {},
   "source": [
    "# reshape & resize numpy help to create 2D,3D from 1D \n",
    "- first does factors of 1D array then use see in example \n",
    "- 100= factor - (50,2),(25,4),(20,5)\n",
    "- v.reshape(rows,columns) and v.resize(rows,columns)"
   ]
  },
  {
   "cell_type": "markdown",
   "id": "600cfadc",
   "metadata": {},
   "source": [
    "https://www.geeksforgeeks.org/difference-between-reshape-and-resize-method-in-numpy/#:~:text=reshape()%20and%20numpy.,directly%20changes%20the%20original%20array."
   ]
  },
  {
   "cell_type": "markdown",
   "id": "66741cc9",
   "metadata": {},
   "source": [
    "https://numpy.org/doc/stable/reference/arrays.ndarray.html"
   ]
  },
  {
   "cell_type": "code",
   "execution_count": null,
   "id": "9372ac7c",
   "metadata": {},
   "outputs": [],
   "source": []
  },
  {
   "cell_type": "markdown",
   "id": "930937ef",
   "metadata": {},
   "source": [
    "# v.ravel()"
   ]
  },
  {
   "cell_type": "code",
   "execution_count": 35,
   "id": "8c38d40b",
   "metadata": {},
   "outputs": [
    {
     "data": {
      "text/plain": [
       "array([ 1,  2,  3,  4,  5, 65, 43, 23, 22, 11])"
      ]
     },
     "execution_count": 35,
     "metadata": {},
     "output_type": "execute_result"
    }
   ],
   "source": [
    "a=np.array([[1,2,3,4,5],[65,43,23,22,11]])\n",
    "a.ravel() #  convert any dimensional array in  1d array"
   ]
  },
  {
   "cell_type": "code",
   "execution_count": 36,
   "id": "5989006c",
   "metadata": {},
   "outputs": [
    {
     "name": "stdout",
     "output_type": "stream",
     "text": [
      "[[0. 0. 0. 0. 0. 0. 0. 0. 0. 0. 0. 0. 0. 0. 0. 0. 0. 0. 0. 0. 0. 0. 0. 0.\n",
      "  0. 0. 0. 0. 0. 0. 0. 0. 0. 0. 0. 0. 0. 0. 0. 0. 0. 0. 0. 0. 0. 0. 0. 0.\n",
      "  0. 0.]\n",
      " [0. 0. 0. 0. 0. 0. 0. 0. 0. 0. 0. 0. 0. 0. 0. 0. 0. 0. 0. 0. 0. 0. 0. 0.\n",
      "  0. 0. 0. 0. 0. 0. 0. 0. 0. 0. 0. 0. 0. 0. 0. 0. 0. 0. 0. 0. 0. 0. 0. 0.\n",
      "  0. 0.]] 2\n",
      "------------------------------------------\n",
      "[0. 0. 0. 0. 0. 0. 0. 0. 0. 0. 0. 0. 0. 0. 0. 0. 0. 0. 0. 0. 0. 0. 0. 0.\n",
      " 0. 0. 0. 0. 0. 0. 0. 0. 0. 0. 0. 0. 0. 0. 0. 0. 0. 0. 0. 0. 0. 0. 0. 0.\n",
      " 0. 0. 0. 0. 0. 0. 0. 0. 0. 0. 0. 0. 0. 0. 0. 0. 0. 0. 0. 0. 0. 0. 0. 0.\n",
      " 0. 0. 0. 0. 0. 0. 0. 0. 0. 0. 0. 0. 0. 0. 0. 0. 0. 0. 0. 0. 0. 0. 0. 0.\n",
      " 0. 0. 0. 0.] 1\n"
     ]
    }
   ],
   "source": [
    "#np.zeros(), np.ones(), np.empty(),\n",
    "#np.arange(), np.linspace(), dtype()\n",
    "a_z=np.zeros(100)\n",
    "a_z_reshape=a_z.reshape(2,50)\n",
    "print(a_z_reshape,a_z_reshape.ndim)\n",
    "print('------------------------------------------')\n",
    "print(a_z,a_z.ndim)"
   ]
  },
  {
   "cell_type": "code",
   "execution_count": 37,
   "id": "fa9ea033",
   "metadata": {},
   "outputs": [
    {
     "name": "stdout",
     "output_type": "stream",
     "text": [
      "None\n",
      "[[0. 0. 0. 0. 0. 0. 0. 0. 0. 0. 0. 0. 0. 0. 0. 0. 0. 0. 0. 0. 0. 0. 0. 0.\n",
      "  0. 0. 0. 0. 0. 0. 0. 0. 0. 0. 0. 0. 0. 0. 0. 0. 0. 0. 0. 0. 0. 0. 0. 0.\n",
      "  0. 0.]\n",
      " [0. 0. 0. 0. 0. 0. 0. 0. 0. 0. 0. 0. 0. 0. 0. 0. 0. 0. 0. 0. 0. 0. 0. 0.\n",
      "  0. 0. 0. 0. 0. 0. 0. 0. 0. 0. 0. 0. 0. 0. 0. 0. 0. 0. 0. 0. 0. 0. 0. 0.\n",
      "  0. 0.]]\n"
     ]
    }
   ],
   "source": [
    "# changes will be in implemented variable not stored in assigned variable\n",
    "a_z=np.zeros(100) \n",
    "a_z_resize=a_z.resize(2,50)\n",
    "print(a_z_resize) # assigned variable \n",
    "print(a_z) # function implemented variable"
   ]
  },
  {
   "cell_type": "code",
   "execution_count": 38,
   "id": "c2e75b81",
   "metadata": {},
   "outputs": [
    {
     "data": {
      "text/plain": [
       "(array([[[0., 0., 0., 0., 0., 0., 0., 0., 0., 0., 0., 0., 0., 0., 0., 0.,\n",
       "          0., 0., 0., 0., 0., 0., 0., 0., 0.],\n",
       "         [0., 0., 0., 0., 0., 0., 0., 0., 0., 0., 0., 0., 0., 0., 0., 0.,\n",
       "          0., 0., 0., 0., 0., 0., 0., 0., 0.]],\n",
       " \n",
       "        [[0., 0., 0., 0., 0., 0., 0., 0., 0., 0., 0., 0., 0., 0., 0., 0.,\n",
       "          0., 0., 0., 0., 0., 0., 0., 0., 0.],\n",
       "         [0., 0., 0., 0., 0., 0., 0., 0., 0., 0., 0., 0., 0., 0., 0., 0.,\n",
       "          0., 0., 0., 0., 0., 0., 0., 0., 0.]]]),\n",
       " 3)"
      ]
     },
     "execution_count": 38,
     "metadata": {},
     "output_type": "execute_result"
    }
   ],
   "source": [
    "a_z=np.zeros(100).reshape(2,2,25)\n",
    "a_z,a_z.ndim"
   ]
  },
  {
   "cell_type": "code",
   "execution_count": 39,
   "id": "773b475a",
   "metadata": {},
   "outputs": [
    {
     "data": {
      "text/plain": [
       "(array([[[[1., 1., 1., 1., 1.],\n",
       "          [1., 1., 1., 1., 1.],\n",
       "          [1., 1., 1., 1., 1.],\n",
       "          [1., 1., 1., 1., 1.],\n",
       "          [1., 1., 1., 1., 1.]],\n",
       " \n",
       "         [[1., 1., 1., 1., 1.],\n",
       "          [1., 1., 1., 1., 1.],\n",
       "          [1., 1., 1., 1., 1.],\n",
       "          [1., 1., 1., 1., 1.],\n",
       "          [1., 1., 1., 1., 1.]],\n",
       " \n",
       "         [[1., 1., 1., 1., 1.],\n",
       "          [1., 1., 1., 1., 1.],\n",
       "          [1., 1., 1., 1., 1.],\n",
       "          [1., 1., 1., 1., 1.],\n",
       "          [1., 1., 1., 1., 1.]],\n",
       " \n",
       "         [[1., 1., 1., 1., 1.],\n",
       "          [1., 1., 1., 1., 1.],\n",
       "          [1., 1., 1., 1., 1.],\n",
       "          [1., 1., 1., 1., 1.],\n",
       "          [1., 1., 1., 1., 1.]]],\n",
       " \n",
       " \n",
       "        [[[1., 1., 1., 1., 1.],\n",
       "          [1., 1., 1., 1., 1.],\n",
       "          [1., 1., 1., 1., 1.],\n",
       "          [1., 1., 1., 1., 1.],\n",
       "          [1., 1., 1., 1., 1.]],\n",
       " \n",
       "         [[1., 1., 1., 1., 1.],\n",
       "          [1., 1., 1., 1., 1.],\n",
       "          [1., 1., 1., 1., 1.],\n",
       "          [1., 1., 1., 1., 1.],\n",
       "          [1., 1., 1., 1., 1.]],\n",
       " \n",
       "         [[1., 1., 1., 1., 1.],\n",
       "          [1., 1., 1., 1., 1.],\n",
       "          [1., 1., 1., 1., 1.],\n",
       "          [1., 1., 1., 1., 1.],\n",
       "          [1., 1., 1., 1., 1.]],\n",
       " \n",
       "         [[1., 1., 1., 1., 1.],\n",
       "          [1., 1., 1., 1., 1.],\n",
       "          [1., 1., 1., 1., 1.],\n",
       "          [1., 1., 1., 1., 1.],\n",
       "          [1., 1., 1., 1., 1.]]]]),\n",
       " 4)"
      ]
     },
     "execution_count": 39,
     "metadata": {},
     "output_type": "execute_result"
    }
   ],
   "source": [
    "'''- np.array(), np.zeros(), np.ones(), np.empty(), \n",
    "- np.arange(), np.linspace(), np.random.randint(), np.full() dtype()'''\n",
    "a_o=np.ones(200).reshape(2,4,5,5)\n",
    "a_o,a_o.ndim"
   ]
  },
  {
   "cell_type": "code",
   "execution_count": 40,
   "id": "76c11df5",
   "metadata": {},
   "outputs": [
    {
     "data": {
      "text/plain": [
       "(array([[[[1., 1., 1., 1., 1.],\n",
       "          [1., 1., 1., 1., 1.],\n",
       "          [1., 1., 1., 1., 1.],\n",
       "          [1., 1., 1., 1., 1.],\n",
       "          [1., 1., 1., 1., 1.]],\n",
       " \n",
       "         [[1., 1., 1., 1., 1.],\n",
       "          [1., 1., 1., 1., 1.],\n",
       "          [1., 1., 1., 1., 1.],\n",
       "          [1., 1., 1., 1., 1.],\n",
       "          [1., 1., 1., 1., 1.]],\n",
       " \n",
       "         [[1., 1., 1., 1., 1.],\n",
       "          [1., 1., 1., 1., 1.],\n",
       "          [1., 1., 1., 1., 1.],\n",
       "          [1., 1., 1., 1., 1.],\n",
       "          [1., 1., 1., 1., 1.]],\n",
       " \n",
       "         [[1., 1., 1., 1., 1.],\n",
       "          [1., 1., 1., 1., 1.],\n",
       "          [1., 1., 1., 1., 1.],\n",
       "          [1., 1., 1., 1., 1.],\n",
       "          [1., 1., 1., 1., 1.]]],\n",
       " \n",
       " \n",
       "        [[[1., 1., 1., 1., 1.],\n",
       "          [1., 1., 1., 1., 1.],\n",
       "          [1., 1., 1., 1., 1.],\n",
       "          [1., 1., 1., 1., 1.],\n",
       "          [1., 1., 1., 1., 1.]],\n",
       " \n",
       "         [[1., 1., 1., 1., 1.],\n",
       "          [1., 1., 1., 1., 1.],\n",
       "          [1., 1., 1., 1., 1.],\n",
       "          [1., 1., 1., 1., 1.],\n",
       "          [1., 1., 1., 1., 1.]],\n",
       " \n",
       "         [[1., 1., 1., 1., 1.],\n",
       "          [1., 1., 1., 1., 1.],\n",
       "          [1., 1., 1., 1., 1.],\n",
       "          [1., 1., 1., 1., 1.],\n",
       "          [1., 1., 1., 1., 1.]],\n",
       " \n",
       "         [[1., 1., 1., 1., 1.],\n",
       "          [1., 1., 1., 1., 1.],\n",
       "          [1., 1., 1., 1., 1.],\n",
       "          [1., 1., 1., 1., 1.],\n",
       "          [1., 1., 1., 1., 1.]]]]),\n",
       " 4)"
      ]
     },
     "execution_count": 40,
     "metadata": {},
     "output_type": "execute_result"
    }
   ],
   "source": [
    "'''- np.array(), np.zeros(), np.ones(), np.empty(), \n",
    "- np.arange(), np.linspace(), np.random.randint(), np.full() dtype()'''\n",
    "a_o=np.empty(200).reshape(2,4,5,5)\n",
    "a_o,a_o.ndim"
   ]
  },
  {
   "cell_type": "code",
   "execution_count": 41,
   "id": "85d09c3c",
   "metadata": {},
   "outputs": [
    {
     "data": {
      "text/plain": [
       "array([[1., 1., 1.],\n",
       "       [1., 1., 1.]])"
      ]
     },
     "execution_count": 41,
     "metadata": {},
     "output_type": "execute_result"
    }
   ],
   "source": [
    "np.empty(shape = [2,3], dtype = float)\n"
   ]
  },
  {
   "cell_type": "markdown",
   "id": "5e62dbe7",
   "metadata": {},
   "source": [
    "https://www.sharpsightlabs.com/blog/numpy-empty/#numpy-empty-syntax\n",
    "What does NP empty return?\n",
    "empty(shape, dtype = float, order = 'C') : Return a new array of given shape and type, with random values.\n",
    "https://www.geeksforgeeks.org/numpy-empty-python/"
   ]
  },
  {
   "cell_type": "code",
   "execution_count": 42,
   "id": "8131fdcf",
   "metadata": {},
   "outputs": [
    {
     "data": {
      "text/plain": [
       "array([[[  0,   1,   2,   3,   4,   5,   6,   7,   8,   9,  10,  11,\n",
       "          12,  13,  14,  15,  16,  17,  18,  19,  20,  21,  22,  23,\n",
       "          24],\n",
       "        [ 25,  26,  27,  28,  29,  30,  31,  32,  33,  34,  35,  36,\n",
       "          37,  38,  39,  40,  41,  42,  43,  44,  45,  46,  47,  48,\n",
       "          49],\n",
       "        [ 50,  51,  52,  53,  54,  55,  56,  57,  58,  59,  60,  61,\n",
       "          62,  63,  64,  65,  66,  67,  68,  69,  70,  71,  72,  73,\n",
       "          74],\n",
       "        [ 75,  76,  77,  78,  79,  80,  81,  82,  83,  84,  85,  86,\n",
       "          87,  88,  89,  90,  91,  92,  93,  94,  95,  96,  97,  98,\n",
       "          99],\n",
       "        [100, 101, 102, 103, 104, 105, 106, 107, 108, 109, 110, 111,\n",
       "         112, 113, 114, 115, 116, 117, 118, 119, 120, 121, 122, 123,\n",
       "         124],\n",
       "        [125, 126, 127, 128, 129, 130, 131, 132, 133, 134, 135, 136,\n",
       "         137, 138, 139, 140, 141, 142, 143, 144, 145, 146, 147, 148,\n",
       "         149],\n",
       "        [150, 151, 152, 153, 154, 155, 156, 157, 158, 159, 160, 161,\n",
       "         162, 163, 164, 165, 166, 167, 168, 169, 170, 171, 172, 173,\n",
       "         174],\n",
       "        [175, 176, 177, 178, 179, 180, 181, 182, 183, 184, 185, 186,\n",
       "         187, 188, 189, 190, 191, 192, 193, 194, 195, 196, 197, 198,\n",
       "         199],\n",
       "        [200, 201, 202, 203, 204, 205, 206, 207, 208, 209, 210, 211,\n",
       "         212, 213, 214, 215, 216, 217, 218, 219, 220, 221, 222, 223,\n",
       "         224],\n",
       "        [225, 226, 227, 228, 229, 230, 231, 232, 233, 234, 235, 236,\n",
       "         237, 238, 239, 240, 241, 242, 243, 244, 245, 246, 247, 248,\n",
       "         249]],\n",
       "\n",
       "       [[250, 251, 252, 253, 254, 255, 256, 257, 258, 259, 260, 261,\n",
       "         262, 263, 264, 265, 266, 267, 268, 269, 270, 271, 272, 273,\n",
       "         274],\n",
       "        [275, 276, 277, 278, 279, 280, 281, 282, 283, 284, 285, 286,\n",
       "         287, 288, 289, 290, 291, 292, 293, 294, 295, 296, 297, 298,\n",
       "         299],\n",
       "        [300, 301, 302, 303, 304, 305, 306, 307, 308, 309, 310, 311,\n",
       "         312, 313, 314, 315, 316, 317, 318, 319, 320, 321, 322, 323,\n",
       "         324],\n",
       "        [325, 326, 327, 328, 329, 330, 331, 332, 333, 334, 335, 336,\n",
       "         337, 338, 339, 340, 341, 342, 343, 344, 345, 346, 347, 348,\n",
       "         349],\n",
       "        [350, 351, 352, 353, 354, 355, 356, 357, 358, 359, 360, 361,\n",
       "         362, 363, 364, 365, 366, 367, 368, 369, 370, 371, 372, 373,\n",
       "         374],\n",
       "        [375, 376, 377, 378, 379, 380, 381, 382, 383, 384, 385, 386,\n",
       "         387, 388, 389, 390, 391, 392, 393, 394, 395, 396, 397, 398,\n",
       "         399],\n",
       "        [400, 401, 402, 403, 404, 405, 406, 407, 408, 409, 410, 411,\n",
       "         412, 413, 414, 415, 416, 417, 418, 419, 420, 421, 422, 423,\n",
       "         424],\n",
       "        [425, 426, 427, 428, 429, 430, 431, 432, 433, 434, 435, 436,\n",
       "         437, 438, 439, 440, 441, 442, 443, 444, 445, 446, 447, 448,\n",
       "         449],\n",
       "        [450, 451, 452, 453, 454, 455, 456, 457, 458, 459, 460, 461,\n",
       "         462, 463, 464, 465, 466, 467, 468, 469, 470, 471, 472, 473,\n",
       "         474],\n",
       "        [475, 476, 477, 478, 479, 480, 481, 482, 483, 484, 485, 486,\n",
       "         487, 488, 489, 490, 491, 492, 493, 494, 495, 496, 497, 498,\n",
       "         499]],\n",
       "\n",
       "       [[500, 501, 502, 503, 504, 505, 506, 507, 508, 509, 510, 511,\n",
       "         512, 513, 514, 515, 516, 517, 518, 519, 520, 521, 522, 523,\n",
       "         524],\n",
       "        [525, 526, 527, 528, 529, 530, 531, 532, 533, 534, 535, 536,\n",
       "         537, 538, 539, 540, 541, 542, 543, 544, 545, 546, 547, 548,\n",
       "         549],\n",
       "        [550, 551, 552, 553, 554, 555, 556, 557, 558, 559, 560, 561,\n",
       "         562, 563, 564, 565, 566, 567, 568, 569, 570, 571, 572, 573,\n",
       "         574],\n",
       "        [575, 576, 577, 578, 579, 580, 581, 582, 583, 584, 585, 586,\n",
       "         587, 588, 589, 590, 591, 592, 593, 594, 595, 596, 597, 598,\n",
       "         599],\n",
       "        [600, 601, 602, 603, 604, 605, 606, 607, 608, 609, 610, 611,\n",
       "         612, 613, 614, 615, 616, 617, 618, 619, 620, 621, 622, 623,\n",
       "         624],\n",
       "        [625, 626, 627, 628, 629, 630, 631, 632, 633, 634, 635, 636,\n",
       "         637, 638, 639, 640, 641, 642, 643, 644, 645, 646, 647, 648,\n",
       "         649],\n",
       "        [650, 651, 652, 653, 654, 655, 656, 657, 658, 659, 660, 661,\n",
       "         662, 663, 664, 665, 666, 667, 668, 669, 670, 671, 672, 673,\n",
       "         674],\n",
       "        [675, 676, 677, 678, 679, 680, 681, 682, 683, 684, 685, 686,\n",
       "         687, 688, 689, 690, 691, 692, 693, 694, 695, 696, 697, 698,\n",
       "         699],\n",
       "        [700, 701, 702, 703, 704, 705, 706, 707, 708, 709, 710, 711,\n",
       "         712, 713, 714, 715, 716, 717, 718, 719, 720, 721, 722, 723,\n",
       "         724],\n",
       "        [725, 726, 727, 728, 729, 730, 731, 732, 733, 734, 735, 736,\n",
       "         737, 738, 739, 740, 741, 742, 743, 744, 745, 746, 747, 748,\n",
       "         749]],\n",
       "\n",
       "       [[750, 751, 752, 753, 754, 755, 756, 757, 758, 759, 760, 761,\n",
       "         762, 763, 764, 765, 766, 767, 768, 769, 770, 771, 772, 773,\n",
       "         774],\n",
       "        [775, 776, 777, 778, 779, 780, 781, 782, 783, 784, 785, 786,\n",
       "         787, 788, 789, 790, 791, 792, 793, 794, 795, 796, 797, 798,\n",
       "         799],\n",
       "        [800, 801, 802, 803, 804, 805, 806, 807, 808, 809, 810, 811,\n",
       "         812, 813, 814, 815, 816, 817, 818, 819, 820, 821, 822, 823,\n",
       "         824],\n",
       "        [825, 826, 827, 828, 829, 830, 831, 832, 833, 834, 835, 836,\n",
       "         837, 838, 839, 840, 841, 842, 843, 844, 845, 846, 847, 848,\n",
       "         849],\n",
       "        [850, 851, 852, 853, 854, 855, 856, 857, 858, 859, 860, 861,\n",
       "         862, 863, 864, 865, 866, 867, 868, 869, 870, 871, 872, 873,\n",
       "         874],\n",
       "        [875, 876, 877, 878, 879, 880, 881, 882, 883, 884, 885, 886,\n",
       "         887, 888, 889, 890, 891, 892, 893, 894, 895, 896, 897, 898,\n",
       "         899],\n",
       "        [900, 901, 902, 903, 904, 905, 906, 907, 908, 909, 910, 911,\n",
       "         912, 913, 914, 915, 916, 917, 918, 919, 920, 921, 922, 923,\n",
       "         924],\n",
       "        [925, 926, 927, 928, 929, 930, 931, 932, 933, 934, 935, 936,\n",
       "         937, 938, 939, 940, 941, 942, 943, 944, 945, 946, 947, 948,\n",
       "         949],\n",
       "        [950, 951, 952, 953, 954, 955, 956, 957, 958, 959, 960, 961,\n",
       "         962, 963, 964, 965, 966, 967, 968, 969, 970, 971, 972, 973,\n",
       "         974],\n",
       "        [975, 976, 977, 978, 979, 980, 981, 982, 983, 984, 985, 986,\n",
       "         987, 988, 989, 990, 991, 992, 993, 994, 995, 996, 997, 998,\n",
       "         999]]])"
      ]
     },
     "execution_count": 42,
     "metadata": {},
     "output_type": "execute_result"
    }
   ],
   "source": [
    "'''- np.array(), np.zeros(), np.ones(), np.empty(), \n",
    "- np.arange(), np.linspace(), np.random.randint(), np.full() dtype()'''\n",
    "a_range=np.arange(1000).reshape(4,10,25)\n",
    "a_range"
   ]
  },
  {
   "cell_type": "code",
   "execution_count": 43,
   "id": "62871ad3",
   "metadata": {},
   "outputs": [
    {
     "data": {
      "text/plain": [
       "(array([[   0.        ,  111.11111111,  222.22222222,  333.33333333,\n",
       "          444.44444444],\n",
       "        [ 555.55555556,  666.66666667,  777.77777778,  888.88888889,\n",
       "         1000.        ]]),\n",
       " (2, 5))"
      ]
     },
     "execution_count": 43,
     "metadata": {},
     "output_type": "execute_result"
    }
   ],
   "source": [
    "'''- np.array(), np.zeros(), np.ones(), np.empty(), \n",
    "- np.arange(), np.linspace(), np.random.randint(), np.full() dtype()'''\n",
    "a_lins=np.linspace(0,1000,10).reshape(2,5)  # np.linspace(start,end,num= value_ammounts)\n",
    "a_lins,a_lins.shape"
   ]
  },
  {
   "cell_type": "code",
   "execution_count": 44,
   "id": "5d3449aa",
   "metadata": {},
   "outputs": [
    {
     "data": {
      "text/plain": [
       "(array([[159, 903, 619, 542, 301],\n",
       "        [994, 330, 356, 931, 822]]),\n",
       " (2, 5))"
      ]
     },
     "execution_count": 44,
     "metadata": {},
     "output_type": "execute_result"
    }
   ],
   "source": [
    "'''- np.array(), np.zeros(), np.ones(), np.empty(), \n",
    "- np.arange(), np.linspace(), np.random.randint(), np.full() dtype()'''\n",
    "import random\n",
    "a_rand=np.random.randint(0,1000,10).reshape(2,5)   # start, stop, amount\n",
    "a_rand,a_rand.shape"
   ]
  },
  {
   "cell_type": "code",
   "execution_count": 45,
   "id": "8ddd15c3",
   "metadata": {},
   "outputs": [
    {
     "data": {
      "text/plain": [
       "array([[[10, 10],\n",
       "        [10, 10]],\n",
       "\n",
       "       [[10, 10],\n",
       "        [10, 10]],\n",
       "\n",
       "       [[10, 10],\n",
       "        [10, 10]],\n",
       "\n",
       "       [[10, 10],\n",
       "        [10, 10]]])"
      ]
     },
     "execution_count": 45,
     "metadata": {},
     "output_type": "execute_result"
    }
   ],
   "source": [
    "'''- np.array(), np.zeros(), np.ones(), np.empty(), \n",
    "- np.arange(), np.linspace(), np.random.randint(), np.full() dtype()'''\n",
    "a_full=np.full((4,2,2),10) #np.full((row,columns,dimension),ele no.) fix numpy array with fix number\n",
    "a_full"
   ]
  },
  {
   "cell_type": "markdown",
   "id": "3bc54f8a",
   "metadata": {},
   "source": [
    "## numpy data types\n",
    "- datatypes in numpy\n",
    "- numpy has some extra data types , and refer to data types with one character, like i for integers, u for unsigned integer etc.\n",
    "below is a list of all data type\n",
    "- i-int\n",
    "- b-bool\n",
    "- u-unsigned int\n",
    "- f-float\n",
    "- c-complex float\n",
    "- m-timedelta\n",
    "- M-datetime\n",
    "- o- object\n",
    "- S-string\n",
    "- U-unicode string\n",
    "- V-fixed chunk of memory for other type(void)"
   ]
  },
  {
   "cell_type": "raw",
   "id": "7326ee20",
   "metadata": {},
   "source": []
  },
  {
   "cell_type": "markdown",
   "id": "4ab91a61",
   "metadata": {},
   "source": [
    "# Casting"
   ]
  },
  {
   "cell_type": "markdown",
   "id": "2c03215d",
   "metadata": {},
   "source": [
    "- Creating data type with defined data type"
   ]
  },
  {
   "cell_type": "code",
   "execution_count": 46,
   "id": "ec0a0ac3",
   "metadata": {},
   "outputs": [
    {
     "data": {
      "text/plain": [
       "(array(['apple', 'banana', 'mango'], dtype='<U6'), dtype('<U6'))"
      ]
     },
     "execution_count": 46,
     "metadata": {},
     "output_type": "execute_result"
    }
   ],
   "source": [
    "s=np.array(['apple','banana','mango'])\n",
    "s,s.dtype"
   ]
  },
  {
   "cell_type": "code",
   "execution_count": 47,
   "id": "4a38f3bd",
   "metadata": {},
   "outputs": [
    {
     "name": "stdout",
     "output_type": "stream",
     "text": [
      "[b'1' b'2' b'3' b'4']\n",
      "|S1\n"
     ]
    }
   ],
   "source": [
    "# creating data type with defined data type\n",
    "n=np.array([1,2,3,4],dtype='S')\n",
    "print(n)\n",
    "print(n.dtype)"
   ]
  },
  {
   "cell_type": "code",
   "execution_count": 48,
   "id": "04e67c3a",
   "metadata": {},
   "outputs": [
    {
     "data": {
      "text/plain": [
       "array([1, 0, 3, 4, 6, 5, 7], dtype=int32)"
      ]
     },
     "execution_count": 48,
     "metadata": {},
     "output_type": "execute_result"
    }
   ],
   "source": [
    "# for i, u, f, S, U we can define size as well\n",
    "a=np.array([1,0,3,4,6,5,7],dtype='i')\n",
    "a"
   ]
  },
  {
   "cell_type": "raw",
   "id": "09e06a86",
   "metadata": {},
   "source": []
  },
  {
   "cell_type": "raw",
   "id": "7b6a9d9e",
   "metadata": {},
   "source": []
  },
  {
   "cell_type": "raw",
   "id": "051e0957",
   "metadata": {},
   "source": [
    " Specifying  data type\n",
    " - by default data type is support floating point np.int64/np.float64\n",
    " - with dtype keyword , can know data type of array\n",
    " - dtype=np.int64"
   ]
  },
  {
   "cell_type": "code",
   "execution_count": 49,
   "id": "41e36281",
   "metadata": {},
   "outputs": [
    {
     "data": {
      "text/plain": [
       "array([1, 1], dtype=int64)"
      ]
     },
     "execution_count": 49,
     "metadata": {},
     "output_type": "execute_result"
    }
   ],
   "source": [
    "# sdt = specifying data type\n",
    "sdt=np.ones(2,dtype=np.int64)\n",
    "sdt"
   ]
  },
  {
   "cell_type": "code",
   "execution_count": 50,
   "id": "3d8bda6b",
   "metadata": {},
   "outputs": [
    {
     "data": {
      "text/plain": [
       "array([10, 20, 30, 40, 50, 60, 70, 80, 90], dtype=int8)"
      ]
     },
     "execution_count": 50,
     "metadata": {},
     "output_type": "execute_result"
    }
   ],
   "source": [
    "sdt1=np.arange(10,100,10,dtype=np.int8)\n",
    "sdt1"
   ]
  },
  {
   "cell_type": "markdown",
   "id": "e3720002",
   "metadata": {},
   "source": [
    "-  converting data type on existing arrays - casting\n",
    "- astype()"
   ]
  },
  {
   "cell_type": "code",
   "execution_count": 51,
   "id": "99abe33f",
   "metadata": {},
   "outputs": [
    {
     "name": "stdout",
     "output_type": "stream",
     "text": [
      "[1 2 3 0]\n",
      "[1 2 3 0]\n",
      "[ True  True  True False]\n"
     ]
    }
   ],
   "source": [
    "# converting data type on existing arrays - casting\n",
    "# astype()\n",
    "# astype()\n",
    "a=np.array([1.1,2.1,3.2,0])\n",
    "b=a.astype('i')\n",
    "c=a.astype(int)\n",
    "d=a.astype(bool)\n",
    "print(b)\n",
    "print(c)\n",
    "print(d)"
   ]
  },
  {
   "cell_type": "raw",
   "id": "72aa2148",
   "metadata": {},
   "source": []
  },
  {
   "cell_type": "markdown",
   "id": "fe1bffb1",
   "metadata": {},
   "source": [
    "# Indexing & Slicing  - in 1D,2D,3D, ..nD Array "
   ]
  },
  {
   "cell_type": "code",
   "execution_count": 52,
   "id": "2a5c1bda",
   "metadata": {},
   "outputs": [
    {
     "name": "stdout",
     "output_type": "stream",
     "text": [
      "[22 32 45 65 76 45 22 32 45 65 76 45]\n",
      "65\n",
      "45\n"
     ]
    }
   ],
   "source": [
    "# 1D Indexing & slicing\n",
    "a=np.array([22,32,45,65,76,45,22,32,45,65,76,45])\n",
    "print(a)\n",
    "print(a[3])\n",
    "print(a[5])"
   ]
  },
  {
   "cell_type": "code",
   "execution_count": 53,
   "id": "f902f800",
   "metadata": {},
   "outputs": [
    {
     "name": "stdout",
     "output_type": "stream",
     "text": [
      "[22 32 45 65 76 45 22 32 45 65 76 45]\n",
      "[22 65 22 65]\n",
      "[22 45 76 22 45 76]\n"
     ]
    }
   ],
   "source": [
    "# 1D slicing\n",
    "print(a)\n",
    "print(a[0:10:3])\n",
    "print(a[0:13:2])"
   ]
  },
  {
   "cell_type": "code",
   "execution_count": 54,
   "id": "8fd96e2e",
   "metadata": {},
   "outputs": [
    {
     "data": {
      "text/plain": [
       "array([[22, 32, 45, 65, 76, 45, 22, 32, 45, 65, 76, 45],\n",
       "       [22, 32, 45, 65, 76, 45, 22, 32, 45, 65, 76, 45]])"
      ]
     },
     "execution_count": 54,
     "metadata": {},
     "output_type": "execute_result"
    }
   ],
   "source": [
    "# 2d array\n",
    "a=np.array([[22,32,45,65,76,45,22,32,45,65,76,45],[22,32,45,65,76,45,22,32,45,65,76,45]])\n",
    "a"
   ]
  },
  {
   "cell_type": "code",
   "execution_count": 55,
   "id": "ce840554",
   "metadata": {},
   "outputs": [
    {
     "data": {
      "text/plain": [
       "((2, 12), array([32, 45, 76, 65]))"
      ]
     },
     "execution_count": 55,
     "metadata": {},
     "output_type": "execute_result"
    }
   ],
   "source": [
    "a.shape,a[[0,0,0,-1],[1,2,-2,-3]] "
   ]
  },
  {
   "cell_type": "code",
   "execution_count": 56,
   "id": "ff008c46",
   "metadata": {
    "scrolled": true
   },
   "outputs": [
    {
     "data": {
      "text/plain": [
       "((2, 2, 4),\n",
       " 3,\n",
       " array([[[ 1,  3,  2,  4],\n",
       "         [ 4,  2,  4, 67]],\n",
       " \n",
       "        [[ 1,  3,  2,  4],\n",
       "         [ 4,  2,  4, 67]]]))"
      ]
     },
     "execution_count": 56,
     "metadata": {},
     "output_type": "execute_result"
    }
   ],
   "source": [
    "# 3d array\n",
    "a=np.array([[[1,3,2,4],[4,2,4,67]],[[1,3,2,4],[4,2,4,67]]])\n",
    "a.shape,a.ndim,a,"
   ]
  },
  {
   "cell_type": "code",
   "execution_count": 57,
   "id": "448710bc",
   "metadata": {},
   "outputs": [
    {
     "data": {
      "text/plain": [
       "array([4, 3, 4])"
      ]
     },
     "execution_count": 57,
     "metadata": {},
     "output_type": "execute_result"
    }
   ],
   "source": [
    "# advance indexing in 3d\n",
    "a[[1],[1,0,0],[0,1,3]]"
   ]
  },
  {
   "cell_type": "code",
   "execution_count": 58,
   "id": "cab01aea",
   "metadata": {},
   "outputs": [
    {
     "data": {
      "text/plain": [
       "(array([[[ 1,  3,  2,  4],\n",
       "         [ 4,  2,  4, 67]],\n",
       " \n",
       "        [[ 1,  3,  2,  4],\n",
       "         [ 4,  2,  4, 67]]]),\n",
       " array([[1, 3, 2],\n",
       "        [4, 2, 4]]))"
      ]
     },
     "execution_count": 58,
     "metadata": {},
     "output_type": "execute_result"
    }
   ],
   "source": [
    "# advance slicing in 3d\n",
    "a,a[1][::,:3]"
   ]
  },
  {
   "cell_type": "code",
   "execution_count": null,
   "id": "f92dd60e",
   "metadata": {},
   "outputs": [],
   "source": []
  },
  {
   "cell_type": "code",
   "execution_count": null,
   "id": "e8268603",
   "metadata": {},
   "outputs": [],
   "source": []
  },
  {
   "cell_type": "markdown",
   "id": "86f70c4c",
   "metadata": {},
   "source": [
    "# nD"
   ]
  },
  {
   "cell_type": "code",
   "execution_count": 59,
   "id": "c1a13788",
   "metadata": {},
   "outputs": [
    {
     "data": {
      "text/plain": [
       "array([[[[201, 990, 702, 368, 249],\n",
       "         [274,  67, 767, 540, 176],\n",
       "         [174, 828, 712, 931, 337],\n",
       "         [ 73, 555, 654, 741, 694],\n",
       "         [ 40, 333, 964, 114, 428]],\n",
       "\n",
       "        [[775, 521, 292, 625, 600],\n",
       "         [802, 438, 759, 724, 244],\n",
       "         [731, 179, 143, 410, 183],\n",
       "         [866, 390, 214, 562, 506],\n",
       "         [285, 865, 794, 148, 462]]],\n",
       "\n",
       "\n",
       "       [[[973, 879, 410, 314, 609],\n",
       "         [306, 962, 574, 528, 438],\n",
       "         [531, 627, 236, 813, 320],\n",
       "         [ 14,  30,  37, 738, 362],\n",
       "         [985,  25, 910, 662, 512]],\n",
       "\n",
       "        [[764,   8, 814, 513, 920],\n",
       "         [754, 310, 189, 720, 666],\n",
       "         [102, 945, 840, 482, 189],\n",
       "         [503, 652, 720, 808, 974],\n",
       "         [647, 265, 496, 334, 811]]]])"
      ]
     },
     "execution_count": 59,
     "metadata": {},
     "output_type": "execute_result"
    }
   ],
   "source": [
    "import random\n",
    "a=np.random.randint(0,1000,100).reshape(2,2,5,5)       # start,stop,amount\n",
    "a"
   ]
  },
  {
   "cell_type": "markdown",
   "id": "3d21f6d3",
   "metadata": {},
   "source": [
    "# Advance Indexing "
   ]
  },
  {
   "cell_type": "code",
   "execution_count": 60,
   "id": "f5cc9fcd",
   "metadata": {},
   "outputs": [
    {
     "data": {
      "text/plain": [
       "array([482])"
      ]
     },
     "execution_count": 60,
     "metadata": {},
     "output_type": "execute_result"
    }
   ],
   "source": [
    "a[[1],[1],[2],[3]]                # variable[set1],[subset1],[row],[column]"
   ]
  },
  {
   "cell_type": "code",
   "execution_count": 61,
   "id": "92604e1a",
   "metadata": {},
   "outputs": [
    {
     "data": {
      "text/plain": [
       "array([143, 802, 521])"
      ]
     },
     "execution_count": 61,
     "metadata": {},
     "output_type": "execute_result"
    }
   ],
   "source": [
    "a[[0],[1],[2,1,0],[2,0,1]]       # variable[set0],[subset1],[rows],[columns]"
   ]
  },
  {
   "cell_type": "code",
   "execution_count": 62,
   "id": "f52638f5",
   "metadata": {},
   "outputs": [
    {
     "data": {
      "text/plain": [
       "array([  8, 189, 808, 482, 811])"
      ]
     },
     "execution_count": 62,
     "metadata": {},
     "output_type": "execute_result"
    }
   ],
   "source": [
    "a[[1],[1],[0,1,3,2,4],[1,2,3,3,4]]"
   ]
  },
  {
   "cell_type": "code",
   "execution_count": null,
   "id": "074a5ec1",
   "metadata": {},
   "outputs": [],
   "source": []
  },
  {
   "cell_type": "markdown",
   "id": "40fb4028",
   "metadata": {},
   "source": [
    "# Advance Slicing"
   ]
  },
  {
   "cell_type": "code",
   "execution_count": 63,
   "id": "7076f645",
   "metadata": {},
   "outputs": [
    {
     "data": {
      "text/plain": [
       "(array([[[[201, 990, 702, 368, 249],\n",
       "          [274,  67, 767, 540, 176],\n",
       "          [174, 828, 712, 931, 337],\n",
       "          [ 73, 555, 654, 741, 694],\n",
       "          [ 40, 333, 964, 114, 428]],\n",
       " \n",
       "         [[775, 521, 292, 625, 600],\n",
       "          [802, 438, 759, 724, 244],\n",
       "          [731, 179, 143, 410, 183],\n",
       "          [866, 390, 214, 562, 506],\n",
       "          [285, 865, 794, 148, 462]]],\n",
       " \n",
       " \n",
       "        [[[973, 879, 410, 314, 609],\n",
       "          [306, 962, 574, 528, 438],\n",
       "          [531, 627, 236, 813, 320],\n",
       "          [ 14,  30,  37, 738, 362],\n",
       "          [985,  25, 910, 662, 512]],\n",
       " \n",
       "         [[764,   8, 814, 513, 920],\n",
       "          [754, 310, 189, 720, 666],\n",
       "          [102, 945, 840, 482, 189],\n",
       "          [503, 652, 720, 808, 974],\n",
       "          [647, 265, 496, 334, 811]]]]),\n",
       " array([[666, 189, 754],\n",
       "        [189, 840, 102],\n",
       "        [974, 720, 503],\n",
       "        [811, 496, 647]]))"
      ]
     },
     "execution_count": 63,
     "metadata": {},
     "output_type": "execute_result"
    }
   ],
   "source": [
    "a,a[1][1][1::,::-2]"
   ]
  },
  {
   "cell_type": "code",
   "execution_count": 64,
   "id": "984730c3",
   "metadata": {},
   "outputs": [
    {
     "data": {
      "text/plain": [
       "(array([[[[201, 990, 702, 368, 249],\n",
       "          [274,  67, 767, 540, 176],\n",
       "          [174, 828, 712, 931, 337],\n",
       "          [ 73, 555, 654, 741, 694],\n",
       "          [ 40, 333, 964, 114, 428]],\n",
       " \n",
       "         [[775, 521, 292, 625, 600],\n",
       "          [802, 438, 759, 724, 244],\n",
       "          [731, 179, 143, 410, 183],\n",
       "          [866, 390, 214, 562, 506],\n",
       "          [285, 865, 794, 148, 462]]],\n",
       " \n",
       " \n",
       "        [[[973, 879, 410, 314, 609],\n",
       "          [306, 962, 574, 528, 438],\n",
       "          [531, 627, 236, 813, 320],\n",
       "          [ 14,  30,  37, 738, 362],\n",
       "          [985,  25, 910, 662, 512]],\n",
       " \n",
       "         [[764,   8, 814, 513, 920],\n",
       "          [754, 310, 189, 720, 666],\n",
       "          [102, 945, 840, 482, 189],\n",
       "          [503, 652, 720, 808, 974],\n",
       "          [647, 265, 496, 334, 811]]]]),\n",
       " array([[754, 310, 189],\n",
       "        [102, 945, 840],\n",
       "        [503, 652, 720],\n",
       "        [647, 265, 496]]))"
      ]
     },
     "execution_count": 64,
     "metadata": {},
     "output_type": "execute_result"
    }
   ],
   "source": [
    "a,a[1][1][1:,0:-2]"
   ]
  },
  {
   "cell_type": "code",
   "execution_count": 65,
   "id": "94984b64",
   "metadata": {},
   "outputs": [
    {
     "data": {
      "text/plain": [
       "array([[274,  67, 767, 540, 176],\n",
       "       [174, 828, 712, 931, 337]])"
      ]
     },
     "execution_count": 65,
     "metadata": {},
     "output_type": "execute_result"
    }
   ],
   "source": [
    "a[0,0,1:3,0:]"
   ]
  },
  {
   "cell_type": "code",
   "execution_count": 66,
   "id": "b85062a9",
   "metadata": {},
   "outputs": [
    {
     "data": {
      "text/plain": [
       "array([[274,  67, 767, 540, 176],\n",
       "       [174, 828, 712, 931, 337]])"
      ]
     },
     "execution_count": 66,
     "metadata": {},
     "output_type": "execute_result"
    }
   ],
   "source": [
    "a[0][0][1:3,0:]"
   ]
  },
  {
   "cell_type": "code",
   "execution_count": 67,
   "id": "90c8406b",
   "metadata": {},
   "outputs": [
    {
     "data": {
      "text/plain": [
       "(array([[[[201, 990, 702, 368, 249],\n",
       "          [274,  67, 767, 540, 176],\n",
       "          [174, 828, 712, 931, 337],\n",
       "          [ 73, 555, 654, 741, 694],\n",
       "          [ 40, 333, 964, 114, 428]],\n",
       " \n",
       "         [[775, 521, 292, 625, 600],\n",
       "          [802, 438, 759, 724, 244],\n",
       "          [731, 179, 143, 410, 183],\n",
       "          [866, 390, 214, 562, 506],\n",
       "          [285, 865, 794, 148, 462]]],\n",
       " \n",
       " \n",
       "        [[[973, 879, 410, 314, 609],\n",
       "          [306, 962, 574, 528, 438],\n",
       "          [531, 627, 236, 813, 320],\n",
       "          [ 14,  30,  37, 738, 362],\n",
       "          [985,  25, 910, 662, 512]],\n",
       " \n",
       "         [[764,   8, 814, 513, 920],\n",
       "          [754, 310, 189, 720, 666],\n",
       "          [102, 945, 840, 482, 189],\n",
       "          [503, 652, 720, 808, 974],\n",
       "          [647, 265, 496, 334, 811]]]]),\n",
       " array([[754, 310, 189],\n",
       "        [102, 945, 840],\n",
       "        [503, 652, 720],\n",
       "        [647, 265, 496]]))"
      ]
     },
     "execution_count": 67,
     "metadata": {},
     "output_type": "execute_result"
    }
   ],
   "source": [
    "a,a[1][1][1:,0:-2]"
   ]
  },
  {
   "cell_type": "raw",
   "id": "1cd3620d",
   "metadata": {},
   "source": []
  },
  {
   "cell_type": "markdown",
   "id": "45f0c665",
   "metadata": {},
   "source": [
    "## Extract Items"
   ]
  },
  {
   "cell_type": "code",
   "execution_count": 68,
   "id": "4b26e977",
   "metadata": {},
   "outputs": [
    {
     "data": {
      "text/plain": [
       "(array([], dtype=int32), numpy.ndarray)"
      ]
     },
     "execution_count": 68,
     "metadata": {},
     "output_type": "execute_result"
    }
   ],
   "source": [
    "s_b=b[b>500]\n",
    "s_b, type(s_b)"
   ]
  },
  {
   "cell_type": "code",
   "execution_count": 69,
   "id": "13de65bf",
   "metadata": {},
   "outputs": [
    {
     "data": {
      "text/plain": [
       "(array([201, 368, 249, 274,  67, 176, 174, 337,  73,  40, 333, 114, 428,\n",
       "        292, 438, 244, 179, 143, 410, 183, 390, 214, 285, 148, 462, 410,\n",
       "        314, 306, 438, 236, 320,  14,  30,  37, 362,  25,   8, 310, 189,\n",
       "        102, 482, 189, 265, 496, 334]),\n",
       " numpy.ndarray)"
      ]
     },
     "execution_count": 69,
     "metadata": {},
     "output_type": "execute_result"
    }
   ],
   "source": [
    "s_a=a[a<500]\n",
    "s_a,type(s_a)"
   ]
  },
  {
   "cell_type": "code",
   "execution_count": 70,
   "id": "061394fa",
   "metadata": {},
   "outputs": [
    {
     "data": {
      "text/plain": [
       "(array([990, 702, 368, 274, 540, 176, 174, 828, 712, 654, 694,  40, 964,\n",
       "        114, 428, 292, 600, 802, 438, 724, 244, 410, 866, 390, 214, 562,\n",
       "        506, 794, 148, 462, 410, 314, 306, 962, 574, 528, 438, 236, 320,\n",
       "         14,  30, 738, 362, 910, 662, 512, 764,   8, 814, 920, 754, 310,\n",
       "        720, 666, 102, 840, 482, 652, 720, 808, 974, 496, 334]),\n",
       " array([[[[201, 990, 702, 368, 249],\n",
       "          [274,  67, 767, 540, 176],\n",
       "          [174, 828, 712, 931, 337],\n",
       "          [ 73, 555, 654, 741, 694],\n",
       "          [ 40, 333, 964, 114, 428]],\n",
       " \n",
       "         [[775, 521, 292, 625, 600],\n",
       "          [802, 438, 759, 724, 244],\n",
       "          [731, 179, 143, 410, 183],\n",
       "          [866, 390, 214, 562, 506],\n",
       "          [285, 865, 794, 148, 462]]],\n",
       " \n",
       " \n",
       "        [[[973, 879, 410, 314, 609],\n",
       "          [306, 962, 574, 528, 438],\n",
       "          [531, 627, 236, 813, 320],\n",
       "          [ 14,  30,  37, 738, 362],\n",
       "          [985,  25, 910, 662, 512]],\n",
       " \n",
       "         [[764,   8, 814, 513, 920],\n",
       "          [754, 310, 189, 720, 666],\n",
       "          [102, 945, 840, 482, 189],\n",
       "          [503, 652, 720, 808, 974],\n",
       "          [647, 265, 496, 334, 811]]]]))"
      ]
     },
     "execution_count": 70,
     "metadata": {},
     "output_type": "execute_result"
    }
   ],
   "source": [
    "\n",
    "s_c=a[a%2==0]\n",
    "s_c,a"
   ]
  },
  {
   "cell_type": "code",
   "execution_count": null,
   "id": "63b8e9e2",
   "metadata": {},
   "outputs": [],
   "source": []
  },
  {
   "cell_type": "markdown",
   "id": "beda1df3",
   "metadata": {},
   "source": [
    "#  Sorting, Adding elements\n",
    "- v.sort(), np.sort(), np.concatenate()"
   ]
  },
  {
   "cell_type": "code",
   "execution_count": 71,
   "id": "3393948e",
   "metadata": {},
   "outputs": [
    {
     "data": {
      "text/plain": [
       "array([[22, 11, 10,  9, 33,  3, 20],\n",
       "       [12, 31, 43, 22, 55, 15, 13]])"
      ]
     },
     "execution_count": 71,
     "metadata": {},
     "output_type": "execute_result"
    }
   ],
   "source": [
    "# create array\n",
    "a_sort=np.array([[22,11,10,9,33,3,20],[12,31,43,22,55,15,13]])\n",
    "a_sort"
   ]
  },
  {
   "cell_type": "code",
   "execution_count": 72,
   "id": "55e95825",
   "metadata": {},
   "outputs": [
    {
     "data": {
      "text/plain": [
       "array([[ 3,  9, 10, 11, 20, 22, 33],\n",
       "       [12, 13, 15, 22, 31, 43, 55]])"
      ]
     },
     "execution_count": 72,
     "metadata": {},
     "output_type": "execute_result"
    }
   ],
   "source": [
    "# sort() - assending orders\n",
    "a_sort.sort()\n",
    "a_sort"
   ]
  },
  {
   "cell_type": "code",
   "execution_count": 73,
   "id": "ba475c1d",
   "metadata": {},
   "outputs": [
    {
     "data": {
      "text/plain": [
       "array([[12, 13, 15, 22, 31, 43, 55],\n",
       "       [ 3,  9, 10, 11, 20, 22, 33]])"
      ]
     },
     "execution_count": 73,
     "metadata": {},
     "output_type": "execute_result"
    }
   ],
   "source": [
    "a_sort=a_sort[::-1]   \n",
    "a_sort"
   ]
  },
  {
   "cell_type": "markdown",
   "id": "695c0ed2",
   "metadata": {},
   "source": [
    "###### Quickly sort the numbers in assending order with:\n",
    "- np.sort(v)"
   ]
  },
  {
   "cell_type": "code",
   "execution_count": 74,
   "id": "54cf221e",
   "metadata": {},
   "outputs": [
    {
     "name": "stdout",
     "output_type": "stream",
     "text": [
      "[[[22 12  2  5 66 44 87 54]\n",
      "  [22 12  2  5 66 44 87 54]]\n",
      "\n",
      " [[22 12  2  5 66 44 87 54]\n",
      "  [22 12  2  5 66 44 87 54]]]\n"
     ]
    },
    {
     "data": {
      "text/plain": [
       "array([[[ 2,  5, 12, 22, 44, 54, 66, 87],\n",
       "        [ 2,  5, 12, 22, 44, 54, 66, 87]],\n",
       "\n",
       "       [[ 2,  5, 12, 22, 44, 54, 66, 87],\n",
       "        [ 2,  5, 12, 22, 44, 54, 66, 87]]])"
      ]
     },
     "execution_count": 74,
     "metadata": {},
     "output_type": "execute_result"
    }
   ],
   "source": [
    "array=np.array([[[22,12,2,5,66,44,87,54],[22,12,2,5,66,44,87,54]],\n",
    "                [[22,12,2,5,66,44,87,54],[22,12,2,5,66,44,87,54]]])\n",
    "print(array)\n",
    "# quickly sort the numbers in assending order with:\n",
    "np.sort(array)"
   ]
  },
  {
   "cell_type": "markdown",
   "id": "2e7a6731",
   "metadata": {},
   "source": [
    "##  in addition to sort\n",
    "- v.argsort()- which is an indirect sort along  specified axis,\n",
    "- np.lexsort(v), which is an indirect stable sort on multiple keys,\n",
    "- searchsorted, which will find elements in a sorted array,\n",
    "- partition, which is a partial sort."
   ]
  },
  {
   "cell_type": "code",
   "execution_count": 75,
   "id": "738b6ab0",
   "metadata": {},
   "outputs": [
    {
     "data": {
      "text/plain": [
       "(array([[[[201, 990, 702, 368, 249],\n",
       "          [274,  67, 767, 540, 176],\n",
       "          [174, 828, 712, 931, 337],\n",
       "          [ 73, 555, 654, 741, 694],\n",
       "          [ 40, 333, 964, 114, 428]],\n",
       " \n",
       "         [[775, 521, 292, 625, 600],\n",
       "          [802, 438, 759, 724, 244],\n",
       "          [731, 179, 143, 410, 183],\n",
       "          [866, 390, 214, 562, 506],\n",
       "          [285, 865, 794, 148, 462]]],\n",
       " \n",
       " \n",
       "        [[[973, 879, 410, 314, 609],\n",
       "          [306, 962, 574, 528, 438],\n",
       "          [531, 627, 236, 813, 320],\n",
       "          [ 14,  30,  37, 738, 362],\n",
       "          [985,  25, 910, 662, 512]],\n",
       " \n",
       "         [[764,   8, 814, 513, 920],\n",
       "          [754, 310, 189, 720, 666],\n",
       "          [102, 945, 840, 482, 189],\n",
       "          [503, 652, 720, 808, 974],\n",
       "          [647, 265, 496, 334, 811]]]]),\n",
       " array([[[[0, 4, 3, 2, 1],\n",
       "          [1, 4, 0, 3, 2],\n",
       "          [0, 4, 2, 1, 3],\n",
       "          [0, 1, 2, 4, 3],\n",
       "          [0, 3, 1, 4, 2]],\n",
       " \n",
       "         [[2, 1, 4, 3, 0],\n",
       "          [4, 1, 3, 2, 0],\n",
       "          [2, 1, 4, 3, 0],\n",
       "          [2, 1, 4, 3, 0],\n",
       "          [3, 0, 4, 2, 1]]],\n",
       " \n",
       " \n",
       "        [[[3, 2, 4, 1, 0],\n",
       "          [0, 4, 3, 2, 1],\n",
       "          [2, 4, 0, 1, 3],\n",
       "          [0, 1, 2, 4, 3],\n",
       "          [1, 4, 3, 2, 0]],\n",
       " \n",
       "         [[1, 3, 0, 2, 4],\n",
       "          [2, 1, 4, 3, 0],\n",
       "          [0, 4, 3, 2, 1],\n",
       "          [0, 1, 2, 3, 4],\n",
       "          [1, 3, 2, 0, 4]]]], dtype=int64))"
      ]
     },
     "execution_count": 75,
     "metadata": {},
     "output_type": "execute_result"
    }
   ],
   "source": [
    "a,a.argsort()"
   ]
  },
  {
   "cell_type": "code",
   "execution_count": 76,
   "id": "86a93cf9",
   "metadata": {},
   "outputs": [
    {
     "data": {
      "text/plain": [
       "((1, 10),\n",
       " array([[ 1,  2,  3,  2,  1, 65,  4,  3,  2,  3]]),\n",
       " array([0, 4, 1, 3, 8, 2, 7, 9, 6, 5], dtype=int64),\n",
       " array([[0, 4, 1, 3, 8, 2, 7, 9, 6, 5]], dtype=int64))"
      ]
     },
     "execution_count": 76,
     "metadata": {},
     "output_type": "execute_result"
    }
   ],
   "source": [
    "# https://numpy.org/doc/stable/reference/generated/numpy.lexsort.html\n",
    "#a=np.array([[[1,2,3,2,1],[65,4,3,2,3],[1,2,3,2,1],[65,4,3,2,3]],\n",
    "#           [[1,2,98,2,90],[65,4,78,2,3],[1,2,3,2,1],[65,43,3,76,3]]])\n",
    "a=np.array([[1,2,3,2,1,65,4,3,2,3]])\n",
    "a.shape,a,np.lexsort(a),a.argsort()"
   ]
  },
  {
   "cell_type": "code",
   "execution_count": 77,
   "id": "026881e6",
   "metadata": {},
   "outputs": [
    {
     "data": {
      "text/plain": [
       "5"
      ]
     },
     "execution_count": 77,
     "metadata": {},
     "output_type": "execute_result"
    }
   ],
   "source": [
    "a.argmax()"
   ]
  },
  {
   "cell_type": "code",
   "execution_count": 78,
   "id": "5aed61ed",
   "metadata": {},
   "outputs": [
    {
     "data": {
      "text/plain": [
       "0"
      ]
     },
     "execution_count": 78,
     "metadata": {},
     "output_type": "execute_result"
    }
   ],
   "source": [
    "a.argmin()"
   ]
  },
  {
   "cell_type": "code",
   "execution_count": 79,
   "id": "6e8e0539",
   "metadata": {},
   "outputs": [
    {
     "data": {
      "text/plain": [
       "(65, 1)"
      ]
     },
     "execution_count": 79,
     "metadata": {},
     "output_type": "execute_result"
    }
   ],
   "source": [
    "a[0][5],a[0][0]"
   ]
  },
  {
   "cell_type": "markdown",
   "id": "44afefb7",
   "metadata": {},
   "source": [
    "# 1) Operations on Array/Matrix"
   ]
  },
  {
   "cell_type": "markdown",
   "id": "1e47addb",
   "metadata": {},
   "source": [
    "## Array operations¶"
   ]
  },
  {
   "cell_type": "code",
   "execution_count": 80,
   "id": "eb2d603c",
   "metadata": {},
   "outputs": [
    {
     "data": {
      "text/plain": [
       "array([[12, 13,  4],\n",
       "       [15, 16,  1],\n",
       "       [18, 19,  2],\n",
       "       [21,  2, 24]])"
      ]
     },
     "execution_count": 80,
     "metadata": {},
     "output_type": "execute_result"
    }
   ],
   "source": [
    "r1 =[[12,13,4],[15,16,1],[18,19,2],[21,2,24]]\n",
    "a1 = np.asarray(r1)\n",
    "a1"
   ]
  },
  {
   "cell_type": "markdown",
   "id": "18e0e784",
   "metadata": {},
   "source": [
    "### Adding scalar value to each and every array value"
   ]
  },
  {
   "cell_type": "code",
   "execution_count": 81,
   "id": "e7ffea7e",
   "metadata": {},
   "outputs": [
    {
     "data": {
      "text/plain": [
       "array([[32, 33, 24],\n",
       "       [35, 36, 21],\n",
       "       [38, 39, 22],\n",
       "       [41, 22, 44]])"
      ]
     },
     "execution_count": 81,
     "metadata": {},
     "output_type": "execute_result"
    }
   ],
   "source": [
    "a1+20"
   ]
  },
  {
   "cell_type": "code",
   "execution_count": 82,
   "id": "14776e48",
   "metadata": {},
   "outputs": [
    {
     "data": {
      "text/plain": [
       "array([[12, 13,  4],\n",
       "       [15, 16,  1],\n",
       "       [18, 19,  2],\n",
       "       [21,  2, 24]])"
      ]
     },
     "execution_count": 82,
     "metadata": {},
     "output_type": "execute_result"
    }
   ],
   "source": [
    "a1"
   ]
  },
  {
   "cell_type": "markdown",
   "id": "7ad5d325",
   "metadata": {},
   "source": [
    "#### Row wise addition"
   ]
  },
  {
   "cell_type": "code",
   "execution_count": 83,
   "id": "d06cf960",
   "metadata": {},
   "outputs": [
    {
     "name": "stdout",
     "output_type": "stream",
     "text": [
      "[[12 13  4]\n",
      " [15 16  1]\n",
      " [18 19  2]\n",
      " [21  2 24]]\n",
      "------------------\n"
     ]
    },
    {
     "data": {
      "text/plain": [
       "array([[22, 23, 14],\n",
       "       [30, 31, 16],\n",
       "       [38, 39, 22],\n",
       "       [46, 27, 49]])"
      ]
     },
     "execution_count": 83,
     "metadata": {},
     "output_type": "execute_result"
    }
   ],
   "source": [
    "print(a1)\n",
    "print('------------------')\n",
    "a1+[[10],[15],[20],[25]]       # row"
   ]
  },
  {
   "cell_type": "code",
   "execution_count": 84,
   "id": "5bcc289b",
   "metadata": {},
   "outputs": [
    {
     "name": "stdout",
     "output_type": "stream",
     "text": [
      "[[12 13  4]\n",
      " [15 16  1]\n",
      " [18 19  2]\n",
      " [21  2 24]]\n"
     ]
    },
    {
     "data": {
      "text/plain": [
       "array([[22, 23, 14],\n",
       "       [30, 31, 16],\n",
       "       [38, 39, 22],\n",
       "       [46, 27, 49]])"
      ]
     },
     "execution_count": 84,
     "metadata": {},
     "output_type": "execute_result"
    }
   ],
   "source": [
    "print(a1)\n",
    "a2 = a1+[[10],[15],[20],[25]]\n",
    "a2"
   ]
  },
  {
   "cell_type": "markdown",
   "id": "3f2bf574",
   "metadata": {},
   "source": [
    "### Column wise addition"
   ]
  },
  {
   "cell_type": "code",
   "execution_count": 85,
   "id": "a9d46601",
   "metadata": {},
   "outputs": [
    {
     "name": "stdout",
     "output_type": "stream",
     "text": [
      "[[12 13  4]\n",
      " [15 16  1]\n",
      " [18 19  2]\n",
      " [21  2 24]]\n"
     ]
    },
    {
     "data": {
      "text/plain": [
       "array([[22, 28, 24],\n",
       "       [25, 31, 21],\n",
       "       [28, 34, 22],\n",
       "       [31, 17, 44]])"
      ]
     },
     "execution_count": 85,
     "metadata": {},
     "output_type": "execute_result"
    }
   ],
   "source": [
    "print(a1)\n",
    "a1+[10,15,20]"
   ]
  },
  {
   "cell_type": "raw",
   "id": "4e5bd63a",
   "metadata": {},
   "source": []
  },
  {
   "cell_type": "markdown",
   "id": "d8b3065f",
   "metadata": {},
   "source": [
    "### Adding array of same dimension"
   ]
  },
  {
   "cell_type": "code",
   "execution_count": 86,
   "id": "ce03115a",
   "metadata": {},
   "outputs": [
    {
     "name": "stdout",
     "output_type": "stream",
     "text": [
      "[[12 13  4]\n",
      " [15 16  1]\n",
      " [18 19  2]\n",
      " [21  2 24]]\n"
     ]
    },
    {
     "data": {
      "text/plain": [
       "array([[14, 16,  8],\n",
       "       [16, 20,  4],\n",
       "       [20, 20,  5],\n",
       "       [22,  4, 28]])"
      ]
     },
     "execution_count": 86,
     "metadata": {},
     "output_type": "execute_result"
    }
   ],
   "source": [
    "print(a1)\n",
    "a1+[[2,3,4],\n",
    "    [1,4,3],\n",
    "    [2,1,3],\n",
    "    [1,2,4]]"
   ]
  },
  {
   "cell_type": "markdown",
   "id": "45afd11e",
   "metadata": {},
   "source": [
    "# Broadcasting\n",
    "- The term broadcasting describes how numpy treats arrays with different shapes during arithmetic operations. Subject to certain constraints, the smaller array is “broadcast” across the larger array so that they have compatible shapes."
   ]
  },
  {
   "cell_type": "code",
   "execution_count": 87,
   "id": "c635459d",
   "metadata": {},
   "outputs": [
    {
     "name": "stdout",
     "output_type": "stream",
     "text": [
      "[[10 20 30]\n",
      " [40 50 60]]\n",
      "-------------\n",
      "------------a*b1\n",
      "[[100 200 300]\n",
      " [400 500 600]]\n",
      "------------a*b2\n",
      "[[100 200 300]\n",
      " [400 500 600]]\n",
      "------------a*c\n",
      "[[100 200 300]\n",
      " [400 500 600]]\n",
      "------------a*d\n",
      "[[100 200 300]\n",
      " [400 500 600]]\n"
     ]
    }
   ],
   "source": [
    "a = np.array([[10,20,30],[40,50,60]])\n",
    "print(a)\n",
    "print('-------------')\n",
    "b1 = 10\n",
    "b2 = np.array([10])\n",
    "c = np.array([10,10,10])\n",
    "d = np.array([[10,10,10],[10,10,10]])\n",
    "print('------------a*b1')\n",
    "print(a*b1)\n",
    "print('------------a*b2')\n",
    "print(a*b2)\n",
    "print('------------a*c')\n",
    "print(a*c)\n",
    "print('------------a*d')\n",
    "print(a*d)"
   ]
  },
  {
   "cell_type": "markdown",
   "id": "519eddda",
   "metadata": {},
   "source": []
  },
  {
   "cell_type": "markdown",
   "id": "1e98a6df",
   "metadata": {},
   "source": [
    "## 2) Numpy array functions"
   ]
  },
  {
   "cell_type": "markdown",
   "id": "fcaafe93",
   "metadata": {},
   "source": [
    "### a) np.sum()"
   ]
  },
  {
   "cell_type": "code",
   "execution_count": 88,
   "id": "c84998f6",
   "metadata": {},
   "outputs": [
    {
     "data": {
      "text/plain": [
       "array([[12, 13,  4],\n",
       "       [15, 16,  1],\n",
       "       [18, 19,  2],\n",
       "       [21,  2, 24]])"
      ]
     },
     "execution_count": 88,
     "metadata": {},
     "output_type": "execute_result"
    }
   ],
   "source": [
    "a1"
   ]
  },
  {
   "cell_type": "code",
   "execution_count": 89,
   "id": "0b3630e9",
   "metadata": {},
   "outputs": [
    {
     "data": {
      "text/plain": [
       "210"
      ]
     },
     "execution_count": 89,
     "metadata": {},
     "output_type": "execute_result"
    }
   ],
   "source": [
    "a.sum()"
   ]
  },
  {
   "cell_type": "code",
   "execution_count": 90,
   "id": "84501ffb",
   "metadata": {},
   "outputs": [
    {
     "data": {
      "text/plain": [
       "147"
      ]
     },
     "execution_count": 90,
     "metadata": {},
     "output_type": "execute_result"
    }
   ],
   "source": [
    "np.sum(a1)"
   ]
  },
  {
   "cell_type": "code",
   "execution_count": 91,
   "id": "2f624d4a",
   "metadata": {},
   "outputs": [
    {
     "data": {
      "text/plain": [
       "array([[10, 20, 30],\n",
       "       [40, 50, 60]])"
      ]
     },
     "execution_count": 91,
     "metadata": {},
     "output_type": "execute_result"
    }
   ],
   "source": [
    "a"
   ]
  },
  {
   "cell_type": "code",
   "execution_count": 92,
   "id": "8fe969cc",
   "metadata": {},
   "outputs": [
    {
     "data": {
      "text/plain": [
       "array([50, 70, 90])"
      ]
     },
     "execution_count": 92,
     "metadata": {},
     "output_type": "execute_result"
    }
   ],
   "source": [
    "a.sum(axis=0)"
   ]
  },
  {
   "cell_type": "code",
   "execution_count": 93,
   "id": "5c6f5815",
   "metadata": {},
   "outputs": [
    {
     "data": {
      "text/plain": [
       "array([ 60, 150])"
      ]
     },
     "execution_count": 93,
     "metadata": {},
     "output_type": "execute_result"
    }
   ],
   "source": [
    "a.sum(axis=1)"
   ]
  },
  {
   "cell_type": "markdown",
   "id": "f3716974",
   "metadata": {},
   "source": [
    "### b) np.max() and np.min()"
   ]
  },
  {
   "cell_type": "code",
   "execution_count": 94,
   "id": "96e2962b",
   "metadata": {},
   "outputs": [
    {
     "data": {
      "text/plain": [
       "(array([[10, 20, 30],\n",
       "        [40, 50, 60]]),\n",
       " 60,\n",
       " 10)"
      ]
     },
     "execution_count": 94,
     "metadata": {},
     "output_type": "execute_result"
    }
   ],
   "source": [
    "a,a.max(),a.min()"
   ]
  },
  {
   "cell_type": "markdown",
   "id": "fa5aa455",
   "metadata": {},
   "source": [
    "### c) np.argmax() and np.argmin()\n",
    "- np.argmax() - Returns the indices of the maximum values along an axis\n",
    "\n",
    "- np.argmin() - Returns the indices of the minimum values along an axis"
   ]
  },
  {
   "cell_type": "code",
   "execution_count": 95,
   "id": "90b8db1d",
   "metadata": {},
   "outputs": [
    {
     "data": {
      "text/plain": [
       "(array([[[ 1,  2,  3,  4],\n",
       "         [ 5,  6,  7,  8]],\n",
       " \n",
       "        [[11, 12,  3,  4],\n",
       "         [ 5,  6,  7, 88]]]),\n",
       " 15)"
      ]
     },
     "execution_count": 95,
     "metadata": {},
     "output_type": "execute_result"
    }
   ],
   "source": [
    "a=np.array([[[1,2,3,4],[5,6,7,8]],[[11,12,3,4],[5,6,7,88]]])\n",
    "a,a.argmax()"
   ]
  },
  {
   "cell_type": "code",
   "execution_count": 96,
   "id": "dfa93259",
   "metadata": {},
   "outputs": [
    {
     "data": {
      "text/plain": [
       "0"
      ]
     },
     "execution_count": 96,
     "metadata": {},
     "output_type": "execute_result"
    }
   ],
   "source": [
    "a.argmin()"
   ]
  },
  {
   "cell_type": "code",
   "execution_count": 97,
   "id": "77298909",
   "metadata": {},
   "outputs": [
    {
     "data": {
      "text/plain": [
       "(2, 2, 4)"
      ]
     },
     "execution_count": 97,
     "metadata": {},
     "output_type": "execute_result"
    }
   ],
   "source": [
    "a.shape"
   ]
  },
  {
   "cell_type": "code",
   "execution_count": 98,
   "id": "9c9a3e0f",
   "metadata": {},
   "outputs": [
    {
     "name": "stdout",
     "output_type": "stream",
     "text": [
      "88\n",
      "3\n"
     ]
    },
    {
     "data": {
      "text/plain": [
       "88"
      ]
     },
     "execution_count": 98,
     "metadata": {},
     "output_type": "execute_result"
    }
   ],
   "source": [
    "p1=np.array([[11, 12,  3,  4],[ 5,  6,  7, 88]])\n",
    "print(np.max(p1))\n",
    "print(np.min(p1))\n",
    "p1[1][3]"
   ]
  },
  {
   "cell_type": "code",
   "execution_count": 99,
   "id": "1cc5d52b",
   "metadata": {},
   "outputs": [
    {
     "name": "stdout",
     "output_type": "stream",
     "text": [
      "[[11 12  3  4]\n",
      " [ 5  6  7 88]]\n",
      "7\n",
      "2\n"
     ]
    }
   ],
   "source": [
    "print(p1)\n",
    "print(np.argmax(p1))\n",
    "print(np.argmin(p1))"
   ]
  },
  {
   "cell_type": "code",
   "execution_count": 100,
   "id": "78d9940f",
   "metadata": {},
   "outputs": [],
   "source": [
    "p2=p1"
   ]
  },
  {
   "cell_type": "code",
   "execution_count": 101,
   "id": "38b1dcf3",
   "metadata": {},
   "outputs": [
    {
     "name": "stdout",
     "output_type": "stream",
     "text": [
      "[0 0 1 1]\n",
      "[1 1 0 0]\n",
      "[1 3]\n",
      "[2 0]\n"
     ]
    }
   ],
   "source": [
    "print(np.argmax(p2,axis=0))  # column wise\n",
    "print(np.argmin(p2,axis=0))  # column wise\n",
    "print(np.argmax(p2,axis=1))  # row wise\n",
    "print(np.argmin(p2,axis=1))  # row wise"
   ]
  },
  {
   "cell_type": "markdown",
   "id": "03399596",
   "metadata": {},
   "source": [
    "### d) np.sort"
   ]
  },
  {
   "cell_type": "code",
   "execution_count": 102,
   "id": "771c0199",
   "metadata": {},
   "outputs": [
    {
     "data": {
      "text/plain": [
       "array([[11, 12,  3,  4],\n",
       "       [ 5,  6,  7, 88]])"
      ]
     },
     "execution_count": 102,
     "metadata": {},
     "output_type": "execute_result"
    }
   ],
   "source": [
    "p1"
   ]
  },
  {
   "cell_type": "code",
   "execution_count": 103,
   "id": "9d9d1498",
   "metadata": {},
   "outputs": [
    {
     "data": {
      "text/plain": [
       "array([[ 3,  4, 11, 12],\n",
       "       [ 5,  6,  7, 88]])"
      ]
     },
     "execution_count": 103,
     "metadata": {},
     "output_type": "execute_result"
    }
   ],
   "source": [
    "np.sort(p1)"
   ]
  },
  {
   "cell_type": "code",
   "execution_count": 104,
   "id": "11c643ff",
   "metadata": {},
   "outputs": [
    {
     "data": {
      "text/plain": [
       "(array([[ 5,  6,  7, 88],\n",
       "        [11, 12,  3,  4]]),\n",
       " array([[11, 12,  3,  4],\n",
       "        [ 5,  6,  7, 88]]))"
      ]
     },
     "execution_count": 104,
     "metadata": {},
     "output_type": "execute_result"
    }
   ],
   "source": [
    "p1[::-1],p1"
   ]
  },
  {
   "cell_type": "code",
   "execution_count": 105,
   "id": "e16de7ca",
   "metadata": {},
   "outputs": [
    {
     "data": {
      "text/plain": [
       "array([[ 3,  4, 11, 12],\n",
       "       [ 5,  6,  7, 88]])"
      ]
     },
     "execution_count": 105,
     "metadata": {},
     "output_type": "execute_result"
    }
   ],
   "source": [
    "# sort row wise \n",
    "np.sort(p1,axis=1)"
   ]
  },
  {
   "cell_type": "code",
   "execution_count": 106,
   "id": "5e4cba83",
   "metadata": {},
   "outputs": [
    {
     "data": {
      "text/plain": [
       "array([[ 5,  6,  3,  4],\n",
       "       [11, 12,  7, 88]])"
      ]
     },
     "execution_count": 106,
     "metadata": {},
     "output_type": "execute_result"
    }
   ],
   "source": [
    "np.sort(p1,axis=0)"
   ]
  },
  {
   "cell_type": "markdown",
   "id": "ae5b3bdf",
   "metadata": {},
   "source": [
    "### e) np.where() - returns index position for the matching conditions"
   ]
  },
  {
   "cell_type": "code",
   "execution_count": 107,
   "id": "3ba3f461",
   "metadata": {},
   "outputs": [
    {
     "data": {
      "text/plain": [
       "(array([[11, 12,  3,  4],\n",
       "        [ 5,  6,  7, 88]]),\n",
       " array([12,  3,  6]))"
      ]
     },
     "execution_count": 107,
     "metadata": {},
     "output_type": "execute_result"
    }
   ],
   "source": [
    "p1,p1[np.where(p1%3==0)]"
   ]
  },
  {
   "cell_type": "code",
   "execution_count": 108,
   "id": "4f4757e9",
   "metadata": {},
   "outputs": [
    {
     "data": {
      "text/plain": [
       "(array([0, 0, 0, 0, 1, 1, 1], dtype=int64),\n",
       " array([0, 1, 2, 3, 0, 1, 2], dtype=int64))"
      ]
     },
     "execution_count": 108,
     "metadata": {},
     "output_type": "execute_result"
    }
   ],
   "source": [
    "np.where(p1 < 20)"
   ]
  },
  {
   "cell_type": "code",
   "execution_count": 109,
   "id": "38b8e0e4",
   "metadata": {},
   "outputs": [
    {
     "data": {
      "text/plain": [
       "(array([[ 11,  12,   3,   4],\n",
       "        [  5,   6,   7, 176]]),\n",
       " array([[11, 12,  3,  4],\n",
       "        [ 5,  6,  7, 88]]))"
      ]
     },
     "execution_count": 109,
     "metadata": {},
     "output_type": "execute_result"
    }
   ],
   "source": [
    "np.where(p1 < 20,p1, p1*2),p1"
   ]
  },
  {
   "cell_type": "code",
   "execution_count": 110,
   "id": "5e3c8abc",
   "metadata": {},
   "outputs": [
    {
     "data": {
      "text/plain": [
       "array([[ 4, 22, -4, 14],\n",
       "       [-2, 16,  0, 98]])"
      ]
     },
     "execution_count": 110,
     "metadata": {},
     "output_type": "execute_result"
    }
   ],
   "source": [
    "np.where(p1%2==0, p1+10, p1-7)"
   ]
  },
  {
   "cell_type": "code",
   "execution_count": 111,
   "id": "8df9fcbe",
   "metadata": {},
   "outputs": [
    {
     "data": {
      "text/plain": [
       "((array([0, 0, 1, 1], dtype=int64), array([1, 3, 1, 3], dtype=int64)),\n",
       " array([[11, 12,  3,  4],\n",
       "        [ 5,  6,  7, 88]]))"
      ]
     },
     "execution_count": 111,
     "metadata": {},
     "output_type": "execute_result"
    }
   ],
   "source": [
    "np.where(p1%2==0),p1"
   ]
  },
  {
   "cell_type": "code",
   "execution_count": 112,
   "id": "75512159",
   "metadata": {},
   "outputs": [
    {
     "data": {
      "text/plain": [
       "array([12,  4,  6, 88])"
      ]
     },
     "execution_count": 112,
     "metadata": {},
     "output_type": "execute_result"
    }
   ],
   "source": [
    "p1[np.where(p1%2==0)]"
   ]
  },
  {
   "cell_type": "markdown",
   "id": "f350075f",
   "metadata": {},
   "source": [
    "### f) np.extract() - directly returns the values on which conditions are applied,using the second parameter as array name"
   ]
  },
  {
   "cell_type": "code",
   "execution_count": 113,
   "id": "0d6d611c",
   "metadata": {},
   "outputs": [
    {
     "name": "stdout",
     "output_type": "stream",
     "text": [
      "[88] [[11 12  3  4]\n",
      " [ 5  6  7 88]]\n"
     ]
    },
    {
     "data": {
      "text/plain": [
       "numpy.ndarray"
      ]
     },
     "execution_count": 113,
     "metadata": {},
     "output_type": "execute_result"
    }
   ],
   "source": [
    "t1 = np.extract(p1>20, p1)\n",
    "print(t1,p1)\n",
    "type(t1)"
   ]
  },
  {
   "cell_type": "code",
   "execution_count": 114,
   "id": "1ed955a8",
   "metadata": {},
   "outputs": [
    {
     "data": {
      "text/plain": [
       "array([11,  4,  5,  7, 88])"
      ]
     },
     "execution_count": 114,
     "metadata": {},
     "output_type": "execute_result"
    }
   ],
   "source": [
    "np.extract(p1%3!=0,p1)"
   ]
  },
  {
   "cell_type": "markdown",
   "id": "e5c253a3",
   "metadata": {},
   "source": [
    "## g) np.insert() - adds values at specified position"
   ]
  },
  {
   "cell_type": "code",
   "execution_count": 115,
   "id": "983faed5",
   "metadata": {},
   "outputs": [
    {
     "data": {
      "text/plain": [
       "(array([11, 12, 41,  3,  4,  5,  6,  7, 88]),\n",
       " array([[11, 12,  3,  4],\n",
       "        [ 5,  6,  7, 88]]))"
      ]
     },
     "execution_count": 115,
     "metadata": {},
     "output_type": "execute_result"
    }
   ],
   "source": [
    "np.insert(p1,2,41),p1"
   ]
  },
  {
   "cell_type": "code",
   "execution_count": null,
   "id": "4ebbef43",
   "metadata": {},
   "outputs": [],
   "source": []
  },
  {
   "cell_type": "markdown",
   "id": "ce7c51cf",
   "metadata": {},
   "source": [
    "## h) np.delete() - deletes values at specified position/index"
   ]
  },
  {
   "cell_type": "code",
   "execution_count": 116,
   "id": "645480f7",
   "metadata": {},
   "outputs": [
    {
     "data": {
      "text/plain": [
       "array([11, 12,  3,  4,  6,  7, 88])"
      ]
     },
     "execution_count": 116,
     "metadata": {},
     "output_type": "execute_result"
    }
   ],
   "source": [
    "p2 = np.delete(p1,4)\n",
    "p2"
   ]
  },
  {
   "cell_type": "code",
   "execution_count": 117,
   "id": "6f19f531",
   "metadata": {},
   "outputs": [
    {
     "name": "stdout",
     "output_type": "stream",
     "text": [
      "[[11 12  4]\n",
      " [ 5  6 88]]\n"
     ]
    }
   ],
   "source": [
    "q1 = np.delete(p1,2,axis=1)  # deletes 2nd index column value corresponding to each row\n",
    "print(q1)"
   ]
  },
  {
   "cell_type": "code",
   "execution_count": 118,
   "id": "c719eb91",
   "metadata": {},
   "outputs": [
    {
     "data": {
      "text/plain": [
       "array([[11, 12,  3,  4],\n",
       "       [ 5,  6,  7, 88]])"
      ]
     },
     "execution_count": 118,
     "metadata": {},
     "output_type": "execute_result"
    }
   ],
   "source": [
    "p1"
   ]
  },
  {
   "cell_type": "code",
   "execution_count": 119,
   "id": "ca6cb266",
   "metadata": {},
   "outputs": [
    {
     "name": "stdout",
     "output_type": "stream",
     "text": [
      "[[11 12  3  4]]\n"
     ]
    }
   ],
   "source": [
    "q1 = np.delete(p1,1,axis=0) # deletes 2nd index row value corresponding to each column\n",
    "print(q1)"
   ]
  },
  {
   "cell_type": "markdown",
   "id": "aff7cc69",
   "metadata": {},
   "source": [
    "## 3) Appending values ino array"
   ]
  },
  {
   "cell_type": "code",
   "execution_count": 120,
   "id": "c17ae82c",
   "metadata": {},
   "outputs": [
    {
     "data": {
      "text/plain": [
       "array([11, 12,  3,  4,  5,  6,  7, 88, 23])"
      ]
     },
     "execution_count": 120,
     "metadata": {},
     "output_type": "execute_result"
    }
   ],
   "source": [
    "np.append(p1,23)"
   ]
  },
  {
   "cell_type": "markdown",
   "id": "07fed597",
   "metadata": {},
   "source": [
    "### a) Append/Add a new Row/Column"
   ]
  },
  {
   "cell_type": "code",
   "execution_count": 121,
   "id": "cbf9194e",
   "metadata": {},
   "outputs": [
    {
     "name": "stdout",
     "output_type": "stream",
     "text": [
      "[[11 12  3  4]\n",
      " [ 5  6  7 88]\n",
      " [13 14 15 16]]\n",
      "(3, 4)\n"
     ]
    }
   ],
   "source": [
    "# Column wise - Add a value to each column, thereby creaing a new row\n",
    "r2 = np.append(p1, [[13,14,15,16]], axis=0) \n",
    "print(r2)\n",
    "print(r2.shape)"
   ]
  },
  {
   "cell_type": "code",
   "execution_count": 122,
   "id": "b11d6232",
   "metadata": {},
   "outputs": [
    {
     "data": {
      "text/plain": [
       "(array([[11, 12,  3,  4],\n",
       "        [ 5,  6,  7, 88]]),\n",
       " array([[11, 12,  3,  4],\n",
       "        [ 5,  6,  7, 88],\n",
       "        [13, 14, 15, 16]]))"
      ]
     },
     "execution_count": 122,
     "metadata": {},
     "output_type": "execute_result"
    }
   ],
   "source": [
    "p1,r2"
   ]
  },
  {
   "cell_type": "code",
   "execution_count": 123,
   "id": "bd3934e7",
   "metadata": {},
   "outputs": [
    {
     "name": "stdout",
     "output_type": "stream",
     "text": [
      "[[ 11  12   3   4 500]\n",
      " [  5   6   7  88 600]]\n",
      "(2, 5)\n"
     ]
    }
   ],
   "source": [
    "# Row wise - Add a value to each row, thereby creaing a new column\n",
    "r4 = np.append(p1, [[500],[600]], axis=1)\n",
    "print(r4)\n",
    "print(r4.shape)"
   ]
  },
  {
   "cell_type": "markdown",
   "id": "7096202c",
   "metadata": {},
   "source": [
    "### 4) Iterating over numpy array - np.nditer()"
   ]
  },
  {
   "cell_type": "code",
   "execution_count": 124,
   "id": "449699f0",
   "metadata": {},
   "outputs": [
    {
     "name": "stdout",
     "output_type": "stream",
     "text": [
      "[11 12  3  4]\n",
      "[ 5  6  7 88]\n"
     ]
    }
   ],
   "source": [
    "for i in p1:\n",
    "    print(i)"
   ]
  },
  {
   "cell_type": "code",
   "execution_count": 125,
   "id": "1959e290",
   "metadata": {},
   "outputs": [
    {
     "data": {
      "text/plain": [
       "array([[11, 12,  3,  4],\n",
       "       [ 5,  6,  7, 88]])"
      ]
     },
     "execution_count": 125,
     "metadata": {},
     "output_type": "execute_result"
    }
   ],
   "source": [
    "p1"
   ]
  },
  {
   "cell_type": "code",
   "execution_count": 126,
   "id": "70e7ec54",
   "metadata": {},
   "outputs": [
    {
     "name": "stdout",
     "output_type": "stream",
     "text": [
      "11\n",
      "12\n",
      "3\n",
      "4\n",
      "5\n",
      "6\n",
      "7\n",
      "88\n"
     ]
    }
   ],
   "source": [
    "for i in np.nditer(p1):\n",
    "    print(i)"
   ]
  },
  {
   "cell_type": "code",
   "execution_count": 127,
   "id": "9d40de52",
   "metadata": {},
   "outputs": [
    {
     "data": {
      "text/plain": [
       "array([[0, 1, 2],\n",
       "       [3, 4, 5],\n",
       "       [6, 7, 8]])"
      ]
     },
     "execution_count": 127,
     "metadata": {},
     "output_type": "execute_result"
    }
   ],
   "source": [
    "n1=np.arange(9).reshape(3,3)\n",
    "n1"
   ]
  },
  {
   "cell_type": "code",
   "execution_count": 128,
   "id": "95002d4b",
   "metadata": {},
   "outputs": [
    {
     "name": "stdout",
     "output_type": "stream",
     "text": [
      "[ 1  7 13]\n",
      "21\n",
      "[3 5 7]\n",
      "15\n"
     ]
    }
   ],
   "source": [
    "# Add 0th column and 1st column\n",
    "res1 = n1[:,0]+ n1[:,1]  # Element wise addition of 1st column and 2nd column\n",
    "print(res1)\n",
    "res2 = n1[:,0].sum() + n1[:,1].sum()  # Aggregate sum of all elements of 1st and 2nd column \n",
    "print(res2)\n",
    "res3 = n1[0] + n1[1]  # sum of 0th and 1st row\n",
    "print(res3)\n",
    "res4 = n1[0].sum() + n1[1].sum() # Aggreate sum of 1st and 2nd row\n",
    "print(res4)"
   ]
  },
  {
   "cell_type": "code",
   "execution_count": 129,
   "id": "760c00d4",
   "metadata": {},
   "outputs": [
    {
     "name": "stdout",
     "output_type": "stream",
     "text": [
      "[0 1 2]\n",
      "[3 4 5]\n",
      "[6 7 8]\n",
      "0 1 2 3 4 5 6 7 8 [0 1 2] [3 4 5] [6 7 8] 3\n",
      "[0 1 2] [3 4 5] [6 7 8] "
     ]
    }
   ],
   "source": [
    "for i in n1:\n",
    "    print(i)\n",
    "\n",
    "for i in np.nditer(n1):\n",
    "    print(i,end=\" \")\n",
    "\n",
    "for i in n1:\n",
    "    print(i,end=\" \")\n",
    "\n",
    "print(len(n1))\n",
    "for i in range(len(n1)):\n",
    "    print(n1[i],end=\" \")"
   ]
  },
  {
   "cell_type": "code",
   "execution_count": 130,
   "id": "fb759efa",
   "metadata": {},
   "outputs": [
    {
     "name": "stdout",
     "output_type": "stream",
     "text": [
      "0\n",
      "1\n",
      "2\n",
      "3\n",
      "4\n",
      "5\n",
      "6\n",
      "7\n",
      "8\n"
     ]
    }
   ],
   "source": [
    "n1.flatten()\n",
    "\n",
    "for i in n1.flatten():\n",
    "    print(i)"
   ]
  },
  {
   "cell_type": "code",
   "execution_count": 160,
   "id": "cd2e43f5",
   "metadata": {},
   "outputs": [
    {
     "name": "stdout",
     "output_type": "stream",
     "text": [
      "0 1 2 3 4 5 6 7 8 0 1 2 3 4 5 6 7 8 [[0 1 2]\n",
      " [3 4 5]\n",
      " [6 7 8]]\n",
      "0 3 6 1 4 7 2 5 8 [[0 1 2]\n",
      " [3 4 5]\n",
      " [6 7 8]]\n",
      "0 1 2 3 4 5 6 7 8 0 1 2 3 4 5 6 7 8 [[0 1 2]\n",
      " [3 4 5]\n",
      " [6 7 8]]\n"
     ]
    }
   ],
   "source": [
    "for i in np.nditer(n1):  \n",
    "    print(i,end=' ')\n",
    "\n",
    "for i in np.nditer(n1,order='C'):  # order= 'C', iterates element row wise\n",
    "    print(i,end=' ')\n",
    "\n",
    "print(n1)\n",
    "\n",
    "for i in np.nditer(n1,order='F'):  # order= 'F', print element column wise\n",
    "    print(i,end=' ')\n",
    "\n",
    "print(n1)\n",
    "\n",
    "for i in np.nditer(n1,order='A'):  # order= 'A', print element column wise\n",
    "    print(i,end=' ')\n",
    "\n",
    "for i in np.nditer(n1,order='K'):  # order= 'K', print element column wise\n",
    "    print(i,end=' ')\n",
    "\n",
    "print(n1)"
   ]
  },
  {
   "cell_type": "code",
   "execution_count": 132,
   "id": "baf57bfc",
   "metadata": {},
   "outputs": [
    {
     "name": "stdout",
     "output_type": "stream",
     "text": [
      "0 0\n",
      "1 1\n",
      "2 2\n",
      "3 3\n",
      "4 4\n",
      "5 5\n",
      "6 6\n",
      "7 7\n",
      "8 8\n"
     ]
    }
   ],
   "source": [
    "n2=np.arange(9).reshape(3,3)\n",
    "for x,y in np.nditer([n1,n2]): \n",
    "    print(x,y)"
   ]
  },
  {
   "cell_type": "code",
   "execution_count": 133,
   "id": "6b9d2e0c",
   "metadata": {},
   "outputs": [
    {
     "name": "stdout",
     "output_type": "stream",
     "text": [
      "[[ 2  4  6]\n",
      " [ 8 10 12]\n",
      " [14 16 18]]\n",
      "[[ 2  8 14]\n",
      " [ 4 10 16]\n",
      " [ 6 12 18]]\n",
      "[ 2  4  6  8 10 12 14 16 18]\n",
      "[ 2  8 14  4 10 16  6 12 18]\n",
      "[[8 5 0]\n",
      " [2 9 6]\n",
      " [4 1 7]]\n",
      "[[3 7 9]\n",
      " [4 1 0]\n",
      " [5 6 2]]\n",
      "[[44 61 72]\n",
      " [72 59 30]\n",
      " [51 71 50]]\n",
      "[[44 61 72]\n",
      " [72 59 30]\n",
      " [51 71 50]]\n",
      "[[8 5 0]\n",
      " [2 9 6]\n",
      " [4 1 7]]\n",
      "[[3 7 9]\n",
      " [4 1 0]\n",
      " [5 6 2]]\n",
      "[[24 35  0]\n",
      " [ 8  9  0]\n",
      " [20  6 14]]\n",
      "[[0 1 2]\n",
      " [2 3 4]\n",
      " [1 2 5]]\n",
      "Rank of A: 3\n",
      "Trace of A: 8\n",
      "Determinant of A: -4.0\n",
      "Inverse of A:\n",
      " [[-1.75  0.25  0.5 ]\n",
      " [ 1.5   0.5  -1.  ]\n",
      " [-0.25 -0.25  0.5 ]]\n",
      "Solution of linear equations: [ 6.8 -0.6]\n",
      "[5. 3. 2.]\n",
      "[[0 1 2]\n",
      " [2 3 4]\n",
      " [0 2 1]]\n",
      "Determinant of A: 6.0\n"
     ]
    }
   ],
   "source": [
    "## 5) Matrix Multiplication and Transpose, Flatten\n",
    "\n",
    "r1 = np.arange(2,20,2).reshape(3,3)\n",
    "print(r1)  # Normal matrix\n",
    "\n",
    "print(r1.T)  # Transpose of the array\n",
    "print(r1.flatten())  # Flatten the normal array\n",
    "print(r1.T.flatten())  # Flatten the transpose of the array\n",
    "\n",
    "a1 = np.array([8,5,0,2,9,6,4,1,7]).reshape(3,3)\n",
    "a2 = np.array([3,7,9,4,1,0,5,6,2]).reshape(3,3)\n",
    "print(a1)\n",
    "print(a2)\n",
    "\n",
    "# Actual Matrix multiplication\n",
    "r2 = np.matmul(a1,a2)\n",
    "print(r2)\n",
    "\n",
    "# Actual Matrix multiplication\n",
    "r2 = np.dot(a1,a2)\n",
    "print(r2)\n",
    "\n",
    "print(a1)\n",
    "print(a2)\n",
    "\n",
    "# Element wise multiplication\n",
    "r3 = np.multiply(a1,a2)\n",
    "print(r3)\n",
    "\n",
    "#<b>Linear algebra in NumPy:</b> \n",
    "#<br>The Linear Algebra module of NumPy offers various methods to apply linear algebra \n",
    "#on any numpy array. It can be used to determine:\n",
    "#<ol>\n",
    "#<li>rank, determinant, trace, etc. of an array.</li>\n",
    "#<li>solve linear equations</li>\n",
    "#</ol>\n",
    "\n",
    "A = np.array([[0,1,2], \n",
    "              [2,3,4], \n",
    "              [1,2,5]],dtype=int) \n",
    "print(A)\n",
    "\n",
    "print(\"Rank of A:\", np.linalg.matrix_rank(A)) \n",
    "  \n",
    "print(\"Trace of A:\", np.trace(A))  # 0+3+5\n",
    "  \n",
    "print(\"Determinant of A:\", np.linalg.det(A)) \n",
    "# 0(3*5-4*2) - 1(2*5 - 4*1) + 2(2*2 - 3*1)  = -6 + 2(1) = -6 + 2 = -4\n",
    "  \n",
    "print(\"Inverse of A:\\n\", np.linalg.inv(A)) \n",
    "\n",
    "### Solving Linear Equations using numpy\n",
    "\n",
    "# Solving the equation:-\n",
    "# x -2y = 8\n",
    "# 3x + 4y = 18\n",
    "\n",
    "a = np.array([[1, -2], [3, 4]]) \n",
    "b = np.array([8, 18]) \n",
    "  \n",
    "print(\"Solution of linear equations:\", np.linalg.solve(a, b))\n",
    "\n",
    "# Solving the equation:-\n",
    "# x +2y-z =9\n",
    "# 2x -3y+7z = 15\n",
    "# 7x -4y-5z = 13\n",
    "\n",
    "a = np.array([[1, 2, -1], [2, -3, 7], [7, -4, -5]])\n",
    "b = np.array([9,15,13])\n",
    "x = np.linalg.solve(a, b)\n",
    "print(x)\n",
    "\n",
    "s1 = np.array([[0,1,2],[2,3,4],[0,2,1]])\n",
    "print(s1)\n",
    "print(\"Determinant of A:\", np.linalg.det(s1)) "
   ]
  },
  {
   "cell_type": "raw",
   "id": "8f996969",
   "metadata": {},
   "source": []
  },
  {
   "cell_type": "raw",
   "id": "ba320c7a",
   "metadata": {},
   "source": []
  },
  {
   "cell_type": "markdown",
   "id": "5506868f",
   "metadata": {},
   "source": [
    "### Concatenation "
   ]
  },
  {
   "cell_type": "markdown",
   "id": "ad34d4e2",
   "metadata": {},
   "source": [
    "- np.concatenate(v1,v2)\n",
    "- np.concatenate(v1,v2)\n",
    "- np.concatenate((v1,v2),axis=0)\n",
    "- np.concatenate((v1,v2),axis=1)"
   ]
  },
  {
   "cell_type": "code",
   "execution_count": null,
   "id": "7c65b149",
   "metadata": {},
   "outputs": [],
   "source": []
  },
  {
   "cell_type": "code",
   "execution_count": 134,
   "id": "4ec25bf3",
   "metadata": {},
   "outputs": [
    {
     "name": "stdout",
     "output_type": "stream",
     "text": [
      "[ 1 22 33 11 43 56  4]\n"
     ]
    },
    {
     "data": {
      "text/plain": [
       "(array([11, 22, 33, 44, 55]), array([ 12,  13,  14, 115,  16]))"
      ]
     },
     "execution_count": 134,
     "metadata": {},
     "output_type": "execute_result"
    }
   ],
   "source": [
    "# creating two 1D array\n",
    "arr_1=np.array([11,22,33,44,55])\n",
    "arr_2=np.array([12,13,14,115,16])\n",
    "print(arr)\n",
    "arr_1,arr_2"
   ]
  },
  {
   "cell_type": "code",
   "execution_count": 135,
   "id": "3e4cc88c",
   "metadata": {},
   "outputs": [
    {
     "data": {
      "text/plain": [
       "array([ 23,  35,  47, 159,  71])"
      ]
     },
     "execution_count": 135,
     "metadata": {},
     "output_type": "execute_result"
    }
   ],
   "source": [
    "arr_1+arr_2 "
   ]
  },
  {
   "cell_type": "code",
   "execution_count": 136,
   "id": "7e9cd971",
   "metadata": {},
   "outputs": [
    {
     "data": {
      "text/plain": [
       "array([ 11,  22,  33,  44,  55,  12,  13,  14, 115,  16])"
      ]
     },
     "execution_count": 136,
     "metadata": {},
     "output_type": "execute_result"
    }
   ],
   "source": [
    "arr_1_2=np.concatenate((arr_1,arr_2))  # use double paranthesis\n",
    "arr_1_2"
   ]
  },
  {
   "cell_type": "code",
   "execution_count": 137,
   "id": "42058cd9",
   "metadata": {},
   "outputs": [
    {
     "data": {
      "text/plain": [
       "array([ 12,  13,  14, 115,  16,  11,  22,  33,  44,  55])"
      ]
     },
     "execution_count": 137,
     "metadata": {},
     "output_type": "execute_result"
    }
   ],
   "source": [
    "arr_2_1=np.concatenate((arr_2,arr_1),axis=0)  # use double paranthesis\n",
    "arr_2_1"
   ]
  },
  {
   "cell_type": "raw",
   "id": "5b7c0476",
   "metadata": {},
   "source": []
  },
  {
   "cell_type": "code",
   "execution_count": 138,
   "id": "1bf0147c",
   "metadata": {},
   "outputs": [
    {
     "data": {
      "text/plain": [
       "array([[[48, 37, 11, 91, 78],\n",
       "        [14, 23, 51, 69, 97],\n",
       "        [85, 50, 58, 79, 53],\n",
       "        [64, 36, 29, 32, 66],\n",
       "        [94, 13, 92, 92, 20]],\n",
       "\n",
       "       [[48, 69, 11, 77, 81],\n",
       "        [72, 31, 72, 15, 56],\n",
       "        [71, 70, 15, 90, 30],\n",
       "        [62, 92, 43, 97, 35],\n",
       "        [76, 76, 44, 15, 25]]])"
      ]
     },
     "execution_count": 138,
     "metadata": {},
     "output_type": "execute_result"
    }
   ],
   "source": [
    "import random\n",
    "a=np.random.randint(10,100,50).reshape(2,5,5)\n",
    "a"
   ]
  },
  {
   "cell_type": "code",
   "execution_count": 139,
   "id": "9bc55026",
   "metadata": {},
   "outputs": [
    {
     "data": {
      "text/plain": [
       "array([[[892, 320, 370, 674, 976],\n",
       "        [699, 872, 970, 285, 409],\n",
       "        [600, 396, 162, 185, 529],\n",
       "        [772, 250, 491, 161, 419],\n",
       "        [554, 244, 228, 119, 974]],\n",
       "\n",
       "       [[440, 207, 296, 178, 136],\n",
       "        [989, 435, 235, 725, 994],\n",
       "        [674, 146, 698, 996, 434],\n",
       "        [601, 558, 709, 721, 405],\n",
       "        [100, 633, 131, 120, 825]]])"
      ]
     },
     "execution_count": 139,
     "metadata": {},
     "output_type": "execute_result"
    }
   ],
   "source": [
    "b=np.random.randint(100,1000,50).reshape(2,5,5)\n",
    "b"
   ]
  },
  {
   "cell_type": "code",
   "execution_count": 140,
   "id": "7376b302",
   "metadata": {},
   "outputs": [
    {
     "data": {
      "text/plain": [
       "array([[[ 48,  37,  11,  91,  78],\n",
       "        [ 14,  23,  51,  69,  97],\n",
       "        [ 85,  50,  58,  79,  53],\n",
       "        [ 64,  36,  29,  32,  66],\n",
       "        [ 94,  13,  92,  92,  20]],\n",
       "\n",
       "       [[ 48,  69,  11,  77,  81],\n",
       "        [ 72,  31,  72,  15,  56],\n",
       "        [ 71,  70,  15,  90,  30],\n",
       "        [ 62,  92,  43,  97,  35],\n",
       "        [ 76,  76,  44,  15,  25]],\n",
       "\n",
       "       [[892, 320, 370, 674, 976],\n",
       "        [699, 872, 970, 285, 409],\n",
       "        [600, 396, 162, 185, 529],\n",
       "        [772, 250, 491, 161, 419],\n",
       "        [554, 244, 228, 119, 974]],\n",
       "\n",
       "       [[440, 207, 296, 178, 136],\n",
       "        [989, 435, 235, 725, 994],\n",
       "        [674, 146, 698, 996, 434],\n",
       "        [601, 558, 709, 721, 405],\n",
       "        [100, 633, 131, 120, 825]]])"
      ]
     },
     "execution_count": 140,
     "metadata": {},
     "output_type": "execute_result"
    }
   ],
   "source": [
    "c_=np.concatenate((a,b)) # by defalt - # axis =0 rows wise horizontally\n",
    "c_"
   ]
  },
  {
   "cell_type": "code",
   "execution_count": 141,
   "id": "2c64ab7e",
   "metadata": {},
   "outputs": [
    {
     "data": {
      "text/plain": [
       "array([[[892, 320, 370, 674, 976],\n",
       "        [699, 872, 970, 285, 409],\n",
       "        [600, 396, 162, 185, 529],\n",
       "        [772, 250, 491, 161, 419],\n",
       "        [554, 244, 228, 119, 974],\n",
       "        [ 48,  37,  11,  91,  78],\n",
       "        [ 14,  23,  51,  69,  97],\n",
       "        [ 85,  50,  58,  79,  53],\n",
       "        [ 64,  36,  29,  32,  66],\n",
       "        [ 94,  13,  92,  92,  20]],\n",
       "\n",
       "       [[440, 207, 296, 178, 136],\n",
       "        [989, 435, 235, 725, 994],\n",
       "        [674, 146, 698, 996, 434],\n",
       "        [601, 558, 709, 721, 405],\n",
       "        [100, 633, 131, 120, 825],\n",
       "        [ 48,  69,  11,  77,  81],\n",
       "        [ 72,  31,  72,  15,  56],\n",
       "        [ 71,  70,  15,  90,  30],\n",
       "        [ 62,  92,  43,  97,  35],\n",
       "        [ 76,  76,  44,  15,  25]]])"
      ]
     },
     "execution_count": 141,
     "metadata": {},
     "output_type": "execute_result"
    }
   ],
   "source": [
    "d_=np.concatenate((b,a),axis=1)  # # axis =1 column wise vertically in numpy\n",
    "d_"
   ]
  },
  {
   "cell_type": "markdown",
   "id": "b950b67c",
   "metadata": {},
   "source": [
    "# Stack\n",
    "- np.hstack((v1,v2))\n",
    "- np.vstack((v1,v2))\n",
    "- np.column_stack((v2,v1))"
   ]
  },
  {
   "cell_type": "code",
   "execution_count": 142,
   "id": "5194a1a7",
   "metadata": {},
   "outputs": [
    {
     "data": {
      "text/plain": [
       "(array([[426, 271, 226, 624, 818],\n",
       "        [183, 106, 275, 790, 750]]),\n",
       " array([[ 459,  509, 1206, 1880,  846],\n",
       "        [ 560, 1000, 1486,  614, 1532]]))"
      ]
     },
     "execution_count": 142,
     "metadata": {},
     "output_type": "execute_result"
    }
   ],
   "source": [
    "a=np.random.randint(100,1000,10).reshape(2,5)\n",
    "b=np.random.randint(200,2000,10).reshape(2,5)\n",
    "a,b"
   ]
  },
  {
   "cell_type": "code",
   "execution_count": 143,
   "id": "c8ac8a37",
   "metadata": {},
   "outputs": [
    {
     "data": {
      "text/plain": [
       "array([[[ 426,  271,  226,  624,  818],\n",
       "        [ 183,  106,  275,  790,  750]],\n",
       "\n",
       "       [[ 459,  509, 1206, 1880,  846],\n",
       "        [ 560, 1000, 1486,  614, 1532]]])"
      ]
     },
     "execution_count": 143,
     "metadata": {},
     "output_type": "execute_result"
    }
   ],
   "source": [
    "np.stack((a,b))"
   ]
  },
  {
   "cell_type": "code",
   "execution_count": 144,
   "id": "79852394",
   "metadata": {},
   "outputs": [
    {
     "data": {
      "text/plain": [
       "array([[ 426,  271,  226,  624,  818,  459,  509, 1206, 1880,  846],\n",
       "       [ 183,  106,  275,  790,  750,  560, 1000, 1486,  614, 1532]])"
      ]
     },
     "execution_count": 144,
     "metadata": {},
     "output_type": "execute_result"
    }
   ],
   "source": [
    "np.hstack((a,b))"
   ]
  },
  {
   "cell_type": "code",
   "execution_count": 145,
   "id": "554bdd8f",
   "metadata": {},
   "outputs": [
    {
     "data": {
      "text/plain": [
       "array([[ 426,  271,  226,  624,  818],\n",
       "       [ 183,  106,  275,  790,  750],\n",
       "       [ 459,  509, 1206, 1880,  846],\n",
       "       [ 560, 1000, 1486,  614, 1532]])"
      ]
     },
     "execution_count": 145,
     "metadata": {},
     "output_type": "execute_result"
    }
   ],
   "source": [
    "np.vstack((a,b))"
   ]
  },
  {
   "cell_type": "markdown",
   "id": "bebb38aa",
   "metadata": {},
   "source": [
    "https://www.geeksforgeeks.org/numpy-stack-in-python/\n",
    "https://www.geeksforgeeks.org/how-to-use-axis0-and-axis1-in-pandas/"
   ]
  },
  {
   "cell_type": "code",
   "execution_count": 146,
   "id": "7424df6f",
   "metadata": {},
   "outputs": [
    {
     "data": {
      "text/plain": [
       "array([[[ 426,  271,  226,  624,  818],\n",
       "        [ 183,  106,  275,  790,  750]],\n",
       "\n",
       "       [[ 459,  509, 1206, 1880,  846],\n",
       "        [ 560, 1000, 1486,  614, 1532]]])"
      ]
     },
     "execution_count": 146,
     "metadata": {},
     "output_type": "execute_result"
    }
   ],
   "source": [
    "np.stack((a,b),axis=0)"
   ]
  },
  {
   "cell_type": "code",
   "execution_count": 147,
   "id": "5fb00853",
   "metadata": {},
   "outputs": [
    {
     "data": {
      "text/plain": [
       "array([[[ 426,  271,  226,  624,  818],\n",
       "        [ 459,  509, 1206, 1880,  846]],\n",
       "\n",
       "       [[ 183,  106,  275,  790,  750],\n",
       "        [ 560, 1000, 1486,  614, 1532]]])"
      ]
     },
     "execution_count": 147,
     "metadata": {},
     "output_type": "execute_result"
    }
   ],
   "source": [
    "np.stack((a,b),axis=1)"
   ]
  },
  {
   "cell_type": "code",
   "execution_count": 148,
   "id": "1393895e",
   "metadata": {},
   "outputs": [
    {
     "data": {
      "text/plain": [
       "array([[[ 426,  459],\n",
       "        [ 271,  509],\n",
       "        [ 226, 1206],\n",
       "        [ 624, 1880],\n",
       "        [ 818,  846]],\n",
       "\n",
       "       [[ 183,  560],\n",
       "        [ 106, 1000],\n",
       "        [ 275, 1486],\n",
       "        [ 790,  614],\n",
       "        [ 750, 1532]]])"
      ]
     },
     "execution_count": 148,
     "metadata": {},
     "output_type": "execute_result"
    }
   ],
   "source": [
    "np.stack((a,b),axis=2)"
   ]
  },
  {
   "cell_type": "code",
   "execution_count": 149,
   "id": "d24c35b7",
   "metadata": {},
   "outputs": [
    {
     "data": {
      "text/plain": [
       "array([[[ 426,  459],\n",
       "        [ 271,  509],\n",
       "        [ 226, 1206],\n",
       "        [ 624, 1880],\n",
       "        [ 818,  846]],\n",
       "\n",
       "       [[ 183,  560],\n",
       "        [ 106, 1000],\n",
       "        [ 275, 1486],\n",
       "        [ 790,  614],\n",
       "        [ 750, 1532]]])"
      ]
     },
     "execution_count": 149,
     "metadata": {},
     "output_type": "execute_result"
    }
   ],
   "source": [
    "np.stack((a,b),axis=2)"
   ]
  },
  {
   "cell_type": "markdown",
   "id": "8b40e79f",
   "metadata": {},
   "source": [
    "# intersaction & difference\n",
    "- np.intersect1d(n,n1)  # extract commen elements\n",
    "- np.setdiff1d(n,n1)   # Unique value in given first variable"
   ]
  },
  {
   "cell_type": "code",
   "execution_count": 150,
   "id": "39c74774",
   "metadata": {},
   "outputs": [
    {
     "data": {
      "text/plain": [
       "(array([[[ 10,  20,  30,  40,  50],\n",
       "         [ 60,  70,  80,  90, 100]],\n",
       " \n",
       "        [[ 10,  20,  30,  40,  50],\n",
       "         [ 60,  70,  80,  90, 100]]]),\n",
       " array([[[20, 40, 50],\n",
       "         [60, 70, 80]],\n",
       " \n",
       "        [[20, 40, 50],\n",
       "         [60, 70, 80]]]))"
      ]
     },
     "execution_count": 150,
     "metadata": {},
     "output_type": "execute_result"
    }
   ],
   "source": [
    "a=np.array([[[10,20,30,40,50],[60,70,80,90,100]],[[10,20,30,40,50],[60,70,80,90,100]]])\n",
    "b=np.array([[[20,40,50],[60,70,80]],[[20,40,50],[60,70,80]]])\n",
    "a,b"
   ]
  },
  {
   "cell_type": "code",
   "execution_count": 151,
   "id": "7e917386",
   "metadata": {},
   "outputs": [
    {
     "data": {
      "text/plain": [
       "array([20, 40, 50, 60, 70, 80])"
      ]
     },
     "execution_count": 151,
     "metadata": {},
     "output_type": "execute_result"
    }
   ],
   "source": [
    "np.intersect1d(a,b)"
   ]
  },
  {
   "cell_type": "code",
   "execution_count": 152,
   "id": "dfab4127",
   "metadata": {},
   "outputs": [
    {
     "data": {
      "text/plain": [
       "array([ 10,  30,  90, 100])"
      ]
     },
     "execution_count": 152,
     "metadata": {},
     "output_type": "execute_result"
    }
   ],
   "source": [
    "np.setdiff1d(a,b)"
   ]
  },
  {
   "cell_type": "code",
   "execution_count": null,
   "id": "abcda970",
   "metadata": {},
   "outputs": [],
   "source": []
  },
  {
   "cell_type": "markdown",
   "id": "6c180dc0",
   "metadata": {},
   "source": [
    "# Numpy array copy vs View\n",
    "- the difference between copy and view"
   ]
  },
  {
   "cell_type": "code",
   "execution_count": 153,
   "id": "60193a83",
   "metadata": {},
   "outputs": [
    {
     "data": {
      "text/plain": [
       "((2, 2, 5),\n",
       " array([[[ 10,  20,  30,  40,  50],\n",
       "         [ 60,  70,  80,  90, 100]],\n",
       " \n",
       "        [[ 10,  20,  30,  40,  50],\n",
       "         [ 60,  70,  80,  90, 100]]]))"
      ]
     },
     "execution_count": 153,
     "metadata": {},
     "output_type": "execute_result"
    }
   ],
   "source": [
    "a.shape,a"
   ]
  },
  {
   "cell_type": "code",
   "execution_count": 154,
   "id": "b8ad614b",
   "metadata": {},
   "outputs": [
    {
     "name": "stdout",
     "output_type": "stream",
     "text": [
      "[[[ 10  20  30  40  50]\n",
      "  [ 60  70  80  90 100]]\n",
      "\n",
      " [[ 10  20  30  40  50]\n",
      "  [ 60  70  80  90 100]]]\n"
     ]
    },
    {
     "data": {
      "text/plain": [
       "array([[[ 10,  20,  30,  40,  50],\n",
       "        [ 60,  70,  80,  90, 100]],\n",
       "\n",
       "       [[ 10,  20,  30,  40,  50],\n",
       "        [ 10,  10,  10,  10,  10]]])"
      ]
     },
     "execution_count": 154,
     "metadata": {},
     "output_type": "execute_result"
    }
   ],
   "source": [
    "print(a)\n",
    "a[1][1]=10    # a[set no][row no]= value\n",
    "a"
   ]
  },
  {
   "cell_type": "code",
   "execution_count": 155,
   "id": "9d818773",
   "metadata": {},
   "outputs": [
    {
     "data": {
      "text/plain": [
       "array([[[ 10,  20,  30,  40,  50],\n",
       "        [345, 345, 345, 345, 345]],\n",
       "\n",
       "       [[ 10,  20,  30,  40,  50],\n",
       "        [ 10,  10,  10,  10,  10]]])"
      ]
     },
     "execution_count": 155,
     "metadata": {},
     "output_type": "execute_result"
    }
   ],
   "source": [
    "a[0][1]=345\n",
    "a"
   ]
  },
  {
   "cell_type": "code",
   "execution_count": 156,
   "id": "9e38a49a",
   "metadata": {},
   "outputs": [
    {
     "data": {
      "text/plain": [
       "(array([[[ 10,  20,  30,  40,  50],\n",
       "         [876, 876, 876, 876, 876]],\n",
       " \n",
       "        [[ 10,  20,  30,  40,  50],\n",
       "         [ 10,  10,  10,  10,  10]]]),\n",
       " array([[[ 10,  20,  30,  40,  50],\n",
       "         [876, 876, 876, 876, 876]],\n",
       " \n",
       "        [[ 10,  20,  30,  40,  50],\n",
       "         [ 10,  10,  10,  10,  10]]]))"
      ]
     },
     "execution_count": 156,
     "metadata": {},
     "output_type": "execute_result"
    }
   ],
   "source": [
    "# view\n",
    "v=a.view()\n",
    "v\n",
    "a[0][1]=876\n",
    "a,v"
   ]
  },
  {
   "cell_type": "code",
   "execution_count": 157,
   "id": "ba7a80ca",
   "metadata": {},
   "outputs": [
    {
     "data": {
      "text/plain": [
       "(array([[[ 10,  20,  30,  40,  50],\n",
       "         [876, 876, 876, 876, 876]],\n",
       " \n",
       "        [[ 10,  20,  30,  40,  50],\n",
       "         [ 10,  10,  10,  10,  10]]]),\n",
       " array([[[  10,   20,   30,   40,   50],\n",
       "         [ 876,  876,  876,  876,  876]],\n",
       " \n",
       "        [[  10,   20,   30,   40,   50],\n",
       "         [1000, 1000, 1000, 1000, 1000]]]))"
      ]
     },
     "execution_count": 157,
     "metadata": {},
     "output_type": "execute_result"
    }
   ],
   "source": [
    "# copy\n",
    "c=a.copy()\n",
    "c\n",
    "a[1][1]=1000\n",
    "c,a"
   ]
  },
  {
   "cell_type": "code",
   "execution_count": null,
   "id": "626795e1",
   "metadata": {},
   "outputs": [],
   "source": []
  }
 ],
 "metadata": {
  "kernelspec": {
   "display_name": "Python 3 (ipykernel)",
   "language": "python",
   "name": "python3"
  },
  "language_info": {
   "codemirror_mode": {
    "name": "ipython",
    "version": 3
   },
   "file_extension": ".py",
   "mimetype": "text/x-python",
   "name": "python",
   "nbconvert_exporter": "python",
   "pygments_lexer": "ipython3",
   "version": "3.9.7"
  }
 },
 "nbformat": 4,
 "nbformat_minor": 5
}
