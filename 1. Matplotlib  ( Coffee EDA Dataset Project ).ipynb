{
 "cells": [
  {
   "cell_type": "markdown",
   "metadata": {},
   "source": [
    "## Coffee Dadatset EDA Project"
   ]
  },
  {
   "cell_type": "markdown",
   "metadata": {},
   "source": [
    "# Coffee_EDA_Questions\n",
    "\n",
    "<b> Matplotlib </b>\n",
    "\n",
    "1) Read the dataset<br>\n",
    "2) Remove/handle the null values<br>\n",
    "3) Depict different Market types and their count on a bar chart<br>\n",
    "4) Depict different Product types and their count on a line chart<br>\n",
    "5) Depict different State and their count on a pie chart<br>\n",
    "6) Depict Market wise sum of Profit and depict the result on bar chart.<br>\n",
    "7) Depict Product wise mean of Sales and depict the result on bar chart and line chart superimposed<br>\n",
    "8) Depcit Profit vs Sales on a Scatter Chart where Product is 'Regular Espresso'<br>\n",
    "9) Depcit Budget Profit vs Budget Sales on a Scatter Chart where State is California and Product is 'Earl Grey'<br>\n",
    "10) Depcit Market wise mean of Budget Sales and mean of Sales in a stacked bar chart<br>\n",
    "11) Plot the Frequency distribution of Total Expenses<br>\n",
    "12) Compare Frequency Distribution of Profit and Budget Profit on a histogram for the Oregon State<br>\n",
    "13) Compare Frequency of COGS and Budget COGS on a histogram for the Eastern Market for the Product Cafe Mocha<br>\n",
    "14) Compare Sales vs Profit on a histogram for the Eastern or Central Market and for Decaf Type<br>\n",
    "15) Depict the quartile distribution of COGS where Sales is greater than 400<br>\n",
    "16) Depict the quartile distribution of Budget Profit for Decaf Espresso<br>\n",
    "17) Find the Market, Product and Type where Sales is maximum<br>\n",
    "18) Find State and Market with Maximum Profit or Maximum Budget Profit<br>\n",
    "19) Find Product, State and Market where Total Exepnses are minimum<br>\n",
    "20) Statisically infer the State, Product and Market chosen to further expnad/invest into the Coffee Business based on Sales, Profit and Total Expenses<br>\n",
    "21) Statisically infer the State, Product and Market chosen to further withhold the Coffee Business based on Sales, Profit and Total Expenses."
   ]
  },
  {
   "cell_type": "markdown",
   "metadata": {},
   "source": [
    "### 1. Read the Dataset"
   ]
  },
  {
   "cell_type": "code",
   "execution_count": 2,
   "metadata": {},
   "outputs": [],
   "source": [
    "import numpy as np\n",
    "import pandas as pd\n",
    "import matplotlib.pyplot as plt\n",
    "import seaborn as sns"
   ]
  },
  {
   "cell_type": "code",
   "execution_count": 3,
   "metadata": {},
   "outputs": [],
   "source": [
    "df= pd.read_excel('C:/Users/Coffee.xlsx')"
   ]
  },
  {
   "cell_type": "code",
   "execution_count": 4,
   "metadata": {},
   "outputs": [
    {
     "data": {
      "text/html": [
       "<div>\n",
       "<style scoped>\n",
       "    .dataframe tbody tr th:only-of-type {\n",
       "        vertical-align: middle;\n",
       "    }\n",
       "\n",
       "    .dataframe tbody tr th {\n",
       "        vertical-align: top;\n",
       "    }\n",
       "\n",
       "    .dataframe thead th {\n",
       "        text-align: right;\n",
       "    }\n",
       "</style>\n",
       "<table border=\"1\" class=\"dataframe\">\n",
       "  <thead>\n",
       "    <tr style=\"text-align: right;\">\n",
       "      <th></th>\n",
       "      <th>Area Code</th>\n",
       "      <th>Date</th>\n",
       "      <th>Market</th>\n",
       "      <th>Market Size</th>\n",
       "      <th>Product</th>\n",
       "      <th>Product Line</th>\n",
       "      <th>Product Type</th>\n",
       "      <th>State</th>\n",
       "      <th>Type</th>\n",
       "      <th>Budget COGS</th>\n",
       "      <th>Budget Margin</th>\n",
       "      <th>Budget Profit</th>\n",
       "      <th>Budget Sales</th>\n",
       "      <th>COGS</th>\n",
       "      <th>Inventory</th>\n",
       "      <th>Margin</th>\n",
       "      <th>Marketing</th>\n",
       "      <th>Profit</th>\n",
       "      <th>Sales</th>\n",
       "      <th>Total Expenses</th>\n",
       "    </tr>\n",
       "  </thead>\n",
       "  <tbody>\n",
       "    <tr>\n",
       "      <th>0</th>\n",
       "      <td>719</td>\n",
       "      <td>40909</td>\n",
       "      <td>Central</td>\n",
       "      <td>Major Market</td>\n",
       "      <td>Amaretto</td>\n",
       "      <td>Beans</td>\n",
       "      <td>Coffee</td>\n",
       "      <td>Colorado</td>\n",
       "      <td>Regular</td>\n",
       "      <td>90</td>\n",
       "      <td>130</td>\n",
       "      <td>100</td>\n",
       "      <td>220</td>\n",
       "      <td>89</td>\n",
       "      <td>777</td>\n",
       "      <td>130</td>\n",
       "      <td>24</td>\n",
       "      <td>94</td>\n",
       "      <td>219</td>\n",
       "      <td>36</td>\n",
       "    </tr>\n",
       "    <tr>\n",
       "      <th>1</th>\n",
       "      <td>970</td>\n",
       "      <td>40909</td>\n",
       "      <td>Central</td>\n",
       "      <td>Major Market</td>\n",
       "      <td>Colombian</td>\n",
       "      <td>Beans</td>\n",
       "      <td>Coffee</td>\n",
       "      <td>Colorado</td>\n",
       "      <td>Regular</td>\n",
       "      <td>80</td>\n",
       "      <td>110</td>\n",
       "      <td>80</td>\n",
       "      <td>190</td>\n",
       "      <td>83</td>\n",
       "      <td>623</td>\n",
       "      <td>107</td>\n",
       "      <td>27</td>\n",
       "      <td>68</td>\n",
       "      <td>190</td>\n",
       "      <td>39</td>\n",
       "    </tr>\n",
       "    <tr>\n",
       "      <th>2</th>\n",
       "      <td>970</td>\n",
       "      <td>40909</td>\n",
       "      <td>Central</td>\n",
       "      <td>Major Market</td>\n",
       "      <td>Decaf Irish Cream</td>\n",
       "      <td>Beans</td>\n",
       "      <td>Coffee</td>\n",
       "      <td>Colorado</td>\n",
       "      <td>Decaf</td>\n",
       "      <td>100</td>\n",
       "      <td>140</td>\n",
       "      <td>110</td>\n",
       "      <td>240</td>\n",
       "      <td>95</td>\n",
       "      <td>821</td>\n",
       "      <td>139</td>\n",
       "      <td>26</td>\n",
       "      <td>101</td>\n",
       "      <td>234</td>\n",
       "      <td>38</td>\n",
       "    </tr>\n",
       "    <tr>\n",
       "      <th>3</th>\n",
       "      <td>303</td>\n",
       "      <td>40909</td>\n",
       "      <td>Central</td>\n",
       "      <td>Major Market</td>\n",
       "      <td>Green Tea</td>\n",
       "      <td>Leaves</td>\n",
       "      <td>Tea</td>\n",
       "      <td>Colorado</td>\n",
       "      <td>Regular</td>\n",
       "      <td>30</td>\n",
       "      <td>50</td>\n",
       "      <td>30</td>\n",
       "      <td>80</td>\n",
       "      <td>44</td>\n",
       "      <td>623</td>\n",
       "      <td>56</td>\n",
       "      <td>14</td>\n",
       "      <td>30</td>\n",
       "      <td>100</td>\n",
       "      <td>26</td>\n",
       "    </tr>\n",
       "    <tr>\n",
       "      <th>4</th>\n",
       "      <td>303</td>\n",
       "      <td>40909</td>\n",
       "      <td>Central</td>\n",
       "      <td>Major Market</td>\n",
       "      <td>Caffe Mocha</td>\n",
       "      <td>Beans</td>\n",
       "      <td>Espresso</td>\n",
       "      <td>Colorado</td>\n",
       "      <td>Regular</td>\n",
       "      <td>60</td>\n",
       "      <td>90</td>\n",
       "      <td>70</td>\n",
       "      <td>150</td>\n",
       "      <td>54</td>\n",
       "      <td>456</td>\n",
       "      <td>80</td>\n",
       "      <td>15</td>\n",
       "      <td>54</td>\n",
       "      <td>134</td>\n",
       "      <td>26</td>\n",
       "    </tr>\n",
       "    <tr>\n",
       "      <th>5</th>\n",
       "      <td>720</td>\n",
       "      <td>40909</td>\n",
       "      <td>Central</td>\n",
       "      <td>Major Market</td>\n",
       "      <td>Decaf Espresso</td>\n",
       "      <td>Beans</td>\n",
       "      <td>Espresso</td>\n",
       "      <td>Colorado</td>\n",
       "      <td>Decaf</td>\n",
       "      <td>80</td>\n",
       "      <td>130</td>\n",
       "      <td>80</td>\n",
       "      <td>210</td>\n",
       "      <td>72</td>\n",
       "      <td>558</td>\n",
       "      <td>108</td>\n",
       "      <td>23</td>\n",
       "      <td>53</td>\n",
       "      <td>180</td>\n",
       "      <td>55</td>\n",
       "    </tr>\n",
       "    <tr>\n",
       "      <th>6</th>\n",
       "      <td>970</td>\n",
       "      <td>40909</td>\n",
       "      <td>Central</td>\n",
       "      <td>Major Market</td>\n",
       "      <td>Chamomile</td>\n",
       "      <td>Leaves</td>\n",
       "      <td>Herbal Tea</td>\n",
       "      <td>Colorado</td>\n",
       "      <td>Decaf</td>\n",
       "      <td>140</td>\n",
       "      <td>160</td>\n",
       "      <td>110</td>\n",
       "      <td>300</td>\n",
       "      <td>170</td>\n",
       "      <td>1091</td>\n",
       "      <td>171</td>\n",
       "      <td>47</td>\n",
       "      <td>99</td>\n",
       "      <td>341</td>\n",
       "      <td>72</td>\n",
       "    </tr>\n",
       "    <tr>\n",
       "      <th>7</th>\n",
       "      <td>719</td>\n",
       "      <td>40909</td>\n",
       "      <td>Central</td>\n",
       "      <td>Major Market</td>\n",
       "      <td>Lemon</td>\n",
       "      <td>Leaves</td>\n",
       "      <td>Herbal Tea</td>\n",
       "      <td>Colorado</td>\n",
       "      <td>Decaf</td>\n",
       "      <td>50</td>\n",
       "      <td>80</td>\n",
       "      <td>20</td>\n",
       "      <td>130</td>\n",
       "      <td>63</td>\n",
       "      <td>435</td>\n",
       "      <td>87</td>\n",
       "      <td>57</td>\n",
       "      <td>0</td>\n",
       "      <td>150</td>\n",
       "      <td>87</td>\n",
       "    </tr>\n",
       "    <tr>\n",
       "      <th>8</th>\n",
       "      <td>970</td>\n",
       "      <td>40909</td>\n",
       "      <td>Central</td>\n",
       "      <td>Major Market</td>\n",
       "      <td>Mint</td>\n",
       "      <td>Leaves</td>\n",
       "      <td>Herbal Tea</td>\n",
       "      <td>Colorado</td>\n",
       "      <td>Decaf</td>\n",
       "      <td>50</td>\n",
       "      <td>70</td>\n",
       "      <td>40</td>\n",
       "      <td>120</td>\n",
       "      <td>60</td>\n",
       "      <td>336</td>\n",
       "      <td>80</td>\n",
       "      <td>19</td>\n",
       "      <td>33</td>\n",
       "      <td>140</td>\n",
       "      <td>47</td>\n",
       "    </tr>\n",
       "    <tr>\n",
       "      <th>9</th>\n",
       "      <td>719</td>\n",
       "      <td>40909</td>\n",
       "      <td>Central</td>\n",
       "      <td>Major Market</td>\n",
       "      <td>Darjeeling</td>\n",
       "      <td>Leaves</td>\n",
       "      <td>Tea</td>\n",
       "      <td>Colorado</td>\n",
       "      <td>Regular</td>\n",
       "      <td>40</td>\n",
       "      <td>70</td>\n",
       "      <td>20</td>\n",
       "      <td>110</td>\n",
       "      <td>58</td>\n",
       "      <td>338</td>\n",
       "      <td>72</td>\n",
       "      <td>22</td>\n",
       "      <td>17</td>\n",
       "      <td>130</td>\n",
       "      <td>55</td>\n",
       "    </tr>\n",
       "    <tr>\n",
       "      <th>10</th>\n",
       "      <td>303</td>\n",
       "      <td>40909</td>\n",
       "      <td>Central</td>\n",
       "      <td>Major Market</td>\n",
       "      <td>Earl Grey</td>\n",
       "      <td>Leaves</td>\n",
       "      <td>Tea</td>\n",
       "      <td>Colorado</td>\n",
       "      <td>Regular</td>\n",
       "      <td>50</td>\n",
       "      <td>70</td>\n",
       "      <td>40</td>\n",
       "      <td>120</td>\n",
       "      <td>64</td>\n",
       "      <td>965</td>\n",
       "      <td>76</td>\n",
       "      <td>19</td>\n",
       "      <td>36</td>\n",
       "      <td>140</td>\n",
       "      <td>40</td>\n",
       "    </tr>\n",
       "    <tr>\n",
       "      <th>11</th>\n",
       "      <td>217</td>\n",
       "      <td>40909</td>\n",
       "      <td>Central</td>\n",
       "      <td>Major Market</td>\n",
       "      <td>Colombian</td>\n",
       "      <td>Beans</td>\n",
       "      <td>Coffee</td>\n",
       "      <td>Illinois</td>\n",
       "      <td>Regular</td>\n",
       "      <td>150</td>\n",
       "      <td>210</td>\n",
       "      <td>130</td>\n",
       "      <td>360</td>\n",
       "      <td>144</td>\n",
       "      <td>862</td>\n",
       "      <td>201</td>\n",
       "      <td>47</td>\n",
       "      <td>111</td>\n",
       "      <td>345</td>\n",
       "      <td>90</td>\n",
       "    </tr>\n",
       "    <tr>\n",
       "      <th>12</th>\n",
       "      <td>309</td>\n",
       "      <td>40909</td>\n",
       "      <td>Central</td>\n",
       "      <td>Major Market</td>\n",
       "      <td>Decaf Irish Cream</td>\n",
       "      <td>Beans</td>\n",
       "      <td>Coffee</td>\n",
       "      <td>Illinois</td>\n",
       "      <td>Decaf</td>\n",
       "      <td>100</td>\n",
       "      <td>140</td>\n",
       "      <td>100</td>\n",
       "      <td>240</td>\n",
       "      <td>95</td>\n",
       "      <td>608</td>\n",
       "      <td>139</td>\n",
       "      <td>30</td>\n",
       "      <td>87</td>\n",
       "      <td>234</td>\n",
       "      <td>52</td>\n",
       "    </tr>\n",
       "    <tr>\n",
       "      <th>13</th>\n",
       "      <td>309</td>\n",
       "      <td>40909</td>\n",
       "      <td>Central</td>\n",
       "      <td>Major Market</td>\n",
       "      <td>Caffe Mocha</td>\n",
       "      <td>Beans</td>\n",
       "      <td>Espresso</td>\n",
       "      <td>Illinois</td>\n",
       "      <td>Regular</td>\n",
       "      <td>270</td>\n",
       "      <td>370</td>\n",
       "      <td>260</td>\n",
       "      <td>640</td>\n",
       "      <td>234</td>\n",
       "      <td>1310</td>\n",
       "      <td>312</td>\n",
       "      <td>77</td>\n",
       "      <td>203</td>\n",
       "      <td>546</td>\n",
       "      <td>109</td>\n",
       "    </tr>\n",
       "    <tr>\n",
       "      <th>14</th>\n",
       "      <td>630</td>\n",
       "      <td>40909</td>\n",
       "      <td>Central</td>\n",
       "      <td>Major Market</td>\n",
       "      <td>Decaf Espresso</td>\n",
       "      <td>Beans</td>\n",
       "      <td>Espresso</td>\n",
       "      <td>Illinois</td>\n",
       "      <td>Decaf</td>\n",
       "      <td>260</td>\n",
       "      <td>270</td>\n",
       "      <td>180</td>\n",
       "      <td>530</td>\n",
       "      <td>228</td>\n",
       "      <td>1459</td>\n",
       "      <td>228</td>\n",
       "      <td>63</td>\n",
       "      <td>140</td>\n",
       "      <td>456</td>\n",
       "      <td>88</td>\n",
       "    </tr>\n",
       "    <tr>\n",
       "      <th>15</th>\n",
       "      <td>312</td>\n",
       "      <td>40909</td>\n",
       "      <td>Central</td>\n",
       "      <td>Major Market</td>\n",
       "      <td>Chamomile</td>\n",
       "      <td>Leaves</td>\n",
       "      <td>Herbal Tea</td>\n",
       "      <td>Illinois</td>\n",
       "      <td>Decaf</td>\n",
       "      <td>70</td>\n",
       "      <td>120</td>\n",
       "      <td>100</td>\n",
       "      <td>190</td>\n",
       "      <td>89</td>\n",
       "      <td>777</td>\n",
       "      <td>130</td>\n",
       "      <td>24</td>\n",
       "      <td>95</td>\n",
       "      <td>219</td>\n",
       "      <td>35</td>\n",
       "    </tr>\n",
       "    <tr>\n",
       "      <th>16</th>\n",
       "      <td>630</td>\n",
       "      <td>40909</td>\n",
       "      <td>Central</td>\n",
       "      <td>Major Market</td>\n",
       "      <td>Lemon</td>\n",
       "      <td>Leaves</td>\n",
       "      <td>Herbal Tea</td>\n",
       "      <td>Illinois</td>\n",
       "      <td>Decaf</td>\n",
       "      <td>70</td>\n",
       "      <td>90</td>\n",
       "      <td>60</td>\n",
       "      <td>160</td>\n",
       "      <td>83</td>\n",
       "      <td>623</td>\n",
       "      <td>107</td>\n",
       "      <td>27</td>\n",
       "      <td>68</td>\n",
       "      <td>190</td>\n",
       "      <td>39</td>\n",
       "    </tr>\n",
       "    <tr>\n",
       "      <th>17</th>\n",
       "      <td>773</td>\n",
       "      <td>40909</td>\n",
       "      <td>Central</td>\n",
       "      <td>Major Market</td>\n",
       "      <td>Mint</td>\n",
       "      <td>Leaves</td>\n",
       "      <td>Herbal Tea</td>\n",
       "      <td>Illinois</td>\n",
       "      <td>Decaf</td>\n",
       "      <td>80</td>\n",
       "      <td>120</td>\n",
       "      <td>100</td>\n",
       "      <td>200</td>\n",
       "      <td>95</td>\n",
       "      <td>821</td>\n",
       "      <td>139</td>\n",
       "      <td>26</td>\n",
       "      <td>101</td>\n",
       "      <td>234</td>\n",
       "      <td>38</td>\n",
       "    </tr>\n",
       "    <tr>\n",
       "      <th>18</th>\n",
       "      <td>217</td>\n",
       "      <td>40909</td>\n",
       "      <td>Central</td>\n",
       "      <td>Major Market</td>\n",
       "      <td>Darjeeling</td>\n",
       "      <td>Leaves</td>\n",
       "      <td>Tea</td>\n",
       "      <td>Illinois</td>\n",
       "      <td>Regular</td>\n",
       "      <td>40</td>\n",
       "      <td>70</td>\n",
       "      <td>50</td>\n",
       "      <td>110</td>\n",
       "      <td>54</td>\n",
       "      <td>456</td>\n",
       "      <td>80</td>\n",
       "      <td>15</td>\n",
       "      <td>53</td>\n",
       "      <td>134</td>\n",
       "      <td>27</td>\n",
       "    </tr>\n",
       "    <tr>\n",
       "      <th>19</th>\n",
       "      <td>708</td>\n",
       "      <td>40909</td>\n",
       "      <td>Central</td>\n",
       "      <td>Major Market</td>\n",
       "      <td>Earl Grey</td>\n",
       "      <td>Leaves</td>\n",
       "      <td>Tea</td>\n",
       "      <td>Illinois</td>\n",
       "      <td>Regular</td>\n",
       "      <td>60</td>\n",
       "      <td>90</td>\n",
       "      <td>40</td>\n",
       "      <td>150</td>\n",
       "      <td>72</td>\n",
       "      <td>558</td>\n",
       "      <td>108</td>\n",
       "      <td>23</td>\n",
       "      <td>54</td>\n",
       "      <td>180</td>\n",
       "      <td>54</td>\n",
       "    </tr>\n",
       "    <tr>\n",
       "      <th>20</th>\n",
       "      <td>319</td>\n",
       "      <td>40909</td>\n",
       "      <td>Central</td>\n",
       "      <td>Small Market</td>\n",
       "      <td>Amaretto</td>\n",
       "      <td>Beans</td>\n",
       "      <td>Coffee</td>\n",
       "      <td>Iowa</td>\n",
       "      <td>Regular</td>\n",
       "      <td>10</td>\n",
       "      <td>30</td>\n",
       "      <td>20</td>\n",
       "      <td>40</td>\n",
       "      <td>18</td>\n",
       "      <td>821</td>\n",
       "      <td>27</td>\n",
       "      <td>5</td>\n",
       "      <td>11</td>\n",
       "      <td>45</td>\n",
       "      <td>16</td>\n",
       "    </tr>\n",
       "    <tr>\n",
       "      <th>21</th>\n",
       "      <td>641</td>\n",
       "      <td>40909</td>\n",
       "      <td>Central</td>\n",
       "      <td>Small Market</td>\n",
       "      <td>Colombian</td>\n",
       "      <td>Beans</td>\n",
       "      <td>Coffee</td>\n",
       "      <td>Iowa</td>\n",
       "      <td>Regular</td>\n",
       "      <td>20</td>\n",
       "      <td>40</td>\n",
       "      <td>20</td>\n",
       "      <td>60</td>\n",
       "      <td>28</td>\n",
       "      <td>965</td>\n",
       "      <td>34</td>\n",
       "      <td>8</td>\n",
       "      <td>5</td>\n",
       "      <td>62</td>\n",
       "      <td>29</td>\n",
       "    </tr>\n",
       "    <tr>\n",
       "      <th>22</th>\n",
       "      <td>712</td>\n",
       "      <td>40909</td>\n",
       "      <td>Central</td>\n",
       "      <td>Small Market</td>\n",
       "      <td>Decaf Irish Cream</td>\n",
       "      <td>Beans</td>\n",
       "      <td>Coffee</td>\n",
       "      <td>Iowa</td>\n",
       "      <td>Decaf</td>\n",
       "      <td>20</td>\n",
       "      <td>30</td>\n",
       "      <td>20</td>\n",
       "      <td>50</td>\n",
       "      <td>23</td>\n",
       "      <td>623</td>\n",
       "      <td>31</td>\n",
       "      <td>7</td>\n",
       "      <td>12</td>\n",
       "      <td>54</td>\n",
       "      <td>19</td>\n",
       "    </tr>\n",
       "    <tr>\n",
       "      <th>23</th>\n",
       "      <td>563</td>\n",
       "      <td>40909</td>\n",
       "      <td>Central</td>\n",
       "      <td>Small Market</td>\n",
       "      <td>Caffe Mocha</td>\n",
       "      <td>Beans</td>\n",
       "      <td>Espresso</td>\n",
       "      <td>Iowa</td>\n",
       "      <td>Regular</td>\n",
       "      <td>10</td>\n",
       "      <td>40</td>\n",
       "      <td>30</td>\n",
       "      <td>50</td>\n",
       "      <td>17</td>\n",
       "      <td>777</td>\n",
       "      <td>26</td>\n",
       "      <td>4</td>\n",
       "      <td>11</td>\n",
       "      <td>43</td>\n",
       "      <td>15</td>\n",
       "    </tr>\n",
       "    <tr>\n",
       "      <th>24</th>\n",
       "      <td>563</td>\n",
       "      <td>40909</td>\n",
       "      <td>Central</td>\n",
       "      <td>Small Market</td>\n",
       "      <td>Decaf Espresso</td>\n",
       "      <td>Beans</td>\n",
       "      <td>Espresso</td>\n",
       "      <td>Iowa</td>\n",
       "      <td>Decaf</td>\n",
       "      <td>10</td>\n",
       "      <td>40</td>\n",
       "      <td>30</td>\n",
       "      <td>50</td>\n",
       "      <td>17</td>\n",
       "      <td>777</td>\n",
       "      <td>26</td>\n",
       "      <td>4</td>\n",
       "      <td>10</td>\n",
       "      <td>43</td>\n",
       "      <td>16</td>\n",
       "    </tr>\n",
       "  </tbody>\n",
       "</table>\n",
       "</div>"
      ],
      "text/plain": [
       "    Area Code   Date   Market   Market Size            Product Product Line  \\\n",
       "0         719  40909  Central  Major Market           Amaretto        Beans   \n",
       "1         970  40909  Central  Major Market          Colombian        Beans   \n",
       "2         970  40909  Central  Major Market  Decaf Irish Cream        Beans   \n",
       "3         303  40909  Central  Major Market          Green Tea       Leaves   \n",
       "4         303  40909  Central  Major Market        Caffe Mocha        Beans   \n",
       "5         720  40909  Central  Major Market     Decaf Espresso        Beans   \n",
       "6         970  40909  Central  Major Market          Chamomile       Leaves   \n",
       "7         719  40909  Central  Major Market              Lemon       Leaves   \n",
       "8         970  40909  Central  Major Market               Mint       Leaves   \n",
       "9         719  40909  Central  Major Market         Darjeeling       Leaves   \n",
       "10        303  40909  Central  Major Market          Earl Grey       Leaves   \n",
       "11        217  40909  Central  Major Market          Colombian        Beans   \n",
       "12        309  40909  Central  Major Market  Decaf Irish Cream        Beans   \n",
       "13        309  40909  Central  Major Market        Caffe Mocha        Beans   \n",
       "14        630  40909  Central  Major Market     Decaf Espresso        Beans   \n",
       "15        312  40909  Central  Major Market          Chamomile       Leaves   \n",
       "16        630  40909  Central  Major Market              Lemon       Leaves   \n",
       "17        773  40909  Central  Major Market               Mint       Leaves   \n",
       "18        217  40909  Central  Major Market         Darjeeling       Leaves   \n",
       "19        708  40909  Central  Major Market          Earl Grey       Leaves   \n",
       "20        319  40909  Central  Small Market           Amaretto        Beans   \n",
       "21        641  40909  Central  Small Market          Colombian        Beans   \n",
       "22        712  40909  Central  Small Market  Decaf Irish Cream        Beans   \n",
       "23        563  40909  Central  Small Market        Caffe Mocha        Beans   \n",
       "24        563  40909  Central  Small Market     Decaf Espresso        Beans   \n",
       "\n",
       "   Product Type     State     Type  Budget COGS  Budget Margin  Budget Profit  \\\n",
       "0        Coffee  Colorado  Regular           90            130            100   \n",
       "1        Coffee  Colorado  Regular           80            110             80   \n",
       "2        Coffee  Colorado    Decaf          100            140            110   \n",
       "3           Tea  Colorado  Regular           30             50             30   \n",
       "4      Espresso  Colorado  Regular           60             90             70   \n",
       "5      Espresso  Colorado    Decaf           80            130             80   \n",
       "6    Herbal Tea  Colorado    Decaf          140            160            110   \n",
       "7    Herbal Tea  Colorado    Decaf           50             80             20   \n",
       "8    Herbal Tea  Colorado    Decaf           50             70             40   \n",
       "9           Tea  Colorado  Regular           40             70             20   \n",
       "10          Tea  Colorado  Regular           50             70             40   \n",
       "11       Coffee  Illinois  Regular          150            210            130   \n",
       "12       Coffee  Illinois    Decaf          100            140            100   \n",
       "13     Espresso  Illinois  Regular          270            370            260   \n",
       "14     Espresso  Illinois    Decaf          260            270            180   \n",
       "15   Herbal Tea  Illinois    Decaf           70            120            100   \n",
       "16   Herbal Tea  Illinois    Decaf           70             90             60   \n",
       "17   Herbal Tea  Illinois    Decaf           80            120            100   \n",
       "18          Tea  Illinois  Regular           40             70             50   \n",
       "19          Tea  Illinois  Regular           60             90             40   \n",
       "20       Coffee      Iowa  Regular           10             30             20   \n",
       "21       Coffee      Iowa  Regular           20             40             20   \n",
       "22       Coffee      Iowa    Decaf           20             30             20   \n",
       "23     Espresso      Iowa  Regular           10             40             30   \n",
       "24     Espresso      Iowa    Decaf           10             40             30   \n",
       "\n",
       "    Budget Sales  COGS  Inventory  Margin  Marketing  Profit  Sales  \\\n",
       "0            220    89        777     130         24      94    219   \n",
       "1            190    83        623     107         27      68    190   \n",
       "2            240    95        821     139         26     101    234   \n",
       "3             80    44        623      56         14      30    100   \n",
       "4            150    54        456      80         15      54    134   \n",
       "5            210    72        558     108         23      53    180   \n",
       "6            300   170       1091     171         47      99    341   \n",
       "7            130    63        435      87         57       0    150   \n",
       "8            120    60        336      80         19      33    140   \n",
       "9            110    58        338      72         22      17    130   \n",
       "10           120    64        965      76         19      36    140   \n",
       "11           360   144        862     201         47     111    345   \n",
       "12           240    95        608     139         30      87    234   \n",
       "13           640   234       1310     312         77     203    546   \n",
       "14           530   228       1459     228         63     140    456   \n",
       "15           190    89        777     130         24      95    219   \n",
       "16           160    83        623     107         27      68    190   \n",
       "17           200    95        821     139         26     101    234   \n",
       "18           110    54        456      80         15      53    134   \n",
       "19           150    72        558     108         23      54    180   \n",
       "20            40    18        821      27          5      11     45   \n",
       "21            60    28        965      34          8       5     62   \n",
       "22            50    23        623      31          7      12     54   \n",
       "23            50    17        777      26          4      11     43   \n",
       "24            50    17        777      26          4      10     43   \n",
       "\n",
       "    Total Expenses  \n",
       "0               36  \n",
       "1               39  \n",
       "2               38  \n",
       "3               26  \n",
       "4               26  \n",
       "5               55  \n",
       "6               72  \n",
       "7               87  \n",
       "8               47  \n",
       "9               55  \n",
       "10              40  \n",
       "11              90  \n",
       "12              52  \n",
       "13             109  \n",
       "14              88  \n",
       "15              35  \n",
       "16              39  \n",
       "17              38  \n",
       "18              27  \n",
       "19              54  \n",
       "20              16  \n",
       "21              29  \n",
       "22              19  \n",
       "23              15  \n",
       "24              16  "
      ]
     },
     "execution_count": 4,
     "metadata": {},
     "output_type": "execute_result"
    }
   ],
   "source": [
    "df.head(25)"
   ]
  },
  {
   "cell_type": "markdown",
   "metadata": {},
   "source": [
    "### 2. Remove and handle the null values, if any"
   ]
  },
  {
   "cell_type": "code",
   "execution_count": 3,
   "metadata": {},
   "outputs": [
    {
     "data": {
      "text/plain": [
       "(4248, 20)"
      ]
     },
     "execution_count": 3,
     "metadata": {},
     "output_type": "execute_result"
    }
   ],
   "source": [
    "df.shape"
   ]
  },
  {
   "cell_type": "code",
   "execution_count": 4,
   "metadata": {},
   "outputs": [
    {
     "data": {
      "text/plain": [
       "Index(['Area Code', 'Date', 'Market', 'Market Size', 'Product', 'Product Line',\n",
       "       'Product Type', 'State', 'Type', 'Budget COGS', 'Budget Margin',\n",
       "       'Budget Profit', 'Budget Sales', 'COGS', 'Inventory', 'Margin',\n",
       "       'Marketing', 'Profit', 'Sales', 'Total Expenses'],\n",
       "      dtype='object')"
      ]
     },
     "execution_count": 4,
     "metadata": {},
     "output_type": "execute_result"
    }
   ],
   "source": [
    "df.columns"
   ]
  },
  {
   "cell_type": "code",
   "execution_count": 5,
   "metadata": {},
   "outputs": [
    {
     "data": {
      "text/plain": [
       "Area Code          int64\n",
       "Date               int64\n",
       "Market            object\n",
       "Market Size       object\n",
       "Product           object\n",
       "Product Line      object\n",
       "Product Type      object\n",
       "State             object\n",
       "Type              object\n",
       "Budget COGS        int64\n",
       "Budget Margin      int64\n",
       "Budget Profit      int64\n",
       "Budget Sales       int64\n",
       "COGS               int64\n",
       "Inventory          int64\n",
       "Margin             int64\n",
       "Marketing          int64\n",
       "Profit             int64\n",
       "Sales              int64\n",
       "Total Expenses     int64\n",
       "dtype: object"
      ]
     },
     "execution_count": 5,
     "metadata": {},
     "output_type": "execute_result"
    }
   ],
   "source": [
    "df.dtypes"
   ]
  },
  {
   "cell_type": "code",
   "execution_count": 6,
   "metadata": {},
   "outputs": [
    {
     "name": "stdout",
     "output_type": "stream",
     "text": [
      "<class 'pandas.core.frame.DataFrame'>\n",
      "RangeIndex: 4248 entries, 0 to 4247\n",
      "Data columns (total 20 columns):\n",
      " #   Column          Non-Null Count  Dtype \n",
      "---  ------          --------------  ----- \n",
      " 0   Area Code       4248 non-null   int64 \n",
      " 1   Date            4248 non-null   int64 \n",
      " 2   Market          4248 non-null   object\n",
      " 3   Market Size     4248 non-null   object\n",
      " 4   Product         4248 non-null   object\n",
      " 5   Product Line    4248 non-null   object\n",
      " 6   Product Type    4248 non-null   object\n",
      " 7   State           4248 non-null   object\n",
      " 8   Type            4248 non-null   object\n",
      " 9   Budget COGS     4248 non-null   int64 \n",
      " 10  Budget Margin   4248 non-null   int64 \n",
      " 11  Budget Profit   4248 non-null   int64 \n",
      " 12  Budget Sales    4248 non-null   int64 \n",
      " 13  COGS            4248 non-null   int64 \n",
      " 14  Inventory       4248 non-null   int64 \n",
      " 15  Margin          4248 non-null   int64 \n",
      " 16  Marketing       4248 non-null   int64 \n",
      " 17  Profit          4248 non-null   int64 \n",
      " 18  Sales           4248 non-null   int64 \n",
      " 19  Total Expenses  4248 non-null   int64 \n",
      "dtypes: int64(13), object(7)\n",
      "memory usage: 663.9+ KB\n"
     ]
    }
   ],
   "source": [
    "df.info()"
   ]
  },
  {
   "cell_type": "code",
   "execution_count": 7,
   "metadata": {},
   "outputs": [
    {
     "data": {
      "text/plain": [
       "Area Code         0\n",
       "Date              0\n",
       "Market            0\n",
       "Market Size       0\n",
       "Product           0\n",
       "Product Line      0\n",
       "Product Type      0\n",
       "State             0\n",
       "Type              0\n",
       "Budget COGS       0\n",
       "Budget Margin     0\n",
       "Budget Profit     0\n",
       "Budget Sales      0\n",
       "COGS              0\n",
       "Inventory         0\n",
       "Margin            0\n",
       "Marketing         0\n",
       "Profit            0\n",
       "Sales             0\n",
       "Total Expenses    0\n",
       "dtype: int64"
      ]
     },
     "execution_count": 7,
     "metadata": {},
     "output_type": "execute_result"
    }
   ],
   "source": [
    "df.isnull().sum()"
   ]
  },
  {
   "cell_type": "code",
   "execution_count": 8,
   "metadata": {},
   "outputs": [
    {
     "data": {
      "text/plain": [
       "array([[719, 40909, 'Central', ..., 94, 219, 36],\n",
       "       [970, 40909, 'Central', ..., 68, 190, 39],\n",
       "       [970, 40909, 'Central', ..., 101, 234, 38],\n",
       "       ...,\n",
       "       [360, 41609, 'West', ..., 76, 188, 45],\n",
       "       [360, 41609, 'West', ..., 86, 188, 46],\n",
       "       [206, 41609, 'West', ..., 30, 266, 125]], dtype=object)"
      ]
     },
     "execution_count": 8,
     "metadata": {},
     "output_type": "execute_result"
    }
   ],
   "source": [
    "numpy_df=df.values    # turned into numpy\n",
    "numpy_df"
   ]
  },
  {
   "cell_type": "code",
   "execution_count": 9,
   "metadata": {},
   "outputs": [
    {
     "data": {
      "text/html": [
       "<div>\n",
       "<style scoped>\n",
       "    .dataframe tbody tr th:only-of-type {\n",
       "        vertical-align: middle;\n",
       "    }\n",
       "\n",
       "    .dataframe tbody tr th {\n",
       "        vertical-align: top;\n",
       "    }\n",
       "\n",
       "    .dataframe thead th {\n",
       "        text-align: right;\n",
       "    }\n",
       "</style>\n",
       "<table border=\"1\" class=\"dataframe\">\n",
       "  <thead>\n",
       "    <tr style=\"text-align: right;\">\n",
       "      <th></th>\n",
       "      <th>Area Code</th>\n",
       "      <th>Date</th>\n",
       "      <th>Market</th>\n",
       "      <th>Market Size</th>\n",
       "      <th>Product</th>\n",
       "      <th>Product Line</th>\n",
       "      <th>Product Type</th>\n",
       "      <th>State</th>\n",
       "      <th>Type</th>\n",
       "      <th>Budget COGS</th>\n",
       "      <th>Budget Margin</th>\n",
       "      <th>Budget Profit</th>\n",
       "      <th>Budget Sales</th>\n",
       "      <th>COGS</th>\n",
       "      <th>Inventory</th>\n",
       "      <th>Margin</th>\n",
       "      <th>Marketing</th>\n",
       "      <th>Profit</th>\n",
       "      <th>Sales</th>\n",
       "      <th>Total Expenses</th>\n",
       "    </tr>\n",
       "  </thead>\n",
       "  <tbody>\n",
       "    <tr>\n",
       "      <th>0</th>\n",
       "      <td>719</td>\n",
       "      <td>40909</td>\n",
       "      <td>Central</td>\n",
       "      <td>Major Market</td>\n",
       "      <td>Amaretto</td>\n",
       "      <td>Beans</td>\n",
       "      <td>Coffee</td>\n",
       "      <td>Colorado</td>\n",
       "      <td>Regular</td>\n",
       "      <td>90</td>\n",
       "      <td>130</td>\n",
       "      <td>100</td>\n",
       "      <td>220</td>\n",
       "      <td>89</td>\n",
       "      <td>777</td>\n",
       "      <td>130</td>\n",
       "      <td>24</td>\n",
       "      <td>94</td>\n",
       "      <td>219</td>\n",
       "      <td>36</td>\n",
       "    </tr>\n",
       "    <tr>\n",
       "      <th>1</th>\n",
       "      <td>970</td>\n",
       "      <td>40909</td>\n",
       "      <td>Central</td>\n",
       "      <td>Major Market</td>\n",
       "      <td>Colombian</td>\n",
       "      <td>Beans</td>\n",
       "      <td>Coffee</td>\n",
       "      <td>Colorado</td>\n",
       "      <td>Regular</td>\n",
       "      <td>80</td>\n",
       "      <td>110</td>\n",
       "      <td>80</td>\n",
       "      <td>190</td>\n",
       "      <td>83</td>\n",
       "      <td>623</td>\n",
       "      <td>107</td>\n",
       "      <td>27</td>\n",
       "      <td>68</td>\n",
       "      <td>190</td>\n",
       "      <td>39</td>\n",
       "    </tr>\n",
       "    <tr>\n",
       "      <th>2</th>\n",
       "      <td>970</td>\n",
       "      <td>40909</td>\n",
       "      <td>Central</td>\n",
       "      <td>Major Market</td>\n",
       "      <td>Decaf Irish Cream</td>\n",
       "      <td>Beans</td>\n",
       "      <td>Coffee</td>\n",
       "      <td>Colorado</td>\n",
       "      <td>Decaf</td>\n",
       "      <td>100</td>\n",
       "      <td>140</td>\n",
       "      <td>110</td>\n",
       "      <td>240</td>\n",
       "      <td>95</td>\n",
       "      <td>821</td>\n",
       "      <td>139</td>\n",
       "      <td>26</td>\n",
       "      <td>101</td>\n",
       "      <td>234</td>\n",
       "      <td>38</td>\n",
       "    </tr>\n",
       "    <tr>\n",
       "      <th>3</th>\n",
       "      <td>303</td>\n",
       "      <td>40909</td>\n",
       "      <td>Central</td>\n",
       "      <td>Major Market</td>\n",
       "      <td>Green Tea</td>\n",
       "      <td>Leaves</td>\n",
       "      <td>Tea</td>\n",
       "      <td>Colorado</td>\n",
       "      <td>Regular</td>\n",
       "      <td>30</td>\n",
       "      <td>50</td>\n",
       "      <td>30</td>\n",
       "      <td>80</td>\n",
       "      <td>44</td>\n",
       "      <td>623</td>\n",
       "      <td>56</td>\n",
       "      <td>14</td>\n",
       "      <td>30</td>\n",
       "      <td>100</td>\n",
       "      <td>26</td>\n",
       "    </tr>\n",
       "    <tr>\n",
       "      <th>4</th>\n",
       "      <td>303</td>\n",
       "      <td>40909</td>\n",
       "      <td>Central</td>\n",
       "      <td>Major Market</td>\n",
       "      <td>Caffe Mocha</td>\n",
       "      <td>Beans</td>\n",
       "      <td>Espresso</td>\n",
       "      <td>Colorado</td>\n",
       "      <td>Regular</td>\n",
       "      <td>60</td>\n",
       "      <td>90</td>\n",
       "      <td>70</td>\n",
       "      <td>150</td>\n",
       "      <td>54</td>\n",
       "      <td>456</td>\n",
       "      <td>80</td>\n",
       "      <td>15</td>\n",
       "      <td>54</td>\n",
       "      <td>134</td>\n",
       "      <td>26</td>\n",
       "    </tr>\n",
       "    <tr>\n",
       "      <th>...</th>\n",
       "      <td>...</td>\n",
       "      <td>...</td>\n",
       "      <td>...</td>\n",
       "      <td>...</td>\n",
       "      <td>...</td>\n",
       "      <td>...</td>\n",
       "      <td>...</td>\n",
       "      <td>...</td>\n",
       "      <td>...</td>\n",
       "      <td>...</td>\n",
       "      <td>...</td>\n",
       "      <td>...</td>\n",
       "      <td>...</td>\n",
       "      <td>...</td>\n",
       "      <td>...</td>\n",
       "      <td>...</td>\n",
       "      <td>...</td>\n",
       "      <td>...</td>\n",
       "      <td>...</td>\n",
       "      <td>...</td>\n",
       "    </tr>\n",
       "    <tr>\n",
       "      <th>4243</th>\n",
       "      <td>206</td>\n",
       "      <td>41609</td>\n",
       "      <td>West</td>\n",
       "      <td>Small Market</td>\n",
       "      <td>Caffe Latte</td>\n",
       "      <td>Beans</td>\n",
       "      <td>Espresso</td>\n",
       "      <td>Washington</td>\n",
       "      <td>Regular</td>\n",
       "      <td>20</td>\n",
       "      <td>30</td>\n",
       "      <td>20</td>\n",
       "      <td>50</td>\n",
       "      <td>24</td>\n",
       "      <td>567</td>\n",
       "      <td>32</td>\n",
       "      <td>7</td>\n",
       "      <td>19</td>\n",
       "      <td>60</td>\n",
       "      <td>19</td>\n",
       "    </tr>\n",
       "    <tr>\n",
       "      <th>4244</th>\n",
       "      <td>509</td>\n",
       "      <td>41609</td>\n",
       "      <td>West</td>\n",
       "      <td>Small Market</td>\n",
       "      <td>Caffe Mocha</td>\n",
       "      <td>Beans</td>\n",
       "      <td>Espresso</td>\n",
       "      <td>Washington</td>\n",
       "      <td>Regular</td>\n",
       "      <td>60</td>\n",
       "      <td>80</td>\n",
       "      <td>30</td>\n",
       "      <td>140</td>\n",
       "      <td>65</td>\n",
       "      <td>403</td>\n",
       "      <td>80</td>\n",
       "      <td>24</td>\n",
       "      <td>34</td>\n",
       "      <td>155</td>\n",
       "      <td>57</td>\n",
       "    </tr>\n",
       "    <tr>\n",
       "      <th>4245</th>\n",
       "      <td>360</td>\n",
       "      <td>41609</td>\n",
       "      <td>West</td>\n",
       "      <td>Small Market</td>\n",
       "      <td>Decaf Espresso</td>\n",
       "      <td>Beans</td>\n",
       "      <td>Espresso</td>\n",
       "      <td>Washington</td>\n",
       "      <td>Decaf</td>\n",
       "      <td>70</td>\n",
       "      <td>100</td>\n",
       "      <td>60</td>\n",
       "      <td>170</td>\n",
       "      <td>80</td>\n",
       "      <td>1079</td>\n",
       "      <td>96</td>\n",
       "      <td>24</td>\n",
       "      <td>76</td>\n",
       "      <td>188</td>\n",
       "      <td>45</td>\n",
       "    </tr>\n",
       "    <tr>\n",
       "      <th>4246</th>\n",
       "      <td>360</td>\n",
       "      <td>41609</td>\n",
       "      <td>West</td>\n",
       "      <td>Small Market</td>\n",
       "      <td>Colombian</td>\n",
       "      <td>Beans</td>\n",
       "      <td>Coffee</td>\n",
       "      <td>Washington</td>\n",
       "      <td>Regular</td>\n",
       "      <td>80</td>\n",
       "      <td>120</td>\n",
       "      <td>80</td>\n",
       "      <td>200</td>\n",
       "      <td>72</td>\n",
       "      <td>461</td>\n",
       "      <td>104</td>\n",
       "      <td>23</td>\n",
       "      <td>86</td>\n",
       "      <td>188</td>\n",
       "      <td>46</td>\n",
       "    </tr>\n",
       "    <tr>\n",
       "      <th>4247</th>\n",
       "      <td>206</td>\n",
       "      <td>41609</td>\n",
       "      <td>West</td>\n",
       "      <td>Small Market</td>\n",
       "      <td>Decaf Irish Cream</td>\n",
       "      <td>Beans</td>\n",
       "      <td>Coffee</td>\n",
       "      <td>Washington</td>\n",
       "      <td>Decaf</td>\n",
       "      <td>120</td>\n",
       "      <td>170</td>\n",
       "      <td>50</td>\n",
       "      <td>290</td>\n",
       "      <td>105</td>\n",
       "      <td>716</td>\n",
       "      <td>145</td>\n",
       "      <td>95</td>\n",
       "      <td>30</td>\n",
       "      <td>266</td>\n",
       "      <td>125</td>\n",
       "    </tr>\n",
       "  </tbody>\n",
       "</table>\n",
       "<p>4248 rows × 20 columns</p>\n",
       "</div>"
      ],
      "text/plain": [
       "      Area Code   Date   Market   Market Size            Product Product Line  \\\n",
       "0           719  40909  Central  Major Market           Amaretto        Beans   \n",
       "1           970  40909  Central  Major Market          Colombian        Beans   \n",
       "2           970  40909  Central  Major Market  Decaf Irish Cream        Beans   \n",
       "3           303  40909  Central  Major Market          Green Tea       Leaves   \n",
       "4           303  40909  Central  Major Market        Caffe Mocha        Beans   \n",
       "...         ...    ...      ...           ...                ...          ...   \n",
       "4243        206  41609     West  Small Market        Caffe Latte        Beans   \n",
       "4244        509  41609     West  Small Market        Caffe Mocha        Beans   \n",
       "4245        360  41609     West  Small Market     Decaf Espresso        Beans   \n",
       "4246        360  41609     West  Small Market          Colombian        Beans   \n",
       "4247        206  41609     West  Small Market  Decaf Irish Cream        Beans   \n",
       "\n",
       "     Product Type       State     Type  Budget COGS  Budget Margin  \\\n",
       "0          Coffee    Colorado  Regular           90            130   \n",
       "1          Coffee    Colorado  Regular           80            110   \n",
       "2          Coffee    Colorado    Decaf          100            140   \n",
       "3             Tea    Colorado  Regular           30             50   \n",
       "4        Espresso    Colorado  Regular           60             90   \n",
       "...           ...         ...      ...          ...            ...   \n",
       "4243     Espresso  Washington  Regular           20             30   \n",
       "4244     Espresso  Washington  Regular           60             80   \n",
       "4245     Espresso  Washington    Decaf           70            100   \n",
       "4246       Coffee  Washington  Regular           80            120   \n",
       "4247       Coffee  Washington    Decaf          120            170   \n",
       "\n",
       "      Budget Profit  Budget Sales  COGS  Inventory  Margin  Marketing  Profit  \\\n",
       "0               100           220    89        777     130         24      94   \n",
       "1                80           190    83        623     107         27      68   \n",
       "2               110           240    95        821     139         26     101   \n",
       "3                30            80    44        623      56         14      30   \n",
       "4                70           150    54        456      80         15      54   \n",
       "...             ...           ...   ...        ...     ...        ...     ...   \n",
       "4243             20            50    24        567      32          7      19   \n",
       "4244             30           140    65        403      80         24      34   \n",
       "4245             60           170    80       1079      96         24      76   \n",
       "4246             80           200    72        461     104         23      86   \n",
       "4247             50           290   105        716     145         95      30   \n",
       "\n",
       "      Sales  Total Expenses  \n",
       "0       219              36  \n",
       "1       190              39  \n",
       "2       234              38  \n",
       "3       100              26  \n",
       "4       134              26  \n",
       "...     ...             ...  \n",
       "4243     60              19  \n",
       "4244    155              57  \n",
       "4245    188              45  \n",
       "4246    188              46  \n",
       "4247    266             125  \n",
       "\n",
       "[4248 rows x 20 columns]"
      ]
     },
     "execution_count": 9,
     "metadata": {},
     "output_type": "execute_result"
    }
   ],
   "source": [
    "df"
   ]
  },
  {
   "cell_type": "code",
   "execution_count": 10,
   "metadata": {},
   "outputs": [
    {
     "data": {
      "text/plain": [
       "Area Code         0\n",
       "Date              0\n",
       "Market            0\n",
       "Market Size       0\n",
       "Product           0\n",
       "Product Line      0\n",
       "Product Type      0\n",
       "State             0\n",
       "Type              0\n",
       "Budget COGS       0\n",
       "Budget Margin     0\n",
       "Budget Profit     0\n",
       "Budget Sales      0\n",
       "COGS              0\n",
       "Inventory         0\n",
       "Margin            0\n",
       "Marketing         0\n",
       "Profit            0\n",
       "Sales             0\n",
       "Total Expenses    0\n",
       "dtype: int64"
      ]
     },
     "execution_count": 10,
     "metadata": {},
     "output_type": "execute_result"
    }
   ],
   "source": [
    "df.isnull().sum()"
   ]
  },
  {
   "cell_type": "code",
   "execution_count": 6,
   "metadata": {},
   "outputs": [
    {
     "data": {
      "text/plain": [
       "<bound method NDFrame.describe of       Area Code   Date   Market   Market Size            Product Product Line  \\\n",
       "0           719  40909  Central  Major Market           Amaretto        Beans   \n",
       "1           970  40909  Central  Major Market          Colombian        Beans   \n",
       "2           970  40909  Central  Major Market  Decaf Irish Cream        Beans   \n",
       "3           303  40909  Central  Major Market          Green Tea       Leaves   \n",
       "4           303  40909  Central  Major Market        Caffe Mocha        Beans   \n",
       "...         ...    ...      ...           ...                ...          ...   \n",
       "4243        206  41609     West  Small Market        Caffe Latte        Beans   \n",
       "4244        509  41609     West  Small Market        Caffe Mocha        Beans   \n",
       "4245        360  41609     West  Small Market     Decaf Espresso        Beans   \n",
       "4246        360  41609     West  Small Market          Colombian        Beans   \n",
       "4247        206  41609     West  Small Market  Decaf Irish Cream        Beans   \n",
       "\n",
       "     Product Type       State     Type  Budget COGS  Budget Margin  \\\n",
       "0          Coffee    Colorado  Regular           90            130   \n",
       "1          Coffee    Colorado  Regular           80            110   \n",
       "2          Coffee    Colorado    Decaf          100            140   \n",
       "3             Tea    Colorado  Regular           30             50   \n",
       "4        Espresso    Colorado  Regular           60             90   \n",
       "...           ...         ...      ...          ...            ...   \n",
       "4243     Espresso  Washington  Regular           20             30   \n",
       "4244     Espresso  Washington  Regular           60             80   \n",
       "4245     Espresso  Washington    Decaf           70            100   \n",
       "4246       Coffee  Washington  Regular           80            120   \n",
       "4247       Coffee  Washington    Decaf          120            170   \n",
       "\n",
       "      Budget Profit  Budget Sales  COGS  Inventory  Margin  Marketing  Profit  \\\n",
       "0               100           220    89        777     130         24      94   \n",
       "1                80           190    83        623     107         27      68   \n",
       "2               110           240    95        821     139         26     101   \n",
       "3                30            80    44        623      56         14      30   \n",
       "4                70           150    54        456      80         15      54   \n",
       "...             ...           ...   ...        ...     ...        ...     ...   \n",
       "4243             20            50    24        567      32          7      19   \n",
       "4244             30           140    65        403      80         24      34   \n",
       "4245             60           170    80       1079      96         24      76   \n",
       "4246             80           200    72        461     104         23      86   \n",
       "4247             50           290   105        716     145         95      30   \n",
       "\n",
       "      Sales  Total Expenses  \n",
       "0       219              36  \n",
       "1       190              39  \n",
       "2       234              38  \n",
       "3       100              26  \n",
       "4       134              26  \n",
       "...     ...             ...  \n",
       "4243     60              19  \n",
       "4244    155              57  \n",
       "4245    188              45  \n",
       "4246    188              46  \n",
       "4247    266             125  \n",
       "\n",
       "[4248 rows x 20 columns]>"
      ]
     },
     "execution_count": 6,
     "metadata": {},
     "output_type": "execute_result"
    }
   ],
   "source": [
    "df.describe"
   ]
  },
  {
   "cell_type": "code",
   "execution_count": 11,
   "metadata": {},
   "outputs": [
    {
     "data": {
      "text/plain": [
       "Central    1344\n",
       "West       1344\n",
       "East        888\n",
       "South       672\n",
       "Name: Market, dtype: int64"
      ]
     },
     "execution_count": 11,
     "metadata": {},
     "output_type": "execute_result"
    }
   ],
   "source": [
    "df['Market'].value_counts()"
   ]
  },
  {
   "cell_type": "code",
   "execution_count": 12,
   "metadata": {},
   "outputs": [
    {
     "data": {
      "text/plain": [
       "Espresso      1176\n",
       "Coffee        1056\n",
       "Herbal Tea    1056\n",
       "Tea            960\n",
       "Name: Product Type, dtype: int64"
      ]
     },
     "execution_count": 12,
     "metadata": {},
     "output_type": "execute_result"
    }
   ],
   "source": [
    "df['Product Type'].value_counts()"
   ]
  },
  {
   "cell_type": "code",
   "execution_count": 13,
   "metadata": {},
   "outputs": [
    {
     "data": {
      "text/plain": [
       "Caffe Mocha          480\n",
       "Colombian            480\n",
       "Lemon                480\n",
       "Decaf Espresso       408\n",
       "Darjeeling           384\n",
       "Chamomile            384\n",
       "Decaf Irish Cream    384\n",
       "Green Tea            288\n",
       "Earl Grey            288\n",
       "Caffe Latte          216\n",
       "Mint                 192\n",
       "Amaretto             192\n",
       "Regular Espresso      72\n",
       "Name: Product, dtype: int64"
      ]
     },
     "execution_count": 13,
     "metadata": {},
     "output_type": "execute_result"
    }
   ],
   "source": [
    "df['Product'].value_counts()"
   ]
  },
  {
   "cell_type": "code",
   "execution_count": 14,
   "metadata": {},
   "outputs": [
    {
     "data": {
      "text/html": [
       "<div>\n",
       "<style scoped>\n",
       "    .dataframe tbody tr th:only-of-type {\n",
       "        vertical-align: middle;\n",
       "    }\n",
       "\n",
       "    .dataframe tbody tr th {\n",
       "        vertical-align: top;\n",
       "    }\n",
       "\n",
       "    .dataframe thead th {\n",
       "        text-align: right;\n",
       "    }\n",
       "</style>\n",
       "<table border=\"1\" class=\"dataframe\">\n",
       "  <thead>\n",
       "    <tr style=\"text-align: right;\">\n",
       "      <th></th>\n",
       "      <th>Area Code</th>\n",
       "      <th>Date</th>\n",
       "      <th>Market</th>\n",
       "      <th>Market Size</th>\n",
       "      <th>Product</th>\n",
       "      <th>Product Line</th>\n",
       "      <th>Product Type</th>\n",
       "      <th>State</th>\n",
       "      <th>Type</th>\n",
       "      <th>Budget COGS</th>\n",
       "      <th>Budget Margin</th>\n",
       "      <th>Budget Profit</th>\n",
       "      <th>Budget Sales</th>\n",
       "      <th>COGS</th>\n",
       "      <th>Inventory</th>\n",
       "      <th>Margin</th>\n",
       "      <th>Marketing</th>\n",
       "      <th>Profit</th>\n",
       "      <th>Sales</th>\n",
       "      <th>Total Expenses</th>\n",
       "    </tr>\n",
       "  </thead>\n",
       "  <tbody>\n",
       "    <tr>\n",
       "      <th>0</th>\n",
       "      <td>719</td>\n",
       "      <td>40909</td>\n",
       "      <td>Central</td>\n",
       "      <td>Major Market</td>\n",
       "      <td>Amaretto</td>\n",
       "      <td>Beans</td>\n",
       "      <td>Coffee</td>\n",
       "      <td>Colorado</td>\n",
       "      <td>Regular</td>\n",
       "      <td>90</td>\n",
       "      <td>130</td>\n",
       "      <td>100</td>\n",
       "      <td>220</td>\n",
       "      <td>89</td>\n",
       "      <td>777</td>\n",
       "      <td>130</td>\n",
       "      <td>24</td>\n",
       "      <td>94</td>\n",
       "      <td>219</td>\n",
       "      <td>36</td>\n",
       "    </tr>\n",
       "    <tr>\n",
       "      <th>1</th>\n",
       "      <td>970</td>\n",
       "      <td>40909</td>\n",
       "      <td>Central</td>\n",
       "      <td>Major Market</td>\n",
       "      <td>Colombian</td>\n",
       "      <td>Beans</td>\n",
       "      <td>Coffee</td>\n",
       "      <td>Colorado</td>\n",
       "      <td>Regular</td>\n",
       "      <td>80</td>\n",
       "      <td>110</td>\n",
       "      <td>80</td>\n",
       "      <td>190</td>\n",
       "      <td>83</td>\n",
       "      <td>623</td>\n",
       "      <td>107</td>\n",
       "      <td>27</td>\n",
       "      <td>68</td>\n",
       "      <td>190</td>\n",
       "      <td>39</td>\n",
       "    </tr>\n",
       "    <tr>\n",
       "      <th>2</th>\n",
       "      <td>970</td>\n",
       "      <td>40909</td>\n",
       "      <td>Central</td>\n",
       "      <td>Major Market</td>\n",
       "      <td>Decaf Irish Cream</td>\n",
       "      <td>Beans</td>\n",
       "      <td>Coffee</td>\n",
       "      <td>Colorado</td>\n",
       "      <td>Decaf</td>\n",
       "      <td>100</td>\n",
       "      <td>140</td>\n",
       "      <td>110</td>\n",
       "      <td>240</td>\n",
       "      <td>95</td>\n",
       "      <td>821</td>\n",
       "      <td>139</td>\n",
       "      <td>26</td>\n",
       "      <td>101</td>\n",
       "      <td>234</td>\n",
       "      <td>38</td>\n",
       "    </tr>\n",
       "    <tr>\n",
       "      <th>3</th>\n",
       "      <td>303</td>\n",
       "      <td>40909</td>\n",
       "      <td>Central</td>\n",
       "      <td>Major Market</td>\n",
       "      <td>Green Tea</td>\n",
       "      <td>Leaves</td>\n",
       "      <td>Tea</td>\n",
       "      <td>Colorado</td>\n",
       "      <td>Regular</td>\n",
       "      <td>30</td>\n",
       "      <td>50</td>\n",
       "      <td>30</td>\n",
       "      <td>80</td>\n",
       "      <td>44</td>\n",
       "      <td>623</td>\n",
       "      <td>56</td>\n",
       "      <td>14</td>\n",
       "      <td>30</td>\n",
       "      <td>100</td>\n",
       "      <td>26</td>\n",
       "    </tr>\n",
       "    <tr>\n",
       "      <th>4</th>\n",
       "      <td>303</td>\n",
       "      <td>40909</td>\n",
       "      <td>Central</td>\n",
       "      <td>Major Market</td>\n",
       "      <td>Caffe Mocha</td>\n",
       "      <td>Beans</td>\n",
       "      <td>Espresso</td>\n",
       "      <td>Colorado</td>\n",
       "      <td>Regular</td>\n",
       "      <td>60</td>\n",
       "      <td>90</td>\n",
       "      <td>70</td>\n",
       "      <td>150</td>\n",
       "      <td>54</td>\n",
       "      <td>456</td>\n",
       "      <td>80</td>\n",
       "      <td>15</td>\n",
       "      <td>54</td>\n",
       "      <td>134</td>\n",
       "      <td>26</td>\n",
       "    </tr>\n",
       "    <tr>\n",
       "      <th>...</th>\n",
       "      <td>...</td>\n",
       "      <td>...</td>\n",
       "      <td>...</td>\n",
       "      <td>...</td>\n",
       "      <td>...</td>\n",
       "      <td>...</td>\n",
       "      <td>...</td>\n",
       "      <td>...</td>\n",
       "      <td>...</td>\n",
       "      <td>...</td>\n",
       "      <td>...</td>\n",
       "      <td>...</td>\n",
       "      <td>...</td>\n",
       "      <td>...</td>\n",
       "      <td>...</td>\n",
       "      <td>...</td>\n",
       "      <td>...</td>\n",
       "      <td>...</td>\n",
       "      <td>...</td>\n",
       "      <td>...</td>\n",
       "    </tr>\n",
       "    <tr>\n",
       "      <th>4242</th>\n",
       "      <td>425</td>\n",
       "      <td>41609</td>\n",
       "      <td>West</td>\n",
       "      <td>Small Market</td>\n",
       "      <td>Lemon</td>\n",
       "      <td>Leaves</td>\n",
       "      <td>Herbal Tea</td>\n",
       "      <td>Washington</td>\n",
       "      <td>Decaf</td>\n",
       "      <td>40</td>\n",
       "      <td>70</td>\n",
       "      <td>50</td>\n",
       "      <td>110</td>\n",
       "      <td>49</td>\n",
       "      <td>845</td>\n",
       "      <td>71</td>\n",
       "      <td>13</td>\n",
       "      <td>68</td>\n",
       "      <td>128</td>\n",
       "      <td>25</td>\n",
       "    </tr>\n",
       "    <tr>\n",
       "      <th>4243</th>\n",
       "      <td>206</td>\n",
       "      <td>41609</td>\n",
       "      <td>West</td>\n",
       "      <td>Small Market</td>\n",
       "      <td>Caffe Latte</td>\n",
       "      <td>Beans</td>\n",
       "      <td>Espresso</td>\n",
       "      <td>Washington</td>\n",
       "      <td>Regular</td>\n",
       "      <td>20</td>\n",
       "      <td>30</td>\n",
       "      <td>20</td>\n",
       "      <td>50</td>\n",
       "      <td>24</td>\n",
       "      <td>567</td>\n",
       "      <td>32</td>\n",
       "      <td>7</td>\n",
       "      <td>19</td>\n",
       "      <td>60</td>\n",
       "      <td>19</td>\n",
       "    </tr>\n",
       "    <tr>\n",
       "      <th>4244</th>\n",
       "      <td>509</td>\n",
       "      <td>41609</td>\n",
       "      <td>West</td>\n",
       "      <td>Small Market</td>\n",
       "      <td>Caffe Mocha</td>\n",
       "      <td>Beans</td>\n",
       "      <td>Espresso</td>\n",
       "      <td>Washington</td>\n",
       "      <td>Regular</td>\n",
       "      <td>60</td>\n",
       "      <td>80</td>\n",
       "      <td>30</td>\n",
       "      <td>140</td>\n",
       "      <td>65</td>\n",
       "      <td>403</td>\n",
       "      <td>80</td>\n",
       "      <td>24</td>\n",
       "      <td>34</td>\n",
       "      <td>155</td>\n",
       "      <td>57</td>\n",
       "    </tr>\n",
       "    <tr>\n",
       "      <th>4246</th>\n",
       "      <td>360</td>\n",
       "      <td>41609</td>\n",
       "      <td>West</td>\n",
       "      <td>Small Market</td>\n",
       "      <td>Colombian</td>\n",
       "      <td>Beans</td>\n",
       "      <td>Coffee</td>\n",
       "      <td>Washington</td>\n",
       "      <td>Regular</td>\n",
       "      <td>80</td>\n",
       "      <td>120</td>\n",
       "      <td>80</td>\n",
       "      <td>200</td>\n",
       "      <td>72</td>\n",
       "      <td>461</td>\n",
       "      <td>104</td>\n",
       "      <td>23</td>\n",
       "      <td>86</td>\n",
       "      <td>188</td>\n",
       "      <td>46</td>\n",
       "    </tr>\n",
       "    <tr>\n",
       "      <th>4247</th>\n",
       "      <td>206</td>\n",
       "      <td>41609</td>\n",
       "      <td>West</td>\n",
       "      <td>Small Market</td>\n",
       "      <td>Decaf Irish Cream</td>\n",
       "      <td>Beans</td>\n",
       "      <td>Coffee</td>\n",
       "      <td>Washington</td>\n",
       "      <td>Decaf</td>\n",
       "      <td>120</td>\n",
       "      <td>170</td>\n",
       "      <td>50</td>\n",
       "      <td>290</td>\n",
       "      <td>105</td>\n",
       "      <td>716</td>\n",
       "      <td>145</td>\n",
       "      <td>95</td>\n",
       "      <td>30</td>\n",
       "      <td>266</td>\n",
       "      <td>125</td>\n",
       "    </tr>\n",
       "  </tbody>\n",
       "</table>\n",
       "<p>3768 rows × 20 columns</p>\n",
       "</div>"
      ],
      "text/plain": [
       "      Area Code   Date   Market   Market Size            Product Product Line  \\\n",
       "0           719  40909  Central  Major Market           Amaretto        Beans   \n",
       "1           970  40909  Central  Major Market          Colombian        Beans   \n",
       "2           970  40909  Central  Major Market  Decaf Irish Cream        Beans   \n",
       "3           303  40909  Central  Major Market          Green Tea       Leaves   \n",
       "4           303  40909  Central  Major Market        Caffe Mocha        Beans   \n",
       "...         ...    ...      ...           ...                ...          ...   \n",
       "4242        425  41609     West  Small Market              Lemon       Leaves   \n",
       "4243        206  41609     West  Small Market        Caffe Latte        Beans   \n",
       "4244        509  41609     West  Small Market        Caffe Mocha        Beans   \n",
       "4246        360  41609     West  Small Market          Colombian        Beans   \n",
       "4247        206  41609     West  Small Market  Decaf Irish Cream        Beans   \n",
       "\n",
       "     Product Type       State     Type  Budget COGS  Budget Margin  \\\n",
       "0          Coffee    Colorado  Regular           90            130   \n",
       "1          Coffee    Colorado  Regular           80            110   \n",
       "2          Coffee    Colorado    Decaf          100            140   \n",
       "3             Tea    Colorado  Regular           30             50   \n",
       "4        Espresso    Colorado  Regular           60             90   \n",
       "...           ...         ...      ...          ...            ...   \n",
       "4242   Herbal Tea  Washington    Decaf           40             70   \n",
       "4243     Espresso  Washington  Regular           20             30   \n",
       "4244     Espresso  Washington  Regular           60             80   \n",
       "4246       Coffee  Washington  Regular           80            120   \n",
       "4247       Coffee  Washington    Decaf          120            170   \n",
       "\n",
       "      Budget Profit  Budget Sales  COGS  Inventory  Margin  Marketing  Profit  \\\n",
       "0               100           220    89        777     130         24      94   \n",
       "1                80           190    83        623     107         27      68   \n",
       "2               110           240    95        821     139         26     101   \n",
       "3                30            80    44        623      56         14      30   \n",
       "4                70           150    54        456      80         15      54   \n",
       "...             ...           ...   ...        ...     ...        ...     ...   \n",
       "4242             50           110    49        845      71         13      68   \n",
       "4243             20            50    24        567      32          7      19   \n",
       "4244             30           140    65        403      80         24      34   \n",
       "4246             80           200    72        461     104         23      86   \n",
       "4247             50           290   105        716     145         95      30   \n",
       "\n",
       "      Sales  Total Expenses  \n",
       "0       219              36  \n",
       "1       190              39  \n",
       "2       234              38  \n",
       "3       100              26  \n",
       "4       134              26  \n",
       "...     ...             ...  \n",
       "4242    128              25  \n",
       "4243     60              19  \n",
       "4244    155              57  \n",
       "4246    188              46  \n",
       "4247    266             125  \n",
       "\n",
       "[3768 rows x 20 columns]"
      ]
     },
     "execution_count": 14,
     "metadata": {},
     "output_type": "execute_result"
    }
   ],
   "source": [
    "de=df[(df['Product']!='Decaf Espresso') & (df['Product']!='Regular Espresso')]\n",
    "de.shape\n",
    "de"
   ]
  },
  {
   "cell_type": "code",
   "execution_count": 15,
   "metadata": {},
   "outputs": [
    {
     "name": "stdout",
     "output_type": "stream",
     "text": [
      "(4248, 20)\n",
      "(3840, 20)\n",
      "(4176, 20)\n"
     ]
    }
   ],
   "source": [
    "print(df.shape)\n",
    "print((df[(df['Product']!='Decaf Espresso')]).shape)\n",
    "print((df[(df['Product']!='Regular Espresso')]).shape) "
   ]
  },
  {
   "cell_type": "code",
   "execution_count": 16,
   "metadata": {},
   "outputs": [
    {
     "data": {
      "text/plain": [
       "(3072, 20)"
      ]
     },
     "execution_count": 16,
     "metadata": {},
     "output_type": "execute_result"
    }
   ],
   "source": [
    "de1= de[de['Product Type']!='Espresso']\n",
    "de1.shape"
   ]
  },
  {
   "cell_type": "code",
   "execution_count": 17,
   "metadata": {},
   "outputs": [
    {
     "data": {
      "text/plain": [
       "Regular    2400\n",
       "Decaf      1848\n",
       "Name: Type, dtype: int64"
      ]
     },
     "execution_count": 17,
     "metadata": {},
     "output_type": "execute_result"
    }
   ],
   "source": [
    "df['Type'].value_counts()"
   ]
  },
  {
   "cell_type": "code",
   "execution_count": 18,
   "metadata": {},
   "outputs": [
    {
     "data": {
      "text/plain": [
       "Small Market    2544\n",
       "Major Market    1704\n",
       "Name: Market Size, dtype: int64"
      ]
     },
     "execution_count": 18,
     "metadata": {},
     "output_type": "execute_result"
    }
   ],
   "source": [
    "df['Market Size'].value_counts()"
   ]
  },
  {
   "cell_type": "code",
   "execution_count": 19,
   "metadata": {},
   "outputs": [
    {
     "data": {
      "text/plain": [
       "Beans     2232\n",
       "Leaves    2016\n",
       "Name: Product Line, dtype: int64"
      ]
     },
     "execution_count": 19,
     "metadata": {},
     "output_type": "execute_result"
    }
   ],
   "source": [
    "df['Product Line'].value_counts()"
   ]
  },
  {
   "cell_type": "code",
   "execution_count": 20,
   "metadata": {},
   "outputs": [
    {
     "data": {
      "text/plain": [
       "Utah             288\n",
       "California       288\n",
       "Oregon           264\n",
       "Colorado         264\n",
       "Nevada           264\n",
       "Washington       240\n",
       "Iowa             216\n",
       "Ohio             216\n",
       "Wisconsin        216\n",
       "Missouri         216\n",
       "Florida          216\n",
       "Illinois         216\n",
       "New York         192\n",
       "New Hampshire    168\n",
       "Texas            168\n",
       "Oklahoma         168\n",
       "Louisiana        168\n",
       "Connecticut      168\n",
       "New Mexico       168\n",
       "Massachusetts    144\n",
       "Name: State, dtype: int64"
      ]
     },
     "execution_count": 20,
     "metadata": {},
     "output_type": "execute_result"
    }
   ],
   "source": [
    "df['State'].value_counts()"
   ]
  },
  {
   "cell_type": "code",
   "execution_count": null,
   "metadata": {},
   "outputs": [],
   "source": []
  },
  {
   "cell_type": "markdown",
   "metadata": {},
   "source": [
    "### 3. Depict different Market types and their count on a bar chart"
   ]
  },
  {
   "cell_type": "code",
   "execution_count": 22,
   "metadata": {},
   "outputs": [
    {
     "name": "stdout",
     "output_type": "stream",
     "text": [
      "<class 'pandas.core.series.Series'>\n"
     ]
    },
    {
     "data": {
      "text/plain": [
       "Central    1344\n",
       "West       1344\n",
       "East        888\n",
       "South       672\n",
       "Name: Market, dtype: int64"
      ]
     },
     "execution_count": 22,
     "metadata": {},
     "output_type": "execute_result"
    }
   ],
   "source": [
    "mt=df['Market'].value_counts()\n",
    "print(type(mt))\n",
    "mt"
   ]
  },
  {
   "cell_type": "code",
   "execution_count": 23,
   "metadata": {},
   "outputs": [
    {
     "data": {
      "image/png": "[encoded data removed]",
      "text/plain": [
       "<Figure size 432x288 with 1 Axes>"
      ]
     },
     "metadata": {
      "needs_background": "light"
     },
     "output_type": "display_data"
    }
   ],
   "source": [
    "plt.bar(mt.index,mt.values,color='blue')\n",
    "plt.grid()\n",
    "plt.xlabel('Market')\n",
    "plt.ylabel('Counts')\n",
    "plt.title('Market Types Vs Its Counts')\n",
    "plt.show()"
   ]
  },
  {
   "cell_type": "code",
   "execution_count": null,
   "metadata": {},
   "outputs": [],
   "source": []
  },
  {
   "cell_type": "markdown",
   "metadata": {},
   "source": [
    "### 4. Depict different product types and their count on a line chart"
   ]
  },
  {
   "cell_type": "code",
   "execution_count": 24,
   "metadata": {},
   "outputs": [
    {
     "data": {
      "text/plain": [
       "Espresso      1176\n",
       "Coffee        1056\n",
       "Herbal Tea    1056\n",
       "Tea            960\n",
       "Name: Product Type, dtype: int64"
      ]
     },
     "execution_count": 24,
     "metadata": {},
     "output_type": "execute_result"
    }
   ],
   "source": [
    "pt=df['Product Type'].value_counts()\n",
    "pt"
   ]
  },
  {
   "cell_type": "code",
   "execution_count": 25,
   "metadata": {},
   "outputs": [
    {
     "data": {
      "image/png": "[encoded data removed]",
      "text/plain": [
       "<Figure size 432x288 with 1 Axes>"
      ]
     },
     "metadata": {
      "needs_background": "light"
     },
     "output_type": "display_data"
    }
   ],
   "source": [
    "plt.plot(pt.index,pt.values,color='green',marker='*')\n",
    "plt.grid()\n",
    "plt.title('Product Type vs Its Counts')\n",
    "plt.xlabel('Product Type')\n",
    "plt.ylabel('Counts')\n",
    "#plt.xticks(rotation=90)\n",
    "plt.show()"
   ]
  },
  {
   "cell_type": "code",
   "execution_count": null,
   "metadata": {},
   "outputs": [],
   "source": []
  },
  {
   "cell_type": "markdown",
   "metadata": {},
   "source": [
    "### 5. Depict differenct state and their count on a pie chart"
   ]
  },
  {
   "cell_type": "code",
   "execution_count": 26,
   "metadata": {},
   "outputs": [
    {
     "data": {
      "text/plain": [
       "Utah             288\n",
       "California       288\n",
       "Oregon           264\n",
       "Colorado         264\n",
       "Nevada           264\n",
       "Washington       240\n",
       "Iowa             216\n",
       "Ohio             216\n",
       "Wisconsin        216\n",
       "Missouri         216\n",
       "Florida          216\n",
       "Illinois         216\n",
       "New York         192\n",
       "New Hampshire    168\n",
       "Texas            168\n",
       "Oklahoma         168\n",
       "Louisiana        168\n",
       "Connecticut      168\n",
       "New Mexico       168\n",
       "Massachusetts    144\n",
       "Name: State, dtype: int64"
      ]
     },
     "execution_count": 26,
     "metadata": {},
     "output_type": "execute_result"
    }
   ],
   "source": [
    "pc = df['State'].value_counts()\n",
    "pc"
   ]
  },
  {
   "cell_type": "code",
   "execution_count": 27,
   "metadata": {},
   "outputs": [
    {
     "data": {
      "image/png": "[encoded data removed]",
      "text/plain": [
       "<Figure size 1080x1080 with 1 Axes>"
      ]
     },
     "metadata": {},
     "output_type": "display_data"
    }
   ],
   "source": [
    "plt.figure(figsize=(15,15))\n",
    "plt.pie(pc,labels=pc.index,autopct='%.2f%%')\n",
    "plt.legend(loc=1)\n",
    "plt.title('State Vs their Counts')\n",
    "plt.show()"
   ]
  },
  {
   "cell_type": "code",
   "execution_count": null,
   "metadata": {},
   "outputs": [],
   "source": []
  },
  {
   "cell_type": "code",
   "execution_count": null,
   "metadata": {},
   "outputs": [],
   "source": []
  },
  {
   "cell_type": "code",
   "execution_count": null,
   "metadata": {},
   "outputs": [],
   "source": []
  },
  {
   "cell_type": "markdown",
   "metadata": {},
   "source": [
    "### 6. Depict the Market wise sum of profit and depict the result on bar chart."
   ]
  },
  {
   "cell_type": "code",
   "execution_count": 28,
   "metadata": {},
   "outputs": [
    {
     "data": {
      "text/plain": [
       "Index(['Area Code', 'Date', 'Market', 'Market Size', 'Product', 'Product Line',\n",
       "       'Product Type', 'State', 'Type', 'Budget COGS', 'Budget Margin',\n",
       "       'Budget Profit', 'Budget Sales', 'COGS', 'Inventory', 'Margin',\n",
       "       'Marketing', 'Profit', 'Sales', 'Total Expenses'],\n",
       "      dtype='object')"
      ]
     },
     "execution_count": 28,
     "metadata": {},
     "output_type": "execute_result"
    }
   ],
   "source": [
    "df.columns"
   ]
  },
  {
   "cell_type": "code",
   "execution_count": 29,
   "metadata": {},
   "outputs": [
    {
     "data": {
      "text/plain": [
       "Market\n",
       "Central    1344\n",
       "East        888\n",
       "South       672\n",
       "West       1344\n",
       "Name: Profit, dtype: int64"
      ]
     },
     "execution_count": 29,
     "metadata": {},
     "output_type": "execute_result"
    }
   ],
   "source": [
    "mp=df.groupby([\"Market\"])['Profit'].count()\n",
    "mp"
   ]
  },
  {
   "cell_type": "code",
   "execution_count": 30,
   "metadata": {},
   "outputs": [
    {
     "data": {
      "image/png": "[encoded data removed]",
      "text/plain": [
       "<Figure size 576x576 with 1 Axes>"
      ]
     },
     "metadata": {
      "needs_background": "light"
     },
     "output_type": "display_data"
    }
   ],
   "source": [
    "plt.figure(figsize=(8,8))\n",
    "plt.bar(mp.index,mp.values,color='yellow',label='Profit')\n",
    "plt.title('Market vs Sum of Profit')\n",
    "plt.xlabel('Market')\n",
    "plt.ylabel('Profit')\n",
    "plt.legend()\n",
    "plt.xticks(rotation=360)\n",
    "plt.grid()\n",
    "plt.show()"
   ]
  },
  {
   "cell_type": "code",
   "execution_count": null,
   "metadata": {},
   "outputs": [],
   "source": []
  },
  {
   "cell_type": "markdown",
   "metadata": {},
   "source": [
    "### 7. Depict Product wise mean of sales and depict the result on bar char and line chart super imopsed"
   ]
  },
  {
   "cell_type": "code",
   "execution_count": 315,
   "metadata": {},
   "outputs": [
    {
     "data": {
      "text/plain": [
       "Product\n",
       "Amaretto             136.817708\n",
       "Caffe Latte          166.199074\n",
       "Caffe Mocha          176.883333\n",
       "Chamomile            196.817708\n",
       "Colombian            267.314583\n",
       "Darjeeling           190.497396\n",
       "Decaf Espresso       191.573529\n",
       "Decaf Irish Cream    162.104167\n",
       "Earl Grey            231.847222\n",
       "Green Tea            114.062500\n",
       "Lemon                199.845833\n",
       "Mint                 185.989583\n",
       "Regular Espresso     333.763889\n",
       "Name: Sales, dtype: float64"
      ]
     },
     "execution_count": 315,
     "metadata": {},
     "output_type": "execute_result"
    }
   ],
   "source": [
    "psm=df.groupby(['Product'])['Sales'].mean()\n",
    "psm"
   ]
  },
  {
   "cell_type": "code",
   "execution_count": 319,
   "metadata": {},
   "outputs": [
    {
     "data": {
      "image/png": "[encoded data removed]",
      "text/plain": [
       "<Figure size 720x576 with 1 Axes>"
      ]
     },
     "metadata": {
      "needs_background": "light"
     },
     "output_type": "display_data"
    }
   ],
   "source": [
    "plt.figure(figsize=(10,8))\n",
    "plt.plot(psm.index,psm.values,marker='*',color='black',label='Sales Means in Line chart')\n",
    "plt.bar(psm.index,psm.values,color='red',label='Sales Means in Bar Chart ')\n",
    "plt.grid()\n",
    "#plt.bar(psm.index,psm,label='Sales')\n",
    "#for i in range(len(psm.index)):\n",
    "#    plt.annotate(xy = [psm[i]-0.2,15],s=(psm[i]))\n",
    "plt.title(\"Product vs Sales Means on Super imposed Line and Bar Chart\")\n",
    "plt.xlabel('Product')\n",
    "plt.ylabel('Sales Means')\n",
    "plt.xticks(rotation=90)\n",
    "plt.legend()\n",
    "plt.show()"
   ]
  },
  {
   "cell_type": "code",
   "execution_count": 33,
   "metadata": {},
   "outputs": [
    {
     "name": "stdout",
     "output_type": "stream",
     "text": [
      "['Amaretto', 'Caffe Latte', 'Caffe Mocha', 'Chamomile', 'Colombian', 'Darjeeling', 'Decaf Espresso', 'Decaf Irish Cream', 'Earl Grey', 'Green Tea', 'Lemon', 'Mint', 'Regular Espresso']\n",
      "[136.81770833333334, 166.19907407407408, 176.88333333333333, 196.81770833333334, 267.31458333333336, 190.49739583333334, 191.5735294117647, 162.10416666666666, 231.84722222222223, 114.0625, 199.84583333333333, 185.98958333333334, 333.7638888888889]\n"
     ]
    }
   ],
   "source": [
    "m1=psm.index.tolist()\n",
    "m2=psm.values.tolist()\n",
    "print(m1)\n",
    "print(m2)"
   ]
  },
  {
   "cell_type": "code",
   "execution_count": 34,
   "metadata": {},
   "outputs": [
    {
     "name": "stderr",
     "output_type": "stream",
     "text": [
      "<ipython-input-34-6cc138db521c>:5: MatplotlibDeprecationWarning: The 's' parameter of annotate() has been renamed 'text' since Matplotlib 3.3; support for the old name will be dropped two minor releases later.\n",
      "  plt.annotate(xy = [m2[i]-0,0],s=(m2[i]))\n"
     ]
    },
    {
     "data": {
      "image/png": "[encoded data removed]",
      "text/plain": [
       "<Figure size 576x432 with 1 Axes>"
      ]
     },
     "metadata": {
      "needs_background": "light"
     },
     "output_type": "display_data"
    }
   ],
   "source": [
    "plt.figure(figsize=(8,6))\n",
    "plt.grid()\n",
    "plt.bar(m1,m2,label='sales')\n",
    "for i in range(len(m1)):\n",
    "    plt.annotate(xy = [m2[i]-0,0],s=(m2[i]))\n",
    "plt.title(\"Product vs Sales Means on Super imposed Line and Bar Chart\")\n",
    "plt.xlabel('Product')\n",
    "plt.ylabel('Sales Means')\n",
    "plt.xticks(rotation=40)\n",
    "plt.legend()\n",
    "plt.show()"
   ]
  },
  {
   "cell_type": "code",
   "execution_count": null,
   "metadata": {},
   "outputs": [],
   "source": []
  },
  {
   "cell_type": "markdown",
   "metadata": {},
   "source": [
    "### 8. Depict Profit vs sales on a scatter chart where product is 'Regular Expresso'"
   ]
  },
  {
   "cell_type": "code",
   "execution_count": 35,
   "metadata": {},
   "outputs": [
    {
     "data": {
      "text/plain": [
       "Caffe Mocha          480\n",
       "Colombian            480\n",
       "Lemon                480\n",
       "Decaf Espresso       408\n",
       "Darjeeling           384\n",
       "Chamomile            384\n",
       "Decaf Irish Cream    384\n",
       "Green Tea            288\n",
       "Earl Grey            288\n",
       "Caffe Latte          216\n",
       "Mint                 192\n",
       "Amaretto             192\n",
       "Regular Espresso      72\n",
       "Name: Product, dtype: int64"
      ]
     },
     "execution_count": 35,
     "metadata": {},
     "output_type": "execute_result"
    }
   ],
   "source": [
    "p=df['Product'].value_counts()\n",
    "p"
   ]
  },
  {
   "cell_type": "code",
   "execution_count": 36,
   "metadata": {},
   "outputs": [
    {
     "data": {
      "text/plain": [
       "Index(['Area Code', 'Date', 'Market', 'Market Size', 'Product', 'Product Line',\n",
       "       'Product Type', 'State', 'Type', 'Budget COGS', 'Budget Margin',\n",
       "       'Budget Profit', 'Budget Sales', 'COGS', 'Inventory', 'Margin',\n",
       "       'Marketing', 'Profit', 'Sales', 'Total Expenses'],\n",
       "      dtype='object')"
      ]
     },
     "execution_count": 36,
     "metadata": {},
     "output_type": "execute_result"
    }
   ],
   "source": [
    "p=df[df['Product']=='Regular Espresso']\n",
    "p.columns"
   ]
  },
  {
   "cell_type": "code",
   "execution_count": 37,
   "metadata": {},
   "outputs": [
    {
     "data": {
      "image/png": "[encoded data removed]",
      "text/plain": [
       "<Figure size 1080x360 with 1 Axes>"
      ]
     },
     "metadata": {
      "needs_background": "light"
     },
     "output_type": "display_data"
    }
   ],
   "source": [
    "plt.figure(figsize=(15,5))\n",
    "plt.scatter(p['Sales'],p['Profit'],color = 'red',marker='*')\n",
    "plt.title('Profit vs Sales on a scatter chart')\n",
    "plt.xlabel('Sales')\n",
    "plt.ylabel(\"Profit\")\n",
    "plt.show()"
   ]
  },
  {
   "cell_type": "code",
   "execution_count": null,
   "metadata": {},
   "outputs": [],
   "source": []
  },
  {
   "cell_type": "markdown",
   "metadata": {},
   "source": [
    "### Depcit Budget Profit vs Budget Sales on a Scatter Chart where State is California and product is Earl Grey"
   ]
  },
  {
   "cell_type": "code",
   "execution_count": 38,
   "metadata": {},
   "outputs": [
    {
     "data": {
      "image/png": "[encoded data removed]",
      "text/plain": [
       "<Figure size 432x288 with 1 Axes>"
      ]
     },
     "metadata": {
      "needs_background": "light"
     },
     "output_type": "display_data"
    }
   ],
   "source": [
    "s=df[df['State']=='California']\n",
    "p=s[s['Product']=='Earl Grey']\n",
    "plt.scatter(p['Budget Profit'],p['Budget Sales'], marker='x')\n",
    "plt.title('Budget Profit vs Budget Sales for Product Earl Grey for California')\n",
    "plt.xlabel('Budget Profit')\n",
    "plt.ylabel('Budget Sales')\n",
    "plt.show()"
   ]
  },
  {
   "cell_type": "code",
   "execution_count": null,
   "metadata": {},
   "outputs": [],
   "source": []
  },
  {
   "cell_type": "markdown",
   "metadata": {},
   "source": [
    "### 10. Depit Market wise mean of Budget Sales and mean of Sales in a stacked bar chart"
   ]
  },
  {
   "cell_type": "code",
   "execution_count": 39,
   "metadata": {},
   "outputs": [
    {
     "data": {
      "text/plain": [
       "Market\n",
       "Central    186.279762\n",
       "East       177.815315\n",
       "South      146.130952\n",
       "West       178.348214\n",
       "Name: Budget Sales, dtype: float64"
      ]
     },
     "execution_count": 39,
     "metadata": {},
     "output_type": "execute_result"
    }
   ],
   "source": [
    "m=df.groupby(['Market'])['Budget Sales'].mean()\n",
    "m"
   ]
  },
  {
   "cell_type": "code",
   "execution_count": 40,
   "metadata": {},
   "outputs": [
    {
     "data": {
      "text/plain": [
       "Market\n",
       "Central    197.206101\n",
       "East       201.099099\n",
       "South      154.651786\n",
       "West       202.577381\n",
       "Name: Sales, dtype: float64"
      ]
     },
     "execution_count": 40,
     "metadata": {},
     "output_type": "execute_result"
    }
   ],
   "source": [
    "s=df.groupby(['Market'])['Sales'].mean()\n",
    "s"
   ]
  },
  {
   "cell_type": "code",
   "execution_count": 41,
   "metadata": {},
   "outputs": [
    {
     "data": {
      "image/png": "[encoded data removed]",
      "text/plain": [
       "<Figure size 720x288 with 1 Axes>"
      ]
     },
     "metadata": {
      "needs_background": "light"
     },
     "output_type": "display_data"
    }
   ],
   "source": [
    "plt.figure(figsize=(10,4))\n",
    "plt.bar(s.index,s,color='yellow',label='Sales')\n",
    "plt.bar(m.index,m,color='red',label='Budget Sales')\n",
    "plt.legend(loc=8)\n",
    "plt.grid()\n",
    "plt.xlabel('Market')\n",
    "plt.ylabel('Budget sales & Sales')\n",
    "plt.title(\"Market's Budget Sales & Sales Means\")\n",
    "plt.show()"
   ]
  },
  {
   "cell_type": "code",
   "execution_count": null,
   "metadata": {},
   "outputs": [],
   "source": []
  },
  {
   "cell_type": "markdown",
   "metadata": {},
   "source": [
    "###    11. Plot the frequency distribution of Total Expenses"
   ]
  },
  {
   "cell_type": "code",
   "execution_count": 42,
   "metadata": {},
   "outputs": [
    {
     "data": {
      "image/png": "[encoded data removed]",
      "text/plain": [
       "<Figure size 432x288 with 1 Axes>"
      ]
     },
     "metadata": {
      "needs_background": "light"
     },
     "output_type": "display_data"
    }
   ],
   "source": [
    "te = df['Total Expenses']\n",
    "plt.hist(df['Total Expenses'],color='lightgreen')\n",
    "plt.show()"
   ]
  },
  {
   "cell_type": "code",
   "execution_count": 43,
   "metadata": {},
   "outputs": [
    {
     "data": {
      "text/plain": [
       "45     140\n",
       "46     138\n",
       "17     108\n",
       "38     103\n",
       "19      98\n",
       "      ... \n",
       "122      1\n",
       "190      1\n",
       "14       1\n",
       "105      1\n",
       "181      1\n",
       "Name: Total Expenses, Length: 156, dtype: int64"
      ]
     },
     "execution_count": 43,
     "metadata": {},
     "output_type": "execute_result"
    }
   ],
   "source": [
    "df['Total Expenses'].value_counts().sort_values(ascending=False)"
   ]
  },
  {
   "cell_type": "code",
   "execution_count": 44,
   "metadata": {},
   "outputs": [
    {
     "data": {
      "text/plain": [
       "array([ 36,  39,  38,  26,  55,  72,  87,  47,  40,  90,  52, 109,  88,\n",
       "        35,  27,  54,  16,  29,  19,  15, 110,  53, 126,  66,  45,  46,\n",
       "        25,  23,  64,  50,  41,  49,  56,  58, 102,  98,  28,  43,  20,\n",
       "        42,  21,  71,  65,  86,  17,  44,  63, 128, 145, 127,  97,  30,\n",
       "        59, 101,  24,  34,  51,  37,  85,  91, 129,  32,  78,  33,  11,\n",
       "       125,  69, 113,  18,  74, 112,  57,  68, 143, 142, 124,  22,  12,\n",
       "        79,  77,  94, 115,  70, 146,  76, 116,  62, 132,  61,  48, 152,\n",
       "       131,  60, 147, 119,  96, 134, 118,  67, 159, 133,  31, 121, 111,\n",
       "       135, 130, 164, 177, 165, 122,  99,  83, 141, 181, 178,  82, 180,\n",
       "       108, 149, 140, 117, 189, 150, 107, 190, 114, 144, 162, 161,  93,\n",
       "        84,  73,  95,  75, 100, 138, 139, 155, 156,  92, 103, 106,  89,\n",
       "       104,  81,  10, 148, 105, 120, 153, 168, 166, 167,  80, 176,  14],\n",
       "      dtype=int64)"
      ]
     },
     "execution_count": 44,
     "metadata": {},
     "output_type": "execute_result"
    }
   ],
   "source": [
    "df['Total Expenses'].unique()"
   ]
  },
  {
   "cell_type": "code",
   "execution_count": 45,
   "metadata": {},
   "outputs": [
    {
     "data": {
      "text/plain": [
       "10"
      ]
     },
     "execution_count": 45,
     "metadata": {},
     "output_type": "execute_result"
    }
   ],
   "source": [
    "df['Total Expenses'].min()"
   ]
  },
  {
   "cell_type": "code",
   "execution_count": 46,
   "metadata": {},
   "outputs": [
    {
     "data": {
      "text/plain": [
       "190"
      ]
     },
     "execution_count": 46,
     "metadata": {},
     "output_type": "execute_result"
    }
   ],
   "source": [
    "df['Total Expenses'].max()"
   ]
  },
  {
   "cell_type": "code",
   "execution_count": 47,
   "metadata": {},
   "outputs": [
    {
     "data": {
      "image/png": "[encoded data removed]",
      "text/plain": [
       "<Figure size 576x432 with 1 Axes>"
      ]
     },
     "metadata": {
      "needs_background": "light"
     },
     "output_type": "display_data"
    }
   ],
   "source": [
    "plt.figure(figsize=(8,6))\n",
    "plt.hist(df['Total Expenses'],bins=list(range(10,191)),color='orange')\n",
    "plt.xlim(0,190)\n",
    "plt.show()"
   ]
  },
  {
   "cell_type": "code",
   "execution_count": null,
   "metadata": {},
   "outputs": [],
   "source": []
  },
  {
   "cell_type": "markdown",
   "metadata": {},
   "source": [
    "###   12 Compare Distribution of Profit and Budget Profit on a histogram for the Oregon State"
   ]
  },
  {
   "cell_type": "code",
   "execution_count": 48,
   "metadata": {},
   "outputs": [
    {
     "data": {
      "text/html": [
       "<div>\n",
       "<style scoped>\n",
       "    .dataframe tbody tr th:only-of-type {\n",
       "        vertical-align: middle;\n",
       "    }\n",
       "\n",
       "    .dataframe tbody tr th {\n",
       "        vertical-align: top;\n",
       "    }\n",
       "\n",
       "    .dataframe thead th {\n",
       "        text-align: right;\n",
       "    }\n",
       "</style>\n",
       "<table border=\"1\" class=\"dataframe\">\n",
       "  <thead>\n",
       "    <tr style=\"text-align: right;\">\n",
       "      <th></th>\n",
       "      <th>Area Code</th>\n",
       "      <th>Date</th>\n",
       "      <th>Market</th>\n",
       "      <th>Market Size</th>\n",
       "      <th>Product</th>\n",
       "      <th>Product Line</th>\n",
       "      <th>Product Type</th>\n",
       "      <th>State</th>\n",
       "      <th>Type</th>\n",
       "      <th>Budget COGS</th>\n",
       "      <th>Budget Margin</th>\n",
       "      <th>Budget Profit</th>\n",
       "      <th>Budget Sales</th>\n",
       "      <th>COGS</th>\n",
       "      <th>Inventory</th>\n",
       "      <th>Margin</th>\n",
       "      <th>Marketing</th>\n",
       "      <th>Profit</th>\n",
       "      <th>Sales</th>\n",
       "      <th>Total Expenses</th>\n",
       "    </tr>\n",
       "  </thead>\n",
       "  <tbody>\n",
       "    <tr>\n",
       "      <th>156</th>\n",
       "      <td>503</td>\n",
       "      <td>40909</td>\n",
       "      <td>West</td>\n",
       "      <td>Small Market</td>\n",
       "      <td>Caffe Latte</td>\n",
       "      <td>Beans</td>\n",
       "      <td>Espresso</td>\n",
       "      <td>Oregon</td>\n",
       "      <td>Regular</td>\n",
       "      <td>50</td>\n",
       "      <td>70</td>\n",
       "      <td>20</td>\n",
       "      <td>120</td>\n",
       "      <td>58</td>\n",
       "      <td>338</td>\n",
       "      <td>72</td>\n",
       "      <td>22</td>\n",
       "      <td>16</td>\n",
       "      <td>130</td>\n",
       "      <td>56</td>\n",
       "    </tr>\n",
       "    <tr>\n",
       "      <th>157</th>\n",
       "      <td>503</td>\n",
       "      <td>40909</td>\n",
       "      <td>West</td>\n",
       "      <td>Small Market</td>\n",
       "      <td>Caffe Mocha</td>\n",
       "      <td>Beans</td>\n",
       "      <td>Espresso</td>\n",
       "      <td>Oregon</td>\n",
       "      <td>Regular</td>\n",
       "      <td>50</td>\n",
       "      <td>80</td>\n",
       "      <td>50</td>\n",
       "      <td>130</td>\n",
       "      <td>60</td>\n",
       "      <td>336</td>\n",
       "      <td>80</td>\n",
       "      <td>19</td>\n",
       "      <td>33</td>\n",
       "      <td>140</td>\n",
       "      <td>47</td>\n",
       "    </tr>\n",
       "  </tbody>\n",
       "</table>\n",
       "</div>"
      ],
      "text/plain": [
       "     Area Code   Date Market   Market Size      Product Product Line  \\\n",
       "156        503  40909   West  Small Market  Caffe Latte        Beans   \n",
       "157        503  40909   West  Small Market  Caffe Mocha        Beans   \n",
       "\n",
       "    Product Type   State     Type  Budget COGS  Budget Margin  Budget Profit  \\\n",
       "156     Espresso  Oregon  Regular           50             70             20   \n",
       "157     Espresso  Oregon  Regular           50             80             50   \n",
       "\n",
       "     Budget Sales  COGS  Inventory  Margin  Marketing  Profit  Sales  \\\n",
       "156           120    58        338      72         22      16    130   \n",
       "157           130    60        336      80         19      33    140   \n",
       "\n",
       "     Total Expenses  \n",
       "156              56  \n",
       "157              47  "
      ]
     },
     "execution_count": 48,
     "metadata": {},
     "output_type": "execute_result"
    }
   ],
   "source": [
    "o=df[df['State']=='Oregon']\n",
    "o.head(2)"
   ]
  },
  {
   "cell_type": "code",
   "execution_count": 49,
   "metadata": {},
   "outputs": [],
   "source": [
    "p=o['Profit']\n",
    "bp=o['Budget Profit']"
   ]
  },
  {
   "cell_type": "code",
   "execution_count": 50,
   "metadata": {},
   "outputs": [
    {
     "data": {
      "image/png": "[encoded data removed]",
      "text/plain": [
       "<Figure size 720x360 with 1 Axes>"
      ]
     },
     "metadata": {
      "needs_background": "light"
     },
     "output_type": "display_data"
    }
   ],
   "source": [
    "plt.figure(figsize=(10,5))\n",
    "plt.hist(p,bins='auto',color='yellow',label='Profit')\n",
    "plt.hist(bp,bins='auto',color='cyan',label='Budget Profit')\n",
    "plt.grid()\n",
    "plt.title('Profit vs Budget Profit in Oregon State')\n",
    "plt.legend()\n",
    "plt.show()"
   ]
  },
  {
   "cell_type": "code",
   "execution_count": null,
   "metadata": {},
   "outputs": [],
   "source": []
  },
  {
   "cell_type": "markdown",
   "metadata": {},
   "source": [
    "### 13 Compare Frequncy of COGS and Budget COGS on a histogram for the Estern Market for the Product Cafe Mocha"
   ]
  },
  {
   "cell_type": "code",
   "execution_count": 51,
   "metadata": {},
   "outputs": [
    {
     "data": {
      "text/plain": [
       "Central    1344\n",
       "West       1344\n",
       "East        888\n",
       "South       672\n",
       "Name: Market, dtype: int64"
      ]
     },
     "execution_count": 51,
     "metadata": {},
     "output_type": "execute_result"
    }
   ],
   "source": [
    "df['Market'].value_counts()"
   ]
  },
  {
   "cell_type": "code",
   "execution_count": 52,
   "metadata": {},
   "outputs": [],
   "source": [
    "Eastern_Market=df[df['Market']=='East']"
   ]
  },
  {
   "cell_type": "code",
   "execution_count": 53,
   "metadata": {},
   "outputs": [
    {
     "data": {
      "text/html": [
       "<div>\n",
       "<style scoped>\n",
       "    .dataframe tbody tr th:only-of-type {\n",
       "        vertical-align: middle;\n",
       "    }\n",
       "\n",
       "    .dataframe tbody tr th {\n",
       "        vertical-align: top;\n",
       "    }\n",
       "\n",
       "    .dataframe thead th {\n",
       "        text-align: right;\n",
       "    }\n",
       "</style>\n",
       "<table border=\"1\" class=\"dataframe\">\n",
       "  <thead>\n",
       "    <tr style=\"text-align: right;\">\n",
       "      <th></th>\n",
       "      <th>Area Code</th>\n",
       "      <th>Date</th>\n",
       "      <th>Market</th>\n",
       "      <th>Market Size</th>\n",
       "      <th>Product</th>\n",
       "      <th>Product Line</th>\n",
       "      <th>Product Type</th>\n",
       "      <th>State</th>\n",
       "      <th>Type</th>\n",
       "      <th>Budget COGS</th>\n",
       "      <th>Budget Margin</th>\n",
       "      <th>Budget Profit</th>\n",
       "      <th>Budget Sales</th>\n",
       "      <th>COGS</th>\n",
       "      <th>Inventory</th>\n",
       "      <th>Margin</th>\n",
       "      <th>Marketing</th>\n",
       "      <th>Profit</th>\n",
       "      <th>Sales</th>\n",
       "      <th>Total Expenses</th>\n",
       "    </tr>\n",
       "  </thead>\n",
       "  <tbody>\n",
       "    <tr>\n",
       "      <th>56</th>\n",
       "      <td>475</td>\n",
       "      <td>40909</td>\n",
       "      <td>East</td>\n",
       "      <td>Small Market</td>\n",
       "      <td>Darjeeling</td>\n",
       "      <td>Leaves</td>\n",
       "      <td>Tea</td>\n",
       "      <td>Connecticut</td>\n",
       "      <td>Regular</td>\n",
       "      <td>50</td>\n",
       "      <td>80</td>\n",
       "      <td>60</td>\n",
       "      <td>130</td>\n",
       "      <td>50</td>\n",
       "      <td>821</td>\n",
       "      <td>73</td>\n",
       "      <td>14</td>\n",
       "      <td>47</td>\n",
       "      <td>123</td>\n",
       "      <td>26</td>\n",
       "    </tr>\n",
       "    <tr>\n",
       "      <th>57</th>\n",
       "      <td>475</td>\n",
       "      <td>40909</td>\n",
       "      <td>East</td>\n",
       "      <td>Small Market</td>\n",
       "      <td>Green Tea</td>\n",
       "      <td>Leaves</td>\n",
       "      <td>Tea</td>\n",
       "      <td>Connecticut</td>\n",
       "      <td>Regular</td>\n",
       "      <td>40</td>\n",
       "      <td>60</td>\n",
       "      <td>40</td>\n",
       "      <td>100</td>\n",
       "      <td>38</td>\n",
       "      <td>777</td>\n",
       "      <td>56</td>\n",
       "      <td>10</td>\n",
       "      <td>35</td>\n",
       "      <td>94</td>\n",
       "      <td>21</td>\n",
       "    </tr>\n",
       "  </tbody>\n",
       "</table>\n",
       "</div>"
      ],
      "text/plain": [
       "    Area Code   Date Market   Market Size     Product Product Line  \\\n",
       "56        475  40909   East  Small Market  Darjeeling       Leaves   \n",
       "57        475  40909   East  Small Market   Green Tea       Leaves   \n",
       "\n",
       "   Product Type        State     Type  Budget COGS  Budget Margin  \\\n",
       "56          Tea  Connecticut  Regular           50             80   \n",
       "57          Tea  Connecticut  Regular           40             60   \n",
       "\n",
       "    Budget Profit  Budget Sales  COGS  Inventory  Margin  Marketing  Profit  \\\n",
       "56             60           130    50        821      73         14      47   \n",
       "57             40           100    38        777      56         10      35   \n",
       "\n",
       "    Sales  Total Expenses  \n",
       "56    123              26  \n",
       "57     94              21  "
      ]
     },
     "execution_count": 53,
     "metadata": {},
     "output_type": "execute_result"
    }
   ],
   "source": [
    "Eastern_Market.head(2)"
   ]
  },
  {
   "cell_type": "code",
   "execution_count": 54,
   "metadata": {},
   "outputs": [
    {
     "data": {
      "text/plain": [
       "Green Tea            120\n",
       "Colombian            120\n",
       "Darjeeling           120\n",
       "Lemon                120\n",
       "Caffe Mocha          120\n",
       "Mint                  72\n",
       "Regular Espresso      72\n",
       "Decaf Espresso        48\n",
       "Earl Grey             24\n",
       "Chamomile             24\n",
       "Decaf Irish Cream     24\n",
       "Amaretto              24\n",
       "Name: Product, dtype: int64"
      ]
     },
     "execution_count": 54,
     "metadata": {},
     "output_type": "execute_result"
    }
   ],
   "source": [
    "Eastern_Market['Product'].value_counts()"
   ]
  },
  {
   "cell_type": "code",
   "execution_count": 55,
   "metadata": {},
   "outputs": [
    {
     "data": {
      "text/html": [
       "<div>\n",
       "<style scoped>\n",
       "    .dataframe tbody tr th:only-of-type {\n",
       "        vertical-align: middle;\n",
       "    }\n",
       "\n",
       "    .dataframe tbody tr th {\n",
       "        vertical-align: top;\n",
       "    }\n",
       "\n",
       "    .dataframe thead th {\n",
       "        text-align: right;\n",
       "    }\n",
       "</style>\n",
       "<table border=\"1\" class=\"dataframe\">\n",
       "  <thead>\n",
       "    <tr style=\"text-align: right;\">\n",
       "      <th></th>\n",
       "      <th>Area Code</th>\n",
       "      <th>Date</th>\n",
       "      <th>Market</th>\n",
       "      <th>Market Size</th>\n",
       "      <th>Product</th>\n",
       "      <th>Product Line</th>\n",
       "      <th>Product Type</th>\n",
       "      <th>State</th>\n",
       "      <th>Type</th>\n",
       "      <th>Budget COGS</th>\n",
       "      <th>Budget Margin</th>\n",
       "      <th>Budget Profit</th>\n",
       "      <th>Budget Sales</th>\n",
       "      <th>COGS</th>\n",
       "      <th>Inventory</th>\n",
       "      <th>Margin</th>\n",
       "      <th>Marketing</th>\n",
       "      <th>Profit</th>\n",
       "      <th>Sales</th>\n",
       "      <th>Total Expenses</th>\n",
       "    </tr>\n",
       "  </thead>\n",
       "  <tbody>\n",
       "    <tr>\n",
       "      <th>59</th>\n",
       "      <td>860</td>\n",
       "      <td>40909</td>\n",
       "      <td>East</td>\n",
       "      <td>Small Market</td>\n",
       "      <td>Caffe Mocha</td>\n",
       "      <td>Beans</td>\n",
       "      <td>Espresso</td>\n",
       "      <td>Connecticut</td>\n",
       "      <td>Regular</td>\n",
       "      <td>70</td>\n",
       "      <td>100</td>\n",
       "      <td>20</td>\n",
       "      <td>170</td>\n",
       "      <td>75</td>\n",
       "      <td>522</td>\n",
       "      <td>105</td>\n",
       "      <td>68</td>\n",
       "      <td>7</td>\n",
       "      <td>180</td>\n",
       "      <td>98</td>\n",
       "    </tr>\n",
       "    <tr>\n",
       "      <th>66</th>\n",
       "      <td>239</td>\n",
       "      <td>40909</td>\n",
       "      <td>East</td>\n",
       "      <td>Major Market</td>\n",
       "      <td>Caffe Mocha</td>\n",
       "      <td>Beans</td>\n",
       "      <td>Espresso</td>\n",
       "      <td>Florida</td>\n",
       "      <td>Regular</td>\n",
       "      <td>70</td>\n",
       "      <td>110</td>\n",
       "      <td>30</td>\n",
       "      <td>180</td>\n",
       "      <td>79</td>\n",
       "      <td>551</td>\n",
       "      <td>111</td>\n",
       "      <td>72</td>\n",
       "      <td>9</td>\n",
       "      <td>190</td>\n",
       "      <td>102</td>\n",
       "    </tr>\n",
       "    <tr>\n",
       "      <th>75</th>\n",
       "      <td>781</td>\n",
       "      <td>40909</td>\n",
       "      <td>East</td>\n",
       "      <td>Major Market</td>\n",
       "      <td>Caffe Mocha</td>\n",
       "      <td>Beans</td>\n",
       "      <td>Espresso</td>\n",
       "      <td>Massachusetts</td>\n",
       "      <td>Regular</td>\n",
       "      <td>60</td>\n",
       "      <td>60</td>\n",
       "      <td>-10</td>\n",
       "      <td>120</td>\n",
       "      <td>63</td>\n",
       "      <td>435</td>\n",
       "      <td>63</td>\n",
       "      <td>57</td>\n",
       "      <td>-23</td>\n",
       "      <td>126</td>\n",
       "      <td>86</td>\n",
       "    </tr>\n",
       "  </tbody>\n",
       "</table>\n",
       "</div>"
      ],
      "text/plain": [
       "    Area Code   Date Market   Market Size      Product Product Line  \\\n",
       "59        860  40909   East  Small Market  Caffe Mocha        Beans   \n",
       "66        239  40909   East  Major Market  Caffe Mocha        Beans   \n",
       "75        781  40909   East  Major Market  Caffe Mocha        Beans   \n",
       "\n",
       "   Product Type          State     Type  Budget COGS  Budget Margin  \\\n",
       "59     Espresso    Connecticut  Regular           70            100   \n",
       "66     Espresso        Florida  Regular           70            110   \n",
       "75     Espresso  Massachusetts  Regular           60             60   \n",
       "\n",
       "    Budget Profit  Budget Sales  COGS  Inventory  Margin  Marketing  Profit  \\\n",
       "59             20           170    75        522     105         68       7   \n",
       "66             30           180    79        551     111         72       9   \n",
       "75            -10           120    63        435      63         57     -23   \n",
       "\n",
       "    Sales  Total Expenses  \n",
       "59    180              98  \n",
       "66    190             102  \n",
       "75    126              86  "
      ]
     },
     "execution_count": 55,
     "metadata": {},
     "output_type": "execute_result"
    }
   ],
   "source": [
    "Product_Mocha=Eastern_Market[Eastern_Market['Product']=='Caffe Mocha']\n",
    "Product_Mocha.head(3)"
   ]
  },
  {
   "cell_type": "code",
   "execution_count": 56,
   "metadata": {},
   "outputs": [
    {
     "data": {
      "text/plain": [
       "(120,)"
      ]
     },
     "execution_count": 56,
     "metadata": {},
     "output_type": "execute_result"
    }
   ],
   "source": [
    "cogs=Product_Mocha['COGS']\n",
    "cogs.head()\n",
    "cogs.shape"
   ]
  },
  {
   "cell_type": "code",
   "execution_count": 57,
   "metadata": {},
   "outputs": [
    {
     "data": {
      "text/plain": [
       "59     70\n",
       "66     70\n",
       "75     60\n",
       "81     30\n",
       "89    100\n",
       "Name: Budget COGS, dtype: int64"
      ]
     },
     "execution_count": 57,
     "metadata": {},
     "output_type": "execute_result"
    }
   ],
   "source": [
    "b_cogs=Product_Mocha['Budget COGS']\n",
    "b_cogs.head()"
   ]
  },
  {
   "cell_type": "code",
   "execution_count": 58,
   "metadata": {},
   "outputs": [
    {
     "data": {
      "image/png": "[encoded data removed]",
      "text/plain": [
       "<Figure size 720x360 with 1 Axes>"
      ]
     },
     "metadata": {
      "needs_background": "light"
     },
     "output_type": "display_data"
    }
   ],
   "source": [
    "plt.figure(figsize=(10,5))\n",
    "plt.hist(cogs,bins='auto',color='cyan',label='COGS')\n",
    "plt.hist(b_cogs,bins='auto',color='blue',label='Budget COGS')\n",
    "plt.title('COGS vs Budget COGS for East Market (product cage Mocha)')\n",
    "plt.grid()\n",
    "plt.legend()\n",
    "plt.show()"
   ]
  },
  {
   "cell_type": "code",
   "execution_count": 59,
   "metadata": {},
   "outputs": [],
   "source": [
    "co= df[(df['Market']=='East') & (df['Product']=='Caffe Mocha')]"
   ]
  },
  {
   "cell_type": "code",
   "execution_count": 60,
   "metadata": {},
   "outputs": [
    {
     "data": {
      "image/png": "[encoded data removed]",
      "text/plain": [
       "<Figure size 720x360 with 1 Axes>"
      ]
     },
     "metadata": {
      "needs_background": "light"
     },
     "output_type": "display_data"
    }
   ],
   "source": [
    "plt.figure(figsize=(10,5))\n",
    "plt.hist(co['COGS'],bins='auto',color='cyan',label='COGS')\n",
    "plt.hist(co['Budget COGS'],bins='auto',color='blue',label='Budget COGS')\n",
    "plt.title('COGS vs Budget COGS for East Market (product cage Mocha)')\n",
    "plt.grid()\n",
    "plt.legend()\n",
    "plt.show()"
   ]
  },
  {
   "cell_type": "code",
   "execution_count": null,
   "metadata": {},
   "outputs": [],
   "source": []
  },
  {
   "cell_type": "markdown",
   "metadata": {},
   "source": [
    "### 14 Compare a sales vs profit on a histogram for the eastern or central market and for decaf type"
   ]
  },
  {
   "cell_type": "code",
   "execution_count": 61,
   "metadata": {},
   "outputs": [],
   "source": [
    "csp=df[(df['Market']=='East') | (df['Market']=='Central') & (df['Market']=='Decaf Type')]"
   ]
  },
  {
   "cell_type": "code",
   "execution_count": 62,
   "metadata": {},
   "outputs": [
    {
     "data": {
      "image/png": "[encoded data removed]",
      "text/plain": [
       "<Figure size 1080x360 with 1 Axes>"
      ]
     },
     "metadata": {
      "needs_background": "light"
     },
     "output_type": "display_data"
    }
   ],
   "source": [
    "plt.figure(figsize=(15,5))\n",
    "plt.hist(csp['Sales'],bins='auto',color='red',label='Sales')\n",
    "plt.hist(csp['Profit'],bins='auto',color='yellow',label='Profit')\n",
    "plt.legend()\n",
    "plt.grid()\n",
    "plt.title('Sales vs Profit for eastern or central Market (decaf type)')\n",
    "plt.show()\n"
   ]
  },
  {
   "cell_type": "code",
   "execution_count": 63,
   "metadata": {},
   "outputs": [],
   "source": [
    "me=df[df['Market']=='East']\n",
    "rtme=me[me['Type']=='Regular']\n"
   ]
  },
  {
   "cell_type": "code",
   "execution_count": 64,
   "metadata": {},
   "outputs": [],
   "source": [
    "mc=df[df['Market']=='Central']\n",
    "trmc=mc[mc['Type']=='Regular']"
   ]
  },
  {
   "cell_type": "code",
   "execution_count": 65,
   "metadata": {},
   "outputs": [],
   "source": [
    "mes=rtme['Sales']\n",
    "mcs=trmc['Sales']"
   ]
  },
  {
   "cell_type": "code",
   "execution_count": 66,
   "metadata": {},
   "outputs": [],
   "source": [
    "mep=rtme['Profit']\n",
    "mcp=trmc['Profit']"
   ]
  },
  {
   "cell_type": "code",
   "execution_count": 67,
   "metadata": {},
   "outputs": [
    {
     "data": {
      "image/png": "[encoded data removed]",
      "text/plain": [
       "<Figure size 1080x576 with 1 Axes>"
      ]
     },
     "metadata": {
      "needs_background": "light"
     },
     "output_type": "display_data"
    }
   ],
   "source": [
    "plt.figure(figsize=(15,8))\n",
    "plt.hist(mes,bins='auto',color='cyan',label='Sales east')\n",
    "plt.hist(mcs,bins='auto',color='blue',label='Sales central')\n",
    "plt.hist(mcp,bins='auto',color='orange',label='Profit central')\n",
    "plt.hist(mep,bins='auto',color='yellow',label='Profit east')\n",
    "\n",
    "plt.legend()\n",
    "plt.grid()\n",
    "plt.title('Profit vs Sales in East or central Market')\n",
    "plt.show()"
   ]
  },
  {
   "cell_type": "code",
   "execution_count": null,
   "metadata": {},
   "outputs": [],
   "source": []
  },
  {
   "cell_type": "markdown",
   "metadata": {},
   "source": [
    "### minning data for the eastern or central market and for decaf type"
   ]
  },
  {
   "cell_type": "code",
   "execution_count": 68,
   "metadata": {},
   "outputs": [
    {
     "data": {
      "text/html": [
       "<div>\n",
       "<style scoped>\n",
       "    .dataframe tbody tr th:only-of-type {\n",
       "        vertical-align: middle;\n",
       "    }\n",
       "\n",
       "    .dataframe tbody tr th {\n",
       "        vertical-align: top;\n",
       "    }\n",
       "\n",
       "    .dataframe thead th {\n",
       "        text-align: right;\n",
       "    }\n",
       "</style>\n",
       "<table border=\"1\" class=\"dataframe\">\n",
       "  <thead>\n",
       "    <tr style=\"text-align: right;\">\n",
       "      <th></th>\n",
       "      <th>Area Code</th>\n",
       "      <th>Date</th>\n",
       "      <th>Market</th>\n",
       "      <th>Market Size</th>\n",
       "      <th>Product</th>\n",
       "      <th>Product Line</th>\n",
       "      <th>Product Type</th>\n",
       "      <th>State</th>\n",
       "      <th>Type</th>\n",
       "      <th>Budget COGS</th>\n",
       "      <th>Budget Margin</th>\n",
       "      <th>Budget Profit</th>\n",
       "      <th>Budget Sales</th>\n",
       "      <th>COGS</th>\n",
       "      <th>Inventory</th>\n",
       "      <th>Margin</th>\n",
       "      <th>Marketing</th>\n",
       "      <th>Profit</th>\n",
       "      <th>Sales</th>\n",
       "      <th>Total Expenses</th>\n",
       "    </tr>\n",
       "  </thead>\n",
       "  <tbody>\n",
       "    <tr>\n",
       "      <th>0</th>\n",
       "      <td>719</td>\n",
       "      <td>40909</td>\n",
       "      <td>Central</td>\n",
       "      <td>Major Market</td>\n",
       "      <td>Amaretto</td>\n",
       "      <td>Beans</td>\n",
       "      <td>Coffee</td>\n",
       "      <td>Colorado</td>\n",
       "      <td>Regular</td>\n",
       "      <td>90</td>\n",
       "      <td>130</td>\n",
       "      <td>100</td>\n",
       "      <td>220</td>\n",
       "      <td>89</td>\n",
       "      <td>777</td>\n",
       "      <td>130</td>\n",
       "      <td>24</td>\n",
       "      <td>94</td>\n",
       "      <td>219</td>\n",
       "      <td>36</td>\n",
       "    </tr>\n",
       "    <tr>\n",
       "      <th>1</th>\n",
       "      <td>970</td>\n",
       "      <td>40909</td>\n",
       "      <td>Central</td>\n",
       "      <td>Major Market</td>\n",
       "      <td>Colombian</td>\n",
       "      <td>Beans</td>\n",
       "      <td>Coffee</td>\n",
       "      <td>Colorado</td>\n",
       "      <td>Regular</td>\n",
       "      <td>80</td>\n",
       "      <td>110</td>\n",
       "      <td>80</td>\n",
       "      <td>190</td>\n",
       "      <td>83</td>\n",
       "      <td>623</td>\n",
       "      <td>107</td>\n",
       "      <td>27</td>\n",
       "      <td>68</td>\n",
       "      <td>190</td>\n",
       "      <td>39</td>\n",
       "    </tr>\n",
       "  </tbody>\n",
       "</table>\n",
       "</div>"
      ],
      "text/plain": [
       "   Area Code   Date   Market   Market Size    Product Product Line  \\\n",
       "0        719  40909  Central  Major Market   Amaretto        Beans   \n",
       "1        970  40909  Central  Major Market  Colombian        Beans   \n",
       "\n",
       "  Product Type     State     Type  Budget COGS  Budget Margin  Budget Profit  \\\n",
       "0       Coffee  Colorado  Regular           90            130            100   \n",
       "1       Coffee  Colorado  Regular           80            110             80   \n",
       "\n",
       "   Budget Sales  COGS  Inventory  Margin  Marketing  Profit  Sales  \\\n",
       "0           220    89        777     130         24      94    219   \n",
       "1           190    83        623     107         27      68    190   \n",
       "\n",
       "   Total Expenses  \n",
       "0              36  \n",
       "1              39  "
      ]
     },
     "execution_count": 68,
     "metadata": {},
     "output_type": "execute_result"
    }
   ],
   "source": [
    "q=df[(df['Market']=='Central') | (df['Market']=='East') & (df['Type']=='Decaf')]\n",
    "q.head(2)"
   ]
  },
  {
   "cell_type": "code",
   "execution_count": null,
   "metadata": {},
   "outputs": [],
   "source": []
  },
  {
   "cell_type": "code",
   "execution_count": 69,
   "metadata": {},
   "outputs": [],
   "source": [
    "### 15 Depict the quartile distribution of COGS where Sales is greater than 400"
   ]
  },
  {
   "cell_type": "code",
   "execution_count": 70,
   "metadata": {},
   "outputs": [
    {
     "data": {
      "text/html": [
       "<div>\n",
       "<style scoped>\n",
       "    .dataframe tbody tr th:only-of-type {\n",
       "        vertical-align: middle;\n",
       "    }\n",
       "\n",
       "    .dataframe tbody tr th {\n",
       "        vertical-align: top;\n",
       "    }\n",
       "\n",
       "    .dataframe thead th {\n",
       "        text-align: right;\n",
       "    }\n",
       "</style>\n",
       "<table border=\"1\" class=\"dataframe\">\n",
       "  <thead>\n",
       "    <tr style=\"text-align: right;\">\n",
       "      <th></th>\n",
       "      <th>Area Code</th>\n",
       "      <th>Date</th>\n",
       "      <th>Market</th>\n",
       "      <th>Market Size</th>\n",
       "      <th>Product</th>\n",
       "      <th>Product Line</th>\n",
       "      <th>Product Type</th>\n",
       "      <th>State</th>\n",
       "      <th>Type</th>\n",
       "      <th>Budget COGS</th>\n",
       "      <th>Budget Margin</th>\n",
       "      <th>Budget Profit</th>\n",
       "      <th>Budget Sales</th>\n",
       "      <th>COGS</th>\n",
       "      <th>Inventory</th>\n",
       "      <th>Margin</th>\n",
       "      <th>Marketing</th>\n",
       "      <th>Profit</th>\n",
       "      <th>Sales</th>\n",
       "      <th>Total Expenses</th>\n",
       "    </tr>\n",
       "  </thead>\n",
       "  <tbody>\n",
       "    <tr>\n",
       "      <th>13</th>\n",
       "      <td>309</td>\n",
       "      <td>40909</td>\n",
       "      <td>Central</td>\n",
       "      <td>Major Market</td>\n",
       "      <td>Caffe Mocha</td>\n",
       "      <td>Beans</td>\n",
       "      <td>Espresso</td>\n",
       "      <td>Illinois</td>\n",
       "      <td>Regular</td>\n",
       "      <td>270</td>\n",
       "      <td>370</td>\n",
       "      <td>260</td>\n",
       "      <td>640</td>\n",
       "      <td>234</td>\n",
       "      <td>1310</td>\n",
       "      <td>312</td>\n",
       "      <td>77</td>\n",
       "      <td>203</td>\n",
       "      <td>546</td>\n",
       "      <td>109</td>\n",
       "    </tr>\n",
       "    <tr>\n",
       "      <th>14</th>\n",
       "      <td>630</td>\n",
       "      <td>40909</td>\n",
       "      <td>Central</td>\n",
       "      <td>Major Market</td>\n",
       "      <td>Decaf Espresso</td>\n",
       "      <td>Beans</td>\n",
       "      <td>Espresso</td>\n",
       "      <td>Illinois</td>\n",
       "      <td>Decaf</td>\n",
       "      <td>260</td>\n",
       "      <td>270</td>\n",
       "      <td>180</td>\n",
       "      <td>530</td>\n",
       "      <td>228</td>\n",
       "      <td>1459</td>\n",
       "      <td>228</td>\n",
       "      <td>63</td>\n",
       "      <td>140</td>\n",
       "      <td>456</td>\n",
       "      <td>88</td>\n",
       "    </tr>\n",
       "  </tbody>\n",
       "</table>\n",
       "</div>"
      ],
      "text/plain": [
       "    Area Code   Date   Market   Market Size         Product Product Line  \\\n",
       "13        309  40909  Central  Major Market     Caffe Mocha        Beans   \n",
       "14        630  40909  Central  Major Market  Decaf Espresso        Beans   \n",
       "\n",
       "   Product Type     State     Type  Budget COGS  Budget Margin  Budget Profit  \\\n",
       "13     Espresso  Illinois  Regular          270            370            260   \n",
       "14     Espresso  Illinois    Decaf          260            270            180   \n",
       "\n",
       "    Budget Sales  COGS  Inventory  Margin  Marketing  Profit  Sales  \\\n",
       "13           640   234       1310     312         77     203    546   \n",
       "14           530   228       1459     228         63     140    456   \n",
       "\n",
       "    Total Expenses  \n",
       "13             109  \n",
       "14              88  "
      ]
     },
     "execution_count": 70,
     "metadata": {},
     "output_type": "execute_result"
    }
   ],
   "source": [
    "cs=df[df['Sales']>400]\n",
    "cs.head(2)"
   ]
  },
  {
   "cell_type": "code",
   "execution_count": 71,
   "metadata": {},
   "outputs": [
    {
     "data": {
      "text/plain": [
       "(418, 20)"
      ]
     },
     "execution_count": 71,
     "metadata": {},
     "output_type": "execute_result"
    }
   ],
   "source": [
    "cs.shape"
   ]
  },
  {
   "cell_type": "code",
   "execution_count": 72,
   "metadata": {},
   "outputs": [
    {
     "data": {
      "image/png": "[encoded data removed]",
      "text/plain": [
       "<Figure size 720x360 with 1 Axes>"
      ]
     },
     "metadata": {
      "needs_background": "light"
     },
     "output_type": "display_data"
    }
   ],
   "source": [
    "plt.figure(figsize=(10,5))\n",
    "plt.boxplot(cs['COGS'])\n",
    "plt.title('( Quaritle distribution of COGS where the sales is > 400 )')\n",
    "plt.ylabel('COGS')\n",
    "plt.grid()\n",
    "plt.show()"
   ]
  },
  {
   "cell_type": "code",
   "execution_count": null,
   "metadata": {},
   "outputs": [],
   "source": []
  },
  {
   "cell_type": "markdown",
   "metadata": {},
   "source": [
    "###   16 Depict the quartile distribution of budget profit for Decaf Espresso"
   ]
  },
  {
   "cell_type": "code",
   "execution_count": 73,
   "metadata": {},
   "outputs": [
    {
     "data": {
      "text/html": [
       "<div>\n",
       "<style scoped>\n",
       "    .dataframe tbody tr th:only-of-type {\n",
       "        vertical-align: middle;\n",
       "    }\n",
       "\n",
       "    .dataframe tbody tr th {\n",
       "        vertical-align: top;\n",
       "    }\n",
       "\n",
       "    .dataframe thead th {\n",
       "        text-align: right;\n",
       "    }\n",
       "</style>\n",
       "<table border=\"1\" class=\"dataframe\">\n",
       "  <thead>\n",
       "    <tr style=\"text-align: right;\">\n",
       "      <th></th>\n",
       "      <th>Area Code</th>\n",
       "      <th>Date</th>\n",
       "      <th>Market</th>\n",
       "      <th>Market Size</th>\n",
       "      <th>Product</th>\n",
       "      <th>Product Line</th>\n",
       "      <th>Product Type</th>\n",
       "      <th>State</th>\n",
       "      <th>Type</th>\n",
       "      <th>Budget COGS</th>\n",
       "      <th>Budget Margin</th>\n",
       "      <th>Budget Profit</th>\n",
       "      <th>Budget Sales</th>\n",
       "      <th>COGS</th>\n",
       "      <th>Inventory</th>\n",
       "      <th>Margin</th>\n",
       "      <th>Marketing</th>\n",
       "      <th>Profit</th>\n",
       "      <th>Sales</th>\n",
       "      <th>Total Expenses</th>\n",
       "    </tr>\n",
       "  </thead>\n",
       "  <tbody>\n",
       "    <tr>\n",
       "      <th>0</th>\n",
       "      <td>719</td>\n",
       "      <td>40909</td>\n",
       "      <td>Central</td>\n",
       "      <td>Major Market</td>\n",
       "      <td>Amaretto</td>\n",
       "      <td>Beans</td>\n",
       "      <td>Coffee</td>\n",
       "      <td>Colorado</td>\n",
       "      <td>Regular</td>\n",
       "      <td>90</td>\n",
       "      <td>130</td>\n",
       "      <td>100</td>\n",
       "      <td>220</td>\n",
       "      <td>89</td>\n",
       "      <td>777</td>\n",
       "      <td>130</td>\n",
       "      <td>24</td>\n",
       "      <td>94</td>\n",
       "      <td>219</td>\n",
       "      <td>36</td>\n",
       "    </tr>\n",
       "    <tr>\n",
       "      <th>1</th>\n",
       "      <td>970</td>\n",
       "      <td>40909</td>\n",
       "      <td>Central</td>\n",
       "      <td>Major Market</td>\n",
       "      <td>Colombian</td>\n",
       "      <td>Beans</td>\n",
       "      <td>Coffee</td>\n",
       "      <td>Colorado</td>\n",
       "      <td>Regular</td>\n",
       "      <td>80</td>\n",
       "      <td>110</td>\n",
       "      <td>80</td>\n",
       "      <td>190</td>\n",
       "      <td>83</td>\n",
       "      <td>623</td>\n",
       "      <td>107</td>\n",
       "      <td>27</td>\n",
       "      <td>68</td>\n",
       "      <td>190</td>\n",
       "      <td>39</td>\n",
       "    </tr>\n",
       "  </tbody>\n",
       "</table>\n",
       "</div>"
      ],
      "text/plain": [
       "   Area Code   Date   Market   Market Size    Product Product Line  \\\n",
       "0        719  40909  Central  Major Market   Amaretto        Beans   \n",
       "1        970  40909  Central  Major Market  Colombian        Beans   \n",
       "\n",
       "  Product Type     State     Type  Budget COGS  Budget Margin  Budget Profit  \\\n",
       "0       Coffee  Colorado  Regular           90            130            100   \n",
       "1       Coffee  Colorado  Regular           80            110             80   \n",
       "\n",
       "   Budget Sales  COGS  Inventory  Margin  Marketing  Profit  Sales  \\\n",
       "0           220    89        777     130         24      94    219   \n",
       "1           190    83        623     107         27      68    190   \n",
       "\n",
       "   Total Expenses  \n",
       "0              36  \n",
       "1              39  "
      ]
     },
     "execution_count": 73,
     "metadata": {},
     "output_type": "execute_result"
    }
   ],
   "source": [
    "df.head(2)"
   ]
  },
  {
   "cell_type": "code",
   "execution_count": 74,
   "metadata": {},
   "outputs": [
    {
     "data": {
      "text/html": [
       "<div>\n",
       "<style scoped>\n",
       "    .dataframe tbody tr th:only-of-type {\n",
       "        vertical-align: middle;\n",
       "    }\n",
       "\n",
       "    .dataframe tbody tr th {\n",
       "        vertical-align: top;\n",
       "    }\n",
       "\n",
       "    .dataframe thead th {\n",
       "        text-align: right;\n",
       "    }\n",
       "</style>\n",
       "<table border=\"1\" class=\"dataframe\">\n",
       "  <thead>\n",
       "    <tr style=\"text-align: right;\">\n",
       "      <th></th>\n",
       "      <th>Area Code</th>\n",
       "      <th>Date</th>\n",
       "      <th>Market</th>\n",
       "      <th>Market Size</th>\n",
       "      <th>Product</th>\n",
       "      <th>Product Line</th>\n",
       "      <th>Product Type</th>\n",
       "      <th>State</th>\n",
       "      <th>Type</th>\n",
       "      <th>Budget COGS</th>\n",
       "      <th>Budget Margin</th>\n",
       "      <th>Budget Profit</th>\n",
       "      <th>Budget Sales</th>\n",
       "      <th>COGS</th>\n",
       "      <th>Inventory</th>\n",
       "      <th>Margin</th>\n",
       "      <th>Marketing</th>\n",
       "      <th>Profit</th>\n",
       "      <th>Sales</th>\n",
       "      <th>Total Expenses</th>\n",
       "    </tr>\n",
       "  </thead>\n",
       "  <tbody>\n",
       "    <tr>\n",
       "      <th>5</th>\n",
       "      <td>720</td>\n",
       "      <td>40909</td>\n",
       "      <td>Central</td>\n",
       "      <td>Major Market</td>\n",
       "      <td>Decaf Espresso</td>\n",
       "      <td>Beans</td>\n",
       "      <td>Espresso</td>\n",
       "      <td>Colorado</td>\n",
       "      <td>Decaf</td>\n",
       "      <td>80</td>\n",
       "      <td>130</td>\n",
       "      <td>80</td>\n",
       "      <td>210</td>\n",
       "      <td>72</td>\n",
       "      <td>558</td>\n",
       "      <td>108</td>\n",
       "      <td>23</td>\n",
       "      <td>53</td>\n",
       "      <td>180</td>\n",
       "      <td>55</td>\n",
       "    </tr>\n",
       "    <tr>\n",
       "      <th>14</th>\n",
       "      <td>630</td>\n",
       "      <td>40909</td>\n",
       "      <td>Central</td>\n",
       "      <td>Major Market</td>\n",
       "      <td>Decaf Espresso</td>\n",
       "      <td>Beans</td>\n",
       "      <td>Espresso</td>\n",
       "      <td>Illinois</td>\n",
       "      <td>Decaf</td>\n",
       "      <td>260</td>\n",
       "      <td>270</td>\n",
       "      <td>180</td>\n",
       "      <td>530</td>\n",
       "      <td>228</td>\n",
       "      <td>1459</td>\n",
       "      <td>228</td>\n",
       "      <td>63</td>\n",
       "      <td>140</td>\n",
       "      <td>456</td>\n",
       "      <td>88</td>\n",
       "    </tr>\n",
       "  </tbody>\n",
       "</table>\n",
       "</div>"
      ],
      "text/plain": [
       "    Area Code   Date   Market   Market Size         Product Product Line  \\\n",
       "5         720  40909  Central  Major Market  Decaf Espresso        Beans   \n",
       "14        630  40909  Central  Major Market  Decaf Espresso        Beans   \n",
       "\n",
       "   Product Type     State   Type  Budget COGS  Budget Margin  Budget Profit  \\\n",
       "5      Espresso  Colorado  Decaf           80            130             80   \n",
       "14     Espresso  Illinois  Decaf          260            270            180   \n",
       "\n",
       "    Budget Sales  COGS  Inventory  Margin  Marketing  Profit  Sales  \\\n",
       "5            210    72        558     108         23      53    180   \n",
       "14           530   228       1459     228         63     140    456   \n",
       "\n",
       "    Total Expenses  \n",
       "5               55  \n",
       "14              88  "
      ]
     },
     "execution_count": 74,
     "metadata": {},
     "output_type": "execute_result"
    }
   ],
   "source": [
    "td=df[df['Type']=='Decaf']\n",
    "tde=td[td['Product Type']=='Espresso']\n",
    "tde.head(2)"
   ]
  },
  {
   "cell_type": "code",
   "execution_count": 75,
   "metadata": {},
   "outputs": [
    {
     "data": {
      "text/plain": [
       "Caffe Mocha          480\n",
       "Colombian            480\n",
       "Lemon                480\n",
       "Decaf Espresso       408\n",
       "Darjeeling           384\n",
       "Chamomile            384\n",
       "Decaf Irish Cream    384\n",
       "Green Tea            288\n",
       "Earl Grey            288\n",
       "Caffe Latte          216\n",
       "Mint                 192\n",
       "Amaretto             192\n",
       "Regular Espresso      72\n",
       "Name: Product, dtype: int64"
      ]
     },
     "execution_count": 75,
     "metadata": {},
     "output_type": "execute_result"
    }
   ],
   "source": [
    "df['Product'].value_counts()"
   ]
  },
  {
   "cell_type": "code",
   "execution_count": 76,
   "metadata": {},
   "outputs": [
    {
     "data": {
      "text/html": [
       "<div>\n",
       "<style scoped>\n",
       "    .dataframe tbody tr th:only-of-type {\n",
       "        vertical-align: middle;\n",
       "    }\n",
       "\n",
       "    .dataframe tbody tr th {\n",
       "        vertical-align: top;\n",
       "    }\n",
       "\n",
       "    .dataframe thead th {\n",
       "        text-align: right;\n",
       "    }\n",
       "</style>\n",
       "<table border=\"1\" class=\"dataframe\">\n",
       "  <thead>\n",
       "    <tr style=\"text-align: right;\">\n",
       "      <th></th>\n",
       "      <th>Area Code</th>\n",
       "      <th>Date</th>\n",
       "      <th>Market</th>\n",
       "      <th>Market Size</th>\n",
       "      <th>Product</th>\n",
       "      <th>Product Line</th>\n",
       "      <th>Product Type</th>\n",
       "      <th>State</th>\n",
       "      <th>Type</th>\n",
       "      <th>Budget COGS</th>\n",
       "      <th>Budget Margin</th>\n",
       "      <th>Budget Profit</th>\n",
       "      <th>Budget Sales</th>\n",
       "      <th>COGS</th>\n",
       "      <th>Inventory</th>\n",
       "      <th>Margin</th>\n",
       "      <th>Marketing</th>\n",
       "      <th>Profit</th>\n",
       "      <th>Sales</th>\n",
       "      <th>Total Expenses</th>\n",
       "    </tr>\n",
       "  </thead>\n",
       "  <tbody>\n",
       "    <tr>\n",
       "      <th>5</th>\n",
       "      <td>720</td>\n",
       "      <td>40909</td>\n",
       "      <td>Central</td>\n",
       "      <td>Major Market</td>\n",
       "      <td>Decaf Espresso</td>\n",
       "      <td>Beans</td>\n",
       "      <td>Espresso</td>\n",
       "      <td>Colorado</td>\n",
       "      <td>Decaf</td>\n",
       "      <td>80</td>\n",
       "      <td>130</td>\n",
       "      <td>80</td>\n",
       "      <td>210</td>\n",
       "      <td>72</td>\n",
       "      <td>558</td>\n",
       "      <td>108</td>\n",
       "      <td>23</td>\n",
       "      <td>53</td>\n",
       "      <td>180</td>\n",
       "      <td>55</td>\n",
       "    </tr>\n",
       "    <tr>\n",
       "      <th>14</th>\n",
       "      <td>630</td>\n",
       "      <td>40909</td>\n",
       "      <td>Central</td>\n",
       "      <td>Major Market</td>\n",
       "      <td>Decaf Espresso</td>\n",
       "      <td>Beans</td>\n",
       "      <td>Espresso</td>\n",
       "      <td>Illinois</td>\n",
       "      <td>Decaf</td>\n",
       "      <td>260</td>\n",
       "      <td>270</td>\n",
       "      <td>180</td>\n",
       "      <td>530</td>\n",
       "      <td>228</td>\n",
       "      <td>1459</td>\n",
       "      <td>228</td>\n",
       "      <td>63</td>\n",
       "      <td>140</td>\n",
       "      <td>456</td>\n",
       "      <td>88</td>\n",
       "    </tr>\n",
       "  </tbody>\n",
       "</table>\n",
       "</div>"
      ],
      "text/plain": [
       "    Area Code   Date   Market   Market Size         Product Product Line  \\\n",
       "5         720  40909  Central  Major Market  Decaf Espresso        Beans   \n",
       "14        630  40909  Central  Major Market  Decaf Espresso        Beans   \n",
       "\n",
       "   Product Type     State   Type  Budget COGS  Budget Margin  Budget Profit  \\\n",
       "5      Espresso  Colorado  Decaf           80            130             80   \n",
       "14     Espresso  Illinois  Decaf          260            270            180   \n",
       "\n",
       "    Budget Sales  COGS  Inventory  Margin  Marketing  Profit  Sales  \\\n",
       "5            210    72        558     108         23      53    180   \n",
       "14           530   228       1459     228         63     140    456   \n",
       "\n",
       "    Total Expenses  \n",
       "5               55  \n",
       "14              88  "
      ]
     },
     "execution_count": 76,
     "metadata": {},
     "output_type": "execute_result"
    }
   ],
   "source": [
    "de=df[df['Product']=='Decaf Espresso']\n",
    "de.head(2)"
   ]
  },
  {
   "cell_type": "code",
   "execution_count": 77,
   "metadata": {},
   "outputs": [
    {
     "data": {
      "image/png": "[encoded data removed]",
      "text/plain": [
       "<Figure size 432x288 with 1 Axes>"
      ]
     },
     "metadata": {
      "needs_background": "light"
     },
     "output_type": "display_data"
    }
   ],
   "source": [
    "plt.boxplot(de['Budget Profit'])\n",
    "plt.show()"
   ]
  },
  {
   "cell_type": "code",
   "execution_count": null,
   "metadata": {},
   "outputs": [],
   "source": []
  },
  {
   "cell_type": "markdown",
   "metadata": {},
   "source": [
    " ### 17  Find the Market , Product and type where sales is maximum"
   ]
  },
  {
   "cell_type": "code",
   "execution_count": 78,
   "metadata": {},
   "outputs": [
    {
     "data": {
      "text/plain": [
       "912"
      ]
     },
     "execution_count": 78,
     "metadata": {},
     "output_type": "execute_result"
    }
   ],
   "source": [
    "sm=df['Sales'].max()\n",
    "sm"
   ]
  },
  {
   "cell_type": "code",
   "execution_count": 79,
   "metadata": {},
   "outputs": [
    {
     "data": {
      "text/html": [
       "<div>\n",
       "<style scoped>\n",
       "    .dataframe tbody tr th:only-of-type {\n",
       "        vertical-align: middle;\n",
       "    }\n",
       "\n",
       "    .dataframe tbody tr th {\n",
       "        vertical-align: top;\n",
       "    }\n",
       "\n",
       "    .dataframe thead th {\n",
       "        text-align: right;\n",
       "    }\n",
       "</style>\n",
       "<table border=\"1\" class=\"dataframe\">\n",
       "  <thead>\n",
       "    <tr style=\"text-align: right;\">\n",
       "      <th></th>\n",
       "      <th>Area Code</th>\n",
       "      <th>Date</th>\n",
       "      <th>Market</th>\n",
       "      <th>Market Size</th>\n",
       "      <th>Product</th>\n",
       "      <th>Product Line</th>\n",
       "      <th>Product Type</th>\n",
       "      <th>State</th>\n",
       "      <th>Type</th>\n",
       "      <th>Budget COGS</th>\n",
       "      <th>Budget Margin</th>\n",
       "      <th>Budget Profit</th>\n",
       "      <th>Budget Sales</th>\n",
       "      <th>COGS</th>\n",
       "      <th>Inventory</th>\n",
       "      <th>Margin</th>\n",
       "      <th>Marketing</th>\n",
       "      <th>Profit</th>\n",
       "      <th>Sales</th>\n",
       "      <th>Total Expenses</th>\n",
       "    </tr>\n",
       "  </thead>\n",
       "  <tbody>\n",
       "    <tr>\n",
       "      <th>1154</th>\n",
       "      <td>845</td>\n",
       "      <td>41091</td>\n",
       "      <td>East</td>\n",
       "      <td>Major Market</td>\n",
       "      <td>Colombian</td>\n",
       "      <td>Beans</td>\n",
       "      <td>Coffee</td>\n",
       "      <td>New York</td>\n",
       "      <td>Regular</td>\n",
       "      <td>340</td>\n",
       "      <td>520</td>\n",
       "      <td>370</td>\n",
       "      <td>860</td>\n",
       "      <td>364</td>\n",
       "      <td>2654</td>\n",
       "      <td>548</td>\n",
       "      <td>127</td>\n",
       "      <td>370</td>\n",
       "      <td>912</td>\n",
       "      <td>178</td>\n",
       "    </tr>\n",
       "    <tr>\n",
       "      <th>1196</th>\n",
       "      <td>707</td>\n",
       "      <td>41091</td>\n",
       "      <td>West</td>\n",
       "      <td>Major Market</td>\n",
       "      <td>Colombian</td>\n",
       "      <td>Beans</td>\n",
       "      <td>Coffee</td>\n",
       "      <td>California</td>\n",
       "      <td>Regular</td>\n",
       "      <td>450</td>\n",
       "      <td>690</td>\n",
       "      <td>530</td>\n",
       "      <td>1140</td>\n",
       "      <td>364</td>\n",
       "      <td>2654</td>\n",
       "      <td>548</td>\n",
       "      <td>127</td>\n",
       "      <td>370</td>\n",
       "      <td>912</td>\n",
       "      <td>178</td>\n",
       "    </tr>\n",
       "  </tbody>\n",
       "</table>\n",
       "</div>"
      ],
      "text/plain": [
       "      Area Code   Date Market   Market Size    Product Product Line  \\\n",
       "1154        845  41091   East  Major Market  Colombian        Beans   \n",
       "1196        707  41091   West  Major Market  Colombian        Beans   \n",
       "\n",
       "     Product Type       State     Type  Budget COGS  Budget Margin  \\\n",
       "1154       Coffee    New York  Regular          340            520   \n",
       "1196       Coffee  California  Regular          450            690   \n",
       "\n",
       "      Budget Profit  Budget Sales  COGS  Inventory  Margin  Marketing  Profit  \\\n",
       "1154            370           860   364       2654     548        127     370   \n",
       "1196            530          1140   364       2654     548        127     370   \n",
       "\n",
       "      Sales  Total Expenses  \n",
       "1154    912             178  \n",
       "1196    912             178  "
      ]
     },
     "execution_count": 79,
     "metadata": {},
     "output_type": "execute_result"
    }
   ],
   "source": [
    "#mpt=df.query('Sales==912')       \n",
    "mpt=df[df['Sales']==912]\n",
    "mpt"
   ]
  },
  {
   "cell_type": "code",
   "execution_count": 80,
   "metadata": {},
   "outputs": [
    {
     "data": {
      "text/html": [
       "<div>\n",
       "<style scoped>\n",
       "    .dataframe tbody tr th:only-of-type {\n",
       "        vertical-align: middle;\n",
       "    }\n",
       "\n",
       "    .dataframe tbody tr th {\n",
       "        vertical-align: top;\n",
       "    }\n",
       "\n",
       "    .dataframe thead th {\n",
       "        text-align: right;\n",
       "    }\n",
       "</style>\n",
       "<table border=\"1\" class=\"dataframe\">\n",
       "  <thead>\n",
       "    <tr style=\"text-align: right;\">\n",
       "      <th></th>\n",
       "      <th>Market</th>\n",
       "      <th>Product</th>\n",
       "      <th>Type</th>\n",
       "      <th>Sales</th>\n",
       "    </tr>\n",
       "  </thead>\n",
       "  <tbody>\n",
       "    <tr>\n",
       "      <th>1154</th>\n",
       "      <td>East</td>\n",
       "      <td>Colombian</td>\n",
       "      <td>Regular</td>\n",
       "      <td>912</td>\n",
       "    </tr>\n",
       "    <tr>\n",
       "      <th>1196</th>\n",
       "      <td>West</td>\n",
       "      <td>Colombian</td>\n",
       "      <td>Regular</td>\n",
       "      <td>912</td>\n",
       "    </tr>\n",
       "  </tbody>\n",
       "</table>\n",
       "</div>"
      ],
      "text/plain": [
       "     Market    Product     Type  Sales\n",
       "1154   East  Colombian  Regular    912\n",
       "1196   West  Colombian  Regular    912"
      ]
     },
     "execution_count": 80,
     "metadata": {},
     "output_type": "execute_result"
    }
   ],
   "source": [
    "mpt[['Market','Product','Type','Sales']]"
   ]
  },
  {
   "cell_type": "code",
   "execution_count": null,
   "metadata": {},
   "outputs": [],
   "source": []
  },
  {
   "cell_type": "markdown",
   "metadata": {},
   "source": [
    "### 18 Find State and Market with Maximum Profit or Maximum Budget Profit"
   ]
  },
  {
   "cell_type": "code",
   "execution_count": 81,
   "metadata": {},
   "outputs": [
    {
     "name": "stdout",
     "output_type": "stream",
     "text": [
      "560\n",
      "778\n"
     ]
    }
   ],
   "source": [
    "bp=df['Budget Profit'].max()\n",
    "p=df['Profit'].max()\n",
    "print(bp)\n",
    "print(p)"
   ]
  },
  {
   "cell_type": "code",
   "execution_count": 82,
   "metadata": {},
   "outputs": [
    {
     "data": {
      "text/html": [
       "<div>\n",
       "<style scoped>\n",
       "    .dataframe tbody tr th:only-of-type {\n",
       "        vertical-align: middle;\n",
       "    }\n",
       "\n",
       "    .dataframe tbody tr th {\n",
       "        vertical-align: top;\n",
       "    }\n",
       "\n",
       "    .dataframe thead th {\n",
       "        text-align: right;\n",
       "    }\n",
       "</style>\n",
       "<table border=\"1\" class=\"dataframe\">\n",
       "  <thead>\n",
       "    <tr style=\"text-align: right;\">\n",
       "      <th></th>\n",
       "      <th>Area Code</th>\n",
       "      <th>Date</th>\n",
       "      <th>Market</th>\n",
       "      <th>Market Size</th>\n",
       "      <th>Product</th>\n",
       "      <th>Product Line</th>\n",
       "      <th>Product Type</th>\n",
       "      <th>State</th>\n",
       "      <th>Type</th>\n",
       "      <th>Budget COGS</th>\n",
       "      <th>Budget Margin</th>\n",
       "      <th>Budget Profit</th>\n",
       "      <th>Budget Sales</th>\n",
       "      <th>COGS</th>\n",
       "      <th>Inventory</th>\n",
       "      <th>Margin</th>\n",
       "      <th>Marketing</th>\n",
       "      <th>Profit</th>\n",
       "      <th>Sales</th>\n",
       "      <th>Total Expenses</th>\n",
       "    </tr>\n",
       "  </thead>\n",
       "  <tbody>\n",
       "    <tr>\n",
       "      <th>1139</th>\n",
       "      <td>508</td>\n",
       "      <td>41091</td>\n",
       "      <td>East</td>\n",
       "      <td>Major Market</td>\n",
       "      <td>Colombian</td>\n",
       "      <td>Beans</td>\n",
       "      <td>Coffee</td>\n",
       "      <td>Massachusetts</td>\n",
       "      <td>Regular</td>\n",
       "      <td>40</td>\n",
       "      <td>590</td>\n",
       "      <td>560</td>\n",
       "      <td>630</td>\n",
       "      <td>52</td>\n",
       "      <td>-1493</td>\n",
       "      <td>613</td>\n",
       "      <td>17</td>\n",
       "      <td>564</td>\n",
       "      <td>665</td>\n",
       "      <td>49</td>\n",
       "    </tr>\n",
       "    <tr>\n",
       "      <th>1316</th>\n",
       "      <td>508</td>\n",
       "      <td>41122</td>\n",
       "      <td>East</td>\n",
       "      <td>Major Market</td>\n",
       "      <td>Colombian</td>\n",
       "      <td>Beans</td>\n",
       "      <td>Coffee</td>\n",
       "      <td>Massachusetts</td>\n",
       "      <td>Regular</td>\n",
       "      <td>40</td>\n",
       "      <td>590</td>\n",
       "      <td>560</td>\n",
       "      <td>630</td>\n",
       "      <td>52</td>\n",
       "      <td>-2033</td>\n",
       "      <td>612</td>\n",
       "      <td>17</td>\n",
       "      <td>563</td>\n",
       "      <td>664</td>\n",
       "      <td>49</td>\n",
       "    </tr>\n",
       "    <tr>\n",
       "      <th>3263</th>\n",
       "      <td>978</td>\n",
       "      <td>41456</td>\n",
       "      <td>East</td>\n",
       "      <td>Major Market</td>\n",
       "      <td>Colombian</td>\n",
       "      <td>Beans</td>\n",
       "      <td>Coffee</td>\n",
       "      <td>Massachusetts</td>\n",
       "      <td>Regular</td>\n",
       "      <td>40</td>\n",
       "      <td>590</td>\n",
       "      <td>560</td>\n",
       "      <td>630</td>\n",
       "      <td>52</td>\n",
       "      <td>-1493</td>\n",
       "      <td>613</td>\n",
       "      <td>17</td>\n",
       "      <td>778</td>\n",
       "      <td>659</td>\n",
       "      <td>46</td>\n",
       "    </tr>\n",
       "    <tr>\n",
       "      <th>3440</th>\n",
       "      <td>617</td>\n",
       "      <td>41487</td>\n",
       "      <td>East</td>\n",
       "      <td>Major Market</td>\n",
       "      <td>Colombian</td>\n",
       "      <td>Beans</td>\n",
       "      <td>Coffee</td>\n",
       "      <td>Massachusetts</td>\n",
       "      <td>Regular</td>\n",
       "      <td>40</td>\n",
       "      <td>590</td>\n",
       "      <td>560</td>\n",
       "      <td>630</td>\n",
       "      <td>52</td>\n",
       "      <td>-2033</td>\n",
       "      <td>612</td>\n",
       "      <td>17</td>\n",
       "      <td>777</td>\n",
       "      <td>658</td>\n",
       "      <td>46</td>\n",
       "    </tr>\n",
       "  </tbody>\n",
       "</table>\n",
       "</div>"
      ],
      "text/plain": [
       "      Area Code   Date Market   Market Size    Product Product Line  \\\n",
       "1139        508  41091   East  Major Market  Colombian        Beans   \n",
       "1316        508  41122   East  Major Market  Colombian        Beans   \n",
       "3263        978  41456   East  Major Market  Colombian        Beans   \n",
       "3440        617  41487   East  Major Market  Colombian        Beans   \n",
       "\n",
       "     Product Type          State     Type  Budget COGS  Budget Margin  \\\n",
       "1139       Coffee  Massachusetts  Regular           40            590   \n",
       "1316       Coffee  Massachusetts  Regular           40            590   \n",
       "3263       Coffee  Massachusetts  Regular           40            590   \n",
       "3440       Coffee  Massachusetts  Regular           40            590   \n",
       "\n",
       "      Budget Profit  Budget Sales  COGS  Inventory  Margin  Marketing  Profit  \\\n",
       "1139            560           630    52      -1493     613         17     564   \n",
       "1316            560           630    52      -2033     612         17     563   \n",
       "3263            560           630    52      -1493     613         17     778   \n",
       "3440            560           630    52      -2033     612         17     777   \n",
       "\n",
       "      Sales  Total Expenses  \n",
       "1139    665              49  \n",
       "1316    664              49  \n",
       "3263    659              46  \n",
       "3440    658              46  "
      ]
     },
     "execution_count": 82,
     "metadata": {},
     "output_type": "execute_result"
    }
   ],
   "source": [
    "bpp=df[(df['Budget Profit']==560) | (df['Profit']==778)]\n",
    "bpp"
   ]
  },
  {
   "cell_type": "code",
   "execution_count": 83,
   "metadata": {},
   "outputs": [
    {
     "data": {
      "text/html": [
       "<div>\n",
       "<style scoped>\n",
       "    .dataframe tbody tr th:only-of-type {\n",
       "        vertical-align: middle;\n",
       "    }\n",
       "\n",
       "    .dataframe tbody tr th {\n",
       "        vertical-align: top;\n",
       "    }\n",
       "\n",
       "    .dataframe thead th {\n",
       "        text-align: right;\n",
       "    }\n",
       "</style>\n",
       "<table border=\"1\" class=\"dataframe\">\n",
       "  <thead>\n",
       "    <tr style=\"text-align: right;\">\n",
       "      <th></th>\n",
       "      <th>State</th>\n",
       "      <th>Market</th>\n",
       "      <th>Profit</th>\n",
       "      <th>Budget Profit</th>\n",
       "    </tr>\n",
       "  </thead>\n",
       "  <tbody>\n",
       "    <tr>\n",
       "      <th>1139</th>\n",
       "      <td>Massachusetts</td>\n",
       "      <td>East</td>\n",
       "      <td>564</td>\n",
       "      <td>560</td>\n",
       "    </tr>\n",
       "    <tr>\n",
       "      <th>1316</th>\n",
       "      <td>Massachusetts</td>\n",
       "      <td>East</td>\n",
       "      <td>563</td>\n",
       "      <td>560</td>\n",
       "    </tr>\n",
       "    <tr>\n",
       "      <th>3263</th>\n",
       "      <td>Massachusetts</td>\n",
       "      <td>East</td>\n",
       "      <td>778</td>\n",
       "      <td>560</td>\n",
       "    </tr>\n",
       "    <tr>\n",
       "      <th>3440</th>\n",
       "      <td>Massachusetts</td>\n",
       "      <td>East</td>\n",
       "      <td>777</td>\n",
       "      <td>560</td>\n",
       "    </tr>\n",
       "  </tbody>\n",
       "</table>\n",
       "</div>"
      ],
      "text/plain": [
       "              State Market  Profit  Budget Profit\n",
       "1139  Massachusetts   East     564            560\n",
       "1316  Massachusetts   East     563            560\n",
       "3263  Massachusetts   East     778            560\n",
       "3440  Massachusetts   East     777            560"
      ]
     },
     "execution_count": 83,
     "metadata": {},
     "output_type": "execute_result"
    }
   ],
   "source": [
    "bpp[['State','Market','Profit','Budget Profit']]"
   ]
  },
  {
   "cell_type": "code",
   "execution_count": null,
   "metadata": {},
   "outputs": [],
   "source": []
  },
  {
   "cell_type": "markdown",
   "metadata": {},
   "source": [
    "###  19 Find Product, State and Market where Total Expenses are Minimum"
   ]
  },
  {
   "cell_type": "code",
   "execution_count": 84,
   "metadata": {},
   "outputs": [
    {
     "data": {
      "text/html": [
       "<div>\n",
       "<style scoped>\n",
       "    .dataframe tbody tr th:only-of-type {\n",
       "        vertical-align: middle;\n",
       "    }\n",
       "\n",
       "    .dataframe tbody tr th {\n",
       "        vertical-align: top;\n",
       "    }\n",
       "\n",
       "    .dataframe thead th {\n",
       "        text-align: right;\n",
       "    }\n",
       "</style>\n",
       "<table border=\"1\" class=\"dataframe\">\n",
       "  <thead>\n",
       "    <tr style=\"text-align: right;\">\n",
       "      <th></th>\n",
       "      <th>Area Code</th>\n",
       "      <th>Date</th>\n",
       "      <th>Market</th>\n",
       "      <th>Market Size</th>\n",
       "      <th>Product</th>\n",
       "      <th>Product Line</th>\n",
       "      <th>Product Type</th>\n",
       "      <th>State</th>\n",
       "      <th>Type</th>\n",
       "      <th>Budget COGS</th>\n",
       "      <th>Budget Margin</th>\n",
       "      <th>Budget Profit</th>\n",
       "      <th>Budget Sales</th>\n",
       "      <th>COGS</th>\n",
       "      <th>Inventory</th>\n",
       "      <th>Margin</th>\n",
       "      <th>Marketing</th>\n",
       "      <th>Profit</th>\n",
       "      <th>Sales</th>\n",
       "      <th>Total Expenses</th>\n",
       "    </tr>\n",
       "  </thead>\n",
       "  <tbody>\n",
       "    <tr>\n",
       "      <th>0</th>\n",
       "      <td>719</td>\n",
       "      <td>40909</td>\n",
       "      <td>Central</td>\n",
       "      <td>Major Market</td>\n",
       "      <td>Amaretto</td>\n",
       "      <td>Beans</td>\n",
       "      <td>Coffee</td>\n",
       "      <td>Colorado</td>\n",
       "      <td>Regular</td>\n",
       "      <td>90</td>\n",
       "      <td>130</td>\n",
       "      <td>100</td>\n",
       "      <td>220</td>\n",
       "      <td>89</td>\n",
       "      <td>777</td>\n",
       "      <td>130</td>\n",
       "      <td>24</td>\n",
       "      <td>94</td>\n",
       "      <td>219</td>\n",
       "      <td>36</td>\n",
       "    </tr>\n",
       "  </tbody>\n",
       "</table>\n",
       "</div>"
      ],
      "text/plain": [
       "   Area Code   Date   Market   Market Size   Product Product Line  \\\n",
       "0        719  40909  Central  Major Market  Amaretto        Beans   \n",
       "\n",
       "  Product Type     State     Type  Budget COGS  Budget Margin  Budget Profit  \\\n",
       "0       Coffee  Colorado  Regular           90            130            100   \n",
       "\n",
       "   Budget Sales  COGS  Inventory  Margin  Marketing  Profit  Sales  \\\n",
       "0           220    89        777     130         24      94    219   \n",
       "\n",
       "   Total Expenses  \n",
       "0              36  "
      ]
     },
     "execution_count": 84,
     "metadata": {},
     "output_type": "execute_result"
    }
   ],
   "source": [
    "df.head(1)"
   ]
  },
  {
   "cell_type": "code",
   "execution_count": 85,
   "metadata": {},
   "outputs": [
    {
     "data": {
      "text/plain": [
       "10"
      ]
     },
     "execution_count": 85,
     "metadata": {},
     "output_type": "execute_result"
    }
   ],
   "source": [
    "df['Total Expenses'].min()"
   ]
  },
  {
   "cell_type": "code",
   "execution_count": 86,
   "metadata": {},
   "outputs": [
    {
     "data": {
      "text/html": [
       "<div>\n",
       "<style scoped>\n",
       "    .dataframe tbody tr th:only-of-type {\n",
       "        vertical-align: middle;\n",
       "    }\n",
       "\n",
       "    .dataframe tbody tr th {\n",
       "        vertical-align: top;\n",
       "    }\n",
       "\n",
       "    .dataframe thead th {\n",
       "        text-align: right;\n",
       "    }\n",
       "</style>\n",
       "<table border=\"1\" class=\"dataframe\">\n",
       "  <thead>\n",
       "    <tr style=\"text-align: right;\">\n",
       "      <th></th>\n",
       "      <th>Area Code</th>\n",
       "      <th>Date</th>\n",
       "      <th>Market</th>\n",
       "      <th>Market Size</th>\n",
       "      <th>Product</th>\n",
       "      <th>Product Line</th>\n",
       "      <th>Product Type</th>\n",
       "      <th>State</th>\n",
       "      <th>Type</th>\n",
       "      <th>Budget COGS</th>\n",
       "      <th>Budget Margin</th>\n",
       "      <th>Budget Profit</th>\n",
       "      <th>Budget Sales</th>\n",
       "      <th>COGS</th>\n",
       "      <th>Inventory</th>\n",
       "      <th>Margin</th>\n",
       "      <th>Marketing</th>\n",
       "      <th>Profit</th>\n",
       "      <th>Sales</th>\n",
       "      <th>Total Expenses</th>\n",
       "    </tr>\n",
       "  </thead>\n",
       "  <tbody>\n",
       "    <tr>\n",
       "      <th>2910</th>\n",
       "      <td>603</td>\n",
       "      <td>41395</td>\n",
       "      <td>East</td>\n",
       "      <td>Small Market</td>\n",
       "      <td>Green Tea</td>\n",
       "      <td>Leaves</td>\n",
       "      <td>Tea</td>\n",
       "      <td>New Hampshire</td>\n",
       "      <td>Regular</td>\n",
       "      <td>0</td>\n",
       "      <td>40</td>\n",
       "      <td>30</td>\n",
       "      <td>40</td>\n",
       "      <td>0</td>\n",
       "      <td>645</td>\n",
       "      <td>43</td>\n",
       "      <td>0</td>\n",
       "      <td>44</td>\n",
       "      <td>43</td>\n",
       "      <td>10</td>\n",
       "    </tr>\n",
       "    <tr>\n",
       "      <th>3087</th>\n",
       "      <td>603</td>\n",
       "      <td>41426</td>\n",
       "      <td>East</td>\n",
       "      <td>Small Market</td>\n",
       "      <td>Green Tea</td>\n",
       "      <td>Leaves</td>\n",
       "      <td>Tea</td>\n",
       "      <td>New Hampshire</td>\n",
       "      <td>Regular</td>\n",
       "      <td>0</td>\n",
       "      <td>40</td>\n",
       "      <td>30</td>\n",
       "      <td>40</td>\n",
       "      <td>0</td>\n",
       "      <td>602</td>\n",
       "      <td>43</td>\n",
       "      <td>0</td>\n",
       "      <td>44</td>\n",
       "      <td>43</td>\n",
       "      <td>10</td>\n",
       "    </tr>\n",
       "    <tr>\n",
       "      <th>3339</th>\n",
       "      <td>775</td>\n",
       "      <td>41456</td>\n",
       "      <td>West</td>\n",
       "      <td>Small Market</td>\n",
       "      <td>Caffe Latte</td>\n",
       "      <td>Beans</td>\n",
       "      <td>Espresso</td>\n",
       "      <td>Nevada</td>\n",
       "      <td>Regular</td>\n",
       "      <td>0</td>\n",
       "      <td>40</td>\n",
       "      <td>30</td>\n",
       "      <td>40</td>\n",
       "      <td>0</td>\n",
       "      <td>559</td>\n",
       "      <td>43</td>\n",
       "      <td>0</td>\n",
       "      <td>44</td>\n",
       "      <td>43</td>\n",
       "      <td>10</td>\n",
       "    </tr>\n",
       "    <tr>\n",
       "      <th>3516</th>\n",
       "      <td>775</td>\n",
       "      <td>41487</td>\n",
       "      <td>West</td>\n",
       "      <td>Small Market</td>\n",
       "      <td>Caffe Latte</td>\n",
       "      <td>Beans</td>\n",
       "      <td>Espresso</td>\n",
       "      <td>Nevada</td>\n",
       "      <td>Regular</td>\n",
       "      <td>0</td>\n",
       "      <td>40</td>\n",
       "      <td>30</td>\n",
       "      <td>40</td>\n",
       "      <td>0</td>\n",
       "      <td>516</td>\n",
       "      <td>43</td>\n",
       "      <td>0</td>\n",
       "      <td>44</td>\n",
       "      <td>43</td>\n",
       "      <td>10</td>\n",
       "    </tr>\n",
       "  </tbody>\n",
       "</table>\n",
       "</div>"
      ],
      "text/plain": [
       "      Area Code   Date Market   Market Size      Product Product Line  \\\n",
       "2910        603  41395   East  Small Market    Green Tea       Leaves   \n",
       "3087        603  41426   East  Small Market    Green Tea       Leaves   \n",
       "3339        775  41456   West  Small Market  Caffe Latte        Beans   \n",
       "3516        775  41487   West  Small Market  Caffe Latte        Beans   \n",
       "\n",
       "     Product Type          State     Type  Budget COGS  Budget Margin  \\\n",
       "2910          Tea  New Hampshire  Regular            0             40   \n",
       "3087          Tea  New Hampshire  Regular            0             40   \n",
       "3339     Espresso         Nevada  Regular            0             40   \n",
       "3516     Espresso         Nevada  Regular            0             40   \n",
       "\n",
       "      Budget Profit  Budget Sales  COGS  Inventory  Margin  Marketing  Profit  \\\n",
       "2910             30            40     0        645      43          0      44   \n",
       "3087             30            40     0        602      43          0      44   \n",
       "3339             30            40     0        559      43          0      44   \n",
       "3516             30            40     0        516      43          0      44   \n",
       "\n",
       "      Sales  Total Expenses  \n",
       "2910     43              10  \n",
       "3087     43              10  \n",
       "3339     43              10  \n",
       "3516     43              10  "
      ]
     },
     "execution_count": 86,
     "metadata": {},
     "output_type": "execute_result"
    }
   ],
   "source": [
    "psm= df[df['Total Expenses']==10]\n",
    "psm"
   ]
  },
  {
   "cell_type": "code",
   "execution_count": 87,
   "metadata": {},
   "outputs": [
    {
     "data": {
      "text/html": [
       "<div>\n",
       "<style scoped>\n",
       "    .dataframe tbody tr th:only-of-type {\n",
       "        vertical-align: middle;\n",
       "    }\n",
       "\n",
       "    .dataframe tbody tr th {\n",
       "        vertical-align: top;\n",
       "    }\n",
       "\n",
       "    .dataframe thead th {\n",
       "        text-align: right;\n",
       "    }\n",
       "</style>\n",
       "<table border=\"1\" class=\"dataframe\">\n",
       "  <thead>\n",
       "    <tr style=\"text-align: right;\">\n",
       "      <th></th>\n",
       "      <th>Product</th>\n",
       "      <th>Sales</th>\n",
       "      <th>Market</th>\n",
       "      <th>Total Expenses</th>\n",
       "    </tr>\n",
       "  </thead>\n",
       "  <tbody>\n",
       "    <tr>\n",
       "      <th>2910</th>\n",
       "      <td>Green Tea</td>\n",
       "      <td>43</td>\n",
       "      <td>East</td>\n",
       "      <td>10</td>\n",
       "    </tr>\n",
       "    <tr>\n",
       "      <th>3087</th>\n",
       "      <td>Green Tea</td>\n",
       "      <td>43</td>\n",
       "      <td>East</td>\n",
       "      <td>10</td>\n",
       "    </tr>\n",
       "    <tr>\n",
       "      <th>3339</th>\n",
       "      <td>Caffe Latte</td>\n",
       "      <td>43</td>\n",
       "      <td>West</td>\n",
       "      <td>10</td>\n",
       "    </tr>\n",
       "    <tr>\n",
       "      <th>3516</th>\n",
       "      <td>Caffe Latte</td>\n",
       "      <td>43</td>\n",
       "      <td>West</td>\n",
       "      <td>10</td>\n",
       "    </tr>\n",
       "  </tbody>\n",
       "</table>\n",
       "</div>"
      ],
      "text/plain": [
       "          Product  Sales Market  Total Expenses\n",
       "2910    Green Tea     43   East              10\n",
       "3087    Green Tea     43   East              10\n",
       "3339  Caffe Latte     43   West              10\n",
       "3516  Caffe Latte     43   West              10"
      ]
     },
     "execution_count": 87,
     "metadata": {},
     "output_type": "execute_result"
    }
   ],
   "source": [
    "psm[['Product','Sales','Market','Total Expenses']]"
   ]
  },
  {
   "cell_type": "code",
   "execution_count": null,
   "metadata": {},
   "outputs": [],
   "source": []
  },
  {
   "cell_type": "markdown",
   "metadata": {},
   "source": [
    "### 20 Statistically infer the state, Product and Market chosen to further expand/invest into the coffee Business based on Sales,Profit and Total Expenses "
   ]
  },
  {
   "cell_type": "code",
   "execution_count": 88,
   "metadata": {},
   "outputs": [
    {
     "data": {
      "text/html": [
       "<div>\n",
       "<style scoped>\n",
       "    .dataframe tbody tr th:only-of-type {\n",
       "        vertical-align: middle;\n",
       "    }\n",
       "\n",
       "    .dataframe tbody tr th {\n",
       "        vertical-align: top;\n",
       "    }\n",
       "\n",
       "    .dataframe thead th {\n",
       "        text-align: right;\n",
       "    }\n",
       "</style>\n",
       "<table border=\"1\" class=\"dataframe\">\n",
       "  <thead>\n",
       "    <tr style=\"text-align: right;\">\n",
       "      <th></th>\n",
       "      <th>Area Code</th>\n",
       "      <th>Date</th>\n",
       "      <th>Market</th>\n",
       "      <th>Market Size</th>\n",
       "      <th>Product</th>\n",
       "      <th>Product Line</th>\n",
       "      <th>Product Type</th>\n",
       "      <th>State</th>\n",
       "      <th>Type</th>\n",
       "      <th>Budget COGS</th>\n",
       "      <th>Budget Margin</th>\n",
       "      <th>Budget Profit</th>\n",
       "      <th>Budget Sales</th>\n",
       "      <th>COGS</th>\n",
       "      <th>Inventory</th>\n",
       "      <th>Margin</th>\n",
       "      <th>Marketing</th>\n",
       "      <th>Profit</th>\n",
       "      <th>Sales</th>\n",
       "      <th>Total Expenses</th>\n",
       "    </tr>\n",
       "  </thead>\n",
       "  <tbody>\n",
       "    <tr>\n",
       "      <th>0</th>\n",
       "      <td>719</td>\n",
       "      <td>40909</td>\n",
       "      <td>Central</td>\n",
       "      <td>Major Market</td>\n",
       "      <td>Amaretto</td>\n",
       "      <td>Beans</td>\n",
       "      <td>Coffee</td>\n",
       "      <td>Colorado</td>\n",
       "      <td>Regular</td>\n",
       "      <td>90</td>\n",
       "      <td>130</td>\n",
       "      <td>100</td>\n",
       "      <td>220</td>\n",
       "      <td>89</td>\n",
       "      <td>777</td>\n",
       "      <td>130</td>\n",
       "      <td>24</td>\n",
       "      <td>94</td>\n",
       "      <td>219</td>\n",
       "      <td>36</td>\n",
       "    </tr>\n",
       "  </tbody>\n",
       "</table>\n",
       "</div>"
      ],
      "text/plain": [
       "   Area Code   Date   Market   Market Size   Product Product Line  \\\n",
       "0        719  40909  Central  Major Market  Amaretto        Beans   \n",
       "\n",
       "  Product Type     State     Type  Budget COGS  Budget Margin  Budget Profit  \\\n",
       "0       Coffee  Colorado  Regular           90            130            100   \n",
       "\n",
       "   Budget Sales  COGS  Inventory  Margin  Marketing  Profit  Sales  \\\n",
       "0           220    89        777     130         24      94    219   \n",
       "\n",
       "   Total Expenses  \n",
       "0              36  "
      ]
     },
     "execution_count": 88,
     "metadata": {},
     "output_type": "execute_result"
    }
   ],
   "source": [
    "df.head(1)"
   ]
  },
  {
   "cell_type": "code",
   "execution_count": 89,
   "metadata": {},
   "outputs": [
    {
     "data": {
      "text/plain": [
       "(1056, 20)"
      ]
     },
     "execution_count": 89,
     "metadata": {},
     "output_type": "execute_result"
    }
   ],
   "source": [
    "c=df[df['Product Type']=='Coffee']\n",
    "c.shape"
   ]
  },
  {
   "cell_type": "code",
   "execution_count": 90,
   "metadata": {},
   "outputs": [
    {
     "data": {
      "text/plain": [
       "(912, 778, 15)"
      ]
     },
     "execution_count": 90,
     "metadata": {},
     "output_type": "execute_result"
    }
   ],
   "source": [
    "c['Sales'].max(),c['Profit'].max(),c['Total Expenses'].min()"
   ]
  },
  {
   "cell_type": "code",
   "execution_count": 91,
   "metadata": {},
   "outputs": [
    {
     "data": {
      "text/html": [
       "<div>\n",
       "<style scoped>\n",
       "    .dataframe tbody tr th:only-of-type {\n",
       "        vertical-align: middle;\n",
       "    }\n",
       "\n",
       "    .dataframe tbody tr th {\n",
       "        vertical-align: top;\n",
       "    }\n",
       "\n",
       "    .dataframe thead th {\n",
       "        text-align: right;\n",
       "    }\n",
       "</style>\n",
       "<table border=\"1\" class=\"dataframe\">\n",
       "  <thead>\n",
       "    <tr style=\"text-align: right;\">\n",
       "      <th></th>\n",
       "      <th>Area Code</th>\n",
       "      <th>Date</th>\n",
       "      <th>Market</th>\n",
       "      <th>Market Size</th>\n",
       "      <th>Product</th>\n",
       "      <th>Product Line</th>\n",
       "      <th>Product Type</th>\n",
       "      <th>State</th>\n",
       "      <th>Type</th>\n",
       "      <th>Budget COGS</th>\n",
       "      <th>Budget Margin</th>\n",
       "      <th>Budget Profit</th>\n",
       "      <th>Budget Sales</th>\n",
       "      <th>COGS</th>\n",
       "      <th>Inventory</th>\n",
       "      <th>Margin</th>\n",
       "      <th>Marketing</th>\n",
       "      <th>Profit</th>\n",
       "      <th>Sales</th>\n",
       "      <th>Total Expenses</th>\n",
       "    </tr>\n",
       "  </thead>\n",
       "  <tbody>\n",
       "    <tr>\n",
       "      <th>1154</th>\n",
       "      <td>845</td>\n",
       "      <td>41091</td>\n",
       "      <td>East</td>\n",
       "      <td>Major Market</td>\n",
       "      <td>Colombian</td>\n",
       "      <td>Beans</td>\n",
       "      <td>Coffee</td>\n",
       "      <td>New York</td>\n",
       "      <td>Regular</td>\n",
       "      <td>340</td>\n",
       "      <td>520</td>\n",
       "      <td>370</td>\n",
       "      <td>860</td>\n",
       "      <td>364</td>\n",
       "      <td>2654</td>\n",
       "      <td>548</td>\n",
       "      <td>127</td>\n",
       "      <td>370</td>\n",
       "      <td>912</td>\n",
       "      <td>178</td>\n",
       "    </tr>\n",
       "    <tr>\n",
       "      <th>1196</th>\n",
       "      <td>707</td>\n",
       "      <td>41091</td>\n",
       "      <td>West</td>\n",
       "      <td>Major Market</td>\n",
       "      <td>Colombian</td>\n",
       "      <td>Beans</td>\n",
       "      <td>Coffee</td>\n",
       "      <td>California</td>\n",
       "      <td>Regular</td>\n",
       "      <td>450</td>\n",
       "      <td>690</td>\n",
       "      <td>530</td>\n",
       "      <td>1140</td>\n",
       "      <td>364</td>\n",
       "      <td>2654</td>\n",
       "      <td>548</td>\n",
       "      <td>127</td>\n",
       "      <td>370</td>\n",
       "      <td>912</td>\n",
       "      <td>178</td>\n",
       "    </tr>\n",
       "  </tbody>\n",
       "</table>\n",
       "</div>"
      ],
      "text/plain": [
       "      Area Code   Date Market   Market Size    Product Product Line  \\\n",
       "1154        845  41091   East  Major Market  Colombian        Beans   \n",
       "1196        707  41091   West  Major Market  Colombian        Beans   \n",
       "\n",
       "     Product Type       State     Type  Budget COGS  Budget Margin  \\\n",
       "1154       Coffee    New York  Regular          340            520   \n",
       "1196       Coffee  California  Regular          450            690   \n",
       "\n",
       "      Budget Profit  Budget Sales  COGS  Inventory  Margin  Marketing  Profit  \\\n",
       "1154            370           860   364       2654     548        127     370   \n",
       "1196            530          1140   364       2654     548        127     370   \n",
       "\n",
       "      Sales  Total Expenses  \n",
       "1154    912             178  \n",
       "1196    912             178  "
      ]
     },
     "execution_count": 91,
     "metadata": {},
     "output_type": "execute_result"
    }
   ],
   "source": [
    "cspe=c[(c['Sales']==912) | (c['Profit']==778) | (c['Total Expenses']==15)]\n",
    "cspe.head(2)"
   ]
  },
  {
   "cell_type": "code",
   "execution_count": 92,
   "metadata": {},
   "outputs": [],
   "source": [
    "ce=cspe[['State','Product','Market','Sales','Profit','Total Expenses']]"
   ]
  },
  {
   "cell_type": "code",
   "execution_count": 93,
   "metadata": {},
   "outputs": [
    {
     "data": {
      "text/html": [
       "<div>\n",
       "<style scoped>\n",
       "    .dataframe tbody tr th:only-of-type {\n",
       "        vertical-align: middle;\n",
       "    }\n",
       "\n",
       "    .dataframe tbody tr th {\n",
       "        vertical-align: top;\n",
       "    }\n",
       "\n",
       "    .dataframe thead th {\n",
       "        text-align: right;\n",
       "    }\n",
       "</style>\n",
       "<table border=\"1\" class=\"dataframe\">\n",
       "  <thead>\n",
       "    <tr style=\"text-align: right;\">\n",
       "      <th></th>\n",
       "      <th>State</th>\n",
       "      <th>Product</th>\n",
       "      <th>Market</th>\n",
       "      <th>Sales</th>\n",
       "      <th>Profit</th>\n",
       "      <th>Total Expenses</th>\n",
       "    </tr>\n",
       "  </thead>\n",
       "  <tbody>\n",
       "    <tr>\n",
       "      <th>1154</th>\n",
       "      <td>New York</td>\n",
       "      <td>Colombian</td>\n",
       "      <td>East</td>\n",
       "      <td>912</td>\n",
       "      <td>370</td>\n",
       "      <td>178</td>\n",
       "    </tr>\n",
       "    <tr>\n",
       "      <th>1196</th>\n",
       "      <td>California</td>\n",
       "      <td>Colombian</td>\n",
       "      <td>West</td>\n",
       "      <td>912</td>\n",
       "      <td>370</td>\n",
       "      <td>178</td>\n",
       "    </tr>\n",
       "    <tr>\n",
       "      <th>1619</th>\n",
       "      <td>Iowa</td>\n",
       "      <td>Decaf Irish Cream</td>\n",
       "      <td>Central</td>\n",
       "      <td>23</td>\n",
       "      <td>-2</td>\n",
       "      <td>15</td>\n",
       "    </tr>\n",
       "    <tr>\n",
       "      <th>1973</th>\n",
       "      <td>Iowa</td>\n",
       "      <td>Decaf Irish Cream</td>\n",
       "      <td>Central</td>\n",
       "      <td>24</td>\n",
       "      <td>-1</td>\n",
       "      <td>15</td>\n",
       "    </tr>\n",
       "    <tr>\n",
       "      <th>1974</th>\n",
       "      <td>Iowa</td>\n",
       "      <td>Amaretto</td>\n",
       "      <td>Central</td>\n",
       "      <td>41</td>\n",
       "      <td>10</td>\n",
       "      <td>15</td>\n",
       "    </tr>\n",
       "    <tr>\n",
       "      <th>3263</th>\n",
       "      <td>Massachusetts</td>\n",
       "      <td>Colombian</td>\n",
       "      <td>East</td>\n",
       "      <td>659</td>\n",
       "      <td>778</td>\n",
       "      <td>46</td>\n",
       "    </tr>\n",
       "    <tr>\n",
       "      <th>3745</th>\n",
       "      <td>Iowa</td>\n",
       "      <td>Decaf Irish Cream</td>\n",
       "      <td>Central</td>\n",
       "      <td>25</td>\n",
       "      <td>-3</td>\n",
       "      <td>15</td>\n",
       "    </tr>\n",
       "    <tr>\n",
       "      <th>4097</th>\n",
       "      <td>Iowa</td>\n",
       "      <td>Amaretto</td>\n",
       "      <td>Central</td>\n",
       "      <td>44</td>\n",
       "      <td>15</td>\n",
       "      <td>15</td>\n",
       "    </tr>\n",
       "    <tr>\n",
       "      <th>4099</th>\n",
       "      <td>Iowa</td>\n",
       "      <td>Decaf Irish Cream</td>\n",
       "      <td>Central</td>\n",
       "      <td>26</td>\n",
       "      <td>-1</td>\n",
       "      <td>15</td>\n",
       "    </tr>\n",
       "  </tbody>\n",
       "</table>\n",
       "</div>"
      ],
      "text/plain": [
       "              State            Product   Market  Sales  Profit  Total Expenses\n",
       "1154       New York          Colombian     East    912     370             178\n",
       "1196     California          Colombian     West    912     370             178\n",
       "1619           Iowa  Decaf Irish Cream  Central     23      -2              15\n",
       "1973           Iowa  Decaf Irish Cream  Central     24      -1              15\n",
       "1974           Iowa           Amaretto  Central     41      10              15\n",
       "3263  Massachusetts          Colombian     East    659     778              46\n",
       "3745           Iowa  Decaf Irish Cream  Central     25      -3              15\n",
       "4097           Iowa           Amaretto  Central     44      15              15\n",
       "4099           Iowa  Decaf Irish Cream  Central     26      -1              15"
      ]
     },
     "execution_count": 93,
     "metadata": {},
     "output_type": "execute_result"
    }
   ],
   "source": [
    "ce"
   ]
  },
  {
   "cell_type": "code",
   "execution_count": null,
   "metadata": {},
   "outputs": [],
   "source": []
  },
  {
   "cell_type": "markdown",
   "metadata": {},
   "source": [
    "### 21 Statisically infer the State, Product and Market chosen to further withhold the Coffee Business based on Sales, Profit and Total Expenses.<br>"
   ]
  },
  {
   "cell_type": "code",
   "execution_count": 94,
   "metadata": {},
   "outputs": [
    {
     "data": {
      "text/html": [
       "<div>\n",
       "<style scoped>\n",
       "    .dataframe tbody tr th:only-of-type {\n",
       "        vertical-align: middle;\n",
       "    }\n",
       "\n",
       "    .dataframe tbody tr th {\n",
       "        vertical-align: top;\n",
       "    }\n",
       "\n",
       "    .dataframe thead th {\n",
       "        text-align: right;\n",
       "    }\n",
       "</style>\n",
       "<table border=\"1\" class=\"dataframe\">\n",
       "  <thead>\n",
       "    <tr style=\"text-align: right;\">\n",
       "      <th></th>\n",
       "      <th>Area Code</th>\n",
       "      <th>Date</th>\n",
       "      <th>Market</th>\n",
       "      <th>Market Size</th>\n",
       "      <th>Product</th>\n",
       "      <th>Product Line</th>\n",
       "      <th>Product Type</th>\n",
       "      <th>State</th>\n",
       "      <th>Type</th>\n",
       "      <th>Budget COGS</th>\n",
       "      <th>Budget Margin</th>\n",
       "      <th>Budget Profit</th>\n",
       "      <th>Budget Sales</th>\n",
       "      <th>COGS</th>\n",
       "      <th>Inventory</th>\n",
       "      <th>Margin</th>\n",
       "      <th>Marketing</th>\n",
       "      <th>Profit</th>\n",
       "      <th>Sales</th>\n",
       "      <th>Total Expenses</th>\n",
       "    </tr>\n",
       "  </thead>\n",
       "  <tbody>\n",
       "    <tr>\n",
       "      <th>0</th>\n",
       "      <td>719</td>\n",
       "      <td>40909</td>\n",
       "      <td>Central</td>\n",
       "      <td>Major Market</td>\n",
       "      <td>Amaretto</td>\n",
       "      <td>Beans</td>\n",
       "      <td>Coffee</td>\n",
       "      <td>Colorado</td>\n",
       "      <td>Regular</td>\n",
       "      <td>90</td>\n",
       "      <td>130</td>\n",
       "      <td>100</td>\n",
       "      <td>220</td>\n",
       "      <td>89</td>\n",
       "      <td>777</td>\n",
       "      <td>130</td>\n",
       "      <td>24</td>\n",
       "      <td>94</td>\n",
       "      <td>219</td>\n",
       "      <td>36</td>\n",
       "    </tr>\n",
       "    <tr>\n",
       "      <th>1</th>\n",
       "      <td>970</td>\n",
       "      <td>40909</td>\n",
       "      <td>Central</td>\n",
       "      <td>Major Market</td>\n",
       "      <td>Colombian</td>\n",
       "      <td>Beans</td>\n",
       "      <td>Coffee</td>\n",
       "      <td>Colorado</td>\n",
       "      <td>Regular</td>\n",
       "      <td>80</td>\n",
       "      <td>110</td>\n",
       "      <td>80</td>\n",
       "      <td>190</td>\n",
       "      <td>83</td>\n",
       "      <td>623</td>\n",
       "      <td>107</td>\n",
       "      <td>27</td>\n",
       "      <td>68</td>\n",
       "      <td>190</td>\n",
       "      <td>39</td>\n",
       "    </tr>\n",
       "  </tbody>\n",
       "</table>\n",
       "</div>"
      ],
      "text/plain": [
       "   Area Code   Date   Market   Market Size    Product Product Line  \\\n",
       "0        719  40909  Central  Major Market   Amaretto        Beans   \n",
       "1        970  40909  Central  Major Market  Colombian        Beans   \n",
       "\n",
       "  Product Type     State     Type  Budget COGS  Budget Margin  Budget Profit  \\\n",
       "0       Coffee  Colorado  Regular           90            130            100   \n",
       "1       Coffee  Colorado  Regular           80            110             80   \n",
       "\n",
       "   Budget Sales  COGS  Inventory  Margin  Marketing  Profit  Sales  \\\n",
       "0           220    89        777     130         24      94    219   \n",
       "1           190    83        623     107         27      68    190   \n",
       "\n",
       "   Total Expenses  \n",
       "0              36  \n",
       "1              39  "
      ]
     },
     "execution_count": 94,
     "metadata": {},
     "output_type": "execute_result"
    }
   ],
   "source": [
    "c=df[df['Product Type']=='Coffee']\n",
    "c.head(2)"
   ]
  },
  {
   "cell_type": "code",
   "execution_count": 95,
   "metadata": {},
   "outputs": [
    {
     "data": {
      "text/plain": [
       "(23, -221, 178)"
      ]
     },
     "execution_count": 95,
     "metadata": {},
     "output_type": "execute_result"
    }
   ],
   "source": [
    "c['Sales'].min(),c['Profit'].min(),c['Total Expenses'].max()"
   ]
  },
  {
   "cell_type": "code",
   "execution_count": 96,
   "metadata": {},
   "outputs": [
    {
     "data": {
      "text/html": [
       "<div>\n",
       "<style scoped>\n",
       "    .dataframe tbody tr th:only-of-type {\n",
       "        vertical-align: middle;\n",
       "    }\n",
       "\n",
       "    .dataframe tbody tr th {\n",
       "        vertical-align: top;\n",
       "    }\n",
       "\n",
       "    .dataframe thead th {\n",
       "        text-align: right;\n",
       "    }\n",
       "</style>\n",
       "<table border=\"1\" class=\"dataframe\">\n",
       "  <thead>\n",
       "    <tr style=\"text-align: right;\">\n",
       "      <th></th>\n",
       "      <th>Area Code</th>\n",
       "      <th>Date</th>\n",
       "      <th>Market</th>\n",
       "      <th>Market Size</th>\n",
       "      <th>Product</th>\n",
       "      <th>Product Line</th>\n",
       "      <th>Product Type</th>\n",
       "      <th>State</th>\n",
       "      <th>Type</th>\n",
       "      <th>Budget COGS</th>\n",
       "      <th>Budget Margin</th>\n",
       "      <th>Budget Profit</th>\n",
       "      <th>Budget Sales</th>\n",
       "      <th>COGS</th>\n",
       "      <th>Inventory</th>\n",
       "      <th>Margin</th>\n",
       "      <th>Marketing</th>\n",
       "      <th>Profit</th>\n",
       "      <th>Sales</th>\n",
       "      <th>Total Expenses</th>\n",
       "    </tr>\n",
       "  </thead>\n",
       "  <tbody>\n",
       "    <tr>\n",
       "      <th>1154</th>\n",
       "      <td>845</td>\n",
       "      <td>41091</td>\n",
       "      <td>East</td>\n",
       "      <td>Major Market</td>\n",
       "      <td>Colombian</td>\n",
       "      <td>Beans</td>\n",
       "      <td>Coffee</td>\n",
       "      <td>New York</td>\n",
       "      <td>Regular</td>\n",
       "      <td>340</td>\n",
       "      <td>520</td>\n",
       "      <td>370</td>\n",
       "      <td>860</td>\n",
       "      <td>364</td>\n",
       "      <td>2654</td>\n",
       "      <td>548</td>\n",
       "      <td>127</td>\n",
       "      <td>370</td>\n",
       "      <td>912</td>\n",
       "      <td>178</td>\n",
       "    </tr>\n",
       "    <tr>\n",
       "      <th>1196</th>\n",
       "      <td>707</td>\n",
       "      <td>41091</td>\n",
       "      <td>West</td>\n",
       "      <td>Major Market</td>\n",
       "      <td>Colombian</td>\n",
       "      <td>Beans</td>\n",
       "      <td>Coffee</td>\n",
       "      <td>California</td>\n",
       "      <td>Regular</td>\n",
       "      <td>450</td>\n",
       "      <td>690</td>\n",
       "      <td>530</td>\n",
       "      <td>1140</td>\n",
       "      <td>364</td>\n",
       "      <td>2654</td>\n",
       "      <td>548</td>\n",
       "      <td>127</td>\n",
       "      <td>370</td>\n",
       "      <td>912</td>\n",
       "      <td>178</td>\n",
       "    </tr>\n",
       "    <tr>\n",
       "      <th>1331</th>\n",
       "      <td>845</td>\n",
       "      <td>41122</td>\n",
       "      <td>East</td>\n",
       "      <td>Major Market</td>\n",
       "      <td>Colombian</td>\n",
       "      <td>Beans</td>\n",
       "      <td>Coffee</td>\n",
       "      <td>New York</td>\n",
       "      <td>Regular</td>\n",
       "      <td>340</td>\n",
       "      <td>520</td>\n",
       "      <td>370</td>\n",
       "      <td>860</td>\n",
       "      <td>364</td>\n",
       "      <td>2617</td>\n",
       "      <td>546</td>\n",
       "      <td>127</td>\n",
       "      <td>368</td>\n",
       "      <td>910</td>\n",
       "      <td>178</td>\n",
       "    </tr>\n",
       "    <tr>\n",
       "      <th>1373</th>\n",
       "      <td>650</td>\n",
       "      <td>41122</td>\n",
       "      <td>West</td>\n",
       "      <td>Major Market</td>\n",
       "      <td>Colombian</td>\n",
       "      <td>Beans</td>\n",
       "      <td>Coffee</td>\n",
       "      <td>California</td>\n",
       "      <td>Regular</td>\n",
       "      <td>450</td>\n",
       "      <td>680</td>\n",
       "      <td>520</td>\n",
       "      <td>1130</td>\n",
       "      <td>364</td>\n",
       "      <td>2617</td>\n",
       "      <td>546</td>\n",
       "      <td>127</td>\n",
       "      <td>368</td>\n",
       "      <td>910</td>\n",
       "      <td>178</td>\n",
       "    </tr>\n",
       "    <tr>\n",
       "      <th>1619</th>\n",
       "      <td>641</td>\n",
       "      <td>41183</td>\n",
       "      <td>Central</td>\n",
       "      <td>Small Market</td>\n",
       "      <td>Decaf Irish Cream</td>\n",
       "      <td>Beans</td>\n",
       "      <td>Coffee</td>\n",
       "      <td>Iowa</td>\n",
       "      <td>Decaf</td>\n",
       "      <td>0</td>\n",
       "      <td>10</td>\n",
       "      <td>10</td>\n",
       "      <td>10</td>\n",
       "      <td>10</td>\n",
       "      <td>598</td>\n",
       "      <td>13</td>\n",
       "      <td>3</td>\n",
       "      <td>-2</td>\n",
       "      <td>23</td>\n",
       "      <td>15</td>\n",
       "    </tr>\n",
       "    <tr>\n",
       "      <th>1796</th>\n",
       "      <td>641</td>\n",
       "      <td>41214</td>\n",
       "      <td>Central</td>\n",
       "      <td>Small Market</td>\n",
       "      <td>Decaf Irish Cream</td>\n",
       "      <td>Beans</td>\n",
       "      <td>Coffee</td>\n",
       "      <td>Iowa</td>\n",
       "      <td>Decaf</td>\n",
       "      <td>0</td>\n",
       "      <td>20</td>\n",
       "      <td>10</td>\n",
       "      <td>20</td>\n",
       "      <td>10</td>\n",
       "      <td>596</td>\n",
       "      <td>13</td>\n",
       "      <td>3</td>\n",
       "      <td>-3</td>\n",
       "      <td>23</td>\n",
       "      <td>16</td>\n",
       "    </tr>\n",
       "    <tr>\n",
       "      <th>4215</th>\n",
       "      <td>951</td>\n",
       "      <td>41609</td>\n",
       "      <td>West</td>\n",
       "      <td>Major Market</td>\n",
       "      <td>Decaf Irish Cream</td>\n",
       "      <td>Beans</td>\n",
       "      <td>Coffee</td>\n",
       "      <td>California</td>\n",
       "      <td>Decaf</td>\n",
       "      <td>260</td>\n",
       "      <td>-40</td>\n",
       "      <td>-150</td>\n",
       "      <td>220</td>\n",
       "      <td>224</td>\n",
       "      <td>4216</td>\n",
       "      <td>-32</td>\n",
       "      <td>73</td>\n",
       "      <td>-221</td>\n",
       "      <td>205</td>\n",
       "      <td>117</td>\n",
       "    </tr>\n",
       "  </tbody>\n",
       "</table>\n",
       "</div>"
      ],
      "text/plain": [
       "      Area Code   Date   Market   Market Size            Product Product Line  \\\n",
       "1154        845  41091     East  Major Market          Colombian        Beans   \n",
       "1196        707  41091     West  Major Market          Colombian        Beans   \n",
       "1331        845  41122     East  Major Market          Colombian        Beans   \n",
       "1373        650  41122     West  Major Market          Colombian        Beans   \n",
       "1619        641  41183  Central  Small Market  Decaf Irish Cream        Beans   \n",
       "1796        641  41214  Central  Small Market  Decaf Irish Cream        Beans   \n",
       "4215        951  41609     West  Major Market  Decaf Irish Cream        Beans   \n",
       "\n",
       "     Product Type       State     Type  Budget COGS  Budget Margin  \\\n",
       "1154       Coffee    New York  Regular          340            520   \n",
       "1196       Coffee  California  Regular          450            690   \n",
       "1331       Coffee    New York  Regular          340            520   \n",
       "1373       Coffee  California  Regular          450            680   \n",
       "1619       Coffee        Iowa    Decaf            0             10   \n",
       "1796       Coffee        Iowa    Decaf            0             20   \n",
       "4215       Coffee  California    Decaf          260            -40   \n",
       "\n",
       "      Budget Profit  Budget Sales  COGS  Inventory  Margin  Marketing  Profit  \\\n",
       "1154            370           860   364       2654     548        127     370   \n",
       "1196            530          1140   364       2654     548        127     370   \n",
       "1331            370           860   364       2617     546        127     368   \n",
       "1373            520          1130   364       2617     546        127     368   \n",
       "1619             10            10    10        598      13          3      -2   \n",
       "1796             10            20    10        596      13          3      -3   \n",
       "4215           -150           220   224       4216     -32         73    -221   \n",
       "\n",
       "      Sales  Total Expenses  \n",
       "1154    912             178  \n",
       "1196    912             178  \n",
       "1331    910             178  \n",
       "1373    910             178  \n",
       "1619     23              15  \n",
       "1796     23              16  \n",
       "4215    205             117  "
      ]
     },
     "execution_count": 96,
     "metadata": {},
     "output_type": "execute_result"
    }
   ],
   "source": [
    "spt=c[(c['Sales']==23)|(c['Profit']==-221)|(c['Total Expenses']==178)]\n",
    "spt"
   ]
  },
  {
   "cell_type": "code",
   "execution_count": 97,
   "metadata": {},
   "outputs": [
    {
     "data": {
      "text/html": [
       "<div>\n",
       "<style scoped>\n",
       "    .dataframe tbody tr th:only-of-type {\n",
       "        vertical-align: middle;\n",
       "    }\n",
       "\n",
       "    .dataframe tbody tr th {\n",
       "        vertical-align: top;\n",
       "    }\n",
       "\n",
       "    .dataframe thead th {\n",
       "        text-align: right;\n",
       "    }\n",
       "</style>\n",
       "<table border=\"1\" class=\"dataframe\">\n",
       "  <thead>\n",
       "    <tr style=\"text-align: right;\">\n",
       "      <th></th>\n",
       "      <th>State</th>\n",
       "      <th>Product</th>\n",
       "      <th>Market</th>\n",
       "      <th>Sales</th>\n",
       "      <th>Profit</th>\n",
       "      <th>Total Expenses</th>\n",
       "    </tr>\n",
       "  </thead>\n",
       "  <tbody>\n",
       "    <tr>\n",
       "      <th>1154</th>\n",
       "      <td>New York</td>\n",
       "      <td>Colombian</td>\n",
       "      <td>East</td>\n",
       "      <td>912</td>\n",
       "      <td>370</td>\n",
       "      <td>178</td>\n",
       "    </tr>\n",
       "    <tr>\n",
       "      <th>1196</th>\n",
       "      <td>California</td>\n",
       "      <td>Colombian</td>\n",
       "      <td>West</td>\n",
       "      <td>912</td>\n",
       "      <td>370</td>\n",
       "      <td>178</td>\n",
       "    </tr>\n",
       "    <tr>\n",
       "      <th>1331</th>\n",
       "      <td>New York</td>\n",
       "      <td>Colombian</td>\n",
       "      <td>East</td>\n",
       "      <td>910</td>\n",
       "      <td>368</td>\n",
       "      <td>178</td>\n",
       "    </tr>\n",
       "    <tr>\n",
       "      <th>1373</th>\n",
       "      <td>California</td>\n",
       "      <td>Colombian</td>\n",
       "      <td>West</td>\n",
       "      <td>910</td>\n",
       "      <td>368</td>\n",
       "      <td>178</td>\n",
       "    </tr>\n",
       "    <tr>\n",
       "      <th>1619</th>\n",
       "      <td>Iowa</td>\n",
       "      <td>Decaf Irish Cream</td>\n",
       "      <td>Central</td>\n",
       "      <td>23</td>\n",
       "      <td>-2</td>\n",
       "      <td>15</td>\n",
       "    </tr>\n",
       "    <tr>\n",
       "      <th>1796</th>\n",
       "      <td>Iowa</td>\n",
       "      <td>Decaf Irish Cream</td>\n",
       "      <td>Central</td>\n",
       "      <td>23</td>\n",
       "      <td>-3</td>\n",
       "      <td>16</td>\n",
       "    </tr>\n",
       "    <tr>\n",
       "      <th>4215</th>\n",
       "      <td>California</td>\n",
       "      <td>Decaf Irish Cream</td>\n",
       "      <td>West</td>\n",
       "      <td>205</td>\n",
       "      <td>-221</td>\n",
       "      <td>117</td>\n",
       "    </tr>\n",
       "  </tbody>\n",
       "</table>\n",
       "</div>"
      ],
      "text/plain": [
       "           State            Product   Market  Sales  Profit  Total Expenses\n",
       "1154    New York          Colombian     East    912     370             178\n",
       "1196  California          Colombian     West    912     370             178\n",
       "1331    New York          Colombian     East    910     368             178\n",
       "1373  California          Colombian     West    910     368             178\n",
       "1619        Iowa  Decaf Irish Cream  Central     23      -2              15\n",
       "1796        Iowa  Decaf Irish Cream  Central     23      -3              16\n",
       "4215  California  Decaf Irish Cream     West    205    -221             117"
      ]
     },
     "execution_count": 97,
     "metadata": {},
     "output_type": "execute_result"
    }
   ],
   "source": [
    "spt[['State','Product','Market','Sales','Profit','Total Expenses']]"
   ]
  },
  {
   "cell_type": "code",
   "execution_count": null,
   "metadata": {},
   "outputs": [],
   "source": []
  },
  {
   "cell_type": "markdown",
   "metadata": {},
   "source": [
    "# 22 Comparision Mean, Median, SD, Max, Min, of the Profit and Sales"
   ]
  },
  {
   "cell_type": "code",
   "execution_count": 17,
   "metadata": {},
   "outputs": [
    {
     "data": {
      "text/plain": [
       "count    4248.000000\n",
       "mean       61.097693\n",
       "std       101.708546\n",
       "min      -638.000000\n",
       "25%        17.000000\n",
       "50%        40.000000\n",
       "75%        92.000000\n",
       "max       778.000000\n",
       "Name: Profit, dtype: float64"
      ]
     },
     "execution_count": 17,
     "metadata": {},
     "output_type": "execute_result"
    }
   ],
   "source": [
    "p=df['Profit'].describe()\n",
    "p"
   ]
  },
  {
   "cell_type": "code",
   "execution_count": 18,
   "metadata": {},
   "outputs": [
    {
     "data": {
      "text/plain": [
       "count    4248.000000\n",
       "mean      192.987524\n",
       "std       151.133127\n",
       "min        17.000000\n",
       "25%       100.000000\n",
       "50%       138.000000\n",
       "75%       230.000000\n",
       "max       912.000000\n",
       "Name: Sales, dtype: float64"
      ]
     },
     "execution_count": 18,
     "metadata": {},
     "output_type": "execute_result"
    }
   ],
   "source": [
    "s=df['Sales'].describe()\n",
    "s"
   ]
  },
  {
   "cell_type": "code",
   "execution_count": 33,
   "metadata": {},
   "outputs": [
    {
     "data": {
      "image/png": "[encoded data removed]",
      "text/plain": [
       "<Figure size 720x360 with 1 Axes>"
      ]
     },
     "metadata": {
      "needs_background": "light"
     },
     "output_type": "display_data"
    }
   ],
   "source": [
    "plt.figure(figsize=(10,5))\n",
    "plt.bar(p.index,p,width=0.9,label='Profit',color='red')\n",
    "plt.bar(s.index,s,width=0.5, label='Sales',color='yellow')\n",
    "plt.plot(p.index,p,marker='*',color='red',label='Profit')\n",
    "plt.plot(s.index,s,marker='o',color='black',label='Sales')\n",
    "plt.legend()\n",
    "plt.grid()\n",
    "plt.title('Comparision Mean, Median, SD, Max, Min, of the Profit and Sales')\n",
    "plt.show()"
   ]
  },
  {
   "cell_type": "code",
   "execution_count": null,
   "metadata": {},
   "outputs": [],
   "source": []
  },
  {
   "cell_type": "code",
   "execution_count": null,
   "metadata": {},
   "outputs": [],
   "source": []
  }
 ],
 "metadata": {
  "kernelspec": {
   "display_name": "Python 3",
   "language": "python",
   "name": "python3"
  },
  "language_info": {
   "codemirror_mode": {
    "name": "ipython",
    "version": 3
   },
   "file_extension": ".py",
   "mimetype": "text/x-python",
   "name": "python",
   "nbconvert_exporter": "python",
   "pygments_lexer": "ipython3",
   "version": "3.8.5"
  }
 },
 "nbformat": 4,
 "nbformat_minor": 2
}
