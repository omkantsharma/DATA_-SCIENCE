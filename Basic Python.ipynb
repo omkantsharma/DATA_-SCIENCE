{
 "cells": [
  {
   "cell_type": "markdown",
   "id": "c1e0e017",
   "metadata": {},
   "source": [
    "# Basic Python \n",
    "### 1. Introduction of Python \n",
    "### 2. Variable and data types\n",
    "### 3. Operators\n",
    "### 4. Data types and their in-built functions \n",
    "### 5. Control flow\n",
    "### 6. File handling \n",
    "### 7. Exception handling"
   ]
  },
  {
   "cell_type": "markdown",
   "id": "74ad8552",
   "metadata": {},
   "source": [
    "#### Introduction of Python"
   ]
  },
  {
   "cell_type": "raw",
   "id": "84ea6cd8",
   "metadata": {},
   "source": [
    "Hi Everyone,\n",
    "this is Om Kant Sharma,\n",
    "the topic is Introduction of Python\n",
    "in this you will see - \n",
    "1. What is Python\n",
    "2. History of python \n",
    "3. Feature of python\n",
    "4. Company used python\n",
    "5. why the python is so popular\n",
    "6. application of python\n",
    "7. installation of python\n",
    "8. IDLE\n",
    "9. Scripting Language\n",
    "10. variable declaration\n",
    "11. line indentations\n",
    "12. strogly typed - prevent mixing operator with mismatch data types\n",
    "13. swapping two no. with third variable\n",
    "14. swapping two no, without third variable\n",
    "15. one line swapping \n",
    "16. Comments"
   ]
  },
  {
   "cell_type": "markdown",
   "id": "e2c2ee35",
   "metadata": {},
   "source": [
    "1. \n",
    "###### What is Python ?\n",
    "\n",
    "python is a interpreted , object oriented, high level programming language with dynamic somantic. \n",
    "\n",
    "Interpreded - means python code will executes line by line at runtime. \n",
    "\n",
    "Object oriented - in python we can write a code in bojects and classes, its some techiques here- \n",
    "inheritance, incapsulation, polymorphism.\n",
    "\n",
    "High level programming language - because its code mimic with natural language (english) so easy to write a syntax, easy to learn, easy to remember, short, understandable.\n",
    "\n",
    "dynamic somantic - dynamic somantic means type of the variable is determine only during runtime.\n",
    "-[ int a =10, just write a=10 ]"
   ]
  },
  {
   "cell_type": "markdown",
   "id": "89b70c0c",
   "metadata": {},
   "source": [
    "2.\n",
    "###### History of Python.\n",
    "\n",
    "                              History of Python\n",
    "- Python was introduced by Guido Van Rossum in 1989.\n",
    "- First version of released in 1991.\n",
    "- 1n 1994 Python 1.0 released with new feature which - lambda, map, filter\n",
    "- Python 2.X was released with some other feature like\n",
    "- Comprehensions, garbage collection system\n",
    "- Python 3.X released in 2008\n",
    "- Python 3.10.4         - Release Date: March 24, 2022\n",
    "\n",
    "Why the name Python?\n",
    "It isn't the name of\tdangerous snake python.  Rossum was fan of a comedy series from late  seventies. The name \"Python\" was adopted  from the same series \"Monty Python's Flying  Circus\".\n",
    "\n"
   ]
  },
  {
   "cell_type": "markdown",
   "id": "fcfd14d7",
   "metadata": {},
   "source": [
    "##### FEATURES OF PYTHON\n",
    "\n",
    "Readable: Python is a very readable language.\n",
    "\n",
    "Easy to Learn: Learning python is easy as this is a expressive and high level programming  language, which means it is easy to understand the language and thus easy to learn.\n",
    "\n",
    "Open Source: Python is a open source programming language.\n",
    "Cross platform: Python is available and can run on various operating systems such as Mac,  Windows, Linux, Unix etc. \n",
    "\n",
    "Large standard library: Python comes with a large standard library that has some handy  codes and functions which we can use while writing code in Python.\n",
    "\n",
    "Free: Python is free to download and use. This means you can download it for free and use  it in your application. Python is an example of a FLOSS (Free/Libre Open Source Software),  which means you can freely distribute copies of this software, read its source code and  modify it.\n",
    "\n",
    "Supports exception handling: Python supports exception handling which means we can  write less error prone code and can test various scenarios that can cause an exception later  on.\n",
    "\n",
    "Automatic memory management: Python supports automatic memory management  which means the memory is cleared and freed automatically. You do not have to bother  clearing/cleaning the memory."
   ]
  },
  {
   "cell_type": "raw",
   "id": "591de30b",
   "metadata": {},
   "source": [
    "Application of Python (used for)   -               \n",
    "       \n",
    "            Application                                                                                  Python Libraries   \n",
    "Web Applications  -                                             Django, Flask, Pyramid, Wep2Py\n",
    "Scientific Calculations -                                       SciPy, TensorFlow\n",
    "Data Analysis -                                                    Pandas, NumPy\n",
    "Data Visualization-                                               Matplotlib, Seaborn\n",
    "Machine Learning  -                                            Scikit-Learn, Keras\n",
    "Computer Vision and Image Processing            OpenCV, PyTorch,Scikit-Image\n",
    "Game Development                                            Pygame, Kivy, Panda3D\n",
    "Medicine and Pharmacology                              MedPy, PyGeno\n",
    "Neuroscience and Psychology                           PsychoPy\n",
    "Astronomy                                                          AstroPy, SunPy, SpacePy"
   ]
  },
  {
   "cell_type": "markdown",
   "id": "e46335b2",
   "metadata": {},
   "source": [
    "Why Python is so Popular ? - \n",
    "Simple syntax - mimic natural language, so easy to read and understand\n",
    "Versatile - used many different task like - ML, DS, Web development\n",
    "Beginner friendly - popular for entry level coders\n",
    "Open source - free to use and distribute, even for commercial purposes.\n",
    "archive of modules and libraries - bundles of code that third - party users have created to expend python’s capabilities.\n"
   ]
  },
  {
   "cell_type": "markdown",
   "id": "ca9902b1",
   "metadata": {},
   "source": [
    "Company used python- \n",
    "\n",
    "Google\n",
    "Google is one of the greatest examples of Python web applications that employed this language in its initial days and still uses it due to its comparatively easy maintenance and simple nature, assisting for express deployments in several areas. The company’s usage of Python extends to search engines, and the functioning of artificial intelligence(AI), Machine Learning(ML), and robotics projects.\n",
    "\n",
    "Netflix\n",
    "Netflix is a classic example of a company that chose Python programming, owing to its enormous ecosystem of tools that make their system going. The primary business of the company lies in the subscription of its streaming service.\n",
    "\n",
    "This service supplies online streaming of television programs and films, including those that are produced in-house. Netflix had around 182 million paid subscriptions across the world as marked in April 2020\n",
    "\n",
    "The company has one of the dynamic softwares written in Python to strengthen the safety of the structure, examine data reports, and alerts.\n",
    "\n",
    "Netflix uses Python to support machine learning potential that scrutinizes movies, enhances streaming, and pulls out images to exhibit thumbnails. Python is exercised across the system and the most important applications of this language are:\n",
    "\n",
    "Security: Python is optimized for risk classification, security automation, vulnerability identification, and remediation.\n",
    "Operations: Netflix uses Python libraries such as SciPy, NumPy, to execute the numerical analysis.\n",
    "ML: It uses Python for instructing ML models that are utilized for everything from artwork personalization to recommending algorithms.\n",
    "Want to Build A Custom Web App?\n",
    "\n",
    "Get your idea validated by professionals. Discuss unique features to add. Know the cost of development. Know the timeframe. Let’s start building.\n",
    "\n",
    "\n",
    "Dropbox\n",
    "Dropbox is the home for all your docs, files, photos, and videos. Have you ever given it a thought that an app like Dropbox can escalate from 2000 to 200 million users?\n",
    "\n",
    "The entire tech stack of Dropbox was written in Python, and it started employing Go later on. The company pulled the inventor of Python, Guido van Rossum, from Google where he had been serving for years.\n",
    "\n",
    "After joining as an engineer at Dropbox, he made it feasible to allocate datastores between members of Dropbox community. A lot of the company’s libraries are not open source, so it is difficult to state the level of Dropbox’s dependence on Python.\n",
    "\n",
    "On the other hand, it released an API quoted in Python, and thus, we can believe that a massive amount of server side code is written in Python.\n",
    "\n",
    "Stripe\n",
    "Stripe is a Fintech start-up that facilitates businesses to allow payments over the web. This company is one of the remarkable Python web app examples that build APIs incorporated into mobile and web apps.\n",
    "\n",
    "Stripe makes simpler the means by which online businesses handle their transactions. It provides a range of services into subscription management, invoicing, and fraud prevention for companies.\n",
    "\n",
    "Many Fintech start-ups select Python due to its effectiveness in financial tasks, involved in Fintech products that are allied with calculations and data. The other reason could be that it is the easiest language for financial specialists to study.\n",
    "\n",
    "Reddit\n",
    "Reddit is a collection of social news, web content ranking, and conversation websites. Using Python, Reddit is ranked as the 19th most visited site across the globe, as per Alexa Internet, with approx 55% of its users from the US, 7.4% from the UK, and 5.8% from Canada, as recorded in May 2020.\n",
    "\n",
    "Reddit is immensely inspired by Python and its enormous compilation of libraries by steadily implementing a greatly modified variant of each library adopted.\n",
    "\n",
    "Instagram\n",
    "Instagram is a photo and video-sharing social media or networking platform possessed by Facebook, Inc. It is one of the most renowned companies who use Python language in association with Django and in recent times, it has adopted Python 3.\n",
    "\n",
    "Its ‘Stories’ feature is utilized by approx 500 million active users daily, as reported in January 2019.\n",
    "\n",
    "The prime reason for Instagram to opt for Python is its efficiency, simplicity, and practicality. For any booming company, these specifications are exceptionally important.It is a ‘friendly’ language to engineers, which allows them to focus on vigorous features.\n",
    "\n",
    "Instagram thought of switching to PHP, but after several considerations, they sensed that Python would serve them best. However, they resolved their confusion by adding extra AWS machines, and currently, the dynamics are affirmative.\n",
    "\n",
    "Spotify\n",
    "Spotify is one of the most renowned Python app examples that is used for examining data and backend development. This music streaming and media services provider has 286 million monthly users, including around 130 million paying subscribers, as of April 2020.\n",
    "\n",
    "Spotify exercises Hadoop for their big data and Python package called Luigi that coordinates with Hadoop. Luigi manages how its libraries work and merge error logs to repair bugs speedily. Such a package is utilized with machine learning algorithms that maintain features like Radio, recommendations as well as discovery.\n",
    "\n",
    "Spotify uses Python because it amplifies the speed of the development process and they invest profoundly in the advancement of the language by sponsoring several conferences."
   ]
  },
  {
   "cell_type": "raw",
   "id": "6a1c9684",
   "metadata": {},
   "source": [
    "Scripting language\n",
    "\n",
    "Scripting languages are programming languages that  don't require an explicit compilation step.\n",
    "\n",
    "For example, in the normal case, you have  to compile a C program before you can run it. But in the  normal case, you don't have to compile a JavaScript  program before you run it.\n",
    "Scripted languages are interpreted within another  program (like JavaScript is put within HTML and then  interpreted by the browser, and in  python - jupyter, colab perform this task ).\n",
    "We can embedded python in any language c,c+\n",
    "+,Java,.net,PHP\n",
    "\n"
   ]
  },
  {
   "cell_type": "markdown",
   "id": "53bfbb39",
   "metadata": {},
   "source": [
    "                           INSTALLATION OF PYTHON\n",
    "\n",
    "Anaconda Distribution for python - \n",
    "  - https://www.anaconda.com/products/distribution\n",
    "       Download Anaconda for free :-\n",
    " - Visit the Anaconda downloads page. Go to the following link: Anaconda.com/downloads\n",
    " - Select Windows. Select Windows where the three operating systems are listed.\n",
    " - Download. Download the most recent Python 3 release. ...\n",
    " - Open and run the installer. ...\n",
    " - Open the Anaconda Prompt from the Windows start menu.\n",
    " - Online Platform for python, ( Data Science, Machine Learning )\n",
    " - Google colab notebook   -To start working with Colab you first need to log in to your google account, then go to this link https://colab.research.google.com. \n",
    " - EXAMPLES: Contain a number of Jupyter notebooks of various examples. \n",
    " - RECENT: Jupyter notebook you have recently worked"
   ]
  },
  {
   "cell_type": "code",
   "execution_count": 1,
   "id": "fb3e0c2b",
   "metadata": {},
   "outputs": [],
   "source": [
    "# ![image.png](attachment:image.png)"
   ]
  },
  {
   "cell_type": "markdown",
   "id": "75b01e8b",
   "metadata": {},
   "source": [
    "IDLE    integrated development & Learning environment (IDLE)\n",
    " An  IDLE combines a program editor and a language environment as a convenience to  the programmer. Using IDLE is not a requirement for using Python. There are  many other IDEs that can be used to write Python programs \n",
    "The Python installer for Windows contains the IDLE module by default. IDLE can be used to execute a single statement just like Python Shell and also to create (Ctrl N), modify (Ctrl S with name.py), and execute (F5) Python scripts.\n"
   ]
  },
  {
   "cell_type": "markdown",
   "id": "dd1fd635",
   "metadata": {},
   "source": [
    "\n"
   ]
  },
  {
   "cell_type": "markdown",
   "id": "400a690f",
   "metadata": {},
   "source": [
    "Scripting language\n",
    "\n",
    "Scripting languages are programming languages that  don't require an explicit compilation step.\n",
    "\n",
    "For example, in the normal case, you have  to compile a C program before you can run it. But in the  normal case, you don't have to compile a JavaScript  program before you run it.\n",
    "Scripted languages are interpreted within another  program (like JavaScript is put within HTML and then  interpreted by the browser, and in  python - jupyter, colab perform this task ).\n",
    "We can embedded python in any language c,c+\n",
    "+,Java,.net,PHP\n"
   ]
  },
  {
   "cell_type": "markdown",
   "id": "12b956d1",
   "metadata": {},
   "source": [
    "Variable Declaration\n",
    "Python variables do not need explicit declaration to reserve memory space.\n",
    " The  declaration happens automatically when you assign a value to a variable.\n",
    "The equal sign (=) is used to assign values to variables.\n",
    "counter = 100 # An integer assignment  \n",
    "miles = 1000.0 # A floating point \n",
    " name = \"John\" # A string  \n",
    "print(counter)\n",
    "print (miles)  print (name)\n",
    "\n",
    "Python allows you to assign a single value to several variables  simultaneously. \n",
    " For example:   ( comprehension method )\n",
    "a = b = c = 1\n",
    "a, b, c = 1, 2, \"john\"\n"
   ]
  },
  {
   "cell_type": "markdown",
   "id": "12748a15",
   "metadata": {},
   "source": [
    "Line Indentation\n",
    "Indentation refers to the spaces at the beginning of a codeline.\n",
    "There are no braces to indicate blocks of code for class and function  \n",
    "definitions or flow control. Blocks of code are denoted by line indentation,  which is rigidly enforced.\n"
   ]
  },
  {
   "cell_type": "raw",
   "id": "0021e12c",
   "metadata": {},
   "source": [
    "Strongly typed that prevents  - mixing operator between  mismatched or different  data types \n",
    ">>> 1 + \"1“\n",
    "TypeError: unsupported operand type(s) for +: 'int' and  'str‘\n",
    ">>> 1 + 1\n",
    "2                                \n",
    ">>> \"1\" + \"1“\n",
    "'11‘\n",
    ">>> 1 + int(\"1\")\n",
    "2\n",
    ">>> \"1\" + str(1)\n",
    "'11'\n"
   ]
  },
  {
   "cell_type": "raw",
   "id": "050f0543",
   "metadata": {},
   "source": [
    "          Python Comment  (#   hashtags)\n",
    "\n",
    "\n",
    "COMMENT  lines started  with  a  #  (hashtag) Python will ignore them:\n",
    "\n",
    "Comment Uses\n",
    "\n",
    " -  explain python code\n",
    " -  prevent execution when we are testing code\n"
   ]
  },
  {
   "cell_type": "code",
   "execution_count": 2,
   "id": "d236477e",
   "metadata": {},
   "outputs": [
    {
     "data": {
      "text/plain": [
       "10"
      ]
     },
     "execution_count": 2,
     "metadata": {},
     "output_type": "execute_result"
    }
   ],
   "source": [
    "a = 10    # variable declaration\n",
    "a"
   ]
  },
  {
   "cell_type": "code",
   "execution_count": 3,
   "id": "c9f4452d",
   "metadata": {},
   "outputs": [
    {
     "name": "stdout",
     "output_type": "stream",
     "text": [
      "20\n"
     ]
    },
    {
     "data": {
      "text/plain": [
       "'1010'"
      ]
     },
     "execution_count": 3,
     "metadata": {},
     "output_type": "execute_result"
    }
   ],
   "source": [
    "# Strongly typed - prevent mixing oprator with mismatch datatype\n",
    "#a=10+'10'\n",
    "#a\n",
    "\"\"\"\n",
    "type casting with data types\n",
    " Type casting mean converting the integer into string or string into integer, \n",
    "\"\"\"\n",
    "a=int('10')+10  # casting the string \"10\" to integer 10 with int()\n",
    "print(a)\n",
    "b=str(10)+'10'  # casting the integer 10 into string '10' with  str()\n",
    "b               # \"10\"+'10' - concatenation string ()"
   ]
  },
  {
   "cell_type": "code",
   "execution_count": 4,
   "id": "751c82ef",
   "metadata": {},
   "outputs": [
    {
     "name": "stdout",
     "output_type": "stream",
     "text": [
      "20\n",
      "10\n",
      "a is- 20\n",
      "b is- 10\n"
     ]
    }
   ],
   "source": [
    "# swappting two no. with third variable\n",
    "a=10\n",
    "b=20\n",
    "c=b\n",
    "b=a\n",
    "a=c\n",
    "print(a)\n",
    "print(b)\n",
    "def swappting_with_third_variable(a,b): # assign the parameters\n",
    "    c=b\n",
    "    b=a\n",
    "    a=c\n",
    "    print('a is-',a)\n",
    "    print('b is-',b)                # define the functions\n",
    "swappting_with_third_variable(a=10,b=20)  # calling the function with keyword args"
   ]
  },
  {
   "cell_type": "code",
   "execution_count": 5,
   "id": "7d918cba",
   "metadata": {},
   "outputs": [
    {
     "name": "stdout",
     "output_type": "stream",
     "text": [
      "a is- 40\n",
      "b is- 30\n"
     ]
    }
   ],
   "source": [
    "swappting_with_third_variable(a=30,b=40)"
   ]
  },
  {
   "cell_type": "code",
   "execution_count": 6,
   "id": "266db1ac",
   "metadata": {},
   "outputs": [
    {
     "name": "stdout",
     "output_type": "stream",
     "text": [
      "20 10\n",
      "a is - 40\n",
      "b is - 30\n"
     ]
    }
   ],
   "source": [
    "# swapping_without_third_variable\n",
    "a=10\n",
    "b=20\n",
    "a=a+b\n",
    "b=a-b\n",
    "a=a-b\n",
    "print(a,b)\n",
    "def swapping_without_third_variable(a,b):         # assign the parameter\n",
    "    a=a+b\n",
    "    b=a-b\n",
    "    a=a-b\n",
    "    print('a is -',a)\n",
    "    print('b is -',b)                             # define the functions \n",
    "swapping_without_third_variable(a=30,b=40)        # calling the funcion with keyword arguments"
   ]
  },
  {
   "cell_type": "code",
   "execution_count": 7,
   "id": "1f2a45d2",
   "metadata": {},
   "outputs": [
    {
     "name": "stdout",
     "output_type": "stream",
     "text": [
      "a is - 60\n",
      "b is - 40\n"
     ]
    }
   ],
   "source": [
    "swapping_without_third_variable(a=40, b=60)"
   ]
  },
  {
   "cell_type": "code",
   "execution_count": null,
   "id": "5546f149",
   "metadata": {},
   "outputs": [],
   "source": []
  },
  {
   "cell_type": "code",
   "execution_count": 8,
   "id": "9f49862c",
   "metadata": {},
   "outputs": [
    {
     "name": "stdout",
     "output_type": "stream",
     "text": [
      "a is - 70\n",
      "b is - 60\n"
     ]
    }
   ],
   "source": [
    "# one line swapping \n",
    "a=60\n",
    "b=70\n",
    "a,b=b,a                 \n",
    "print('a is -',a)\n",
    "print('b is -',b)"
   ]
  },
  {
   "cell_type": "markdown",
   "id": "73e881b2",
   "metadata": {},
   "source": [
    "#### variable and data types"
   ]
  },
  {
   "cell_type": "raw",
   "id": "10699e50",
   "metadata": {},
   "source": [
    " Overview\n",
    "1. keywords - reserve word used for special purpose.\n",
    "eg. 35 keywords - if-elif-else, while-for, continue-break-pass, class-def,\n",
    "Keywords- None, True , False are has first letter is capital, Other all in small laters\n",
    "\n",
    "2. variable - temparay storage space like container for datatypes\n",
    "2.1 multiple data type can assign to multiple variables.\n",
    "2.2 single datatype can assign to multiple variables\n",
    "\n",
    "3.variable properties\n",
    "3.1- can not use spacial words, keywords as variable name\n",
    "3.2- can not starts variable name with no. \n",
    "3.3- can not use space in variable name\n",
    "\n",
    "3.4 always use upper - lower alphabets, _ (underscore) , _no \n",
    "3.5 case sansitive\n",
    "\n",
    "4. Datatypes -  classification and categorization of knowledge items. \n",
    "data- something that has information like - image, vedio, text , recording \n",
    "4.1-number - (integer -10, float -10.0, complex - 10+10j\n",
    "4.2-boolean - True, False  -use in decision making \n",
    " Squance type data\n",
    "4.3- string  - hold items in single qoute and double qoutes\n",
    "a = 'hi IBM'\n",
    "a=\"hi IBM\"\n",
    "          \n",
    "5. data structures - store multipele elements in single variable\n",
    "Tuple (1,'IBM',True), list-[1,'IBM',True] , dictionary - { 'key1':'value parirs' , 'key1':'value parirs',1:1,'company':'IBM','Bool':True }\n",
    "set - { 1,'IBM',True}\n",
    " \n",
    " data structure Properites\n",
    "c o i d  -     c - changable, o - ordered, i - indexed, d - duplicate allowed\n",
    "\n",
    "Tuple     =  c - unchangable, o - ordered, i - indexed, d - duplicate allowed\n",
    "\n",
    "List      =  c - changable, o - ordered, i - indexed, d - duplicate allowed\n",
    "\n",
    "according - 3.7 verson \n",
    "\n",
    "Dictionary     =  c - changable, o - ordered, i - indexed, d - duplicate not allowed\n",
    "\n",
    "set    =   c - changable, o - unordered, i - unindexed, d - duplicate not allowed\n",
    "\n",
    "Literal and identifiers\n",
    "a = 10 \n",
    "so here a is identifiers and literals are datatype that is store in the variables\n",
    "\n",
    "Constant variables- \n"
   ]
  },
  {
   "cell_type": "code",
   "execution_count": 9,
   "id": "5cbf3cbe",
   "metadata": {},
   "outputs": [
    {
     "name": "stdout",
     "output_type": "stream",
     "text": [
      "IBM\n",
      "True\n",
      "20\n",
      "1.0\n"
     ]
    }
   ],
   "source": [
    "#2. variable - temparay storage space like container for datatypes\n",
    "#2.1 multiple data type can assign to multiple variables.\n",
    "#2.2 single datatype can assign to multiple variables\n",
    "\n",
    "#2.2 multiple data type can assign to multiple variables.\n",
    "a,b,c,d='IBM',True,20,1.0\n",
    "print(a)\n",
    "print(b)\n",
    "print(c)\n",
    "print(d)"
   ]
  },
  {
   "cell_type": "code",
   "execution_count": 10,
   "id": "3415a9d1",
   "metadata": {},
   "outputs": [
    {
     "name": "stdout",
     "output_type": "stream",
     "text": [
      "(10+10j)\n",
      "(10+10j)\n",
      "(10+10j)\n",
      "(10+10j)\n"
     ]
    }
   ],
   "source": [
    "# 2.2 single datatype can assign to multiple variables\n",
    "a=b=c=d=(10+10j)\n",
    "print(a)\n",
    "print(b)\n",
    "print(c)\n",
    "print(d)"
   ]
  },
  {
   "cell_type": "code",
   "execution_count": 11,
   "id": "3aa5c79a",
   "metadata": {},
   "outputs": [
    {
     "name": "stdout",
     "output_type": "stream",
     "text": [
      "A is- 10\n",
      "a is- 0\n",
      "_ is- 2\n",
      "_8 is- 3\n"
     ]
    }
   ],
   "source": [
    "# 3.variable properties\n",
    "#3.1- can not use spacial words, keywords as variable name\n",
    "#3.2- can not starts variable name with no. \n",
    "#3.3- can not use space in variable name\n",
    "#\n",
    "#3.4 always use upper - lower alphabets, _ (underscore) , _no \n",
    "#3.5 case sansitive\n",
    "\n",
    "# 3.1\n",
    "#%=10\n",
    "#class =20\n",
    "3.2\n",
    "#3=10\n",
    "3.3\n",
    "#a b=20\n",
    "3.4\n",
    "A=10    # Case sensitive \n",
    "a=0      # Case sensitive \n",
    "_=2\n",
    "_8=3\n",
    "print('A is-',A)     # Case sensitive  A,a is different as variables\n",
    "print('a is-',a)    # Case sensitive \n",
    "print('_ is-',_)\n",
    "print('_8 is-',_8)"
   ]
  },
  {
   "cell_type": "code",
   "execution_count": 12,
   "id": "7f20860a",
   "metadata": {},
   "outputs": [
    {
     "name": "stdout",
     "output_type": "stream",
     "text": [
      "integer is- 10\n",
      "float is- 10.1\n",
      "complex is- (10+10j)\n",
      "These are the boolean - True False\n",
      "these are the string - Hi IBM, &%$, 987\n"
     ]
    }
   ],
   "source": [
    "# 4. Datatypes -  classification and categorization of knowledge items. \n",
    "# data- something that has information like - image, vedio, text , recording \n",
    "# 4.1-number - (integer -10, float -10.0, complex - 10+10j\n",
    "# 4.2-boolean - True, False  -use in decision making \n",
    "#  Squance type data\n",
    "# 4.3- string  - hold items in single qoute and double qoutes\n",
    "# a = 'hi IBM'\n",
    "# a=\"hi IBM\"\n",
    "          \n",
    "# number  - int, float, complax\n",
    "integer= 10\n",
    "print('integer is-', integer)\n",
    "float_=10.10\n",
    "print('float is-', float_)\n",
    "complex_=10+10j\n",
    "print('complex is-', complex_)\n",
    "\n",
    "# Boolean -True , False\n",
    "bool_t=True\n",
    "bool_f=False\n",
    "print(\"These are the boolean -\",bool_t,bool_f)\n",
    "\n",
    "# strings - \n",
    "string= \"Hi IBM, &%$, 987\"\n",
    "print(\"these are the string -\",string)"
   ]
  },
  {
   "cell_type": "code",
   "execution_count": 13,
   "id": "0e968321",
   "metadata": {},
   "outputs": [
    {
     "name": "stdout",
     "output_type": "stream",
     "text": [
      "this is tupe - (True, 'IBM', 100)\n",
      "this is list - [True, 'IBM', 100]\n",
      "this is dictionary (key : value pairs) - {'BOOL': True, <class 'str'>: 'IBM', <class 'int'>: 100}\n",
      "this is set {1000, True, 10, (10+1j)}\n"
     ]
    }
   ],
   "source": [
    "#  5. data structures - store multipele elements in single variable\n",
    "# Tuple (1,'IBM',True), list-[1,'IBM',True] ,\n",
    "# dictionary - { 'key1':'value parirs' , 'key1':'value parirs',1:1,'company':'IBM','Bool':True }\n",
    "# set - { 1,'IBM',True}\n",
    "tuple_= (True, \"IBM\", 100)\n",
    "List = [ True, \"IBM\", 100]\n",
    "dic = {'BOOL':True, str:'IBM', int:100}\n",
    "set_ = {10,True,1000,10+1j}\n",
    "print(\"this is tupe -\",tuple_)\n",
    "print ( 'this is list -',List)\n",
    "print(\"this is dictionary (key : value pairs) -\",dic)\n",
    "print('this is set',set_)\n"
   ]
  },
  {
   "cell_type": "code",
   "execution_count": 14,
   "id": "086478bc",
   "metadata": {},
   "outputs": [],
   "source": [
    " # coid - changable , ordered , indexed, duplicate allowed\n",
    "# "
   ]
  },
  {
   "cell_type": "code",
   "execution_count": 15,
   "id": "d091cacb",
   "metadata": {},
   "outputs": [
    {
     "data": {
      "text/plain": [
       "3.14"
      ]
     },
     "execution_count": 15,
     "metadata": {},
     "output_type": "execute_result"
    }
   ],
   "source": [
    "# constant variable\n",
    "import constant\n",
    "constant.PI=3.14\n",
    "PI=constant.PI\n",
    "PI"
   ]
  },
  {
   "cell_type": "raw",
   "id": "ed8e8f63",
   "metadata": {},
   "source": [
    "# Globel variable - create outside of a function,\n",
    "local variable-  define inside the class,\n",
    "class variable and instance variable"
   ]
  },
  {
   "cell_type": "code",
   "execution_count": 16,
   "id": "29070621",
   "metadata": {},
   "outputs": [
    {
     "name": "stdout",
     "output_type": "stream",
     "text": [
      "10 - is a globel variable here. \n"
     ]
    }
   ],
   "source": [
    "# globel variable\n",
    "a=10\n",
    "def aa():\n",
    "    print(a,'- is a globel variable here. ')\n",
    "aa()"
   ]
  },
  {
   "cell_type": "code",
   "execution_count": 17,
   "id": "a03f9462",
   "metadata": {},
   "outputs": [
    {
     "name": "stdout",
     "output_type": "stream",
     "text": [
      "this string stored inside the local variable\n"
     ]
    }
   ],
   "source": [
    "# local variable \n",
    "def a():\n",
    "    a=(\"this string stored inside the local variable\")\n",
    "    print(a)\n",
    "a()"
   ]
  },
  {
   "cell_type": "code",
   "execution_count": 18,
   "id": "bc7fe010",
   "metadata": {},
   "outputs": [
    {
     "name": "stdout",
     "output_type": "stream",
     "text": [
      "10 this string stored in instance variable inside class\n",
      "this string stored in instance variable inside class\n",
      "This string stored in class variable inside class\"s method\n"
     ]
    }
   ],
   "source": [
    "# instance variable \n",
    "class a:\n",
    "    aa=10\n",
    "    instance_variable= ('this string stored in instance variable inside class')\n",
    "    print(aa,instance_variable)\n",
    "    def b(self):\n",
    "        self.instance_variable\n",
    "        class_variable=('This string stored in class variable inside class\"s method')\n",
    "        print(self.instance_variable)\n",
    "        print(class_variable)\n",
    "        \n",
    "obj=a()\n",
    "obj.instance_variable\n",
    "obj.aa\n",
    "obj.b()"
   ]
  },
  {
   "cell_type": "markdown",
   "id": "c1d69664",
   "metadata": {},
   "source": [
    "# Operators\n",
    "1. Arthematic Operator\n",
    "2. Assignment Operator \n",
    "3. Comparision (Relational) Operator\n",
    "4. Logistic Operator\n",
    "5. Bitwise Operator\n",
    "6. Membership Operator\n",
    "7. Identity Operator"
   ]
  },
  {
   "cell_type": "code",
   "execution_count": 19,
   "id": "0b4468b5",
   "metadata": {},
   "outputs": [
    {
     "name": "stdout",
     "output_type": "stream",
     "text": [
      "a+b- 3\n",
      "a-b- -1\n",
      "a*b- 2\n",
      "a%b- 1\n",
      "a//b- 0\n",
      "a**b- 1\n"
     ]
    }
   ],
   "source": [
    "# arthematic operator\n",
    "a = 1\n",
    "b = 2\n",
    "print('a+b-',a+b)\n",
    "print('a-b-',a-b)\n",
    "print('a*b-',a*b)\n",
    "print('a%b-',a%b)\n",
    "print('a//b-',a//b)\n",
    "print('a**b-',a**b)  # here b will become power of a"
   ]
  },
  {
   "cell_type": "code",
   "execution_count": 20,
   "id": "9ab299d2",
   "metadata": {},
   "outputs": [
    {
     "name": "stdout",
     "output_type": "stream",
     "text": [
      "a=true\n",
      "b=false\n",
      "a and b- False\n",
      "b and a- False\n",
      "a or b- True\n",
      "b or a- True\n",
      "not(b or a)- False\n",
      "not(b and a)- True\n"
     ]
    }
   ],
   "source": [
    "#logistic Operator\n",
    "a = True\n",
    "b = False\n",
    "print('a=true')\n",
    "print('b=false')\n",
    "print('a and b-',a and b)\n",
    "print('b and a-',b and a)\n",
    "print('a or b-',a or b)\n",
    "print('b or a-',b or a)\n",
    "print('not(b or a)-',not(b or a))\n",
    "print('not(b and a)-',not(b and a))"
   ]
  },
  {
   "cell_type": "code",
   "execution_count": 21,
   "id": "a223b21b",
   "metadata": {},
   "outputs": [
    {
     "name": "stdout",
     "output_type": "stream",
     "text": [
      "a=1\n",
      "b=2\n",
      "a==b- False\n",
      "b==a- False\n",
      "b!=a- True\n",
      "a<=b- True\n",
      "b<=a- False\n",
      "a>=b- False\n",
      "a>b- False\n",
      "a>b- True\n"
     ]
    }
   ],
   "source": [
    "# comparision Operator , ==,>,<, <=,=>\n",
    "a = 1\n",
    "print('a=1')\n",
    "b =2\n",
    "print('b=2')\n",
    "print('a==b-',a==b)\n",
    "print('b==a-',b==a)\n",
    "print('b!=a-',b!=a)\n",
    "print('a<=b-',a<=b)\n",
    "print('b<=a-',b<=a)\n",
    "print('a>=b-',a>=b)\n",
    "print('a>b-',a>b)\n",
    "print('a>b-',a<b)"
   ]
  },
  {
   "cell_type": "code",
   "execution_count": 22,
   "id": "6f001500",
   "metadata": {},
   "outputs": [
    {
     "name": "stdout",
     "output_type": "stream",
     "text": [
      "a +=1 - 11\n",
      "a -= 4- 7\n",
      "a <<= 4- 112\n",
      "a >>= 5- 3\n",
      "c = True\n",
      "c &= True- True\n",
      "d=False\n",
      "d &= True- False\n"
     ]
    }
   ],
   "source": [
    "# assignment operator = \n",
    "a=10\n",
    "b = 20\n",
    "#print(a+=1)\n",
    "a +=1 \n",
    "print('a +=1 -',a)\n",
    "a -= 4\n",
    "print('a -= 4-',a)\n",
    "a <<= 4\n",
    "print('a <<= 4-',a)\n",
    "a >>= 5\n",
    "print('a >>= 5-',a)\n",
    "c = True\n",
    "print('c = True')\n",
    "c &= True\n",
    "print('c &= True-',c)\n",
    "d = False\n",
    "print('d=False')\n",
    "d &= True\n",
    "print('d &= True-',d)"
   ]
  },
  {
   "cell_type": "code",
   "execution_count": 23,
   "id": "ec61707c",
   "metadata": {},
   "outputs": [
    {
     "name": "stdout",
     "output_type": "stream",
     "text": [
      "    a = 40\n",
      "    b = 14\n",
      "output= 8            \n",
      "0b101000             Binary value of 40\n",
      "  0b1110             Binary value of 14\n",
      "--------------\n",
      "  0b1000           in the case of   & (bitwise and )   Out put is 8\n",
      "===================================================================================\n",
      "===================================================================================\n",
      "    a = 40\n",
      "    b = 14\n",
      "output= 46            \n",
      "0b101000             Binary value of 40\n",
      "  0b1110             Binary value of 14\n",
      "--------------\n",
      "0b101110           in the case of   | (bitwise or )   Out put is 46\n",
      "===================================================================================\n",
      "===================================================================================\n",
      "    a = 40\n",
      "    b = 14\n",
      "output= 38            \n",
      "0b101000             Binary value of 40\n",
      "  0b1110             Binary value of 14\n",
      "--------------\n",
      "0b100110           in the case of   ^ (bitwise XOR)   Out put is 38\n",
      "===================================================================================\n",
      "===================================================================================\n"
     ]
    }
   ],
   "source": [
    "# https://realpython.com/python-bitwise-operators/\n",
    "# Bitwise Operator  - &,|,^,!\n",
    "a = 40\n",
    "b = 14\n",
    "print('    a = 40')\n",
    "print('    b = 14')\n",
    "print('output=',a&b, '           ')\n",
    "print(bin(a), '            Binary value of 40')\n",
    "print(' ',(bin(b)),'            Binary value of 14')\n",
    "print('--------------')\n",
    "print(' ',bin(8),'          in the case of   & (bitwise and )   Out put is 8')\n",
    "\n",
    "print('===================================================================================')\n",
    "print('===================================================================================')\n",
    "\n",
    "print('    a = 40')\n",
    "print('    b = 14')\n",
    "print('output=',a|b, '           ')\n",
    "print(bin(a), '            Binary value of 40')\n",
    "print(' ',(bin(b)),'            Binary value of 14')\n",
    "print('--------------')\n",
    "print(bin(46),'          in the case of   | (bitwise or )   Out put is 46')\n",
    "\n",
    "print('===================================================================================')\n",
    "print('===================================================================================')\n",
    "\n",
    "print('    a = 40')\n",
    "print('    b = 14')\n",
    "print('output=',a^b, '           ')\n",
    "print(bin(a), '            Binary value of 40')\n",
    "print(' ',(bin(b)),'            Binary value of 14')\n",
    "print('--------------')\n",
    "print(bin(38),'          in the case of   ^ (bitwise XOR)   Out put is 38')\n",
    "\n",
    "print('===================================================================================')\n",
    "print('===================================================================================')\n"
   ]
  },
  {
   "cell_type": "code",
   "execution_count": 24,
   "id": "0737d7ca",
   "metadata": {},
   "outputs": [
    {
     "name": "stdout",
     "output_type": "stream",
     "text": [
      "    a = 40\n",
      "    b = 14\n",
      "output= -15            \n",
      "output= -41            \n",
      "0b101000             Binary value of 40\n",
      "  0b1110             Binary value of 14\n",
      "--------------\n",
      "  -0b101001           in the case of   ~ (bitwise not)   Out put is ~a\n",
      "  -0b101001           in the case of   ~ (bitwise not)   Out put is -41\n",
      "  -0b1111           in the case of   ~ (bitwise not)   Out put is ~b\n",
      "  -0b1111           in the case of   ~ (bitwise not)   Out put is -15\n"
     ]
    }
   ],
   "source": [
    "a = 40\n",
    "b = 14\n",
    "print('    a = 40')\n",
    "print('    b = 14')\n",
    "print('output=',(~b), '           ')\n",
    "print('output=',(~a), '           ')\n",
    "\n",
    "print(bin(a), '            Binary value of 40')\n",
    "print(' ',(bin(b)),'            Binary value of 14')\n",
    "print('--------------')\n",
    "print(' ',bin(~a),'          in the case of   ~ (bitwise not)   Out put is ~a')\n",
    "print(' ',bin(-41),'          in the case of   ~ (bitwise not)   Out put is -41')\n",
    "print(' ',bin(~b),'          in the case of   ~ (bitwise not)   Out put is ~b')\n",
    "print(' ',bin(-15),'          in the case of   ~ (bitwise not)   Out put is -15')\n",
    "\n"
   ]
  },
  {
   "cell_type": "code",
   "execution_count": 25,
   "id": "6663d178",
   "metadata": {},
   "outputs": [
    {
     "name": "stdout",
     "output_type": "stream",
     "text": [
      "0b1010\n",
      "0b1010\n",
      "5\n",
      "0b101\n"
     ]
    }
   ],
   "source": [
    "a = 10 \n",
    "print(bin(10))\n",
    "print(bin(a))\n",
    "print(a >> 1)\n",
    "print(bin(5))"
   ]
  },
  {
   "cell_type": "code",
   "execution_count": 26,
   "id": "dc92d16c",
   "metadata": {},
   "outputs": [
    {
     "name": "stdout",
     "output_type": "stream",
     "text": [
      "-0b1100100\n",
      "-0b1100100\n",
      "-50\n",
      "-0b110010\n"
     ]
    }
   ],
   "source": [
    "a = -100 \n",
    "print(bin(-100))\n",
    "print(bin(a))\n",
    "print(a >> 1)\n",
    "print(bin(-50))"
   ]
  },
  {
   "cell_type": "code",
   "execution_count": 27,
   "id": "2b193e86",
   "metadata": {},
   "outputs": [
    {
     "name": "stdout",
     "output_type": "stream",
     "text": [
      "0b1010\n",
      "0b1010\n",
      "20\n",
      "0b10100\n"
     ]
    }
   ],
   "source": [
    "a = 10 \n",
    "print(bin(10))\n",
    "print(bin(a))\n",
    "print(a << 1)\n",
    "print(bin(20))"
   ]
  },
  {
   "cell_type": "code",
   "execution_count": 28,
   "id": "9bcd4cd6",
   "metadata": {},
   "outputs": [
    {
     "name": "stdout",
     "output_type": "stream",
     "text": [
      "-0b1100100\n",
      "-0b1100100\n",
      "-200\n",
      "-0b11001000\n"
     ]
    }
   ],
   "source": [
    "# https://realpython.com/python-bitwise-operators/\n",
    "a = -100 \n",
    "print(bin(-100))\n",
    "print(bin(a))\n",
    "print(a << 1)\n",
    "print(bin(-200))"
   ]
  },
  {
   "cell_type": "code",
   "execution_count": 29,
   "id": "6ee6780a",
   "metadata": {},
   "outputs": [
    {
     "name": "stdout",
     "output_type": "stream",
     "text": [
      "True\n",
      "False\n"
     ]
    }
   ],
   "source": [
    "# membership Operator - in, not in\n",
    "a = 20,30\n",
    "print(20 in a)\n",
    "print(30 not in a)"
   ]
  },
  {
   "cell_type": "code",
   "execution_count": 30,
   "id": "917b6699",
   "metadata": {},
   "outputs": [
    {
     "data": {
      "text/plain": [
       "(False, True)"
      ]
     },
     "execution_count": 30,
     "metadata": {},
     "output_type": "execute_result"
    }
   ],
   "source": [
    "# Membership Operator\n",
    "a = 10,20,30,40\n",
    "b = 11,22,33,44\n",
    "c = 10,20,30,40\n",
    "print('(10 in a),(10 not in a)   =',(10 in a),(10 not in a))\n",
    "print('(10 in a),(10 not in a)   =',(11 in b),(33 not in b))\n",
    "print('(10 in a),(10 not in a)   =',(50 in a),(50 not in a))\n",
    "print('(10 in a),(10 not in a)   =',(55 in b),(55 not in b))"
   ]
  },
  {
   "cell_type": "markdown",
   "id": "72dbddc6",
   "metadata": {},
   "source": [
    "- https://byjus.com/gate/difference-between-equality-and-identity-operator-in-python/"
   ]
  },
  {
   "cell_type": "code",
   "execution_count": null,
   "id": "376a3918",
   "metadata": {},
   "outputs": [],
   "source": [
    "# Identity Operator ( defference in identity and comparision    == , !=   )\n",
    "a = 10,20,30,40\n",
    "b = 11,22,33,44\n",
    "c = 10,20,30,40\n",
    "print('(c is a),(c is not a)  =',(c is a),(c is not a))\n",
    "print('(c == a),(c != a)      =',(c == a),(c != a))\n",
    "print('(a is a),(a is not a)  =',(a is a),(a is not a))\n",
    "print('(b is b),(b is not b)  =',(b is b),(b is not b))"
   ]
  },
  {
   "cell_type": "markdown",
   "id": "fc06edc7",
   "metadata": {},
   "source": [
    "## Datatypes and those Built in Functions"
   ]
  },
  {
   "cell_type": "markdown",
   "id": "fb72ddc0",
   "metadata": {},
   "source": [
    "#### string data type and its functions"
   ]
  },
  {
   "cell_type": "code",
   "execution_count": 31,
   "id": "01d0eecc",
   "metadata": {},
   "outputs": [],
   "source": [
    "# string delimited in single and duble qoutes"
   ]
  },
  {
   "cell_type": "code",
   "execution_count": 32,
   "id": "7a00016e",
   "metadata": {},
   "outputs": [
    {
     "name": "stdout",
     "output_type": "stream",
     "text": [
      "hi \"IBM\"\n",
      "hi \"ibm\n"
     ]
    }
   ],
   "source": [
    "# display the qoutes inside the strings \n",
    "a= 'hi \"IBM\"'\n",
    "print(a)\n",
    "a= \"hi \\\"ibm\"\n",
    "print(a)"
   ]
  },
  {
   "cell_type": "code",
   "execution_count": 33,
   "id": "1d070864",
   "metadata": {},
   "outputs": [
    {
     "name": "stdout",
     "output_type": "stream",
     "text": [
      "hi \"ibm\n",
      "7\n",
      "<class 'str'>\n"
     ]
    }
   ],
   "source": [
    "# len(), type(), \n",
    "print(a)\n",
    "print(len(a))\n",
    "print(type(a))"
   ]
  },
  {
   "cell_type": "code",
   "execution_count": 34,
   "id": "6432223d",
   "metadata": {},
   "outputs": [
    {
     "name": "stdout",
     "output_type": "stream",
     "text": [
      "   Hello  \"students\n",
      "Hello  \"students   \n",
      "Hello  \"students\n"
     ]
    }
   ],
   "source": [
    "# 3 v.strip()  - remove the white space\n",
    "s=('   Hello  \\\"students   ')\n",
    "print(s.rstrip()) # remove right side white space\n",
    "print(s.lstrip()) # remove left side white space\n",
    "print(s.strip())  # remove both side white space(character)"
   ]
  },
  {
   "cell_type": "code",
   "execution_count": 35,
   "id": "da2e86ba",
   "metadata": {},
   "outputs": [
    {
     "name": "stdout",
     "output_type": "stream",
     "text": [
      "hello  \n",
      " students\n"
     ]
    }
   ],
   "source": [
    "# 4. New line - \n",
    "s = ('hello  \\n students')\n",
    "print(s)"
   ]
  },
  {
   "cell_type": "code",
   "execution_count": 36,
   "id": "80db19c2",
   "metadata": {},
   "outputs": [
    {
     "name": "stdout",
     "output_type": "stream",
     "text": [
      "True\n",
      "False\n"
     ]
    }
   ],
   "source": [
    "# 5. comparing strigs (==)\n",
    "a=\"hi\"\n",
    "b='hi'\n",
    "c='Hi'\n",
    "print(a==b)\n",
    "print(b==c)"
   ]
  },
  {
   "cell_type": "code",
   "execution_count": 37,
   "id": "d813c488",
   "metadata": {},
   "outputs": [
    {
     "name": "stdout",
     "output_type": "stream",
     "text": [
      " ibm ibm ibm\n"
     ]
    }
   ],
   "source": [
    "# 6 Repeating string  - *oprator \n",
    "a= ' ibm'\n",
    "print(a*3)"
   ]
  },
  {
   "cell_type": "code",
   "execution_count": 38,
   "id": "cd25923b",
   "metadata": {},
   "outputs": [
    {
     "data": {
      "text/plain": [
       "(['hi', ' hello', ' hru'], ['', 'i, ', 'ello, ', 'ru'])"
      ]
     },
     "execution_count": 38,
     "metadata": {},
     "output_type": "execute_result"
    }
   ],
   "source": [
    "# 7.split strings - v.split(',')\n",
    "a= ('hi, hello, hru')\n",
    "k=a.split(\",\")\n",
    "l=a.split('h')\n",
    "k,l"
   ]
  },
  {
   "cell_type": "code",
   "execution_count": 39,
   "id": "637a340a",
   "metadata": {},
   "outputs": [
    {
     "name": "stdout",
     "output_type": "stream",
     "text": [
      "welcome ibm\n",
      "welcome google\n"
     ]
    }
   ],
   "source": [
    "# 8.replacing strings - v.replace('e','e')\n",
    "a = ('welcome ibm')\n",
    "print(a)\n",
    "b=a.replace('ibm','google')\n",
    "print(b)"
   ]
  },
  {
   "cell_type": "code",
   "execution_count": 40,
   "id": "0ede8e9a",
   "metadata": {},
   "outputs": [
    {
     "name": "stdout",
     "output_type": "stream",
     "text": [
      "w__e__l__c__o__m__e__ __i__b__m\n",
      "w,e,l,c,o,m,e, ,i,b,m\n"
     ]
    }
   ],
   "source": [
    "# 9.joining string - v1= '__'.join(v)\n",
    "a='welcome ibm'\n",
    "b='__'.join(a)\n",
    "print(b)\n",
    "c=\",\".join(a)\n",
    "print(c)"
   ]
  },
  {
   "cell_type": "code",
   "execution_count": 41,
   "id": "b608f58d",
   "metadata": {},
   "outputs": [
    {
     "name": "stdout",
     "output_type": "stream",
     "text": [
      "Hi students\n",
      "hi students\n",
      "HI STUDENTS\n",
      "hI STUDENTS\n",
      "Hi Students\n"
     ]
    }
   ],
   "source": [
    "# 10 v.upper(),v.lower(), v.tittle(), v.swapcase()\n",
    "a= ('Hi students')\n",
    "print(a)\n",
    "b=a.lower()\n",
    "print(b)\n",
    "c=a.upper()\n",
    "print(c)\n",
    "d=a.swapcase()\n",
    "print(d)\n",
    "e=a.title()\n",
    "print(e)\n",
    "\n",
    "\n"
   ]
  },
  {
   "cell_type": "code",
   "execution_count": 42,
   "id": "0ccf4378",
   "metadata": {},
   "outputs": [
    {
     "data": {
      "text/plain": [
       "'hello students'"
      ]
     },
     "execution_count": 42,
     "metadata": {},
     "output_type": "execute_result"
    }
   ],
   "source": [
    "# 11. string concatenation (link, clinch)\n",
    "a= \"hello \" + \"students\"\n",
    "a"
   ]
  },
  {
   "cell_type": "code",
   "execution_count": 43,
   "id": "40af48f6",
   "metadata": {},
   "outputs": [
    {
     "name": "stdout",
     "output_type": "stream",
     "text": [
      "16\n",
      "ello students \n",
      " hello s\n"
     ]
    }
   ],
   "source": [
    "# slicing \n",
    "a= ( ' hello students ')  # extract elements\n",
    "print(len(a))\n",
    "print(a[2:])\n",
    "print(a[:8])"
   ]
  },
  {
   "cell_type": "code",
   "execution_count": 44,
   "id": "3ca4364c",
   "metadata": {},
   "outputs": [
    {
     "name": "stdout",
     "output_type": "stream",
     "text": [
      " hello students \n"
     ]
    },
    {
     "data": {
      "text/plain": [
       "' stneduts olleh '"
      ]
     },
     "execution_count": 44,
     "metadata": {},
     "output_type": "execute_result"
    }
   ],
   "source": [
    "# 12 reverse slicing \n",
    "print(a)\n",
    "a[::-1]"
   ]
  },
  {
   "cell_type": "code",
   "execution_count": 45,
   "id": "7db774da",
   "metadata": {},
   "outputs": [
    {
     "name": "stdout",
     "output_type": "stream",
     "text": [
      " hello students \n",
      "False\n",
      "True\n",
      "7\n",
      "14\n",
      "2\n"
     ]
    }
   ],
   "source": [
    "# 13 v.endswith('el'), v.find('el') - find index, v.rfind('el')- sec same ele index, a.count('e')- fre\n",
    "print(a)\n",
    "print(a.startswith('he'))\n",
    "print(a.endswith('nts '))\n",
    "print(a.find('s'))\n",
    "print(a.rfind(\"s\"))\n",
    "print(a.count('e'))"
   ]
  },
  {
   "cell_type": "markdown",
   "id": "75ab4484",
   "metadata": {},
   "source": [
    "## Tuple \n",
    "- store multiple elements in () and separated by ,  in single variable. "
   ]
  },
  {
   "cell_type": "code",
   "execution_count": null,
   "id": "b52d2e5d",
   "metadata": {},
   "outputs": [],
   "source": []
  },
  {
   "cell_type": "code",
   "execution_count": 46,
   "id": "dcecebe1",
   "metadata": {},
   "outputs": [
    {
     "name": "stdout",
     "output_type": "stream",
     "text": [
      "('IBM', True, (10+10j))\n"
     ]
    }
   ],
   "source": [
    "t= ('IBM',True, 10+10j)\n",
    "print(t)"
   ]
  },
  {
   "cell_type": "code",
   "execution_count": 47,
   "id": "c6d6dcad",
   "metadata": {},
   "outputs": [],
   "source": [
    "t1=(0,1,2,3,4,5,6,7,8)\n",
    "t2=(10,20,30)"
   ]
  },
  {
   "cell_type": "code",
   "execution_count": 48,
   "id": "27a2c5b4",
   "metadata": {},
   "outputs": [
    {
     "name": "stdout",
     "output_type": "stream",
     "text": [
      "<class 'tuple'>\n",
      "9\n",
      "8\n",
      "0\n",
      "36\n"
     ]
    }
   ],
   "source": [
    "# 1.max(),min(), type(), len(), sam()\n",
    "print(type(t1))\n",
    "print(len(t1))\n",
    "print(max(t1))\n",
    "print(min(t1))\n",
    "print(sum(t1))"
   ]
  },
  {
   "cell_type": "code",
   "execution_count": 49,
   "id": "55e8cbfb",
   "metadata": {},
   "outputs": [
    {
     "name": "stdout",
     "output_type": "stream",
     "text": [
      "(2, 3, 4, 5, 6, 7, 8)\n",
      "(2, 3)\n",
      "(0, 1, 2, 3, 4, 5, 6)\n",
      "(8, 7, 6, 5, 4, 3, 2, 1, 0)\n"
     ]
    }
   ],
   "source": [
    "# 2. Slicing \n",
    "print(t1[2:])\n",
    "print(t1[2:4])\n",
    "print(t1[:7])\n",
    "# reverse slicing \n",
    "print(t1[::-1])"
   ]
  },
  {
   "cell_type": "code",
   "execution_count": 50,
   "id": "9f464df8",
   "metadata": {},
   "outputs": [
    {
     "name": "stdout",
     "output_type": "stream",
     "text": [
      "True\n",
      "False\n",
      "False\n",
      "True\n"
     ]
    }
   ],
   "source": [
    "# 3.element in or not in \n",
    "print(8 in t1)\n",
    "print(10 in t1)\n",
    "print(8 not in t1)\n",
    "print(10 not in t1)"
   ]
  },
  {
   "cell_type": "code",
   "execution_count": 51,
   "id": "bc74f3d0",
   "metadata": {},
   "outputs": [
    {
     "name": "stdout",
     "output_type": "stream",
     "text": [
      "(0, 1, 2, 3, 4, 5, 6, 7, 8)\n",
      "(10, 20, 30)\n",
      "(0, 1, 2, 3, 4, 5, 6, 7, 8) (10, 20, 30)\n"
     ]
    },
    {
     "data": {
      "text/plain": [
       "(0, 1, 2, 3, 4, 5, 6, 7, 8, 10, 20, 30)"
      ]
     },
     "execution_count": 51,
     "metadata": {},
     "output_type": "execute_result"
    }
   ],
   "source": [
    "# 4. tuple concatenation \n",
    "print(t1)\n",
    "print(t2)\n",
    "print(t1,t2)\n",
    "ct= t1+t2\n",
    "ct"
   ]
  },
  {
   "cell_type": "code",
   "execution_count": 52,
   "id": "b91746ba",
   "metadata": {},
   "outputs": [
    {
     "name": "stdout",
     "output_type": "stream",
     "text": [
      "('IBM', True, (10+10j))\n",
      "('IBM', True, (10+10j), 'IBM', True, (10+10j), 'IBM', True, (10+10j), 'IBM', True, (10+10j))\n"
     ]
    }
   ],
   "source": [
    "# 5. repeate tupe\n",
    "print(t)\n",
    "print(t*4)"
   ]
  },
  {
   "cell_type": "code",
   "execution_count": 53,
   "id": "d58c4532",
   "metadata": {},
   "outputs": [
    {
     "name": "stdout",
     "output_type": "stream",
     "text": [
      "('IBM', True, (10+10j))\n",
      "<class 'tuple'>\n",
      "['IBM', True, (10+10j)]\n",
      "<class 'list'>\n",
      "{(10+10j), True, 'IBM'}\n",
      "<class 'set'>\n"
     ]
    }
   ],
   "source": [
    "# 6. convet tupe into list and set\n",
    "print(t)\n",
    "print(type(t))\n",
    "l=list(t)\n",
    "print(l)\n",
    "print(type(l))\n",
    "s=set(t)\n",
    "print(s)\n",
    "print(type(s))"
   ]
  },
  {
   "cell_type": "markdown",
   "id": "f2a55f1a",
   "metadata": {},
   "source": [
    "# List  \n",
    "- its function and in-built function\n",
    "- list - store multiple item in [] separated by , in single variable"
   ]
  },
  {
   "cell_type": "raw",
   "id": "67ee9505",
   "metadata": {},
   "source": [
    "LIST\"S  IN - BUILT FUNCTION\n",
    "'''\n",
    "- indexing v[index_no.], \n",
    "- slicing  v[index_no.(strat):index_no.(end):(index_no.)step] ,\n",
    "- repeating (*), concatination-  v+v\n",
    "--------------------------------------------------------------------------------\n",
    "- basic func  are - type(v), lan(v)\n",
    "     if list is num (max(), min(), sum()\n",
    "--------------------------------------------------------------------------\n",
    "- v.append('e'), v.clear(), v.copy()\n",
    "- v.count('e'), v.extend(v2), v.index('e')\n",
    "- v.insert(index_no.,'e'), v.pop('index_no.'), v.remove('e')\n",
    "---------------------------------------------------------------------------------\n",
    "- v.reverse(), v.sort()\n",
    "'''"
   ]
  },
  {
   "cell_type": "code",
   "execution_count": 54,
   "id": "4c88d270",
   "metadata": {},
   "outputs": [],
   "source": [
    "l= ['IBM', True, 10+10j]\n",
    "l1=[0,1,2,3,4,5,6,7,8]\n",
    "l2=[10,20,30,40]"
   ]
  },
  {
   "cell_type": "code",
   "execution_count": 55,
   "id": "9def773f",
   "metadata": {},
   "outputs": [
    {
     "data": {
      "text/plain": [
       "20"
      ]
     },
     "execution_count": 55,
     "metadata": {},
     "output_type": "execute_result"
    }
   ],
   "source": [
    "l2[1]  indexing"
   ]
  },
  {
   "cell_type": "code",
   "execution_count": 56,
   "id": "fef24ff1",
   "metadata": {},
   "outputs": [
    {
     "name": "stdout",
     "output_type": "stream",
     "text": [
      "9\n",
      "<class 'list'>\n",
      "8\n",
      "0\n",
      "36\n"
     ]
    }
   ],
   "source": [
    "# 1.  basic functions - len(), max(), min(), type(), sum()\n",
    "print(len(l1))\n",
    "print(type(l1))\n",
    "print(max(l1))\n",
    "print(min(l1))\n",
    "print(sum(l1))"
   ]
  },
  {
   "cell_type": "code",
   "execution_count": 57,
   "id": "ed92a751",
   "metadata": {},
   "outputs": [
    {
     "name": "stdout",
     "output_type": "stream",
     "text": [
      "9\n",
      "9\n",
      "[20, 33, 44, 55, 67, 75, 87, 99]\n",
      "[55, 67, 75, 87, 99, 13]\n",
      "[44, 55, 67, 75, 87]\n",
      "[33, 55, 75, 99]\n",
      "# reverse slicing \n",
      "[13, 99, 87, 75, 67, 55, 44, 33, 20]\n",
      "[20, 33, 44, 55, 67, 75, 87, 99, 13]\n"
     ]
    }
   ],
   "source": [
    "#2. slicing \n",
    "l1=[20,33,44,55,67,75,87,99,13]\n",
    "l3=[0,0.1,2,0.3,4,0.5,6,0.7,0.8]\n",
    "print(len(l1))\n",
    "print(len(l1))\n",
    "print(l1[:8])\n",
    "print(l1[3:])\n",
    "print(l1[2:7])\n",
    "print(l1[1:9:2])\n",
    "print('# reverse slicing ')\n",
    "print(l1[::-1])\n",
    "print(l1[0::])"
   ]
  },
  {
   "cell_type": "code",
   "execution_count": 58,
   "id": "c9aa6f0f",
   "metadata": {},
   "outputs": [
    {
     "name": "stdout",
     "output_type": "stream",
     "text": [
      "[20, 33, 44, 55, 67, 75, 87, 99, 13]\n",
      "[10, 20, 30, 40]\n",
      "[20, 33, 44, 55, 67, 75, 87, 99, 13, 10, 20, 30, 40]\n"
     ]
    }
   ],
   "source": [
    "#3. list concatenaion\n",
    "print(l1)\n",
    "print(l2)\n",
    "l1l2=l1+l2\n",
    "print(l1l2)"
   ]
  },
  {
   "cell_type": "code",
   "execution_count": 59,
   "id": "49abbf50",
   "metadata": {},
   "outputs": [
    {
     "data": {
      "text/plain": [
       "['IBM', True, (10+10j), 'IBM', True, (10+10j), 'IBM', True, (10+10j)]"
      ]
     },
     "execution_count": 59,
     "metadata": {},
     "output_type": "execute_result"
    }
   ],
   "source": [
    "# 4. Repeating list\n",
    "l*3"
   ]
  },
  {
   "cell_type": "code",
   "execution_count": 60,
   "id": "de137dae",
   "metadata": {},
   "outputs": [
    {
     "name": "stdout",
     "output_type": "stream",
     "text": [
      "['IBM', True, (10+10j)]\n",
      "['IBM', True, (10+10j), 200]\n"
     ]
    }
   ],
   "source": [
    "# 5. v.append('e')\n",
    "print(l)\n",
    "l.append(200)\n",
    "print(l)"
   ]
  },
  {
   "cell_type": "code",
   "execution_count": 61,
   "id": "021a315e",
   "metadata": {},
   "outputs": [
    {
     "name": "stdout",
     "output_type": "stream",
     "text": [
      "['IBM', True, (10+10j), 200]\n",
      "[]\n"
     ]
    }
   ],
   "source": [
    "# 6. v.clear('')\n",
    "cl=l\n",
    "print(cl)\n",
    "cl.clear()\n",
    "print(cl)"
   ]
  },
  {
   "cell_type": "code",
   "execution_count": 62,
   "id": "7728d243",
   "metadata": {},
   "outputs": [
    {
     "data": {
      "text/plain": [
       "['IBM', True, 200]"
      ]
     },
     "execution_count": 62,
     "metadata": {},
     "output_type": "execute_result"
    }
   ],
   "source": [
    "# 7. copy()\n",
    "#fprint(l)\n",
    "l=['IBM',True,200]\n",
    "#print(l)\n",
    "copyl=l.copy()\n",
    "copyl"
   ]
  },
  {
   "cell_type": "code",
   "execution_count": 63,
   "id": "a96e4644",
   "metadata": {},
   "outputs": [
    {
     "name": "stdout",
     "output_type": "stream",
     "text": [
      "['IBM', True, 200]\n"
     ]
    },
    {
     "data": {
      "text/plain": [
       "1"
      ]
     },
     "execution_count": 63,
     "metadata": {},
     "output_type": "execute_result"
    }
   ],
   "source": [
    "print(l)\n",
    "al=l.append('200')\n",
    "# count() -  v.count(e)\n",
    "l.count(4)\n",
    "l.count('200')"
   ]
  },
  {
   "cell_type": "code",
   "execution_count": 64,
   "id": "41409c8a",
   "metadata": {},
   "outputs": [
    {
     "name": "stdout",
     "output_type": "stream",
     "text": [
      "['IBM', True, 200, '200', 20, 33, 44, 55, 67, 75, 87, 99, 13]\n"
     ]
    }
   ],
   "source": [
    "# extend() - v0.extend(v1)\n",
    "l.extend(l1)\n",
    "print(l)"
   ]
  },
  {
   "cell_type": "code",
   "execution_count": 65,
   "id": "4315fb61",
   "metadata": {},
   "outputs": [
    {
     "name": "stdout",
     "output_type": "stream",
     "text": [
      "[20, 33, 44, 55, 67, 75, 87, 99, 13]\n"
     ]
    },
    {
     "data": {
      "text/plain": [
       "3"
      ]
     },
     "execution_count": 65,
     "metadata": {},
     "output_type": "execute_result"
    }
   ],
   "source": [
    "# index() - v.index(e)\n",
    "print(l1)\n",
    "l1.index(55)"
   ]
  },
  {
   "cell_type": "code",
   "execution_count": 66,
   "id": "8ad3435c",
   "metadata": {},
   "outputs": [
    {
     "name": "stdout",
     "output_type": "stream",
     "text": [
      "[20, 33, 44, 55, 67, 75, 87, 99, 13]\n",
      "[10, 20, 30, 40]\n"
     ]
    },
    {
     "data": {
      "text/plain": [
       "[0, 0.1, 2, 0.3, 20, 4, 0.5, 6, 0.7, 0.8]"
      ]
     },
     "execution_count": 66,
     "metadata": {},
     "output_type": "execute_result"
    }
   ],
   "source": [
    "# insert() - v.insert(index no., item)\n",
    "print(l1)\n",
    "print(l2)\n",
    "l3.insert(4,20)\n",
    "l3"
   ]
  },
  {
   "cell_type": "code",
   "execution_count": 67,
   "id": "e6c87d77",
   "metadata": {},
   "outputs": [
    {
     "name": "stdout",
     "output_type": "stream",
     "text": [
      "['IBM', True, 200, '200', 20, 33, 44, 55, 67, 75, 87, 99, 13]\n"
     ]
    },
    {
     "data": {
      "text/plain": [
       "'200'"
      ]
     },
     "execution_count": 67,
     "metadata": {},
     "output_type": "execute_result"
    }
   ],
   "source": [
    "# pop() - v.pop(index no.)\n",
    "print(l)\n",
    "l.pop(3)   "
   ]
  },
  {
   "cell_type": "code",
   "execution_count": 68,
   "id": "2bfa8aab",
   "metadata": {},
   "outputs": [
    {
     "name": "stdout",
     "output_type": "stream",
     "text": [
      "[True, 200, 20, 33, 44, 55, 67, 75, 87, 99, 13]\n"
     ]
    }
   ],
   "source": [
    "# remove() - v.remove(value)\n",
    "l.remove('IBM')\n",
    "print(l)"
   ]
  },
  {
   "cell_type": "code",
   "execution_count": null,
   "id": "911a9233",
   "metadata": {},
   "outputs": [],
   "source": []
  },
  {
   "cell_type": "code",
   "execution_count": 69,
   "id": "b8701e33",
   "metadata": {},
   "outputs": [
    {
     "name": "stdout",
     "output_type": "stream",
     "text": [
      "[True, 200, 20, 33, 44, 55, 67, 75, 87, 99, 13]\n"
     ]
    }
   ],
   "source": [
    "# reverse() - v.reverse()\n",
    "print(l)\n",
    "l.reverse()"
   ]
  },
  {
   "cell_type": "code",
   "execution_count": 70,
   "id": "d2318225",
   "metadata": {},
   "outputs": [
    {
     "name": "stdout",
     "output_type": "stream",
     "text": [
      "[True, 13, 20, 33, 44, 55, 67, 75, 87, 99, 200]\n"
     ]
    }
   ],
   "source": [
    "# v.sort()\n",
    "l.sort()\n",
    "print(l)"
   ]
  },
  {
   "cell_type": "markdown",
   "id": "2a60da7e",
   "metadata": {},
   "source": [
    "### Dictionary - \n",
    "- store multiple item in {} as key:value pairs and separated by , in single variable\n"
   ]
  },
  {
   "cell_type": "code",
   "execution_count": 71,
   "id": "7531c98c",
   "metadata": {},
   "outputs": [
    {
     "name": "stdout",
     "output_type": "stream",
     "text": [
      "{<class 'int'>: 10, <class 'bool'>: True, <class 'complex'>: (10+10j), <class 'str'>: 'IBM'}\n",
      "{10: 10, 20: 20, 30: 30, 9: 9}\n"
     ]
    }
   ],
   "source": [
    "d= {int:10, bool:True, complex:10+10j, str:'IBM'}\n",
    "d1= {10:10,20:30,30:30,20:20,9:9}   # duplicate not allowed, ordered, \n",
    "print(d)\n",
    "print(d1)"
   ]
  },
  {
   "cell_type": "code",
   "execution_count": 72,
   "id": "044f83a6",
   "metadata": {},
   "outputs": [
    {
     "name": "stdout",
     "output_type": "stream",
     "text": [
      "{10: 10, 20: 20, 30: 30, 9: 9, 4: 4}\n",
      "{<class 'int'>: 10, <class 'bool'>: True, <class 'complex'>: (10+10j), <class 'str'>: 'IBM'}\n",
      " Update\n",
      "{<class 'int'>: 10, <class 'bool'>: False, <class 'complex'>: (10+10j), <class 'str'>: 'IBM'}\n"
     ]
    }
   ],
   "source": [
    "# add \n",
    "d1[4]=4\n",
    "print(d1)\n",
    "\n",
    "\"\"\" get() - v.get(e) \"\"\"\n",
    "\n",
    "d1.get(4)\n",
    "print(d)\n",
    "d.get(complex)\n",
    "\n",
    "print(\"\"\" Update\"\"\")\n",
    "\n",
    "d[bool]=False\n",
    "print(d)\n"
   ]
  },
  {
   "cell_type": "code",
   "execution_count": null,
   "id": "3e917459",
   "metadata": {},
   "outputs": [],
   "source": []
  },
  {
   "cell_type": "code",
   "execution_count": 73,
   "id": "f0dc08a1",
   "metadata": {},
   "outputs": [
    {
     "name": "stdout",
     "output_type": "stream",
     "text": [
      "dict_values([10, False, (10+10j), 'IBM'])\n",
      "dict_keys([<class 'int'>, <class 'bool'>, <class 'complex'>, <class 'str'>])\n",
      "dict_items([(<class 'int'>, 10), (<class 'bool'>, False), (<class 'complex'>, (10+10j)), (<class 'str'>, 'IBM')])\n"
     ]
    }
   ],
   "source": [
    "print(d.values())\n",
    "print(d.keys())\n",
    "print(d.items())  # return item in a dic as tup in list."
   ]
  },
  {
   "cell_type": "code",
   "execution_count": 74,
   "id": "83494ca4",
   "metadata": {},
   "outputs": [
    {
     "name": "stdout",
     "output_type": "stream",
     "text": [
      "{<class 'int'>: 10, <class 'bool'>: False, <class 'complex'>: (10+10j), <class 'str'>: 'IBM'}\n",
      "True\n",
      "False\n",
      "True\n"
     ]
    }
   ],
   "source": [
    "'''check if key exist '''\n",
    "# if key in d \n",
    "print(d)\n",
    "print(complex in d)\n",
    "print('bools' in d)\n",
    "print(bool in d)"
   ]
  },
  {
   "cell_type": "code",
   "execution_count": 75,
   "id": "286fc4ba",
   "metadata": {},
   "outputs": [
    {
     "name": "stdout",
     "output_type": "stream",
     "text": [
      "10\n",
      "False\n",
      "(10+10j)\n",
      "IBM\n"
     ]
    }
   ],
   "source": [
    "# for in v.values()\n",
    "for x in d.values():\n",
    "    print(x)"
   ]
  },
  {
   "cell_type": "code",
   "execution_count": 76,
   "id": "e52cdfe3",
   "metadata": {},
   "outputs": [
    {
     "name": "stdout",
     "output_type": "stream",
     "text": [
      "<class 'int'>\n",
      "<class 'bool'>\n",
      "<class 'complex'>\n",
      "<class 'str'>\n"
     ]
    }
   ],
   "source": [
    "# for in v.keys()\n",
    "for x in d.keys():\n",
    "    print(x)"
   ]
  },
  {
   "cell_type": "code",
   "execution_count": 77,
   "id": "bf90503f",
   "metadata": {},
   "outputs": [
    {
     "name": "stdout",
     "output_type": "stream",
     "text": [
      "(<class 'int'>, 10)\n",
      "(<class 'bool'>, False)\n",
      "(<class 'complex'>, (10+10j))\n",
      "(<class 'str'>, 'IBM')\n"
     ]
    }
   ],
   "source": [
    "# for in v.items()\n",
    "for x in d.items():\n",
    "    print(x)"
   ]
  },
  {
   "cell_type": "code",
   "execution_count": 78,
   "id": "c2114bd5",
   "metadata": {},
   "outputs": [
    {
     "name": "stdout",
     "output_type": "stream",
     "text": [
      "{<class 'int'>: 10, <class 'bool'>: False, <class 'complex'>: (10+10j), <class 'str'>: 'IBM'}\n",
      "<class 'int'>\n",
      "<class 'bool'>\n",
      "<class 'complex'>\n",
      "<class 'str'>\n"
     ]
    }
   ],
   "source": [
    "# for loop whole dictionary\n",
    "print(d)\n",
    "for x in d:\n",
    "    print(x)"
   ]
  },
  {
   "cell_type": "code",
   "execution_count": 79,
   "id": "1abfc964",
   "metadata": {},
   "outputs": [
    {
     "name": "stdout",
     "output_type": "stream",
     "text": [
      "10\n",
      "False\n",
      "(10+10j)\n",
      "IBM\n"
     ]
    }
   ],
   "source": [
    " for x in d:\n",
    "        print(d[x])"
   ]
  },
  {
   "cell_type": "markdown",
   "id": "40d1beb8",
   "metadata": {},
   "source": [
    "## changes - "
   ]
  },
  {
   "cell_type": "code",
   "execution_count": 80,
   "id": "a7d65a39",
   "metadata": {},
   "outputs": [
    {
     "name": "stdout",
     "output_type": "stream",
     "text": [
      "{<class 'int'>: 10, <class 'bool'>: False, <class 'complex'>: (10+10j), <class 'str'>: 'IBM'}\n",
      "{<class 'int'>: 10, <class 'bool'>: False, <class 'complex'>: (10+10j), <class 'str'>: 'IBM', 4: 5}\n",
      "{<class 'int'>: 10, <class 'bool'>: False, <class 'complex'>: (10+10j), <class 'str'>: 'IBM', 4: 8}\n"
     ]
    }
   ],
   "source": [
    "# update\n",
    "# v['key']=value\n",
    "print(d)\n",
    "d[4]=5\n",
    "print(d)\n",
    "# v.update{[4:7]}\n",
    "#d.update{4:8}\n",
    "d[4]=8\n",
    "print(d)"
   ]
  },
  {
   "cell_type": "code",
   "execution_count": 81,
   "id": "13a02cc8",
   "metadata": {},
   "outputs": [
    {
     "name": "stdout",
     "output_type": "stream",
     "text": [
      "{<class 'int'>: 10, <class 'bool'>: False, <class 'complex'>: (10+10j), <class 'str'>: 'IBM', 4: 5}\n",
      "{<class 'int'>: 10, <class 'bool'>: False, <class 'complex'>: (10+10j), <class 'str'>: 'IBM'}\n"
     ]
    }
   ],
   "source": [
    "# remove \n",
    "#v.pop(key)\n",
    "d[4]=5\n",
    "print(d)\n",
    "d.pop(4)\n",
    "print(d)\n"
   ]
  },
  {
   "cell_type": "code",
   "execution_count": 82,
   "id": "f704b433",
   "metadata": {},
   "outputs": [
    {
     "name": "stdout",
     "output_type": "stream",
     "text": [
      "{12: 12, 13: 13, 14: 14, 15: 15}\n",
      "{12: 12, 13: 13, 14: 14, 15: 15}\n"
     ]
    }
   ],
   "source": [
    "#  v.clear()\n",
    "clear = {12:12,13:13,14:14,15:15}\n",
    "clear2=clear\n",
    "print(clear)\n",
    "print(clear2)"
   ]
  },
  {
   "cell_type": "code",
   "execution_count": 83,
   "id": "c67f44bc",
   "metadata": {},
   "outputs": [
    {
     "name": "stdout",
     "output_type": "stream",
     "text": [
      "{12: 12, 13: 13, 14: 14, 15: 15}\n",
      "{}\n"
     ]
    }
   ],
   "source": [
    "print(clear2)\n",
    "clear.clear()\n",
    "print(clear)"
   ]
  },
  {
   "cell_type": "code",
   "execution_count": 84,
   "id": "7d1b4d3f",
   "metadata": {},
   "outputs": [
    {
     "name": "stdout",
     "output_type": "stream",
     "text": [
      " Nested Dictionary\n"
     ]
    },
    {
     "data": {
      "text/plain": [
       "{1: {1.1: 1.1, 1.2: 1.2, 1.3: 1.3},\n",
       " 2: {2.1: 2.1, 2.2: 2.2, 2.3: 2.3},\n",
       " 3: {3.1: 3.1, 3.2: 3.2, 3.3: 3.3}}"
      ]
     },
     "execution_count": 84,
     "metadata": {},
     "output_type": "execute_result"
    }
   ],
   "source": [
    "print(\"\"\" Nested Dictionary\"\"\")\n",
    "d={1:{\n",
    "    1.1:1.1,\n",
    "    1.2:1.2,\n",
    "    1.3:1.3\n",
    "},\n",
    "   2:{\n",
    "       2.1:2.1,\n",
    "       2.2:2.2,\n",
    "       2.3:2.3\n",
    "},\n",
    "   3:{\n",
    "       3.1:3.1,\n",
    "       3.2:3.2,\n",
    "       3.3:3.3,\n",
    "   }\n",
    "   \n",
    "  }\n",
    "d"
   ]
  },
  {
   "cell_type": "code",
   "execution_count": 85,
   "id": "1a023276",
   "metadata": {},
   "outputs": [
    {
     "data": {
      "text/plain": [
       "{'A': {'a': 'a', 'b': 'a', 'c': 'a'}, 'B': {'b': 'c'}}"
      ]
     },
     "execution_count": 85,
     "metadata": {},
     "output_type": "execute_result"
    }
   ],
   "source": [
    "A={'a':'a','b':'a','c':'a'}\n",
    "B={'b':'a','b':'b','b':'c'}\n",
    "nd={\"A\":A,\n",
    "    \"B\":B\n",
    "    }\n",
    "nd"
   ]
  },
  {
   "cell_type": "markdown",
   "id": "94d598d6",
   "metadata": {},
   "source": [
    "# Set"
   ]
  },
  {
   "cell_type": "code",
   "execution_count": 86,
   "id": "60985d85",
   "metadata": {},
   "outputs": [
    {
     "name": "stdout",
     "output_type": "stream",
     "text": [
      "{1, 2, 3, 4, 5, 6, 7, 8, 9}\n",
      "{50, 20, 40, 10, 30}\n"
     ]
    }
   ],
   "source": [
    "s={1,2,3,4,5,6,7,8,9}\n",
    "s1={10,20,30,40,50}\n",
    "print(s)       \n",
    "print(s1)\n"
   ]
  },
  {
   "cell_type": "code",
   "execution_count": 87,
   "id": "8ea009e6",
   "metadata": {},
   "outputs": [
    {
     "name": "stdout",
     "output_type": "stream",
     "text": [
      "9\n",
      "5\n",
      "<class 'set'>\n",
      "<class 'set'>\n",
      "9\n",
      "50\n",
      "1\n",
      "10\n"
     ]
    },
    {
     "data": {
      "text/plain": [
       "(45, 150)"
      ]
     },
     "execution_count": 87,
     "metadata": {},
     "output_type": "execute_result"
    }
   ],
   "source": [
    "print(len(s)),print(len(s1))\n",
    "print(type(s)),print(type(s1))\n",
    "print(max(s)),print(max(s1))\n",
    "print(min(s)),print(min(s1))\n",
    "sum(s),sum(s1)"
   ]
  },
  {
   "cell_type": "code",
   "execution_count": 205,
   "id": "42fefc1c",
   "metadata": {},
   "outputs": [
    {
     "name": "stdout",
     "output_type": "stream",
     "text": [
      "None\n",
      "{1, 2, 3, 4, 5, 6, 7, 8, 9, 11, 12, 13}\n",
      "{3344, 33, 34, 22224, 22, 11, 12}\n",
      "set()\n",
      "{1, 2, 3, 4, 5, 6, 7, 8, 9, 11, 12, 13}\n",
      "1\n"
     ]
    },
    {
     "data": {
      "text/plain": [
       "{2, 3, 4, 5, 6, 7, 8, 9, 12, 13}"
      ]
     },
     "execution_count": 205,
     "metadata": {},
     "output_type": "execute_result"
    }
   ],
   "source": [
    "'''\n",
    "( Set functions)\n",
    "add(),clear(),copy()\n",
    "remove(),discard(),pop()\n",
    "union(), issupperset(), issubset()\n",
    "difference(),intersection()\n",
    "'''\n",
    "print(add_set)\n",
    "add_set=s.add(11)\n",
    "#print(add_set)\n",
    "print(s)\n",
    "s0={11,22,33,12,34,22,3344,22224}\n",
    "print(s0)\n",
    "clear_set=s0.clear()\n",
    "print(s0)\n",
    "copy_set=s.copy()\n",
    "print(copy_set)\n",
    "pop_set=copy_set.pop()\n",
    "print(pop_set)\n",
    "copy_set\n",
    "copy_set.discard(11)\n",
    "copy_set"
   ]
  },
  {
   "cell_type": "code",
   "execution_count": null,
   "id": "45c0c8b1",
   "metadata": {},
   "outputs": [],
   "source": []
  },
  {
   "cell_type": "code",
   "execution_count": null,
   "id": "8a4283b1",
   "metadata": {},
   "outputs": [],
   "source": []
  },
  {
   "cell_type": "code",
   "execution_count": null,
   "id": "e3a71584",
   "metadata": {},
   "outputs": [],
   "source": []
  },
  {
   "cell_type": "code",
   "execution_count": 89,
   "id": "8c749bce",
   "metadata": {},
   "outputs": [
    {
     "data": {
      "text/plain": [
       "{2, 3, 4, 5, 6, 7, 8, 9}"
      ]
     },
     "execution_count": 89,
     "metadata": {},
     "output_type": "execute_result"
    }
   ],
   "source": [
    "#copy_set.remove(10)\n",
    "copy_set"
   ]
  },
  {
   "cell_type": "code",
   "execution_count": 90,
   "id": "0788eaf2",
   "metadata": {},
   "outputs": [
    {
     "data": {
      "text/plain": [
       "{1, 2, 3, 4, 5, 6, 7, 8, 9, 10, 11, 20, 30, 40, 50}"
      ]
     },
     "execution_count": 90,
     "metadata": {},
     "output_type": "execute_result"
    }
   ],
   "source": [
    "union_set=s.union(s1)  # like concate\n",
    "union_set"
   ]
  },
  {
   "cell_type": "code",
   "execution_count": 91,
   "id": "cdc92a17",
   "metadata": {},
   "outputs": [
    {
     "name": "stdout",
     "output_type": "stream",
     "text": [
      "True\n",
      "False\n"
     ]
    }
   ],
   "source": [
    "s11={23,45,67,54,7,6}\n",
    "issuperset_set=union_set.issuperset(s1)\n",
    "issuperset_set1=union_set.issuperset(s11)\n",
    "\n",
    "print(issuperset_set)\n",
    "print(issuperset_set1)"
   ]
  },
  {
   "cell_type": "code",
   "execution_count": 92,
   "id": "1e40f6ab",
   "metadata": {},
   "outputs": [
    {
     "name": "stdout",
     "output_type": "stream",
     "text": [
      "False\n",
      "True\n"
     ]
    }
   ],
   "source": [
    "s1\n",
    "s11\n",
    "issubset_set=s1.issubset(s11)\n",
    "issubset_set1=s1.issubset(union_set)\n",
    "print(issubset_set)\n",
    "print(issubset_set1)"
   ]
  },
  {
   "cell_type": "code",
   "execution_count": 93,
   "id": "5c928539",
   "metadata": {},
   "outputs": [
    {
     "name": "stdout",
     "output_type": "stream",
     "text": [
      "{50, 20, 40, 10, 30}\n",
      "{67, 23, 6, 7, 54, 45}\n",
      "set()\n"
     ]
    }
   ],
   "source": [
    "print(s1)\n",
    "print(s11)\n",
    "intersection_set=s1.intersection(s11)\n",
    "print(intersection_set)"
   ]
  },
  {
   "cell_type": "markdown",
   "id": "73e8ea50",
   "metadata": {},
   "source": [
    "# contorl flow"
   ]
  },
  {
   "cell_type": "raw",
   "id": "da8bd3e2",
   "metadata": {},
   "source": [
    "control flow -is a  order in program's code executes\n",
    "1. condition statement - descion making\n",
    "2. iterative statement - loops\n",
    "3. control statement "
   ]
  },
  {
   "cell_type": "code",
   "execution_count": 94,
   "id": "455501e2",
   "metadata": {},
   "outputs": [
    {
     "name": "stdout",
     "output_type": "stream",
     "text": [
      "here a is equal to 10\n"
     ]
    }
   ],
   "source": [
    "# condition statement - condition is false or true on that basis  statement will exicute\n",
    "# if statement - if condition true then statement execute otherwise not\n",
    "a=10\n",
    "if a==10:\n",
    "    print('here a is equal to 10')"
   ]
  },
  {
   "cell_type": "code",
   "execution_count": 95,
   "id": "e86110ab",
   "metadata": {},
   "outputs": [
    {
     "name": "stdout",
     "output_type": "stream",
     "text": [
      " a is not equal to 20\n"
     ]
    }
   ],
   "source": [
    "# if- else statement - if condition true then statement execute, or false then else statement execute\n",
    "a=20\n",
    "if a ==30:\n",
    "    print (' a is equal to 20')\n",
    "else:\n",
    "    print(' a is not equal to 20')"
   ]
  },
  {
   "cell_type": "code",
   "execution_count": 96,
   "id": "584ba86e",
   "metadata": {},
   "outputs": [
    {
     "name": "stdout",
     "output_type": "stream",
     "text": [
      "this is not a vowel\n"
     ]
    }
   ],
   "source": [
    "'''\n",
    "if - elif - else statement- if condition true ,execute or false, then went to elif or so on,\n",
    "any elif true then execute otherwise all false at last reach to else and execute.\n",
    "\n",
    "'''\n",
    "#a =str(input('enter vowel-',)) \n",
    "a='j'\n",
    "if a=='a':\n",
    "    print('vowel a')\n",
    "elif a=='e':\n",
    "    print('vowel e')\n",
    "elif a==\"i\":\n",
    "    print(\"vowel f\")\n",
    "elif a=='O':\n",
    "    print(\"vowel o\")\n",
    "elif a==\"u\":\n",
    "    print(\"vowel u\")\n",
    "else:\n",
    "    print('this is not a vowel')"
   ]
  },
  {
   "cell_type": "code",
   "execution_count": 97,
   "id": "aa6b9d56",
   "metadata": {},
   "outputs": [
    {
     "name": "stdout",
     "output_type": "stream",
     "text": [
      "this is not vowel f\n"
     ]
    }
   ],
   "source": [
    "vowel=['a','e','i','o','u']\n",
    "#x=input('please enter vowel', )\n",
    "x='f'\n",
    "if x in vowel:\n",
    "    print('vowel',x)\n",
    "else:\n",
    "    print('this is not vowel',x)"
   ]
  },
  {
   "cell_type": "code",
   "execution_count": 98,
   "id": "9a851fc4",
   "metadata": {},
   "outputs": [
    {
     "name": "stdout",
     "output_type": "stream",
     "text": [
      "inside nested if B\n"
     ]
    }
   ],
   "source": [
    "# Nested if-else. if condition true then enter in nested if,ture - execute,if not the else willexecute\n",
    "#a= int(input('enter value -',))\n",
    "a=10\n",
    "if a<30:\n",
    "    if a<=20:\n",
    "        print('inside nested if B')\n",
    "    else:\n",
    "        print('outside nested if B')\n",
    "else:\n",
    "    print('outside a')"
   ]
  },
  {
   "cell_type": "raw",
   "id": "1e0623e6",
   "metadata": {},
   "source": [
    " iterative statements\n",
    " while and for loop "
   ]
  },
  {
   "cell_type": "code",
   "execution_count": 99,
   "id": "74ea5c3d",
   "metadata": {},
   "outputs": [
    {
     "name": "stdout",
     "output_type": "stream",
     "text": [
      "5 x 1 = 5\n",
      "5 x 2 = 10\n",
      "5 x 3 = 15\n",
      "5 x 4 = 20\n",
      "5 x 5 = 25\n",
      "5 x 6 = 30\n",
      "5 x 7 = 35\n",
      "5 x 8 = 40\n",
      "5 x 9 = 45\n",
      "5 x 10 = 50\n",
      "5 Table is complete till 10\n"
     ]
    }
   ],
   "source": [
    "# while loop - execute the set of statements as long as true\n",
    "#z=int(input('enter what Table you want-'))\n",
    "z=5\n",
    "i=1\n",
    "while i < 11:\n",
    "    print(z,'x',i,'=',i*z)\n",
    "    i=i+1\n",
    "else:\n",
    "    print(z,\"Table is complete till 10\")"
   ]
  },
  {
   "cell_type": "code",
   "execution_count": 100,
   "id": "8b7c9bfd",
   "metadata": {},
   "outputs": [
    {
     "name": "stdout",
     "output_type": "stream",
     "text": [
      "1\n",
      "2\n",
      "3\n",
      "4\n",
      "5\n",
      "6\n"
     ]
    }
   ],
   "source": [
    "# for loop - execute the set of statements each to every element of the squence\n",
    "tup=(1,2,3,4,5,11,22,33,44,55,33,44,66,22,77,11,44,55,88,99)\n",
    "l=[1,2,3,4,5,6]\n",
    "for x in l:\n",
    "    print(x)"
   ]
  },
  {
   "cell_type": "code",
   "execution_count": 101,
   "id": "831473a4",
   "metadata": {},
   "outputs": [],
   "source": [
    "# nested loop"
   ]
  },
  {
   "cell_type": "code",
   "execution_count": 102,
   "id": "71fddc5f",
   "metadata": {},
   "outputs": [
    {
     "name": "stdout",
     "output_type": "stream",
     "text": [
      "1\n",
      "2\n",
      "3\n",
      "4\n",
      "5\n",
      "6\n"
     ]
    }
   ],
   "source": [
    "# break - terminate the for loop / while loop\n",
    "for no in range (1,10):\n",
    "    print(no)\n",
    "    if (no == 6):\n",
    "        break"
   ]
  },
  {
   "cell_type": "code",
   "execution_count": 103,
   "id": "ea3715da",
   "metadata": {},
   "outputs": [
    {
     "name": "stdout",
     "output_type": "stream",
     "text": [
      "1\n",
      "3\n",
      "5\n"
     ]
    }
   ],
   "source": [
    "no = 1 \n",
    "while no < 10:\n",
    "    print(no)\n",
    "    if (no==5):\n",
    "        break\n",
    "    no =no+1+1"
   ]
  },
  {
   "cell_type": "code",
   "execution_count": 104,
   "id": "2d968827",
   "metadata": {},
   "outputs": [
    {
     "name": "stdout",
     "output_type": "stream",
     "text": [
      "1\n",
      "2\n",
      "3\n",
      "4\n",
      "6\n",
      "7\n",
      "8\n",
      "9\n"
     ]
    }
   ],
   "source": [
    "# continue - skip the iteration \n",
    "for no in range (1,10):\n",
    "    if (no == 5):\n",
    "        continue\n",
    "    print(no)"
   ]
  },
  {
   "cell_type": "code",
   "execution_count": 105,
   "id": "4fb17817",
   "metadata": {},
   "outputs": [
    {
     "name": "stdout",
     "output_type": "stream",
     "text": [
      "2\n",
      "3\n",
      "4\n",
      "6\n",
      "7\n",
      "8\n"
     ]
    }
   ],
   "source": [
    "# contine in while\n",
    "i=1\n",
    "while i<20:\n",
    "    i=i+1\n",
    "    if i==5:\n",
    "        continue\n",
    "    elif i==9:\n",
    "        break\n",
    "    print(i)\n"
   ]
  },
  {
   "cell_type": "code",
   "execution_count": 106,
   "id": "2e556561",
   "metadata": {},
   "outputs": [
    {
     "name": "stdout",
     "output_type": "stream",
     "text": [
      "print current letter: P\n",
      "print current letter: y\n",
      "print current letter: t\n",
      "this is pass block\n",
      "print current letter: h\n",
      "print current letter: o\n",
      "print current letter: n\n"
     ]
    }
   ],
   "source": [
    "# pass - nothing happen when it execute\n",
    "for letter in 'Python':\n",
    "    if letter == 'h':\n",
    "        pass\n",
    "        print('this is pass block')\n",
    "    print('print current letter:', letter )"
   ]
  },
  {
   "cell_type": "code",
   "execution_count": null,
   "id": "a6645c30",
   "metadata": {},
   "outputs": [],
   "source": []
  },
  {
   "cell_type": "markdown",
   "id": "c6b9b34c",
   "metadata": {},
   "source": [
    "# Functon"
   ]
  },
  {
   "cell_type": "raw",
   "id": "9b91e855",
   "metadata": {},
   "source": [
    "Function- is a block of code that perform specific task,you can call again and again.\n",
    " 1 predefined / in-built functions -no need to define - lan(), sort(), type(), id(), bin()\n",
    " 2 User defined functions - in this user fefine the function ( what ever we can put name )\n",
    "  2.1 - parameterlized funcion\n",
    "  2.2 - recursive function\n",
    "  2.3 - lambda fuction, filter, map\n",
    "     - method -define inside the class\n",
    "     - function - define outside the class"
   ]
  },
  {
   "cell_type": "raw",
   "id": "9af0ee22",
   "metadata": {},
   "source": [
    "- function define with def keywords\n",
    "- function body starts after: colon\n",
    "def function_name ():\n",
    "# function name what ever you want"
   ]
  },
  {
   "cell_type": "markdown",
   "id": "d146307e",
   "metadata": {},
   "source": [
    "http://www.btechsmartclass.com/python/Python_Tutorial_Python_Scope.html"
   ]
  },
  {
   "cell_type": "code",
   "execution_count": 107,
   "id": "92492362",
   "metadata": {},
   "outputs": [
    {
     "data": {
      "text/plain": [
       "'HI IBM'"
      ]
     },
     "execution_count": 107,
     "metadata": {},
     "output_type": "execute_result"
    }
   ],
   "source": [
    "'''func wthout args'''\n",
    "def say_hi():          # return func without args\n",
    "    a= \"HI IBM\"\n",
    "    return a           # define func with return\n",
    "say_hi()"
   ]
  },
  {
   "cell_type": "code",
   "execution_count": 108,
   "id": "57150b82",
   "metadata": {},
   "outputs": [
    {
     "name": "stdout",
     "output_type": "stream",
     "text": [
      "IBM saying hello\n"
     ]
    }
   ],
   "source": [
    "'''func with args'''\n",
    "def Hi_everyone(a):         # assigning parameter \n",
    "    a= \"IBM saying hello\"\n",
    "    print(a)                # defineing function\n",
    "    \n",
    "Hi_everyone('a')           # calling func with passing args"
   ]
  },
  {
   "cell_type": "code",
   "execution_count": 109,
   "id": "cf6f2dc9",
   "metadata": {},
   "outputs": [
    {
     "name": "stdout",
     "output_type": "stream",
     "text": [
      "60\n",
      "6\n"
     ]
    },
    {
     "data": {
      "text/plain": [
       "120"
      ]
     },
     "execution_count": 109,
     "metadata": {},
     "output_type": "execute_result"
    }
   ],
   "source": [
    "'''no of args'''\n",
    "def sum(a,b,c):  # assign parameter\n",
    "    d=a+b+c\n",
    "    return d     # define func\n",
    "print(sum(10,20,30)) # calling func\n",
    "print(sum(1,2,3))\n",
    "sum(30,40,50)"
   ]
  },
  {
   "cell_type": "code",
   "execution_count": 110,
   "id": "0fe885ce",
   "metadata": {},
   "outputs": [
    {
     "data": {
      "text/plain": [
       "<function __main__.sum(a, b, c)>"
      ]
     },
     "execution_count": 110,
     "metadata": {},
     "output_type": "execute_result"
    }
   ],
   "source": [
    "sum"
   ]
  },
  {
   "cell_type": "code",
   "execution_count": 111,
   "id": "5ef574d1",
   "metadata": {},
   "outputs": [
    {
     "name": "stdout",
     "output_type": "stream",
     "text": [
      "50 40\n"
     ]
    }
   ],
   "source": [
    "\"\"\" keyword argument \"\"\" \n",
    "def swapping_without_third_variable(a,b):\n",
    "    a=a+b\n",
    "    b=a-b\n",
    "    a=a-b\n",
    "    print(a,b)\n",
    "swapping_without_third_variable(a=40,b=50)"
   ]
  },
  {
   "cell_type": "code",
   "execution_count": 112,
   "id": "e62b7bc0",
   "metadata": {},
   "outputs": [
    {
     "name": "stdout",
     "output_type": "stream",
     "text": [
      "50 80\n"
     ]
    }
   ],
   "source": [
    "def swapping_with_third_variable(a,b):\n",
    "    c=a\n",
    "    a=b\n",
    "    b=c\n",
    "    print(a,b)\n",
    "swapping_with_third_variable(a=80,b=50)"
   ]
  },
  {
   "cell_type": "code",
   "execution_count": 113,
   "id": "4dafa005",
   "metadata": {},
   "outputs": [
    {
     "data": {
      "text/plain": [
       "(600, 2.0)"
      ]
     },
     "execution_count": 113,
     "metadata": {},
     "output_type": "execute_result"
    }
   ],
   "source": [
    "'''arbitrary args'''\n",
    "def power_divide(*args):\n",
    "    a=20*30\n",
    "    b=40/20\n",
    "    return a,b\n",
    "power_divide()"
   ]
  },
  {
   "cell_type": "code",
   "execution_count": 114,
   "id": "9297488e",
   "metadata": {},
   "outputs": [
    {
     "name": "stdout",
     "output_type": "stream",
     "text": [
      "10\n",
      "20\n",
      "30\n",
      "40\n",
      "50\n",
      "60\n"
     ]
    }
   ],
   "source": [
    "def list_(*args):\n",
    "    for x in args:\n",
    "        print(x)\n",
    "list_(10,20,30,40,50,60)"
   ]
  },
  {
   "cell_type": "code",
   "execution_count": 115,
   "id": "184e702c",
   "metadata": {},
   "outputs": [
    {
     "name": "stdout",
     "output_type": "stream",
     "text": [
      "starts with  ('Hi', '1', '2', '3', '4', '5')\n",
      "next argument Hi\n",
      "next argument 1\n",
      "next argument 2\n",
      "next argument 3\n",
      "next argument 4\n",
      "next argument 5\n"
     ]
    }
   ],
   "source": [
    "def l(*args):\n",
    "    print('starts with ',args)\n",
    "    for x in args:\n",
    "        print('next argument',x)\n",
    "l('Hi','1','2','3','4','5')\n",
    "    "
   ]
  },
  {
   "cell_type": "code",
   "execution_count": 116,
   "id": "d8fb56a6",
   "metadata": {},
   "outputs": [
    {
     "name": "stdout",
     "output_type": "stream",
     "text": [
      "a:a\n",
      "b:b\n",
      "c:c\n"
     ]
    }
   ],
   "source": [
    "\"\"\"arbitrary keywords args (**kwargs)\"\"\"\n",
    "def dic(**kwargs):\n",
    "    for key,value in kwargs.items():\n",
    "        print('%s:%s' % (key, value))\n",
    "# Driver code\n",
    "dic(a='a',b='b',c='c')"
   ]
  },
  {
   "cell_type": "code",
   "execution_count": 117,
   "id": "6873c372",
   "metadata": {},
   "outputs": [
    {
     "name": "stdout",
     "output_type": "stream",
     "text": [
      "args: ('1', '2', '3')\n",
      "kwargs: {'a': '1', 'b': '2', 'c': '3', 'd': '4'}\n"
     ]
    }
   ],
   "source": [
    "def tuple_dic(*args, **kwargs):\n",
    "    print(\"args:\", args)\n",
    "    print(\"kwargs:\", kwargs)\n",
    "    # we can use both args and kwargs\n",
    "    # pass argument to this fuctions\n",
    "tuple_dic('1','2','3',a='1',b='2',c='3',d='4')\n",
    "#tuple_dic('geeks','for','geeks',first=\"Geeks\",mid=\"for\",last=\"Geeks\")"
   ]
  },
  {
   "cell_type": "code",
   "execution_count": null,
   "id": "2310da86",
   "metadata": {},
   "outputs": [],
   "source": []
  },
  {
   "cell_type": "code",
   "execution_count": 118,
   "id": "3480ea97",
   "metadata": {},
   "outputs": [
    {
     "name": "stdout",
     "output_type": "stream",
     "text": [
      "my name is- fname -Om\n"
     ]
    }
   ],
   "source": [
    "\"\"\" defalt argument \"\"\"\n",
    "def da(b,a='Om'):\n",
    "    b= 'my name is-'\n",
    "    print(b +' fname -' +a) \n",
    "da('a')"
   ]
  },
  {
   "cell_type": "code",
   "execution_count": 119,
   "id": "e236d6d6",
   "metadata": {},
   "outputs": [
    {
     "data": {
      "text/plain": [
       "(19, 10)"
      ]
     },
     "execution_count": 119,
     "metadata": {},
     "output_type": "execute_result"
    }
   ],
   "source": [
    "def defalt(a=1):\n",
    "    b=10\n",
    "    return a,b\n",
    "defalt()\n",
    "defalt(19)"
   ]
  },
  {
   "cell_type": "code",
   "execution_count": null,
   "id": "ed045aaf",
   "metadata": {},
   "outputs": [],
   "source": []
  },
  {
   "cell_type": "code",
   "execution_count": 120,
   "id": "5d83f278",
   "metadata": {},
   "outputs": [
    {
     "data": {
      "text/plain": [
       "9"
      ]
     },
     "execution_count": 120,
     "metadata": {},
     "output_type": "execute_result"
    }
   ],
   "source": [
    "'''Lambda'''\n",
    "x=lambda a:a*3\n",
    "x(3)"
   ]
  },
  {
   "cell_type": "code",
   "execution_count": 121,
   "id": "83d251c2",
   "metadata": {},
   "outputs": [
    {
     "name": "stdout",
     "output_type": "stream",
     "text": [
      "9\n"
     ]
    }
   ],
   "source": [
    "def x (a):\n",
    "    b=a*3\n",
    "    print(b)\n",
    "x(3)"
   ]
  },
  {
   "cell_type": "code",
   "execution_count": 122,
   "id": "a654acf4",
   "metadata": {},
   "outputs": [
    {
     "name": "stdout",
     "output_type": "stream",
     "text": [
      "0\n",
      "1\n",
      "2\n",
      "3\n",
      "4\n"
     ]
    }
   ],
   "source": [
    "def x():                     # func assign\n",
    "    for x in range(0,5):     \n",
    "        print(x)             # func loop define\n",
    "x()                          # call func"
   ]
  },
  {
   "cell_type": "code",
   "execution_count": 123,
   "id": "2b4d6f70",
   "metadata": {},
   "outputs": [
    {
     "name": "stdout",
     "output_type": "stream",
     "text": [
      "4\n"
     ]
    }
   ],
   "source": [
    "# lambda with func\n",
    "def x(m):\n",
    "    return lambda n:n*m\n",
    "obj=x(2)\n",
    "print(obj(2))   "
   ]
  },
  {
   "cell_type": "code",
   "execution_count": 124,
   "id": "904b89d2",
   "metadata": {},
   "outputs": [
    {
     "data": {
      "text/plain": [
       "[2, 4, 6, 8, 10]"
      ]
     },
     "execution_count": 124,
     "metadata": {},
     "output_type": "execute_result"
    }
   ],
   "source": [
    "# filtter-Use a filter function to exclude items in an iterable object\n",
    "l=[1,2,3,4,5,6,7,8,9,10]\n",
    "# lambda function retrun true for even numbers\n",
    "x=filter (lambda y:(y%2==0),l)\n",
    "list(x)"
   ]
  },
  {
   "cell_type": "code",
   "execution_count": 125,
   "id": "379b165e",
   "metadata": {},
   "outputs": [
    {
     "data": {
      "text/plain": [
       "['appleorange', 'bananalemon', 'cherrypineapple']"
      ]
     },
     "execution_count": 125,
     "metadata": {},
     "output_type": "execute_result"
    }
   ],
   "source": [
    "# map -Returns the specified iterator with the specified function applied to each item\n",
    "l=[1,2,3,4,5,6,7,8,9,11,22,33,44,55,66,77,88]\n",
    "def myfunc(a, b):\n",
    "    return a + b\n",
    "\n",
    "x = map(myfunc, ('apple', 'banana', 'cherry'), ('orange', 'lemon', 'pineapple'))\n",
    "list(x)"
   ]
  },
  {
   "cell_type": "markdown",
   "id": "d24a3c38",
   "metadata": {},
   "source": [
    "http://www.btechsmartclass.com/python/Python_Tutorial_Python_map_filter_Functions.html"
   ]
  },
  {
   "cell_type": "code",
   "execution_count": 126,
   "id": "1857b258",
   "metadata": {},
   "outputs": [
    {
     "name": "stdout",
     "output_type": "stream",
     "text": [
      "[1, 4, 9, 16, 25, 36, 49, 64, 81]\n"
     ]
    }
   ],
   "source": [
    "# fiiter & map \n",
    "'''In Python, the map( ) and filter( ) are the built-in functions used to execute a function for every value in a list. Both\n",
    "the built-in functions execute the specified function with the list element as an argument. Both map and filter functions\n",
    "return a list. Let us look at each function.'''\n",
    "#map(function_name, sequence_data_elements)\n",
    "def square(num):\n",
    "    return num ** 2\n",
    "\n",
    "\n",
    "numbers = [1, 2, 3, 4, 5, 6, 7, 8, 9]\n",
    "squares = list(map(square, numbers))\n",
    "print(squares)"
   ]
  },
  {
   "cell_type": "code",
   "execution_count": 127,
   "id": "4adf6399",
   "metadata": {},
   "outputs": [
    {
     "name": "stdout",
     "output_type": "stream",
     "text": [
      "[2, 4, 6, 8]\n"
     ]
    },
    {
     "data": {
      "text/plain": [
       "'In the above example code, the function find_even( ) is executed repeatedly passing every element from the numbers list. \\nFinally, it returns the list which contains all the arguments for which the function returns True.\\nWhen we run the above example code, it produces the following output.\\n'"
      ]
     },
     "execution_count": 127,
     "metadata": {},
     "output_type": "execute_result"
    }
   ],
   "source": [
    "#filter(function_name, sequence_data_elements)\n",
    "'''Here, filter function accepts two arguments, the first argument is the function which is to be executed, and the second\n",
    "argument is the sequence of elements for which the specified functions have to be executed.\n",
    "\n",
    "Points to be Remembered!\n",
    "The first argument must be a function which returns a boolean value only (either True or False).\n",
    "The first argument must be only function name without any parenthesis.\n",
    "The filter function returns a list consist of the arguments passed to the function for which it returns True.'''\n",
    "def find_even(num):\n",
    "    return num % 2 == 0\n",
    "\n",
    "\n",
    "numbers = [1, 2, 3, 4, 5, 6, 7, 8, 9]\n",
    "even_list = list(filter(find_even, numbers))\n",
    "print(even_list)\n",
    "'''In the above example code, the function find_even( ) is executed repeatedly passing every element from the numbers list. \n",
    "Finally, it returns the list which contains all the arguments for which the function returns True.\n",
    "When we run the above example code, it produces the following output.\n",
    "'''"
   ]
  },
  {
   "cell_type": "code",
   "execution_count": 128,
   "id": "5aa66453",
   "metadata": {},
   "outputs": [
    {
     "name": "stdout",
     "output_type": "stream",
     "text": [
      "[1, 4, 9, 16, 25, 36, 49, 64, 81]\n",
      "[2, 4, 6, 8]\n"
     ]
    }
   ],
   "source": [
    "'''lambda with map( ) and filter( ) functions\n",
    "Most of the times the lambda expression is used with built-in functions map( ) and filter( ). Let us look at an example of\n",
    "lambda expresion used with built-in functions map( ) and filter( ).'''\n",
    "numbers = [1, 2, 3, 4, 5, 6, 7, 8, 9]\n",
    "\n",
    "squares_list = list(map(lambda num: num ** 2, numbers))\n",
    "print(squares_list)\n",
    "\n",
    "even_list = list(filter(lambda num: num % 2 == 0, numbers))\n",
    "print(even_list)"
   ]
  },
  {
   "cell_type": "code",
   "execution_count": null,
   "id": "5143bef5",
   "metadata": {},
   "outputs": [],
   "source": []
  },
  {
   "cell_type": "code",
   "execution_count": null,
   "id": "80340080",
   "metadata": {},
   "outputs": [],
   "source": []
  },
  {
   "cell_type": "markdown",
   "id": "e7932482",
   "metadata": {},
   "source": [
    "#  recursion"
   ]
  },
  {
   "cell_type": "code",
   "execution_count": 129,
   "id": "b25f0957",
   "metadata": {},
   "outputs": [],
   "source": [
    "import sys"
   ]
  },
  {
   "cell_type": "code",
   "execution_count": 130,
   "id": "ac859c13",
   "metadata": {},
   "outputs": [
    {
     "name": "stdout",
     "output_type": "stream",
     "text": [
      "3000\n"
     ]
    }
   ],
   "source": [
    "print(sys.getrecursionlimit())"
   ]
  },
  {
   "cell_type": "code",
   "execution_count": 131,
   "id": "fe10cff7",
   "metadata": {
    "scrolled": true
   },
   "outputs": [
    {
     "name": "stdout",
     "output_type": "stream",
     "text": [
      "None\n"
     ]
    }
   ],
   "source": [
    "print(sys.setrecursionlimit(60))"
   ]
  },
  {
   "cell_type": "code",
   "execution_count": 132,
   "id": "bc9a89a2",
   "metadata": {},
   "outputs": [
    {
     "name": "stdout",
     "output_type": "stream",
     "text": [
      "60\n"
     ]
    }
   ],
   "source": [
    "print(sys.getrecursionlimit())"
   ]
  },
  {
   "cell_type": "code",
   "execution_count": 133,
   "id": "934d7dcc",
   "metadata": {},
   "outputs": [
    {
     "data": {
      "text/plain": [
       "'Recursion - The process in which a function calls \\nitself directly \\nor indirectly is called recursion \\nor recursive function as it calls itself\\na function calling itself again and again to compute\\na value is referred to Recursive function\\n'"
      ]
     },
     "execution_count": 133,
     "metadata": {},
     "output_type": "execute_result"
    }
   ],
   "source": [
    "\"\"\"Recursion - The process in which a function calls \n",
    "itself directly \n",
    "or indirectly is called recursion \n",
    "or recursive function as it calls itself\n",
    "a function calling itself again and again to compute\n",
    "a value is referred to Recursive function\n",
    "\"\"\"\n",
    "#i=0\n",
    "#def re():\n",
    "#    global i\n",
    "#    i+=1\n",
    "#    print('hi',i)\n",
    "#    re()\n",
    "#re()"
   ]
  },
  {
   "cell_type": "code",
   "execution_count": 134,
   "id": "fce1c452",
   "metadata": {},
   "outputs": [],
   "source": [
    "#def recursor():\n",
    "#    print('om')\n",
    "#    recursor()\n",
    "#recursor()"
   ]
  },
  {
   "cell_type": "code",
   "execution_count": 135,
   "id": "07875df8",
   "metadata": {},
   "outputs": [
    {
     "name": "stdout",
     "output_type": "stream",
     "text": [
      "120\n"
     ]
    }
   ],
   "source": [
    "# this is iterative function approch\n",
    "# factorial with iterative method\n",
    "def factorial(n):\n",
    "    '''\n",
    "    n!=n *n-1*n-2*n-3*n-4..........1\n",
    "    5*4*3*2*1=120 so 5 factorial is 120\n",
    "    n!=n *n-1\n",
    "    '''\n",
    "    fac =1\n",
    "    for i in range(n):\n",
    "        fac = fac * (i+1)\n",
    "    return fac\n",
    "#num=int(input('enter then number- '))\n",
    "#print(factorial(num))\n",
    "print(factorial(5))"
   ]
  },
  {
   "cell_type": "code",
   "execution_count": 136,
   "id": "8caf6246",
   "metadata": {},
   "outputs": [
    {
     "data": {
      "text/plain": [
       "120"
      ]
     },
     "execution_count": 136,
     "metadata": {},
     "output_type": "execute_result"
    }
   ],
   "source": [
    "# factorial with recursion\n",
    "\n",
    "def factorial_recursive(n):\n",
    "    if n==1:     # \n",
    "        return 1\n",
    "    else:\n",
    "        return n* factorial_recursive(n-1)\n",
    "# recursion stack like\n",
    "# 5 * factorial_recursive(4)\n",
    "# 5 * 4 * fac_rec(3)\n",
    "# 5 * 4 * 3 * fac_rec(2)\n",
    "# 5 * 4 * 3 * 2 * fact_rec(1)\n",
    "# 5 * 4 * 3 * 2 * 1 = 120\n",
    "#num = int(input('enter no -'))\n",
    "#print('factorial with recursive',factorial_recursive(num))\n",
    "factorial_recursive(5)"
   ]
  },
  {
   "cell_type": "code",
   "execution_count": 137,
   "id": "105e3737",
   "metadata": {},
   "outputs": [
    {
     "data": {
      "text/plain": [
       "5"
      ]
     },
     "execution_count": 137,
     "metadata": {},
     "output_type": "execute_result"
    }
   ],
   "source": [
    "'''0_1_1_2_3_5_8_13, 0(1)+1(2)=1(3),1+1=2(4),2+3=5(5),3+5=8(6),8+5=13 \n",
    "came after add two no.= Fibonacci Sequence\n",
    "\n",
    "'''\n",
    "def fibonacci(n):\n",
    "    if n ==0:\n",
    "        return 0\n",
    "    elif n==1:\n",
    "        return 1\n",
    "    else:\n",
    "        return fibonacci (n-1)+ fibonacci (n-2)\n",
    "#num=int(input('enter no - '))\n",
    "#print('fibonacci',fibonacci(num))\n",
    "fibonacci(5)"
   ]
  },
  {
   "cell_type": "markdown",
   "id": "3e82453a",
   "metadata": {},
   "source": [
    "# Random Module- is a in- build modul of python, which is used to genrate a random words."
   ]
  },
  {
   "cell_type": "code",
   "execution_count": 138,
   "id": "4c4be746",
   "metadata": {},
   "outputs": [
    {
     "name": "stdout",
     "output_type": "stream",
     "text": [
      "this is a list sequance- [1, 2, 3, 4, 5, 6.7, 8.8]\n",
      "----------------------------------\n",
      "random choice()each time random one item extract from sequence- 4\n",
      "----------------------------------\n",
      "random choices()- [1, 5, 6.7, 2, 6.7]\n",
      "----------------------------------\n",
      "ransom.random()float beween 0&1- 0.8603289937456681\n",
      "----------------------------------\n",
      "randint(start,end)creating random integer - 4\n",
      "----------------------------------\n",
      "random number between 2 and 8 is-  6\n"
     ]
    }
   ],
   "source": [
    "import random\n",
    "l=list_squance=[1,2,3,4,5,6.7,8.8]\n",
    "print('this is a list sequance-',list_squance)\n",
    "print('----------------------------------')\n",
    "print('random choice()each time random one item extract from sequence-',random.choice(l))\n",
    "print('----------------------------------')\n",
    "print('random choices()-',random.choices(l,k=5))\n",
    "# random.choices(sequence, weights=None, cum_weights=None, k=1)\n",
    "print('----------------------------------')\n",
    "print('ransom.random()float beween 0&1-',random.random())\n",
    "print('----------------------------------')\n",
    "print('randint(start,end)creating random integer -',random.randint(2,8))\n",
    "print('----------------------------------')\n",
    "r=random.randint(2,8)\n",
    "print(\"random number between 2 and 8 is- \", r)"
   ]
  },
  {
   "cell_type": "code",
   "execution_count": 139,
   "id": "fb45c8dd",
   "metadata": {},
   "outputs": [
    {
     "data": {
      "text/plain": [
       "0.6249085901227315"
      ]
     },
     "execution_count": 139,
     "metadata": {},
     "output_type": "execute_result"
    }
   ],
   "source": [
    "random.random() # give value bitween 0zz"
   ]
  },
  {
   "cell_type": "code",
   "execution_count": null,
   "id": "e5b8593c",
   "metadata": {},
   "outputs": [],
   "source": []
  },
  {
   "cell_type": "markdown",
   "id": "47d99d65",
   "metadata": {},
   "source": [
    "# Object oriented programming  - write a code in class and objects\n",
    "- class - blueprint of the object\n",
    "- object - real world entities\n",
    "\n",
    "oops types-\n",
    "1. Inheritance ( inherites the attributes of parants classes) - singel inhertance , multi level inheritance, multiple inheritance\n",
    "2. Encapsulation ( make private variable and method ) - getter and setter \n",
    "3. polymophism (same method use different types)- overloading, overridding \n",
    "4. Abstraction (Abstraction helps in reducing programming efforts and reduce coding complexity),It is used to hide unwanted details from the user & It allows focusing on the main concept.) https://pythonlobby.com/abstraction-in-python-programming/#:~:text=%20Advantages%20of%20Abstraction%20in%20Python%3A%20%201,allows%20focusing%20on%20the%20main%20concept.%20More%20"
   ]
  },
  {
   "cell_type": "raw",
   "id": "85c80dcb",
   "metadata": {},
   "source": [
    "object oriented programing import concept are - object and class.\n",
    "-real world entities is object- mobile, bike dog\n",
    "-class- is a blueprint/template for real world entities\n",
    "- class has two importent features - properties and behaviour\n",
    "- properties - color,cost,battery life\n",
    "- behaviour - make call, watch videos, play games\n",
    "so we assemples/collect the (object's) properties and behaviour in class or collect the properties and behaviour in a box, box is here class\n",
    "- according to programming language--------------------\n",
    "- class - user defined data type - phone\n",
    "(in-built data type- int,float,bool,str)\n",
    "in user define data types has attributes and methods\n",
    "- object are specific instance of a class - Apple, a=10, motorola b=20, samsung c=30,"
   ]
  },
  {
   "cell_type": "markdown",
   "id": "46206e3e",
   "metadata": {},
   "source": [
    "http://www.btechsmartclass.com/python/Python_Tutorial_Python_Inheritance.html"
   ]
  },
  {
   "cell_type": "code",
   "execution_count": 140,
   "id": "245e179c",
   "metadata": {},
   "outputs": [],
   "source": [
    "# create class only with method\n",
    "class Phone:\n",
    "    def make_call(self):#method define kiya jo  print karega\n",
    "        print('Make Phone call')  \n",
    "    def play_game(self):\n",
    "        print('playing game')\n",
    "# creating the phone class"
   ]
  },
  {
   "cell_type": "code",
   "execution_count": 141,
   "id": "606e9677",
   "metadata": {},
   "outputs": [],
   "source": [
    "nokia1200=Phone()    # instantiating the p1 object"
   ]
  },
  {
   "cell_type": "code",
   "execution_count": 142,
   "id": "8821b7c2",
   "metadata": {},
   "outputs": [
    {
     "name": "stdout",
     "output_type": "stream",
     "text": [
      "Make Phone call\n"
     ]
    }
   ],
   "source": [
    "nokia1200.make_call()  # invoking methods through object"
   ]
  },
  {
   "cell_type": "code",
   "execution_count": 143,
   "id": "772771e6",
   "metadata": {},
   "outputs": [
    {
     "name": "stdout",
     "output_type": "stream",
     "text": [
      "playing game\n"
     ]
    }
   ],
   "source": [
    "nokia1200.play_game()"
   ]
  },
  {
   "cell_type": "code",
   "execution_count": null,
   "id": "adc37fbb",
   "metadata": {},
   "outputs": [],
   "source": []
  },
  {
   "cell_type": "raw",
   "id": "49c7b9bb",
   "metadata": {},
   "source": [
    " self ke alva koi or parameter kese add kr sakte hain\n",
    " in the in built method ,"
   ]
  },
  {
   "cell_type": "code",
   "execution_count": 144,
   "id": "f82043b0",
   "metadata": {},
   "outputs": [],
   "source": [
    "# create class with attributes and method\n",
    "class Phone:  # func me color assign/setting ki\n",
    "    def set_color(self,color):# setting and returning the\n",
    "        self.color=color # attribute- self values-color\n",
    "# self attribute hai or color yan parametter hai to \n",
    "# function define ho gya\n",
    "    def set_cost(self,cost): \n",
    "        self.cost=cost  # cost assign/setting ki\n",
    "        \n",
    "    def show_color(self):\n",
    "        return self.color\n",
    "    def show_cost(self):\n",
    "        return self.cost\n",
    "    \n",
    "    def make_call(self): # assign the method\n",
    "        print('I am making a call')\n",
    "    def play_game(self):\n",
    "        print('I am playing a game')"
   ]
  },
  {
   "cell_type": "code",
   "execution_count": 145,
   "id": "f1289af0",
   "metadata": {},
   "outputs": [],
   "source": [
    "samsung=Phone()"
   ]
  },
  {
   "cell_type": "code",
   "execution_count": 146,
   "id": "77154b4a",
   "metadata": {},
   "outputs": [],
   "source": [
    "samsung.set_color(\"red\")\n",
    "samsung.set_cost(20000)"
   ]
  },
  {
   "cell_type": "code",
   "execution_count": 147,
   "id": "20c674d9",
   "metadata": {},
   "outputs": [
    {
     "data": {
      "text/plain": [
       "'red'"
      ]
     },
     "execution_count": 147,
     "metadata": {},
     "output_type": "execute_result"
    }
   ],
   "source": [
    "samsung.show_color()"
   ]
  },
  {
   "cell_type": "code",
   "execution_count": 148,
   "id": "1f7c4adf",
   "metadata": {},
   "outputs": [
    {
     "data": {
      "text/plain": [
       "20000"
      ]
     },
     "execution_count": 148,
     "metadata": {},
     "output_type": "execute_result"
    }
   ],
   "source": [
    "samsung.show_cost()"
   ]
  },
  {
   "cell_type": "code",
   "execution_count": 149,
   "id": "8453c24d",
   "metadata": {},
   "outputs": [
    {
     "name": "stdout",
     "output_type": "stream",
     "text": [
      "I am making a call\n"
     ]
    }
   ],
   "source": [
    "samsung.make_call()"
   ]
  },
  {
   "cell_type": "code",
   "execution_count": 150,
   "id": "ac739e25",
   "metadata": {},
   "outputs": [
    {
     "name": "stdout",
     "output_type": "stream",
     "text": [
      "I am playing a game\n"
     ]
    }
   ],
   "source": [
    "samsung.play_game()"
   ]
  },
  {
   "cell_type": "code",
   "execution_count": null,
   "id": "9a271f58",
   "metadata": {},
   "outputs": [],
   "source": []
  },
  {
   "cell_type": "markdown",
   "id": "b3fa108a",
   "metadata": {},
   "source": [
    "## constructors =  __init__\n",
    "-  __init__  we create method\n",
    "- at the time of creation of method, can assign the value assign"
   ]
  },
  {
   "cell_type": "code",
   "execution_count": 151,
   "id": "b63eb190",
   "metadata": {},
   "outputs": [],
   "source": [
    "class Employee: # init act as constructor\n",
    "    def __init__(self,name,age,salary,gender):\n",
    "        self.name=name   # __init__ ak sath assign kr de rha\n",
    "        self.age=age     # hai, \n",
    "        self.salary = salary\n",
    "        self.gender = gender\n",
    "    def employee_details(self):\n",
    "        print('Name of employee is ',self.name)\n",
    "        print('Age of employee is ',self.age)\n",
    "        print('Salary of employee is',self.salary)\n",
    "        print('gender of employee is',self.gender)"
   ]
  },
  {
   "cell_type": "code",
   "execution_count": 152,
   "id": "b7905a8a",
   "metadata": {},
   "outputs": [
    {
     "name": "stdout",
     "output_type": "stream",
     "text": [
      "Name of employee is  Sam\n",
      "Age of employee is  32\n",
      "Salary of employee is 85000\n",
      "gender of employee is Male\n"
     ]
    }
   ],
   "source": [
    "el=Employee('Sam',32,85000,'Male')\n",
    "el.employee_details()"
   ]
  },
  {
   "cell_type": "code",
   "execution_count": null,
   "id": "d89defae",
   "metadata": {},
   "outputs": [],
   "source": []
  },
  {
   "cell_type": "raw",
   "id": "5abd20b5",
   "metadata": {},
   "source": [
    " inheritance\n",
    " with inheritance one class can derive the properities of another class\n",
    " Man inheriting features from his father"
   ]
  },
  {
   "cell_type": "code",
   "execution_count": 153,
   "id": "f1993ac3",
   "metadata": {},
   "outputs": [],
   "source": [
    "class vehicle:     # creating the base class\n",
    "    def __init__(self,mileage,cost):\n",
    "        self.mileage = mileage\n",
    "        self.cost = cost\n",
    "    def show_details(self):\n",
    "        print('I am a vehicle')\n",
    "        print('Mileage of vahicle is', self.mileage)\n",
    "        print('cost of vahicle is', self.cost)"
   ]
  },
  {
   "cell_type": "code",
   "execution_count": 154,
   "id": "614728bd",
   "metadata": {},
   "outputs": [
    {
     "name": "stdout",
     "output_type": "stream",
     "text": [
      "I am a vehicle\n",
      "Mileage of vahicle is 500\n",
      "cost of vahicle is 50000\n"
     ]
    }
   ],
   "source": [
    "v1=vehicle(500,50000)#instantiating the object for base class\n",
    "v1.show_details()"
   ]
  },
  {
   "cell_type": "code",
   "execution_count": 155,
   "id": "a81700a8",
   "metadata": {},
   "outputs": [],
   "source": [
    "class car(vehicle): #  creating the child class\n",
    "    def show_car(self):\n",
    "        print('I am a car')   "
   ]
  },
  {
   "cell_type": "code",
   "execution_count": 156,
   "id": "0c6c978d",
   "metadata": {},
   "outputs": [
    {
     "name": "stdout",
     "output_type": "stream",
     "text": [
      "I am a vehicle\n",
      "Mileage of vahicle is 200\n",
      "cost of vahicle is 12000\n"
     ]
    }
   ],
   "source": [
    "c1=car(200,12000) # instanting the object for child class\n",
    "c1.show_details()"
   ]
  },
  {
   "cell_type": "code",
   "execution_count": 157,
   "id": "d236ab7e",
   "metadata": {},
   "outputs": [
    {
     "name": "stdout",
     "output_type": "stream",
     "text": [
      "I am a car\n"
     ]
    }
   ],
   "source": [
    "c1.show_car() # invoking the child class method"
   ]
  },
  {
   "cell_type": "code",
   "execution_count": 158,
   "id": "28391e4d",
   "metadata": {},
   "outputs": [],
   "source": [
    "# over - riding init method\n",
    "class car(vehicle):   # over riding init method\n",
    "    def __init__ (self,mileage,cost,tyres,hp):\n",
    "# super method se parent class ke parameter invoke kiye\n",
    "        super(). __init__ (mileage,cost)\n",
    "        self.tyres = tyres\n",
    "        self.hp = hp\n",
    "    def show_car_details(self):\n",
    "        print('I am a car')\n",
    "        print('Number of tyres are',self.tyres)\n",
    "        print('Value of horse power is',self.hp)"
   ]
  },
  {
   "cell_type": "code",
   "execution_count": 159,
   "id": "c4d5e388",
   "metadata": {},
   "outputs": [],
   "source": [
    "c1=car(50,50000,4,300)\n",
    "#invoking show_details()method from parent class"
   ]
  },
  {
   "cell_type": "code",
   "execution_count": 160,
   "id": "08163d3d",
   "metadata": {},
   "outputs": [
    {
     "name": "stdout",
     "output_type": "stream",
     "text": [
      "I am a vehicle\n",
      "Mileage of vahicle is 50\n",
      "cost of vahicle is 50000\n"
     ]
    }
   ],
   "source": [
    "c1.show_details()\n",
    "# invoking show_car_details(), method from child class"
   ]
  },
  {
   "cell_type": "code",
   "execution_count": 161,
   "id": "5929d16d",
   "metadata": {},
   "outputs": [
    {
     "name": "stdout",
     "output_type": "stream",
     "text": [
      "I am a car\n",
      "Number of tyres are 4\n",
      "Value of horse power is 300\n"
     ]
    }
   ],
   "source": [
    "c1.show_car_details()"
   ]
  },
  {
   "cell_type": "markdown",
   "id": "7cb09bfe",
   "metadata": {},
   "source": [
    "## multiple inheritance \n"
   ]
  },
  {
   "cell_type": "code",
   "execution_count": 162,
   "id": "64c0ec3a",
   "metadata": {},
   "outputs": [],
   "source": [
    "#Parent Class one\n",
    "class father():\n",
    "    def assign_string_one(self,str1):\n",
    "        self.str1=str1\n",
    "    def show_string_one(self):\n",
    "        return self.str1\n",
    "class mother():\n",
    "    def assign_string_two(self,str2):\n",
    "        self.str2=str2\n",
    "    def show_string_two(self):\n",
    "        return self.str2\n",
    "class child(father,mother):\n",
    "    def assign_string_three(self,str3):\n",
    "        self.str3=str3\n",
    "    def show_string_three(self):\n",
    "        return self.str3"
   ]
  },
  {
   "cell_type": "code",
   "execution_count": 163,
   "id": "31f9db90",
   "metadata": {},
   "outputs": [],
   "source": [
    "# instantiating object of child class\n",
    "children=child()"
   ]
  },
  {
   "cell_type": "code",
   "execution_count": 164,
   "id": "0544a7ee",
   "metadata": {},
   "outputs": [],
   "source": [
    "children.assign_string_one('one')\n",
    "children.assign_string_two('two')\n",
    "children.assign_string_three('three')"
   ]
  },
  {
   "cell_type": "code",
   "execution_count": 165,
   "id": "0cd31c81",
   "metadata": {},
   "outputs": [
    {
     "data": {
      "text/plain": [
       "'one'"
      ]
     },
     "execution_count": 165,
     "metadata": {},
     "output_type": "execute_result"
    }
   ],
   "source": [
    "children.show_string_one()"
   ]
  },
  {
   "cell_type": "code",
   "execution_count": 166,
   "id": "03ba69b5",
   "metadata": {},
   "outputs": [
    {
     "data": {
      "text/plain": [
       "'two'"
      ]
     },
     "execution_count": 166,
     "metadata": {},
     "output_type": "execute_result"
    }
   ],
   "source": [
    "children.show_string_two()"
   ]
  },
  {
   "cell_type": "code",
   "execution_count": 167,
   "id": "efbdf1ee",
   "metadata": {},
   "outputs": [
    {
     "data": {
      "text/plain": [
       "'three'"
      ]
     },
     "execution_count": 167,
     "metadata": {},
     "output_type": "execute_result"
    }
   ],
   "source": [
    "children.show_string_three()"
   ]
  },
  {
   "cell_type": "markdown",
   "id": "80980935",
   "metadata": {},
   "source": [
    "# multilevel inheritance"
   ]
  },
  {
   "cell_type": "code",
   "execution_count": 168,
   "id": "f9870a7a",
   "metadata": {},
   "outputs": [],
   "source": [
    "# parent class\n",
    "class parent():\n",
    "    def assign_name(self,name):\n",
    "        self.name=name\n",
    "    def show_name(self):\n",
    "        return self.name\n",
    "# child class\n",
    "class child(parent):\n",
    "    def assign_age(self,age):\n",
    "        self.age=age\n",
    "    def show_age(self):\n",
    "        return self.age\n",
    "# grandchild class\n",
    "class grandchild(child):\n",
    "    def assign_gender(self,gender):\n",
    "        self.gender=gender\n",
    "    def show_gender(self):\n",
    "        return self.name"
   ]
  },
  {
   "cell_type": "code",
   "execution_count": 169,
   "id": "39985a20",
   "metadata": {},
   "outputs": [],
   "source": [
    "gc=grandchild()"
   ]
  },
  {
   "cell_type": "code",
   "execution_count": 170,
   "id": "5b254deb",
   "metadata": {},
   "outputs": [],
   "source": [
    "gc.assign_name('ram')\n",
    "gc.assign_age('35')\n",
    "gc.assign_gender('male')"
   ]
  },
  {
   "cell_type": "code",
   "execution_count": 171,
   "id": "1be96626",
   "metadata": {},
   "outputs": [
    {
     "name": "stdout",
     "output_type": "stream",
     "text": [
      "ram\n",
      "35\n",
      "ram\n"
     ]
    }
   ],
   "source": [
    "print(gc.show_name())\n",
    "print(gc.show_age())\n",
    "print(gc.show_gender())"
   ]
  },
  {
   "cell_type": "code",
   "execution_count": null,
   "id": "5d96b0cb",
   "metadata": {},
   "outputs": [],
   "source": []
  },
  {
   "cell_type": "code",
   "execution_count": 172,
   "id": "db34f8b2",
   "metadata": {},
   "outputs": [
    {
     "name": "stdout",
     "output_type": "stream",
     "text": [
      "10\n",
      "am\n",
      "bm\n"
     ]
    }
   ],
   "source": [
    "# single inheritance\n",
    "class aa:\n",
    "    def am(self):\n",
    "        print(\"am\")\n",
    "class bb(aa):\n",
    "    a=10\n",
    "    def bm(self):\n",
    "        print('bm')\n",
    "o=bb()\n",
    "print(bb.a)\n",
    "o.am()\n",
    "o.bm()"
   ]
  },
  {
   "cell_type": "code",
   "execution_count": 173,
   "id": "1e8cc67c",
   "metadata": {},
   "outputs": [
    {
     "name": "stdout",
     "output_type": "stream",
     "text": [
      "aa\n",
      "bb\n",
      "cc\n"
     ]
    }
   ],
   "source": [
    "# multi level inheritance\n",
    "class a:\n",
    "    def aa(s):\n",
    "        print('aa')\n",
    "class b(a):\n",
    "    def bb(s):\n",
    "        print('bb')\n",
    "class c(b):\n",
    "    def cc(s):\n",
    "        print('cc')\n",
    "o=c()\n",
    "o.aa()\n",
    "o.bb()\n",
    "o.cc()"
   ]
  },
  {
   "cell_type": "code",
   "execution_count": 174,
   "id": "a4a151b9",
   "metadata": {},
   "outputs": [
    {
     "name": "stdout",
     "output_type": "stream",
     "text": [
      "aa\n",
      "bb\n",
      "cc\n"
     ]
    }
   ],
   "source": [
    "# multiple inheritance\n",
    "class a:\n",
    "    def aa(s):\n",
    "        print('aa')\n",
    "class b:\n",
    "    def bb(s):\n",
    "        print('bb')\n",
    "class c(a,b):\n",
    "    def cc(s):\n",
    "        print('cc')\n",
    "o=c()\n",
    "o.aa()\n",
    "o.bb()\n",
    "o.cc()"
   ]
  },
  {
   "cell_type": "code",
   "execution_count": 175,
   "id": "2db4f2da",
   "metadata": {},
   "outputs": [
    {
     "name": "stdout",
     "output_type": "stream",
     "text": [
      "OM Kant\n",
      "all soft partner IBM\n"
     ]
    }
   ],
   "source": [
    "# incapsulation  - make private variable and method\n",
    "class student:\n",
    "    __name='OM Kant'             # setter   \n",
    "    def __init__ (s):\n",
    "        print(s.__name)\n",
    "        s.info()                 # getter\n",
    "    def info(s):\n",
    "        print(\"all soft partner IBM\")\n",
    "\n",
    "o=student()"
   ]
  },
  {
   "cell_type": "code",
   "execution_count": 176,
   "id": "43e9104b",
   "metadata": {},
   "outputs": [
    {
     "name": "stdout",
     "output_type": "stream",
     "text": [
      "om  \n",
      "om python testing\n",
      "om  \n",
      "welcome IBM\n"
     ]
    }
   ],
   "source": [
    "# polymorphism - same function use different type\n",
    "class w:\n",
    "    def info(s,name=\" \"):\n",
    "        print('om',name)\n",
    "o=w()\n",
    "o.info()\n",
    "o.info(\"python testing\")         # overloading \n",
    "class p(w):\n",
    "    def info(s):\n",
    "        super().info()\n",
    "        print(\"welcome IBM\")     \n",
    "o=p()\n",
    "o.info()                         # overriding "
   ]
  },
  {
   "cell_type": "code",
   "execution_count": null,
   "id": "ee60f77d",
   "metadata": {},
   "outputs": [],
   "source": []
  },
  {
   "cell_type": "markdown",
   "id": "bd1c9b2e",
   "metadata": {},
   "source": [
    "#### file handling "
   ]
  },
  {
   "cell_type": "code",
   "execution_count": 177,
   "id": "42675c32",
   "metadata": {},
   "outputs": [
    {
     "data": {
      "text/plain": [
       "464"
      ]
     },
     "execution_count": 177,
     "metadata": {},
     "output_type": "execute_result"
    }
   ],
   "source": [
    "f=open('om.txt','w')            # create and write the file\n",
    "f.write('''hi everyone, my name is om kant sharma, today i will present you \n",
    "\\n intorduction of python , in this you will see \\n\n",
    "\\n what is python\n",
    "\\n history of python\n",
    "\\n feature of python\n",
    "\\n why the python is so popular\n",
    "\\n application of python \n",
    "\\n compeny used python\n",
    "\\n scripting language\n",
    "\\n installation of python\n",
    "\\n idle\n",
    "\\n variable declaration\n",
    "\\n line indetation \n",
    "\\n strongly typed\n",
    "\\n swapping no. with third variable\n",
    "\\n swapping without third variable\n",
    "\\n one line swapping \n",
    "\\n comments\n",
    "''')"
   ]
  },
  {
   "cell_type": "code",
   "execution_count": 178,
   "id": "3905cb91",
   "metadata": {},
   "outputs": [
    {
     "name": "stdout",
     "output_type": "stream",
     "text": [
      "\n"
     ]
    }
   ],
   "source": [
    "f=open('om.txt','r')\n",
    "f.read()\n",
    "print(f.read())"
   ]
  },
  {
   "cell_type": "code",
   "execution_count": 179,
   "id": "25895fd1",
   "metadata": {},
   "outputs": [
    {
     "data": {
      "text/plain": [
       "145"
      ]
     },
     "execution_count": 179,
     "metadata": {},
     "output_type": "execute_result"
    }
   ],
   "source": [
    "# over write then use append \"a\"\n",
    "f=open('om.txt','a')\n",
    "f.write('''\n",
    "\\n Variable and data type \n",
    "keywords\n",
    "variable\n",
    "variable properties\n",
    "data types\n",
    "data types 's properties\n",
    "constant variable\n",
    "identifier and literals\n",
    "\n",
    "\n",
    "''')"
   ]
  },
  {
   "cell_type": "code",
   "execution_count": 180,
   "id": "99117821",
   "metadata": {},
   "outputs": [
    {
     "data": {
      "text/plain": [
       "\"hi everyone, my name is om kant sharma, today i will present you \\n\\n intorduction of python , in this you will see \\n\\n\\n what is python\\n\\n history of python\\n\\n feature of python\\n\\n why the python is so popular\\n\\n application of python \\n\\n compeny used python\\n\\n scripting language\\n\\n installation of python\\n\\n idle\\n\\n variable declaration\\n\\n line indetation \\n\\n strongly typed\\n\\n swapping no. with third variable\\n\\n swapping without third variable\\n\\n one line swapping \\n\\n comments\\n\\n\\n Variable and data type \\nkeywords\\nvariable\\nvariable properties\\ndata types\\ndata types 's properties\\nconstant variable\\nidentifier and literals\\n\\n\\n\""
      ]
     },
     "execution_count": 180,
     "metadata": {},
     "output_type": "execute_result"
    }
   ],
   "source": [
    "f=open('om.txt','r')\n",
    "#print(f.read())\n",
    "f.read()"
   ]
  },
  {
   "cell_type": "code",
   "execution_count": 181,
   "id": "cf90de63",
   "metadata": {},
   "outputs": [],
   "source": [
    "f.close()"
   ]
  },
  {
   "cell_type": "code",
   "execution_count": 182,
   "id": "7f3fd233",
   "metadata": {},
   "outputs": [],
   "source": [
    "import os\n",
    "#os.remove( 'om.txt')\n",
    "#f=open('om.txt')"
   ]
  },
  {
   "cell_type": "markdown",
   "id": "785f201c",
   "metadata": {},
   "source": [
    "#### Excption Handling"
   ]
  },
  {
   "cell_type": "code",
   "execution_count": 183,
   "id": "79551235",
   "metadata": {},
   "outputs": [
    {
     "name": "stdout",
     "output_type": "stream",
     "text": [
      "please do not use zero for division\n"
     ]
    }
   ],
   "source": [
    "# exception handling \n",
    "\n",
    "try:\n",
    "    a=10\n",
    "    b=0\n",
    "    a/b\n",
    "except ZeroDivisionError:\n",
    "    print('please do not use zero for division' )\n",
    "    "
   ]
  },
  {
   "cell_type": "code",
   "execution_count": 184,
   "id": "3c845216",
   "metadata": {},
   "outputs": [
    {
     "name": "stdout",
     "output_type": "stream",
     "text": [
      "please assign some value bitween variable\n"
     ]
    }
   ],
   "source": [
    "try:\n",
    "    h\n",
    "except NameError:\n",
    "    print( 'please assign some value bitween variable')"
   ]
  },
  {
   "cell_type": "code",
   "execution_count": 185,
   "id": "cf08d074",
   "metadata": {},
   "outputs": [
    {
     "name": "stdout",
     "output_type": "stream",
     "text": [
      " please use same type of data type for operations \n"
     ]
    }
   ],
   "source": [
    "try:\n",
    "    a=1+\"1\"\n",
    "except TypeError:\n",
    "    print(' please use same type of data type for operations ')"
   ]
  },
  {
   "cell_type": "code",
   "execution_count": 186,
   "id": "722bbd76",
   "metadata": {},
   "outputs": [],
   "source": [
    "try:\n",
    "   # a=int(input())\n",
    "    a=1.1\n",
    "except ValueError:\n",
    "    print(' please enter integer (whole) no. thanks')"
   ]
  },
  {
   "cell_type": "code",
   "execution_count": 187,
   "id": "5c1344d8",
   "metadata": {},
   "outputs": [
    {
     "name": "stdout",
     "output_type": "stream",
     "text": [
      "Please enter valid index number, thanks\n"
     ]
    }
   ],
   "source": [
    "try:\n",
    "    d=[1,2,3,4]\n",
    "    d[5]\n",
    "except IndexError:\n",
    "    print( 'Please enter valid index number, thanks')"
   ]
  },
  {
   "cell_type": "code",
   "execution_count": 188,
   "id": "b8b88b32",
   "metadata": {},
   "outputs": [
    {
     "name": "stdout",
     "output_type": "stream",
     "text": [
      " please Enter valid key from dictionary, this key is not present in dictionary\n"
     ]
    }
   ],
   "source": [
    "try:\n",
    "    d={1:1,2:2}\n",
    "    d[3]\n",
    "except KeyError:\n",
    "    print(\" please Enter valid key from dictionary, this key is not present in dictionary\")"
   ]
  },
  {
   "cell_type": "code",
   "execution_count": 189,
   "id": "a72e79eb",
   "metadata": {},
   "outputs": [
    {
     "name": "stdout",
     "output_type": "stream",
     "text": [
      " please enter valid module name, you enter incorrect module name\n"
     ]
    }
   ],
   "source": [
    "try:\n",
    "    import constp\n",
    "except ModuleNotFoundError:\n",
    "    print( ' please enter valid module name, you enter incorrect module name')"
   ]
  },
  {
   "cell_type": "code",
   "execution_count": 190,
   "id": "555a7de6",
   "metadata": {
    "scrolled": true
   },
   "outputs": [
    {
     "name": "stdout",
     "output_type": "stream",
     "text": [
      "please enter valid function name , given name is incorect\n"
     ]
    }
   ],
   "source": [
    "try:\n",
    "    import sklearn\n",
    "    from sklearn import train_test_split\n",
    "except:\n",
    "    print('please enter valid function name , given name is incorect')"
   ]
  },
  {
   "cell_type": "markdown",
   "id": "dcedfcf8",
   "metadata": {},
   "source": [
    "# Basic Python done"
   ]
  },
  {
   "cell_type": "code",
   "execution_count": null,
   "id": "bd7c4903",
   "metadata": {},
   "outputs": [],
   "source": []
  },
  {
   "cell_type": "code",
   "execution_count": null,
   "id": "2ef21747",
   "metadata": {},
   "outputs": [],
   "source": []
  }
 ],
 "metadata": {
  "kernelspec": {
   "display_name": "Python 3 (ipykernel)",
   "language": "python",
   "name": "python3"
  },
  "language_info": {
   "codemirror_mode": {
    "name": "ipython",
    "version": 3
   },
   "file_extension": ".py",
   "mimetype": "text/x-python",
   "name": "python",
   "nbconvert_exporter": "python",
   "pygments_lexer": "ipython3",
   "version": "3.9.7"
  }
 },
 "nbformat": 4,
 "nbformat_minor": 5
}
